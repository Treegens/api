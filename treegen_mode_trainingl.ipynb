{
  "nbformat": 4,
  "nbformat_minor": 0,
  "metadata": {
    "colab": {
      "provenance": [],
      "gpuType": "T4"
    },
    "kernelspec": {
      "name": "python3",
      "display_name": "Python 3"
    },
    "language_info": {
      "name": "python"
    },
    "accelerator": "GPU"
  },
  "cells": [
    {
      "cell_type": "code",
      "execution_count": 15,
      "metadata": {
        "colab": {
          "base_uri": "https://localhost:8080/",
          "height": 372
        },
        "id": "DHgMmJCQM8xZ",
        "outputId": "7fb1d840-951f-4e76-9b20-b08765a3e96b"
      },
      "outputs": [
        {
          "output_type": "error",
          "ename": "NotImplementedError",
          "evalue": "A UTF-8 locale is required. Got ANSI_X3.4-1968",
          "traceback": [
            "\u001b[0;31m---------------------------------------------------------------------------\u001b[0m",
            "\u001b[0;31mNotImplementedError\u001b[0m                       Traceback (most recent call last)",
            "\u001b[0;32m<ipython-input-15-06141cbed6ee>\u001b[0m in \u001b[0;36m<cell line: 2>\u001b[0;34m()\u001b[0m\n\u001b[1;32m      1\u001b[0m \u001b[0;31m# Install necessary libraries\u001b[0m\u001b[0;34m\u001b[0m\u001b[0;34m\u001b[0m\u001b[0m\n\u001b[0;32m----> 2\u001b[0;31m \u001b[0mget_ipython\u001b[0m\u001b[0;34m(\u001b[0m\u001b[0;34m)\u001b[0m\u001b[0;34m.\u001b[0m\u001b[0msystem\u001b[0m\u001b[0;34m(\u001b[0m\u001b[0;34m'pip install ultralytics'\u001b[0m\u001b[0;34m)\u001b[0m\u001b[0;34m\u001b[0m\u001b[0;34m\u001b[0m\u001b[0m\n\u001b[0m\u001b[1;32m      3\u001b[0m \u001b[0mget_ipython\u001b[0m\u001b[0;34m(\u001b[0m\u001b[0;34m)\u001b[0m\u001b[0;34m.\u001b[0m\u001b[0msystem\u001b[0m\u001b[0;34m(\u001b[0m\u001b[0;34m'pip install albumentations==1.4'\u001b[0m\u001b[0;34m)\u001b[0m\u001b[0;34m\u001b[0m\u001b[0;34m\u001b[0m\u001b[0m\n\u001b[1;32m      4\u001b[0m \u001b[0;34m\u001b[0m\u001b[0m\n\u001b[1;32m      5\u001b[0m \u001b[0;34m\u001b[0m\u001b[0m\n",
            "\u001b[0;32m/usr/local/lib/python3.10/dist-packages/google/colab/_shell.py\u001b[0m in \u001b[0;36msystem\u001b[0;34m(self, *args, **kwargs)\u001b[0m\n\u001b[1;32m     97\u001b[0m       \u001b[0mkwargs\u001b[0m\u001b[0;34m.\u001b[0m\u001b[0mupdate\u001b[0m\u001b[0;34m(\u001b[0m\u001b[0;34m{\u001b[0m\u001b[0;34m'also_return_output'\u001b[0m\u001b[0;34m:\u001b[0m \u001b[0;32mTrue\u001b[0m\u001b[0;34m}\u001b[0m\u001b[0;34m)\u001b[0m\u001b[0;34m\u001b[0m\u001b[0;34m\u001b[0m\u001b[0m\n\u001b[1;32m     98\u001b[0m \u001b[0;34m\u001b[0m\u001b[0m\n\u001b[0;32m---> 99\u001b[0;31m     \u001b[0moutput\u001b[0m \u001b[0;34m=\u001b[0m \u001b[0m_system_commands\u001b[0m\u001b[0;34m.\u001b[0m\u001b[0m_system_compat\u001b[0m\u001b[0;34m(\u001b[0m\u001b[0mself\u001b[0m\u001b[0;34m,\u001b[0m \u001b[0;34m*\u001b[0m\u001b[0margs\u001b[0m\u001b[0;34m,\u001b[0m \u001b[0;34m**\u001b[0m\u001b[0mkwargs\u001b[0m\u001b[0;34m)\u001b[0m  \u001b[0;31m# pylint:disable=protected-access\u001b[0m\u001b[0;34m\u001b[0m\u001b[0;34m\u001b[0m\u001b[0m\n\u001b[0m\u001b[1;32m    100\u001b[0m \u001b[0;34m\u001b[0m\u001b[0m\n\u001b[1;32m    101\u001b[0m     \u001b[0;32mif\u001b[0m \u001b[0mpip_warn\u001b[0m\u001b[0;34m:\u001b[0m\u001b[0;34m\u001b[0m\u001b[0;34m\u001b[0m\u001b[0m\n",
            "\u001b[0;32m/usr/local/lib/python3.10/dist-packages/google/colab/_system_commands.py\u001b[0m in \u001b[0;36m_system_compat\u001b[0;34m(shell, cmd, also_return_output)\u001b[0m\n\u001b[1;32m    452\u001b[0m   \u001b[0;31m# is expected to call this function, thus adding one level of nesting to the\u001b[0m\u001b[0;34m\u001b[0m\u001b[0;34m\u001b[0m\u001b[0m\n\u001b[1;32m    453\u001b[0m   \u001b[0;31m# stack.\u001b[0m\u001b[0;34m\u001b[0m\u001b[0;34m\u001b[0m\u001b[0m\n\u001b[0;32m--> 454\u001b[0;31m   result = _run_command(\n\u001b[0m\u001b[1;32m    455\u001b[0m       \u001b[0mshell\u001b[0m\u001b[0;34m.\u001b[0m\u001b[0mvar_expand\u001b[0m\u001b[0;34m(\u001b[0m\u001b[0mcmd\u001b[0m\u001b[0;34m,\u001b[0m \u001b[0mdepth\u001b[0m\u001b[0;34m=\u001b[0m\u001b[0;36m2\u001b[0m\u001b[0;34m)\u001b[0m\u001b[0;34m,\u001b[0m \u001b[0mclear_streamed_output\u001b[0m\u001b[0;34m=\u001b[0m\u001b[0;32mFalse\u001b[0m\u001b[0;34m\u001b[0m\u001b[0;34m\u001b[0m\u001b[0m\n\u001b[1;32m    456\u001b[0m   )\n",
            "\u001b[0;32m/usr/local/lib/python3.10/dist-packages/google/colab/_system_commands.py\u001b[0m in \u001b[0;36m_run_command\u001b[0;34m(cmd, clear_streamed_output)\u001b[0m\n\u001b[1;32m    166\u001b[0m     \u001b[0mlocale_encoding\u001b[0m \u001b[0;34m=\u001b[0m \u001b[0mlocale\u001b[0m\u001b[0;34m.\u001b[0m\u001b[0mgetpreferredencoding\u001b[0m\u001b[0;34m(\u001b[0m\u001b[0;34m)\u001b[0m\u001b[0;34m\u001b[0m\u001b[0;34m\u001b[0m\u001b[0m\n\u001b[1;32m    167\u001b[0m     \u001b[0;32mif\u001b[0m \u001b[0mlocale_encoding\u001b[0m \u001b[0;34m!=\u001b[0m \u001b[0m_ENCODING\u001b[0m\u001b[0;34m:\u001b[0m\u001b[0;34m\u001b[0m\u001b[0;34m\u001b[0m\u001b[0m\n\u001b[0;32m--> 168\u001b[0;31m       raise NotImplementedError(\n\u001b[0m\u001b[1;32m    169\u001b[0m           \u001b[0;34m'A UTF-8 locale is required. Got {}'\u001b[0m\u001b[0;34m.\u001b[0m\u001b[0mformat\u001b[0m\u001b[0;34m(\u001b[0m\u001b[0mlocale_encoding\u001b[0m\u001b[0;34m)\u001b[0m\u001b[0;34m\u001b[0m\u001b[0;34m\u001b[0m\u001b[0m\n\u001b[1;32m    170\u001b[0m       )\n",
            "\u001b[0;31mNotImplementedError\u001b[0m: A UTF-8 locale is required. Got ANSI_X3.4-1968"
          ]
        }
      ],
      "source": [
        "# Install necessary libraries\n",
        "!pip install ultralytics\n",
        "!pip install albumentations==1.4\n",
        "\n",
        "\n",
        "# Import necessary libraries\n",
        "import os\n",
        "from google.colab import drive\n",
        "from ultralytics import YOLO\n",
        "\n",
        "# Mount Google Drive\n",
        "drive.mount('/content/drive')\n",
        "\n",
        "\n",
        "\n"
      ]
    },
    {
      "cell_type": "code",
      "source": [
        "# Copy the data from Google Drive and unzip it\n",
        "!scp '/content/drive/My Drive/treegen_od/data.zip' '/content/data.zip'\n",
        "!unzip '/content/data.zip' -d '/content/'\n"
      ],
      "metadata": {
        "colab": {
          "base_uri": "https://localhost:8080/"
        },
        "id": "UGiXZzfnNFqA",
        "outputId": "de3f41d4-5dce-4254-d4bc-a887cd9fd110"
      },
      "execution_count": null,
      "outputs": [
        {
          "output_type": "stream",
          "name": "stdout",
          "text": [
            "Archive:  /content/data.zip\n",
            "   creating: /content/data/\n",
            "   creating: /content/data/images/\n",
            "   creating: /content/data/images/train/\n",
            "  inflating: /content/data/images/train/IMG_0705_MP4-0002_jpg.rf.1be84e17fb2f75ce328122733f4c419b.jpg  \n",
            "  inflating: /content/data/images/train/IMG_0705_MP4-0003_jpg.rf.0d96534eb18f89f9fe461921b4bcb7e5.jpg  \n",
            "  inflating: /content/data/images/train/IMG_0705_MP4-0004_jpg.rf.183d076a697988aa8e30bf5699ab5752.jpg  \n",
            "  inflating: /content/data/images/train/IMG_0705_MP4-0005_jpg.rf.e8d4584351faa29007a349f4b1c7b28c.jpg  \n",
            "  inflating: /content/data/images/train/IMG_0705_MP4-0007_jpg.rf.5d7e15ae3ac07755ff00e6866a361d34.jpg  \n",
            "  inflating: /content/data/images/train/IMG_0705_MP4-0008_jpg.rf.d322d146786d6cbac9676e222e8cdbd9.jpg  \n",
            "  inflating: /content/data/images/train/IMG_0705_MP4-0009_jpg.rf.b413161ac823bce2aed40ad5b2745b6a.jpg  \n",
            "  inflating: /content/data/images/train/IMG_0705_MP4-0011_jpg.rf.6f973008f2bf079d1821cc029abf46ca.jpg  \n",
            "  inflating: /content/data/images/train/IMG_0705_MP4-0012_jpg.rf.de639171e86c77c008e05e07449a6673.jpg  \n",
            "  inflating: /content/data/images/train/IMG_0705_MP4-0013_jpg.rf.9abad121b3cf97d14ce5fde98299bae6.jpg  \n",
            "  inflating: /content/data/images/train/IMG_0705_MP4-0017_jpg.rf.15ea07b2626ef26d30135c57802ebdbd.jpg  \n",
            "  inflating: /content/data/images/train/IMG_0705_MP4-0018_jpg.rf.a290832759caca019c709361778de98f.jpg  \n",
            "  inflating: /content/data/images/train/IMG_0729_MP4-0000_jpg.rf.289eecf252ce3d790e1784302678ab88.jpg  \n",
            "  inflating: /content/data/images/train/IMG_0729_MP4-0001_jpg.rf.6aa5a599d9996801fbe957bd4731612b.jpg  \n",
            "  inflating: /content/data/images/train/IMG_0729_MP4-0004_jpg.rf.6abe496132f44d7ec0e0c8b787b6f91e.jpg  \n",
            "  inflating: /content/data/images/train/IMG_0729_MP4-0005_jpg.rf.56a61413691162755aa2be6192ae0698.jpg  \n",
            "  inflating: /content/data/images/train/IMG_0729_MP4-0006_jpg.rf.16d2f635a65a1cbb7c85b91a40d5bd54.jpg  \n",
            "  inflating: /content/data/images/train/IMG_0729_MP4-0007_jpg.rf.6c64f8366413ed82bb078639e9c2ea9a.jpg  \n",
            "  inflating: /content/data/images/train/IMG_0729_MP4-0008_jpg.rf.90d6821079c3a8d57de25212b203fe98.jpg  \n",
            "  inflating: /content/data/images/train/IMG_0729_MP4-0009_jpg.rf.0d2d5801a4054a9a360a55e39930f329.jpg  \n",
            "  inflating: /content/data/images/train/IMG_0729_MP4-0010_jpg.rf.c09f5fbfd031665a84c2f735e591759a.jpg  \n",
            "  inflating: /content/data/images/train/IMG_0729_MP4-0011_jpg.rf.f9dc1f987f0fa22e2627c309011c1382.jpg  \n",
            "  inflating: /content/data/images/train/IMG_0729_MP4-0012_jpg.rf.5547eba5c02b71f8cce370842af6ab19.jpg  \n",
            "  inflating: /content/data/images/train/IMG_0729_MP4-0013_jpg.rf.653ff4b63cf479ca9e28abdfc27290a9.jpg  \n",
            "  inflating: /content/data/images/train/IMG_0729_MP4-0014_jpg.rf.3d585ebea5a749766c6e450834496573.jpg  \n",
            "  inflating: /content/data/images/train/IMG_0729_MP4-0016_jpg.rf.0a87c75fbfb32bf52da84105bcf8c502.jpg  \n",
            "  inflating: /content/data/images/train/IMG_0729_MP4-0018_jpg.rf.f09ee1863be0cc4bf169d181f7f41630.jpg  \n",
            "  inflating: /content/data/images/train/IMG_0729_MP4-0019_jpg.rf.32420f64771458719e68a718dd522b96.jpg  \n",
            "  inflating: /content/data/images/train/IMG_0729_MP4-0020_jpg.rf.379e8631db206e3b115a67029359c376.jpg  \n",
            "  inflating: /content/data/images/train/IMG_0729_MP4-0022_jpg.rf.dc15bde6248261205743a8fbdd0153d9.jpg  \n",
            "  inflating: /content/data/images/train/IMG_0729_MP4-0023_jpg.rf.856061bd2bce9b0e96785e2973fd2c86.jpg  \n",
            "  inflating: /content/data/images/train/IMG_0729_MP4-0024_jpg.rf.6687a2f964a340e8c660daf01b647072.jpg  \n",
            "  inflating: /content/data/images/train/IMG_0729_MP4-0025_jpg.rf.3ebfd527f09206f0418165880e3b495d.jpg  \n",
            "  inflating: /content/data/images/train/IMG_0729_MP4-0026_jpg.rf.641bb616bb9efd6692647c6080505b74.jpg  \n",
            "  inflating: /content/data/images/train/IMG_0736_MP4-0003_jpg.rf.3e3e5c310e93586c02abf28f50ddb355.jpg  \n",
            "  inflating: /content/data/images/train/IMG_0736_MP4-0005_jpg.rf.9d8bf47ee8f71688275eff003e1b8ff1.jpg  \n",
            "  inflating: /content/data/images/train/IMG_0736_MP4-0006_jpg.rf.76451c671d2ac465113dab6c72a43af1.jpg  \n",
            "  inflating: /content/data/images/train/IMG_0736_MP4-0009_jpg.rf.221a306ba6fd16b91b668751ce992587.jpg  \n",
            "  inflating: /content/data/images/train/IMG_0736_MP4-0010_jpg.rf.2df0b911cefa6f40bf970126177fa173.jpg  \n",
            "  inflating: /content/data/images/train/IMG_0736_MP4-0013_jpg.rf.aa83d9d6ce66c5639e92e5acc949b4e7.jpg  \n",
            "  inflating: /content/data/images/train/IMG_0736_MP4-0014_jpg.rf.0f3b49578a168dad2bfd1f8122d082c6.jpg  \n",
            "  inflating: /content/data/images/train/IMG_0736_MP4-0018_jpg.rf.910c462b091e74bc2a5ba3bec3c94529.jpg  \n",
            "  inflating: /content/data/images/train/IMG_0736_MP4-0019_jpg.rf.32e8fcf80348ee27e6897c01baa77045.jpg  \n",
            "  inflating: /content/data/images/train/IMG_0736_MP4-0021_jpg.rf.66c6f7ded646978c18672625e4fbc13b.jpg  \n",
            "  inflating: /content/data/images/train/IMG_0736_MP4-0022_jpg.rf.b97d84d39c1732435867c05fc9d0721b.jpg  \n",
            "  inflating: /content/data/images/train/IMG_0736_MP4-0023_jpg.rf.f2403c73f90f3352464e92ff4ab66a05.jpg  \n",
            "  inflating: /content/data/images/train/IMG_0737_MP4-0000_jpg.rf.d2576af0b6c2e8990582dd5f992a262f.jpg  \n",
            "  inflating: /content/data/images/train/IMG_0737_MP4-0001_jpg.rf.ce7b18a1bf53c5793d6a0e0d33311308.jpg  \n",
            "  inflating: /content/data/images/train/IMG_0737_MP4-0002_jpg.rf.e75c2a20fac737d4ea56cab0b317bc86.jpg  \n",
            "  inflating: /content/data/images/train/IMG_0737_MP4-0003_jpg.rf.6ee7165605ccace0bb81b8b8d8948d33.jpg  \n",
            "  inflating: /content/data/images/train/IMG_0737_MP4-0007_jpg.rf.13bea9a9bd22959231658c2aa15ca3fb.jpg  \n",
            "  inflating: /content/data/images/train/IMG_0737_MP4-0008_jpg.rf.ed9a2407624d2ab1246521d88ae96b21.jpg  \n",
            "  inflating: /content/data/images/train/IMG_0737_MP4-0011_jpg.rf.0c4015d88a008d0a0a4d8a4fc3847c0c.jpg  \n",
            "  inflating: /content/data/images/train/IMG_0737_MP4-0012_jpg.rf.9661d712d4f48c98c4d35c7140f34dd6.jpg  \n",
            "  inflating: /content/data/images/train/IMG_0737_MP4-0014_jpg.rf.b5ba52b1f025311f2f5dbec32f9ab5c1.jpg  \n",
            "  inflating: /content/data/images/train/IMG_0737_MP4-0015_jpg.rf.9d994bb1bf564bd8c1390e88fd39f773.jpg  \n",
            "  inflating: /content/data/images/train/IMG_0737_MP4-0018_jpg.rf.2ce6d5829e3e116e5afa3f7dab8918cd.jpg  \n",
            "  inflating: /content/data/images/train/IMG_0737_MP4-0019_jpg.rf.89c8504c09b264a0e8350f50dbc238f2.jpg  \n",
            "  inflating: /content/data/images/train/IMG_0737_MP4-0023_jpg.rf.5362f897efc5e7109c14558f0e39e7d4.jpg  \n",
            "  inflating: /content/data/images/train/IMG_0739_JPG_jpg.rf.07dbbd60198c624ff05cabdac308207c.jpg  \n",
            "  inflating: /content/data/images/train/IMG_0741_MP4-0000_jpg.rf.1df3fd4bd69191ecab9e406aadc97cbf.jpg  \n",
            "  inflating: /content/data/images/train/IMG_0741_MP4-0001_jpg.rf.5884844a37034c26be5f551b47eba487.jpg  \n",
            "  inflating: /content/data/images/train/IMG_0741_MP4-0004_jpg.rf.45ee9a56c665b44e04530927c68ad9e9.jpg  \n",
            "  inflating: /content/data/images/train/IMG_0741_MP4-0008_jpg.rf.b67241d55ab4074ba6911aa5fe71a00e.jpg  \n",
            "  inflating: /content/data/images/train/IMG_0741_MP4-0009_jpg.rf.fff0a8b74e526c4978cbdb0dc31a63ee.jpg  \n",
            "  inflating: /content/data/images/train/IMG_0741_MP4-0013_jpg.rf.df038bf05dad976b059238fdc7e11ecb.jpg  \n",
            "  inflating: /content/data/images/train/IMG_0741_MP4-0017_jpg.rf.7456277eb418ea69fa4423e42792f42d.jpg  \n",
            "  inflating: /content/data/images/train/IMG_0741_MP4-0021_jpg.rf.e636507fa1354caf32ec1a8a8e017f32.jpg  \n",
            "  inflating: /content/data/images/train/IMG_0741_MP4-0022_jpg.rf.bd4d0feb924ce4ae1bb92b1f82920b99.jpg  \n",
            "  inflating: /content/data/images/train/IMG_0741_MP4-0023_jpg.rf.b149c41e22ee0ec1aaeb396e0d2cc4fc.jpg  \n",
            "  inflating: /content/data/images/train/IMG_0741_MP4-0024_jpg.rf.6e0d32cba4238c2d7f86af6b17874900.jpg  \n",
            "  inflating: /content/data/images/train/IMG_0741_MP4-0026_jpg.rf.5ef92b7ccab971a6a23eab6c4fa7c1d9.jpg  \n",
            "  inflating: /content/data/images/train/IMG_0743_MP4-0000_jpg.rf.11dbfe2f70e0935a70bef6f74084221f.jpg  \n",
            "  inflating: /content/data/images/train/IMG_0743_MP4-0002_jpg.rf.358b752ecb9a3af4d766ae9fd01e8134.jpg  \n",
            "  inflating: /content/data/images/train/IMG_0743_MP4-0003_jpg.rf.97b0c67178823aec4b10f265c335eb42.jpg  \n",
            "  inflating: /content/data/images/train/IMG_0743_MP4-0004_jpg.rf.191611f711844c56d8944c0df10e337c.jpg  \n",
            "  inflating: /content/data/images/train/IMG_0743_MP4-0005_jpg.rf.6f001b28c8a9afaaf9a47b4b112751a6.jpg  \n",
            "  inflating: /content/data/images/train/IMG_0743_MP4-0007_jpg.rf.6df6ee6fce1b6b15f9d58f07399c91bc.jpg  \n",
            "  inflating: /content/data/images/train/IMG_0743_MP4-0009_jpg.rf.e159f18500826ca82d49f46b5456b5c8.jpg  \n",
            "  inflating: /content/data/images/train/IMG_0743_MP4-0011_jpg.rf.a7186f46ab3bebc743cf18bceb58e662.jpg  \n",
            "  inflating: /content/data/images/train/IMG_0743_MP4-0012_jpg.rf.6c18fbe9d1a7d8fae78c7b33623528af.jpg  \n",
            "  inflating: /content/data/images/train/IMG_0743_MP4-0013_jpg.rf.d4153f8edcef6b71c80674f0c6dd526e.jpg  \n",
            "  inflating: /content/data/images/train/IMG_0743_MP4-0014_jpg.rf.6c71892d36380176d7073773027c8e3d.jpg  \n",
            "  inflating: /content/data/images/train/IMG_0743_MP4-0016_jpg.rf.32543e6abdc3f9bb83e9b869520553b8.jpg  \n",
            "  inflating: /content/data/images/train/IMG_0743_MP4-0017_jpg.rf.f5469a8a8f49f0a83bb92e058fd9068e.jpg  \n",
            "  inflating: /content/data/images/train/IMG_0744_MP4-0001_jpg.rf.0c318403f0be0ec5f3f1fcfe81727e62.jpg  \n",
            "  inflating: /content/data/images/train/IMG_0744_MP4-0002_jpg.rf.dece491e81eb28e94dee6cda0550ca35.jpg  \n",
            "  inflating: /content/data/images/train/IMG_0744_MP4-0003_jpg.rf.348b7e6e0b9613a930df63768e47d0ed.jpg  \n",
            "  inflating: /content/data/images/train/IMG_0744_MP4-0004_jpg.rf.a527b90f3e6a915b1be675ccd39b2245.jpg  \n",
            "  inflating: /content/data/images/train/IMG_0744_MP4-0005_jpg.rf.084c25dd25deb9bdc1a9e85c5ada2bde.jpg  \n",
            "  inflating: /content/data/images/train/IMG_0744_MP4-0006_jpg.rf.93c29af1bc5beca7fc3c719f4afcc404.jpg  \n",
            "  inflating: /content/data/images/train/IMG_0744_MP4-0008_jpg.rf.23f4fec9ccfeb791e3a21c9205d41b75.jpg  \n",
            "  inflating: /content/data/images/train/IMG_0744_MP4-0009_jpg.rf.1d67a1b2c74b129eef8316750a616f01.jpg  \n",
            "  inflating: /content/data/images/train/IMG_0744_MP4-0010_jpg.rf.b56a83e4a5c1e5b60c5403346060f3b3.jpg  \n",
            "  inflating: /content/data/images/train/IMG_0744_MP4-0011_jpg.rf.fd41508135aa514e9c72f201c9c5836d.jpg  \n",
            "  inflating: /content/data/images/train/IMG_0744_MP4-0012_jpg.rf.4d0fad236a4fe3a457eb637911b724d4.jpg  \n",
            "  inflating: /content/data/images/train/IMG_0744_MP4-0013_jpg.rf.550fc7abb05fed80af407c8a7a89af85.jpg  \n",
            "  inflating: /content/data/images/train/IMG_0744_MP4-0014_jpg.rf.23e78684f578a82a51c556cad565e4b0.jpg  \n",
            "  inflating: /content/data/images/train/IMG_0744_MP4-0015_jpg.rf.b4739299c21f0f5499da11e883ddc402.jpg  \n",
            "  inflating: /content/data/images/train/IMG_0744_MP4-0016_jpg.rf.828d26d75d2140cadf7f0e638f66acdf.jpg  \n",
            "  inflating: /content/data/images/train/IMG_0745_MP4-0001_jpg.rf.ba817815cab805b9828f1ac3a70bb550.jpg  \n",
            "  inflating: /content/data/images/train/IMG_0745_MP4-0002_jpg.rf.b1bdf4c9b7586c795a90dd3ecb2acf85.jpg  \n",
            "  inflating: /content/data/images/train/IMG_0745_MP4-0004_jpg.rf.50beafe9f8cecb1c48b3a7393cd9abb4.jpg  \n",
            "  inflating: /content/data/images/train/IMG_0745_MP4-0005_jpg.rf.442ac1702e3e225e7b44f831a1ca4d0d.jpg  \n",
            "  inflating: /content/data/images/train/IMG_0745_MP4-0008_jpg.rf.5adde288663a39d78aa5aeb85a65653a.jpg  \n",
            "  inflating: /content/data/images/train/IMG_0745_MP4-0009_jpg.rf.375fc16a23bbeb0be65adb7c95cad9fd.jpg  \n",
            "  inflating: /content/data/images/train/IMG_0745_MP4-0010_jpg.rf.decdfa3a723f52d97185f43d8200d0d5.jpg  \n",
            "  inflating: /content/data/images/train/IMG_0745_MP4-0012_jpg.rf.0d6d5986454582c2f85c7be49f7d58fd.jpg  \n",
            "  inflating: /content/data/images/train/IMG_0745_MP4-0016_jpg.rf.4d9266f011aaba488918315a9a0714a7.jpg  \n",
            "  inflating: /content/data/images/train/IMG_0748_MP4-0001_jpg.rf.5e23c83490ee53b5fd11238a316f0f6b.jpg  \n",
            "  inflating: /content/data/images/train/IMG_0748_MP4-0002_jpg.rf.a7c1aaf0244bf39e928c6f4afb01338d.jpg  \n",
            "  inflating: /content/data/images/train/IMG_0748_MP4-0003_jpg.rf.bf3ec82df031ad91dfd8cd0e7f778057.jpg  \n",
            "  inflating: /content/data/images/train/IMG_0748_MP4-0004_jpg.rf.f8aef7b0cbda6b5c60a6e038fa3822bf.jpg  \n",
            "  inflating: /content/data/images/train/IMG_0748_MP4-0005_jpg.rf.8a18abc8c6548896e8dfa3cc63fdf5c0.jpg  \n",
            "  inflating: /content/data/images/train/IMG_0748_MP4-0008_jpg.rf.fb7ffe99987a35f8837961aab316c773.jpg  \n",
            "  inflating: /content/data/images/train/IMG_0748_MP4-0010_jpg.rf.8eda131ee2890708318f32f133ea184b.jpg  \n",
            "  inflating: /content/data/images/train/IMG_0748_MP4-0016_jpg.rf.20ce91b74536aeef6908a8966ea5b4d0.jpg  \n",
            "  inflating: /content/data/images/train/IMG_0748_MP4-0017_jpg.rf.09fe10a07ca04342944903d511e79df2.jpg  \n",
            "  inflating: /content/data/images/train/IMG_0755_MP4-0001_jpg.rf.619403489b0665b0d28db3ae32a453c3.jpg  \n",
            "  inflating: /content/data/images/train/IMG_0755_MP4-0002_jpg.rf.2d7a2b33bfabff312c1b647451132c0c.jpg  \n",
            "  inflating: /content/data/images/train/IMG_0755_MP4-0005_jpg.rf.ebf0d7d8944036527a420093465245cc.jpg  \n",
            "  inflating: /content/data/images/train/IMG_0755_MP4-0006_jpg.rf.bbec32a552acb8b0d3c766fff40dc51e.jpg  \n",
            "  inflating: /content/data/images/train/IMG_0755_MP4-0013_jpg.rf.b12e43f6907a4f1d70e5a51069ac1005.jpg  \n",
            "  inflating: /content/data/images/train/IMG_0755_MP4-0018_jpg.rf.ba53e3371d66793543e0cf9086679982.jpg  \n",
            "  inflating: /content/data/images/train/IMG_0755_MP4-0019_jpg.rf.307e289c66bd033ba40a7b29b09b6ca0.jpg  \n",
            "  inflating: /content/data/images/train/IMG_0755_MP4-0022_jpg.rf.d4daddaa07ea06fc41c167a9a2c40899.jpg  \n",
            "  inflating: /content/data/images/train/IMG_0755_MP4-0026_jpg.rf.68335c3850f6f908a7e7beed58230895.jpg  \n",
            "  inflating: /content/data/images/train/IMG_0779_MP4-0000_jpg.rf.d8de8f93569eab1b3107b191c9f6a6bf.jpg  \n",
            "  inflating: /content/data/images/train/IMG_0779_MP4-0001_jpg.rf.1e28d636e9a81e14cf58708f223ee7f9.jpg  \n",
            "  inflating: /content/data/images/train/IMG_0779_MP4-0003_jpg.rf.e47d37327cbb146ef4cf57d903481b65.jpg  \n",
            "  inflating: /content/data/images/train/IMG_0779_MP4-0004_jpg.rf.30e9c46cac6c160c64bc2829a16f2f6e.jpg  \n",
            "  inflating: /content/data/images/train/IMG_0779_MP4-0005_jpg.rf.3a16a9d915c427755db7b059a75a08a9.jpg  \n",
            "  inflating: /content/data/images/train/IMG_0779_MP4-0006_jpg.rf.a10b3a966c7d086bc457d9fdc6a701b0.jpg  \n",
            "  inflating: /content/data/images/train/IMG_0779_MP4-0007_jpg.rf.3d673f704eb31630d2db86a6b6e1fc86.jpg  \n",
            "  inflating: /content/data/images/train/IMG_0779_MP4-0009_jpg.rf.f26e3d5782b0aa20cfd4706cc05beb9f.jpg  \n",
            "  inflating: /content/data/images/train/IMG_0779_MP4-0010_jpg.rf.ec6d7ad1ee787c14fc46393585a3c8f6.jpg  \n",
            "  inflating: /content/data/images/train/IMG_0779_MP4-0013_jpg.rf.89615b828b7eb18f5dbca468705b4dd2.jpg  \n",
            "  inflating: /content/data/images/train/IMG_0779_MP4-0014_jpg.rf.7188496d36f5e7052fcc1e76f1740c97.jpg  \n",
            "  inflating: /content/data/images/train/IMG_0782_MP4-0000_jpg.rf.a0a2add40ac76bd87bd507d00ed6738d.jpg  \n",
            "  inflating: /content/data/images/train/IMG_0782_MP4-0001_jpg.rf.65df8b094344bfdbe63cb746c06fd082.jpg  \n",
            "  inflating: /content/data/images/train/IMG_0782_MP4-0003_jpg.rf.ec3abf49ebfa596009b6287c01a6f393.jpg  \n",
            "  inflating: /content/data/images/train/IMG_0782_MP4-0004_jpg.rf.7fc54d0d4e1a106229b35543901dfeff.jpg  \n",
            "  inflating: /content/data/images/train/IMG_0782_MP4-0005_jpg.rf.761dc2c381127d0c2316e97f74e6a3bf.jpg  \n",
            "  inflating: /content/data/images/train/IMG_0782_MP4-0006_jpg.rf.345f6747dbb16a26c674fd7af32ef47e.jpg  \n",
            "  inflating: /content/data/images/train/IMG_0782_MP4-0007_jpg.rf.9de58e9cba7974ef00f69c1d6c132b59.jpg  \n",
            "  inflating: /content/data/images/train/IMG_0782_MP4-0010_jpg.rf.d69d1c4f7d68d0c9ab67761b17e90afd.jpg  \n",
            "  inflating: /content/data/images/train/IMG_0782_MP4-0011_jpg.rf.1a00a9767598e6d49de18a5e94db9e25.jpg  \n",
            "  inflating: /content/data/images/train/IMG_0782_MP4-0016_jpg.rf.dc9637f00a50d1f0a5398b8de41da901.jpg  \n",
            "  inflating: /content/data/images/train/IMG_0783_MP4-0001_jpg.rf.6264bc54138d0931528a29f57e3343bc.jpg  \n",
            "  inflating: /content/data/images/train/IMG_0783_MP4-0002_jpg.rf.0a1080f3fb7c547c7d5b46961ce2e385.jpg  \n",
            "  inflating: /content/data/images/train/IMG_0783_MP4-0003_jpg.rf.9b8518d4c0d8da0a06abccb116f8353e.jpg  \n",
            "  inflating: /content/data/images/train/IMG_0783_MP4-0005_jpg.rf.923d68da30cdc569358d91592afb2aa5.jpg  \n",
            "  inflating: /content/data/images/train/IMG_0783_MP4-0006_jpg.rf.ca132927a95eda92407c2460fb667ff3.jpg  \n",
            "  inflating: /content/data/images/train/IMG_0783_MP4-0007_jpg.rf.934d1ed4c344308378dc1744f4de9c73.jpg  \n",
            "  inflating: /content/data/images/train/IMG_0783_MP4-0014_jpg.rf.6ca93be567b08bd681def8666eab85b9.jpg  \n",
            "  inflating: /content/data/images/train/IMG_0783_MP4-0016_jpg.rf.e5e11e2549e4fc1922818d1f6ecd68a0.jpg  \n",
            "  inflating: /content/data/images/train/IMG_0783_MP4-0017_jpg.rf.9414f56243bbf0f04342a4b22d91c708.jpg  \n",
            "  inflating: /content/data/images/train/IMG_0783_MP4-0018_jpg.rf.a9bb40c8f4e772d6d4b7b93a532743bc.jpg  \n",
            "  inflating: /content/data/images/train/IMG_0783_MP4-0020_jpg.rf.61cd167983b24c6a09c701de464888f6.jpg  \n",
            "  inflating: /content/data/images/train/IMG_0783_MP4-0024_jpg.rf.6dab8ad43684042dd8e8f0666fc127e8.jpg  \n",
            "  inflating: /content/data/images/train/IMG_0783_MP4-0025_jpg.rf.af1c5631bfccfde3483b35844410a9b6.jpg  \n",
            "  inflating: /content/data/images/train/IMG_0784_MP4-0000_jpg.rf.f4d588d610d140dd9479616c8a9a66fc.jpg  \n",
            "  inflating: /content/data/images/train/IMG_0784_MP4-0002_jpg.rf.e7923021a30cd25984f17ba7ed9c1cf4.jpg  \n",
            "  inflating: /content/data/images/train/IMG_0784_MP4-0003_jpg.rf.9256a6d222c929c685ce889127fe0a3f.jpg  \n",
            "  inflating: /content/data/images/train/IMG_0784_MP4-0004_jpg.rf.0023b4266e2be8db95e73189b31f7d5c.jpg  \n",
            "  inflating: /content/data/images/train/IMG_0784_MP4-0005_jpg.rf.08e8605185fe1854d01e8ee0f6646e05.jpg  \n",
            "  inflating: /content/data/images/train/IMG_0784_MP4-0006_jpg.rf.ab08e969519dd6ef9bcf5634ef3468e8.jpg  \n",
            "  inflating: /content/data/images/train/IMG_0784_MP4-0007_jpg.rf.2e7cb9bc6da93c7fbe80c25c4572ff94.jpg  \n",
            "  inflating: /content/data/images/train/IMG_0784_MP4-0010_jpg.rf.8253154b7aeddd13e60e1b5fea09bbc4.jpg  \n",
            "  inflating: /content/data/images/train/IMG_0784_MP4-0011_jpg.rf.241c5ae29af278ba99648bda38ca3ad7.jpg  \n",
            "  inflating: /content/data/images/train/IMG_0784_MP4-0012_jpg.rf.3f6640cee65eb49708a10cfbb513ffdb.jpg  \n",
            "  inflating: /content/data/images/train/IMG_0784_MP4-0013_jpg.rf.ac9f4f388261983a468b3d824d0e8911.jpg  \n",
            "  inflating: /content/data/images/train/IMG_0784_MP4-0015_jpg.rf.50effa8c4ba0b2a452810c8fb586455d.jpg  \n",
            "  inflating: /content/data/images/train/IMG_0784_MP4-0016_jpg.rf.8b4440c12ed78ee0489836d71a0254b4.jpg  \n",
            "  inflating: /content/data/images/train/IMG_0784_MP4-0017_jpg.rf.3f56711f59962e496ceb820621b5eb8e.jpg  \n",
            "  inflating: /content/data/images/train/IMG_0784_MP4-0020_jpg.rf.4ef8b3fcf21f96bedd99ed4928cda3e8.jpg  \n",
            "  inflating: /content/data/images/train/IMG_0785_MP4-0000_jpg.rf.abf6100cd48d37c1ab3f8f568f041bc3.jpg  \n",
            "  inflating: /content/data/images/train/IMG_0785_MP4-0002_jpg.rf.b208b59f03024f1f50014dc1acee25cd.jpg  \n",
            "  inflating: /content/data/images/train/IMG_0788_MP4-0010_jpg.rf.a7983c28bf2e80d3f325dc47ba7338de.jpg  \n",
            "  inflating: /content/data/images/train/IMG_0788_MP4-0011_jpg.rf.f5cfc2fe3ef859df522fee1c06aa26af.jpg  \n",
            "  inflating: /content/data/images/train/IMG_0788_MP4-0012_jpg.rf.e66ffa0bd5cbfc7e2596858a2d634284.jpg  \n",
            "  inflating: /content/data/images/train/IMG_0788_MP4-0013_jpg.rf.061e605cb6bda8c93c1fef210d9d81db.jpg  \n",
            "  inflating: /content/data/images/train/IMG_0788_MP4-0014_jpg.rf.0336e15b05e9322c14023062765ffd61.jpg  \n",
            "  inflating: /content/data/images/train/IMG_0789_MP4-0000_jpg.rf.d3c7c1762782a7ab81d222ccaa725b3b.jpg  \n",
            "  inflating: /content/data/images/train/IMG_0789_MP4-0001_jpg.rf.9eadc0d9982d357810ff84f0791b1c05.jpg  \n",
            "  inflating: /content/data/images/train/IMG_0789_MP4-0002_jpg.rf.df3c7be2fe544b80102644f929c3bbe0.jpg  \n",
            "  inflating: /content/data/images/train/IMG_0789_MP4-0003_jpg.rf.254da5fbfd90bce3c3827316e871a4ed.jpg  \n",
            "  inflating: /content/data/images/train/IMG_0789_MP4-0004_jpg.rf.d75b93715ae7adce886c6d9059eb07ee.jpg  \n",
            "  inflating: /content/data/images/train/IMG_0789_MP4-0005_jpg.rf.591cbab01408048ee285922086d7189b.jpg  \n",
            "  inflating: /content/data/images/train/IMG_0789_MP4-0006_jpg.rf.ddcf184a380671175eb3b7a6a5577ac6.jpg  \n",
            "  inflating: /content/data/images/train/IMG_0789_MP4-0007_jpg.rf.5308a4217322e5e3e581837d288f5fba.jpg  \n",
            "  inflating: /content/data/images/train/IMG_0789_MP4-0008_jpg.rf.cb745d8f1fff977c3d5aabb0b1c66a0d.jpg  \n",
            "  inflating: /content/data/images/train/IMG_0789_MP4-0009_jpg.rf.a15b5acae9d4d89c685546290e13c4b9.jpg  \n",
            "  inflating: /content/data/images/train/IMG_0789_MP4-0010_jpg.rf.53a1cf97d20e349acd1d0aca1315420c.jpg  \n",
            "  inflating: /content/data/images/train/IMG_0789_MP4-0011_jpg.rf.66a5c0bc41f0d2215968b518d1369602.jpg  \n",
            "  inflating: /content/data/images/train/IMG_0789_MP4-0013_jpg.rf.f5acdbbdd684a674f7ec2675372f9216.jpg  \n",
            "  inflating: /content/data/images/train/IMG_0789_MP4-0014_jpg.rf.7a97e1e80680fa3bb04fe78edbd17ec0.jpg  \n",
            "  inflating: /content/data/images/train/IMG_0789_MP4-0015_jpg.rf.0efe016a338479c7f7d5ccf8e16307dc.jpg  \n",
            "  inflating: /content/data/images/train/IMG_0792_MP4-0000_jpg.rf.97461a785cc95e96232e60a950e0b8a5.jpg  \n",
            "  inflating: /content/data/images/train/IMG_0792_MP4-0002_jpg.rf.b3d3af93c72ee2f094747abb75f7e48d.jpg  \n",
            "  inflating: /content/data/images/train/IMG_0792_MP4-0003_jpg.rf.bff162295ef583ba666b5fa05319291b.jpg  \n",
            "  inflating: /content/data/images/train/IMG_0792_MP4-0004_jpg.rf.0e7b66336fd089c173a453be4313ced8.jpg  \n",
            "  inflating: /content/data/images/train/IMG_0792_MP4-0006_jpg.rf.c915e466d26d67a8b06f975829a1ba35.jpg  \n",
            "  inflating: /content/data/images/train/IMG_0792_MP4-0007_jpg.rf.22ebecfc8f26af4aa0d38d0cd01e7224.jpg  \n",
            "  inflating: /content/data/images/train/IMG_0792_MP4-0008_jpg.rf.9d96cdaa7249dd581b5356c84ff1ac27.jpg  \n",
            "  inflating: /content/data/images/train/IMG_0792_MP4-0011_jpg.rf.95c461cc0785c839fef1f430cf690f02.jpg  \n",
            "  inflating: /content/data/images/train/IMG_0792_MP4-0013_jpg.rf.1e26439b585e4a629f57752a6be6f2c5.jpg  \n",
            "  inflating: /content/data/images/train/IMG_0792_MP4-0017_jpg.rf.4d27ffc2dcf8b810502cd46457b52522.jpg  \n",
            "  inflating: /content/data/images/train/IMG_0792_MP4-0018_jpg.rf.3e2b23df6acd057d32a81090f4264b8c.jpg  \n",
            "  inflating: /content/data/images/train/IMG_0792_MP4-0019_jpg.rf.ba6b66cb52d966ad90d04cf013b0fc11.jpg  \n",
            "  inflating: /content/data/images/train/IMG_0792_MP4-0021_jpg.rf.0f86cad6f73d66a57e24918075605299.jpg  \n",
            "  inflating: /content/data/images/train/IMG_0792_MP4-0022_jpg.rf.c95549d5788a581ad4198a3a5dbdb624.jpg  \n",
            "  inflating: /content/data/images/train/IMG_0793_MP4-0000_jpg.rf.e888041f40dacc8b4eab4ea60d2f1c3c.jpg  \n",
            "  inflating: /content/data/images/train/IMG_0793_MP4-0001_jpg.rf.834733f277e30c624a4c1c36f55076a9.jpg  \n",
            "  inflating: /content/data/images/train/IMG_0793_MP4-0002_jpg.rf.7eec11823306ab8dfdbad3c47aac0986.jpg  \n",
            "  inflating: /content/data/images/train/IMG_0793_MP4-0003_jpg.rf.8d61fc46c03cb87e6ac33ce5c77d5c1a.jpg  \n",
            "  inflating: /content/data/images/train/IMG_0793_MP4-0005_jpg.rf.63f60d2d5806a456b260b21858e44ca0.jpg  \n",
            "  inflating: /content/data/images/train/IMG_0793_MP4-0007_jpg.rf.488ba612ee720b98748d4b5d0adf2626.jpg  \n",
            "  inflating: /content/data/images/train/IMG_0793_MP4-0009_jpg.rf.2fc80338c083ea8db552ab9796ace605.jpg  \n",
            "  inflating: /content/data/images/train/IMG_0793_MP4-0010_jpg.rf.06aeffbd08f459a9b7a0f12e19cdfc61.jpg  \n",
            "  inflating: /content/data/images/train/IMG_0793_MP4-0011_jpg.rf.72c2a785e524f95624280abe97d87add.jpg  \n",
            "  inflating: /content/data/images/train/IMG_0793_MP4-0012_jpg.rf.34bd58da8df8f643021f8b5a03375e0e.jpg  \n",
            "  inflating: /content/data/images/train/IMG_0793_MP4-0015_jpg.rf.0536cc3573ce4629d91277394159b040.jpg  \n",
            "  inflating: /content/data/images/train/IMG_0793_MP4-0016_jpg.rf.d69ea51daa93eeb0b5a387ffb35778a1.jpg  \n",
            "  inflating: /content/data/images/train/IMG_0793_MP4-0017_jpg.rf.bc5fe69774f119517fca6904ca4e1a21.jpg  \n",
            "  inflating: /content/data/images/train/IMG_0793_MP4-0018_jpg.rf.2d1058df32310366a5e8259d6c0054fa.jpg  \n",
            "  inflating: /content/data/images/train/IMG_0793_MP4-0019_jpg.rf.a7ff36dcdae30d5972c812e27371a7bd.jpg  \n",
            "  inflating: /content/data/images/train/IMG_0795_MP4-0002_jpg.rf.3b75cf8e5a28fe346da1a4f946c65089.jpg  \n",
            "  inflating: /content/data/images/train/IMG_0795_MP4-0003_jpg.rf.a2fb3f58dd66b9f2f1a522120cebd5e2.jpg  \n",
            "  inflating: /content/data/images/train/IMG_0795_MP4-0004_jpg.rf.06df8e6663f4316e940d4e3e6a849b2f.jpg  \n",
            "  inflating: /content/data/images/train/IMG_0795_MP4-0005_jpg.rf.26bef816c6cc53827f410f473238c82d.jpg  \n",
            "  inflating: /content/data/images/train/IMG_0795_MP4-0006_jpg.rf.8cc6ca69f31d47e615ebcd0a9f274efd.jpg  \n",
            "  inflating: /content/data/images/train/IMG_0795_MP4-0007_jpg.rf.98864bb68dc0603ae76e831ed62725ce.jpg  \n",
            "  inflating: /content/data/images/train/IMG_0795_MP4-0008_jpg.rf.2411ec9fde2897cb469fa14cff6512d8.jpg  \n",
            "  inflating: /content/data/images/train/IMG_0795_MP4-0009_jpg.rf.b95d8d375d8f83b2fb7d788a496eb201.jpg  \n",
            "  inflating: /content/data/images/train/IMG_0795_MP4-0010_jpg.rf.0082c36e48dfcd7e0ee104ac04953415.jpg  \n",
            "  inflating: /content/data/images/train/IMG_0795_MP4-0011_jpg.rf.3d009a15ae00d124b1bd24308abc3736.jpg  \n",
            "  inflating: /content/data/images/train/IMG_0795_MP4-0015_jpg.rf.5b09b814852c5f7282b902f54798e183.jpg  \n",
            "  inflating: /content/data/images/train/IMG_0797_MP4-0001_jpg.rf.0b5c82425082d33dc8b874d3ec54abad.jpg  \n",
            "  inflating: /content/data/images/train/IMG_0797_MP4-0002_jpg.rf.ec5f76246c2342f168dd84d991c96fd5.jpg  \n",
            "  inflating: /content/data/images/train/IMG_0797_MP4-0003_jpg.rf.f72797b98b03df1192da9b0338b37531.jpg  \n",
            "  inflating: /content/data/images/train/IMG_0797_MP4-0004_jpg.rf.ad4ee9032961ffccd6e0f1e272f373e6.jpg  \n",
            "  inflating: /content/data/images/train/IMG_0797_MP4-0005_jpg.rf.8da42e3e6ae1f565ea078f5d7bb2d18e.jpg  \n",
            "  inflating: /content/data/images/train/IMG_0797_MP4-0007_jpg.rf.a40506efdcddcf9de7e2da490cfb8d4e.jpg  \n",
            "  inflating: /content/data/images/train/IMG_0797_MP4-0009_jpg.rf.9699bb90fd22257be9e24353687c77a7.jpg  \n",
            "  inflating: /content/data/images/train/IMG_0797_MP4-0010_jpg.rf.40f268dce94887dfbc77ed3a2b4cec7e.jpg  \n",
            "  inflating: /content/data/images/train/IMG_0797_MP4-0011_jpg.rf.b9c293b1651b6297ee831bdaa4dffad2.jpg  \n",
            "  inflating: /content/data/images/train/IMG_0797_MP4-0012_jpg.rf.f67c649b76bcd65fab0b0422c786fbe1.jpg  \n",
            "  inflating: /content/data/images/train/IMG_0797_MP4-0013_jpg.rf.77d0a532c82d57fbe914c00fc43939eb.jpg  \n",
            "  inflating: /content/data/images/train/IMG_0797_MP4-0015_jpg.rf.1b7c2c782783d6affdc246576cd9c23d.jpg  \n",
            "  inflating: /content/data/images/train/IMG_0797_MP4-0017_jpg.rf.370c5adb8c8cab308d65dcb34f0d0ce9.jpg  \n",
            "  inflating: /content/data/images/train/IMG_0797_MP4-0018_jpg.rf.fd724a5eb65d8e800b5b594f1a85eb6f.jpg  \n",
            "  inflating: /content/data/images/train/IMG_0797_MP4-0021_jpg.rf.59dbfb9951aaa6ef833faa0728f770e9.jpg  \n",
            "  inflating: /content/data/images/train/IMG_0797_MP4-0022_jpg.rf.433db8653b26d3353acafbc110453a96.jpg  \n",
            "  inflating: /content/data/images/train/IMG_0797_MP4-0024_jpg.rf.0c127168ef086c2392526070e4d6b076.jpg  \n",
            "  inflating: /content/data/images/train/IMG_0797_MP4-0025_jpg.rf.10314d6662fb3ad5377dbeeaa4b556c0.jpg  \n",
            "  inflating: /content/data/images/train/IMG_0797_MP4-0026_jpg.rf.69269c58dbc5d97ebd0bd287c89a9a5e.jpg  \n",
            "  inflating: /content/data/images/train/IMG_0797_MP4-0027_jpg.rf.8e9e102c0e831308a3aa25244a461fde.jpg  \n",
            "  inflating: /content/data/images/train/IMG_0799_MP4-0002_jpg.rf.18228794798d7273fbc1a3a6fdf59aa8.jpg  \n",
            "  inflating: /content/data/images/train/IMG_0799_MP4-0004_jpg.rf.bcc6e63c3aa162f3728526dfa7bb1204.jpg  \n",
            "  inflating: /content/data/images/train/IMG_0799_MP4-0007_jpg.rf.0abcf861790553c4726f22ca6e9ec22f.jpg  \n",
            "  inflating: /content/data/images/train/IMG_0799_MP4-0009_jpg.rf.0ee8085e2a46d5cde59be2066ecd0dd0.jpg  \n",
            "  inflating: /content/data/images/train/IMG_0799_MP4-0011_jpg.rf.5e811adf21744a3fa901c630894ebc84.jpg  \n",
            "  inflating: /content/data/images/train/IMG_0799_MP4-0012_jpg.rf.5bc4afe7365392ef7efb515eff1322a0.jpg  \n",
            "  inflating: /content/data/images/train/IMG_0800_MP4-0000_jpg.rf.f780f1d9fd013c40042950f7174395e5.jpg  \n",
            "  inflating: /content/data/images/train/IMG_0800_MP4-0001_jpg.rf.41987a39ac044c891cdbdfab6cffd9f1.jpg  \n",
            "  inflating: /content/data/images/train/IMG_0800_MP4-0002_jpg.rf.04bc19ff8cf5d7b1e88fcaa9fc51297b.jpg  \n",
            "  inflating: /content/data/images/train/IMG_0800_MP4-0005_jpg.rf.45b03bccd65ce1c13702d571ec360165.jpg  \n",
            "  inflating: /content/data/images/train/IMG_0800_MP4-0006_jpg.rf.e928bb0eaf04046aeb6928b637c169b5.jpg  \n",
            "  inflating: /content/data/images/train/IMG_0800_MP4-0007_jpg.rf.c443f204bd482044b9f492e03473f32c.jpg  \n",
            "  inflating: /content/data/images/train/IMG_0800_MP4-0008_jpg.rf.72509c76eed6e5b2d9ae7eaabeb0b3ce.jpg  \n",
            "  inflating: /content/data/images/train/IMG_0800_MP4-0009_jpg.rf.af8a6671af34a3a717521e6155e78a6d.jpg  \n",
            "  inflating: /content/data/images/train/IMG_0800_MP4-0011_jpg.rf.b8ac22333ed31e5722bd5c63724b60c9.jpg  \n",
            "  inflating: /content/data/images/train/IMG_0800_MP4-0013_jpg.rf.e1c0a9acfd1a66a7a8ed4c4e8979d967.jpg  \n",
            "  inflating: /content/data/images/train/IMG_0803_MP4-0000_jpg.rf.d9ec3e0f1e100ca0e6d78f6dd3e6f263.jpg  \n",
            "  inflating: /content/data/images/train/IMG_0803_MP4-0001_jpg.rf.9ba96c90a907a6c37bdca475332506c5.jpg  \n",
            "  inflating: /content/data/images/train/IMG_0803_MP4-0002_jpg.rf.d8ac0e5fd361ed6d4c2266798ce44e71.jpg  \n",
            "  inflating: /content/data/images/train/IMG_0803_MP4-0003_jpg.rf.468e67cff33e49fab0096fe1223040dd.jpg  \n",
            "  inflating: /content/data/images/train/IMG_0803_MP4-0004_jpg.rf.d75d7ad9b327fa8de7ccef685bf20a8a.jpg  \n",
            "  inflating: /content/data/images/train/IMG_0803_MP4-0005_jpg.rf.4305b4faa5637e1afc3b8769bf5e25b4.jpg  \n",
            "  inflating: /content/data/images/train/IMG_0803_MP4-0006_jpg.rf.d034ef22fafa40e04a9c47f78f348b2e.jpg  \n",
            "  inflating: /content/data/images/train/IMG_0803_MP4-0007_jpg.rf.e108194b48880bb3c16232f00c82718e.jpg  \n",
            "  inflating: /content/data/images/train/IMG_0803_MP4-0008_jpg.rf.b98ef6b671d5fd6dc2edd027f344c9c7.jpg  \n",
            "  inflating: /content/data/images/train/IMG_0803_MP4-0010_jpg.rf.5f5bac7ce5165e191987ba9b707bcdba.jpg  \n",
            "  inflating: /content/data/images/train/IMG_0803_MP4-0011_jpg.rf.2fa8ac2b923ede538649a20c44bd40f0.jpg  \n",
            "  inflating: /content/data/images/train/IMG_0803_MP4-0013_jpg.rf.0f824f8cd2e89888431dba20a7cfb48f.jpg  \n",
            "  inflating: /content/data/images/train/IMG_0803_MP4-0015_jpg.rf.a6c03398da840201711ff1e2b7c56629.jpg  \n",
            "  inflating: /content/data/images/train/IMG_0803_MP4-0017_jpg.rf.898a902a606aef75ad029b76d0145bdd.jpg  \n",
            "  inflating: /content/data/images/train/IMG_0805_MP4-0000_jpg.rf.a48a04b02080fd555e5339fa02a14a2c.jpg  \n",
            "  inflating: /content/data/images/train/IMG_0805_MP4-0001_jpg.rf.bfbf86f573e81e643727b92b9f961d9c.jpg  \n",
            "  inflating: /content/data/images/train/IMG_0805_MP4-0002_jpg.rf.5f45b99632fb4fc6e39b20474fa7abd2.jpg  \n",
            "  inflating: /content/data/images/train/IMG_0805_MP4-0003_jpg.rf.458831af963955a47d5c73cf77645e60.jpg  \n",
            "  inflating: /content/data/images/train/IMG_0805_MP4-0005_jpg.rf.82635f97bfa99a90c509af97d5bb4788.jpg  \n",
            "  inflating: /content/data/images/train/IMG_0805_MP4-0006_jpg.rf.c3b12c67781acdccc63ab8e87794c743.jpg  \n",
            "  inflating: /content/data/images/train/IMG_0805_MP4-0007_jpg.rf.a63f797a263de3ecf95521a3dd0cd1be.jpg  \n",
            "  inflating: /content/data/images/train/IMG_0805_MP4-0008_jpg.rf.db2a0af42bb2279ff8e933b2d6a002f3.jpg  \n",
            "  inflating: /content/data/images/train/IMG_0805_MP4-0010_jpg.rf.182d72090a7f94b37055a952b8bd7249.jpg  \n",
            "  inflating: /content/data/images/train/IMG_0805_MP4-0011_jpg.rf.ba2304872db70fd785d40de2467b546e.jpg  \n",
            "  inflating: /content/data/images/train/IMG_0805_MP4-0012_jpg.rf.8adaacb52911ae657c61a3c099321efa.jpg  \n",
            "  inflating: /content/data/images/train/IMG_0805_MP4-0013_jpg.rf.fe1f0aee64b7f696c0e883eb8acae498.jpg  \n",
            "  inflating: /content/data/images/train/IMG_0805_MP4-0014_jpg.rf.32ef471394f4df540066b6aedc477591.jpg  \n",
            "  inflating: /content/data/images/train/IMG_0805_MP4-0015_jpg.rf.171cec0da847193f5a1eed073633a237.jpg  \n",
            "  inflating: /content/data/images/train/IMG_0805_MP4-0016_jpg.rf.857a6d01f941717276148ea8bfef93f2.jpg  \n",
            "  inflating: /content/data/images/train/IMG_0805_MP4-0017_jpg.rf.3389a3c9aff8c143ad061ba77bf614eb.jpg  \n",
            "  inflating: /content/data/images/train/IMG_0805_MP4-0019_jpg.rf.4b4d50a63af86bf5cfb20bb03d258727.jpg  \n",
            "  inflating: /content/data/images/train/IMG_0811_MP4-0005_jpg.rf.70213c4c97bf2edf79af010e21bbcb51.jpg  \n",
            "  inflating: /content/data/images/train/IMG_0811_MP4-0006_jpg.rf.201f3c4c69a20617ef1e9cd13c8084d2.jpg  \n",
            "  inflating: /content/data/images/train/IMG_0811_MP4-0007_jpg.rf.83e2b3fa86dbe77d8a278909497a2124.jpg  \n",
            "  inflating: /content/data/images/train/IMG_0811_MP4-0009_jpg.rf.69e88e397de0c4c92e5ae67869cc1809.jpg  \n",
            "  inflating: /content/data/images/train/IMG_0811_MP4-0010_jpg.rf.adc0e45e4dd7c9077e63befc1439d8fc.jpg  \n",
            "  inflating: /content/data/images/train/IMG_0811_MP4-0011_jpg.rf.bb645befe3d58f31f1fcc2edd3a549a6.jpg  \n",
            "  inflating: /content/data/images/train/IMG_0811_MP4-0013_jpg.rf.de51264cf9243594c15248a62d133d59.jpg  \n",
            "  inflating: /content/data/images/train/IMG_0811_MP4-0014_jpg.rf.9d844beb5161548c5b0bc394aa80eb3f.jpg  \n",
            "  inflating: /content/data/images/train/IMG_0811_MP4-0016_jpg.rf.8d7d7b011a333b2d6f1d0bc58ba8302e.jpg  \n",
            "  inflating: /content/data/images/train/IMG_0811_MP4-0017_jpg.rf.2430f9ae7fd37176acfccf44208ab106.jpg  \n",
            "  inflating: /content/data/images/train/IMG_0811_MP4-0018_jpg.rf.1e1e5ff31c9388aa3fde6ee2d3c431f3.jpg  \n",
            "  inflating: /content/data/images/train/IMG_0811_MP4-0019_jpg.rf.0c14790f2525e443fa8c20bd07da5751.jpg  \n",
            "  inflating: /content/data/images/train/IMG_0811_MP4-0021_jpg.rf.ffe1d806a90aef5828f3d3a6c770fd26.jpg  \n",
            "  inflating: /content/data/images/train/IMG_0812_MP4-0000_jpg.rf.899a6304a2cdf703780636183fba5a45.jpg  \n",
            "  inflating: /content/data/images/train/IMG_0812_MP4-0002_jpg.rf.a89a9987d8dddf16ce1e1369dcad720b.jpg  \n",
            "  inflating: /content/data/images/train/IMG_0812_MP4-0003_jpg.rf.0cbb9b9d0694da07de73ca13dd239381.jpg  \n",
            "  inflating: /content/data/images/train/IMG_0812_MP4-0004_jpg.rf.200e1267e3953d2c8c5f4698a2197ba3.jpg  \n",
            "  inflating: /content/data/images/train/IMG_0812_MP4-0006_jpg.rf.b86443efbe5479d0ec0584288db2622d.jpg  \n",
            "  inflating: /content/data/images/train/IMG_0812_MP4-0008_jpg.rf.059faa00ada9f650b0bb76c1b47f9615.jpg  \n",
            "  inflating: /content/data/images/train/IMG_0812_MP4-0012_jpg.rf.abf89478eb2b9df6b5b478a155711af7.jpg  \n",
            "  inflating: /content/data/images/train/IMG_0812_MP4-0013_jpg.rf.991b7271305264c1b09096e5f32b1d4d.jpg  \n",
            "  inflating: /content/data/images/train/IMG_0812_MP4-0016_jpg.rf.b8a969b8eada54eef15017db7ed867c2.jpg  \n",
            "  inflating: /content/data/images/train/IMG_0812_MP4-0019_jpg.rf.74f4a75fae68610a7cc25bd876792c7b.jpg  \n",
            "  inflating: /content/data/images/train/IMG_0812_MP4-0021_jpg.rf.49a2a7326d48fb4d926b699b5630566c.jpg  \n",
            "  inflating: /content/data/images/train/IMG_0812_MP4-0022_jpg.rf.8d4821a1c1bff41c031743419359a6de.jpg  \n",
            "  inflating: /content/data/images/train/IMG_0812_MP4-0023_jpg.rf.a24e009cf49dca52f53a28570b64ee71.jpg  \n",
            "  inflating: /content/data/images/train/IMG_0812_MP4-0024_jpg.rf.e4a94182744de4d51a8a908a7d05fd41.jpg  \n",
            "  inflating: /content/data/images/train/IMG_0812_MP4-0025_jpg.rf.f17a4be920cb0ead8790d463aa33151f.jpg  \n",
            "  inflating: /content/data/images/train/IMG_0813_MP4-0000_jpg.rf.f9482a3a8fbc1f6a49cbc10d456fd097.jpg  \n",
            "  inflating: /content/data/images/train/IMG_0813_MP4-0003_jpg.rf.306e258205dc610497e209d994cf7de6.jpg  \n",
            "  inflating: /content/data/images/train/IMG_0813_MP4-0007_jpg.rf.ed70884a06fc5676dd9121cb6d74a24f.jpg  \n",
            "  inflating: /content/data/images/train/IMG_0813_MP4-0008_jpg.rf.406069a2eb602fe2df97b1dc9840e75e.jpg  \n",
            "  inflating: /content/data/images/train/IMG_0813_MP4-0009_jpg.rf.2c65803fee27390ffe1a5d12d85cb9c0.jpg  \n",
            "  inflating: /content/data/images/train/IMG_0813_MP4-0010_jpg.rf.5f2f03ab3986d84cac9097a2f0371c47.jpg  \n",
            "  inflating: /content/data/images/train/IMG_0813_MP4-0011_jpg.rf.14ece8ef3566e9289a361fc03d54b4e1.jpg  \n",
            "  inflating: /content/data/images/train/IMG_0813_MP4-0012_jpg.rf.5cb34601ef082db7731a7de645ffeaa3.jpg  \n",
            "  inflating: /content/data/images/train/IMG_0813_MP4-0013_jpg.rf.7b2689475eb226baf48d3055d6efc7f2.jpg  \n",
            "  inflating: /content/data/images/train/IMG_0813_MP4-0015_jpg.rf.5d2617f78c00ae874bba7f0fc12462cb.jpg  \n",
            "  inflating: /content/data/images/train/IMG_0813_MP4-0016_jpg.rf.fa3e14a77f53478783547874d318cf99.jpg  \n",
            "  inflating: /content/data/images/train/IMG_0813_MP4-0017_jpg.rf.439817c9f50e0a366fd5371a1c96d858.jpg  \n",
            "  inflating: /content/data/images/train/IMG_0813_MP4-0018_jpg.rf.9925db36a78d976f6bbac36ae157f2f6.jpg  \n",
            "  inflating: /content/data/images/train/IMG_0813_MP4-0021_jpg.rf.c68e42f972d9e61dab116a16351bca7d.jpg  \n",
            "  inflating: /content/data/images/train/IMG_0813_MP4-0022_jpg.rf.eeccc264c6b48727c3582bd1dd8dd1be.jpg  \n",
            "  inflating: /content/data/images/train/IMG_0815_MP4-0002_jpg.rf.0b33cd5eb80945cec3393c8b2c726579.jpg  \n",
            "  inflating: /content/data/images/train/IMG_0815_MP4-0004_jpg.rf.7bbefca119a016cdf8bf4df58c891783.jpg  \n",
            "  inflating: /content/data/images/train/IMG_0815_MP4-0005_jpg.rf.a5c3a6f1f3a55385501599ba6f9aa5d8.jpg  \n",
            "  inflating: /content/data/images/train/IMG_0815_MP4-0008_jpg.rf.8f40ab1376443f7f63f00333f4bb3e0a.jpg  \n",
            "  inflating: /content/data/images/train/IMG_0815_MP4-0009_jpg.rf.a999143d59a7ffadaa1f2cb6b949897d.jpg  \n",
            "  inflating: /content/data/images/train/IMG_0815_MP4-0010_jpg.rf.c08c222cb1c776a7d2ada380144fa813.jpg  \n",
            "  inflating: /content/data/images/train/IMG_0815_MP4-0012_jpg.rf.bd13da24cc77007c788c5feb46e7c367.jpg  \n",
            "  inflating: /content/data/images/train/IMG_0818_MP4-0002_jpg.rf.882de51a4506ddebf7becbd763feaefa.jpg  \n",
            "  inflating: /content/data/images/train/IMG_0818_MP4-0004_jpg.rf.92560578a2d7403b3a48c293573ba8c5.jpg  \n",
            "  inflating: /content/data/images/train/IMG_0818_MP4-0006_jpg.rf.a785beca0c991a89b5e469407702f1bc.jpg  \n",
            "  inflating: /content/data/images/train/IMG_0818_MP4-0007_jpg.rf.742fd055e862c902b392cec6c7b204ca.jpg  \n",
            "  inflating: /content/data/images/train/IMG_0818_MP4-0008_jpg.rf.e20b789a19c089a2a4bed45c13a2ad9d.jpg  \n",
            "  inflating: /content/data/images/train/IMG_0818_MP4-0009_jpg.rf.550d29bf0f2306267c9bdbd8e5ef9c62.jpg  \n",
            "  inflating: /content/data/images/train/IMG_0818_MP4-0010_jpg.rf.19a1a226e354e56652708133a780bbb1.jpg  \n",
            "  inflating: /content/data/images/train/IMG_0818_MP4-0011_jpg.rf.1b79718373d3bb76ccf2ded0d02cef25.jpg  \n",
            "  inflating: /content/data/images/train/IMG_0837_MP4-0000_jpg.rf.bdc9e34b97afc30272fc0632a2dcb65a.jpg  \n",
            "  inflating: /content/data/images/train/IMG_0837_MP4-0002_jpg.rf.ab35afeda72276a42218e3be9d81fed9.jpg  \n",
            "  inflating: /content/data/images/train/IMG_0837_MP4-0003_jpg.rf.20065c4f3141a98660c81985c665ac33.jpg  \n",
            "  inflating: /content/data/images/train/IMG_0837_MP4-0005_jpg.rf.fd5ca3fd0acea84b17799ac0dcfb6cde.jpg  \n",
            "  inflating: /content/data/images/train/IMG_0837_MP4-0007_jpg.rf.4e217632847d1c17cc5a886ac0a8d729.jpg  \n",
            "  inflating: /content/data/images/train/IMG_0837_MP4-0010_jpg.rf.d612612c07051f8d646feca8cfb5af49.jpg  \n",
            "  inflating: /content/data/images/train/IMG_0837_MP4-0011_jpg.rf.864ebfaf30a67c25f2230a202cb23e27.jpg  \n",
            "  inflating: /content/data/images/train/IMG_0837_MP4-0012_jpg.rf.bd5afdbbf2d63acb64bd4eaf7d7a191f.jpg  \n",
            "   creating: /content/data/images/val/\n",
            "  inflating: /content/data/images/val/IMG_0705_MP4-0001_jpg.rf.7da126204240e6dd8e54b2dd748e7f41.jpg  \n",
            "  inflating: /content/data/images/val/IMG_0705_MP4-0016_jpg.rf.6cce207392f80058ad2be32ea4fe6c3a.jpg  \n",
            "  inflating: /content/data/images/val/IMG_0729_MP4-0002_jpg.rf.325658b901e8a5ebab4a377d29d3a5f9.jpg  \n",
            "  inflating: /content/data/images/val/IMG_0729_MP4-0003_jpg.rf.7c118a495488fb6de6db63c5cc95e144.jpg  \n",
            "  inflating: /content/data/images/val/IMG_0729_MP4-0015_jpg.rf.de7abf70c726c7b76b18f2c761806930.jpg  \n",
            "  inflating: /content/data/images/val/IMG_0731_MP4-0000_jpg.rf.a64e1f92d1ec3d394efb8bf40b9a6ac8.jpg  \n",
            "  inflating: /content/data/images/val/IMG_0736_MP4-0011_jpg.rf.084f09a1d7775ae76a8937143af90166.jpg  \n",
            "  inflating: /content/data/images/val/IMG_0736_MP4-0015_jpg.rf.17ef1f48bab2c6a123c3976d061ce601.jpg  \n",
            "  inflating: /content/data/images/val/IMG_0736_MP4-0016_jpg.rf.7ed0c80b3ac18e5e4f3aa57ad8161f84.jpg  \n",
            "  inflating: /content/data/images/val/IMG_0736_MP4-0024_jpg.rf.961a4b6fcb8d5a513fd72a9c5fbcd0da.jpg  \n",
            "  inflating: /content/data/images/val/IMG_0737_MP4-0004_jpg.rf.586ba28d52b624c313208b0ee035e71e.jpg  \n",
            "  inflating: /content/data/images/val/IMG_0737_MP4-0005_jpg.rf.ad89ecafda0a1c35e6eee691ab2ee200.jpg  \n",
            "  inflating: /content/data/images/val/IMG_0737_MP4-0006_jpg.rf.5e59c976ba769bdef1ae8305c8e32305.jpg  \n",
            "  inflating: /content/data/images/val/IMG_0737_MP4-0010_jpg.rf.031e94f9be3a2dbf5c300443f778c1cb.jpg  \n",
            "  inflating: /content/data/images/val/IMG_0737_MP4-0013_jpg.rf.d50f6a6733c852989db4e4e853a5f54d.jpg  \n",
            "  inflating: /content/data/images/val/IMG_0737_MP4-0016_jpg.rf.f9e6bec1e57da995b3548c04f5757bf3.jpg  \n",
            "  inflating: /content/data/images/val/IMG_0737_MP4-0021_jpg.rf.b1e8c520720968e8e23fb31c6cf50f4a.jpg  \n",
            "  inflating: /content/data/images/val/IMG_0741_MP4-0003_jpg.rf.e12a6381caf5bb2d1995830a5b47aa9a.jpg  \n",
            "  inflating: /content/data/images/val/IMG_0741_MP4-0011_jpg.rf.48e11dd5cb5b6b12adb2e776001015ed.jpg  \n",
            "  inflating: /content/data/images/val/IMG_0741_MP4-0015_jpg.rf.fd07bb2f146f3f0e4218b1cef67034d3.jpg  \n",
            "  inflating: /content/data/images/val/IMG_0741_MP4-0018_jpg.rf.323aea33e76084d898ed734a9efe73f0.jpg  \n",
            "  inflating: /content/data/images/val/IMG_0743_MP4-0010_jpg.rf.c942fd981a8f4e52a2ddf49669fd7c27.jpg  \n",
            "  inflating: /content/data/images/val/IMG_0743_MP4-0015_jpg.rf.e5b9a914cfede252bb2dfb7ed4414920.jpg  \n",
            "  inflating: /content/data/images/val/IMG_0744_MP4-0000_jpg.rf.49d042a6104ff41342fc3bfcd5cd16d2.jpg  \n",
            "  inflating: /content/data/images/val/IMG_0744_MP4-0007_jpg.rf.40bc47ce778fb8b811c94415a6803b3a.jpg  \n",
            "  inflating: /content/data/images/val/IMG_0744_MP4-0017_jpg.rf.410270fd604e7a6788c6c09f870b8b31.jpg  \n",
            "  inflating: /content/data/images/val/IMG_0745_MP4-0000_jpg.rf.3089c17e0fa1747cf47eb216609027e1.jpg  \n",
            "  inflating: /content/data/images/val/IMG_0745_MP4-0003_jpg.rf.96687812f0d568c2b888fb0727ccc3ce.jpg  \n",
            "  inflating: /content/data/images/val/IMG_0745_MP4-0006_jpg.rf.ffbefa4b25aedc7c26cec5989018e66e.jpg  \n",
            "  inflating: /content/data/images/val/IMG_0745_MP4-0007_jpg.rf.e300b2797f598ec05da02072e1b42b9c.jpg  \n",
            "  inflating: /content/data/images/val/IMG_0745_MP4-0013_jpg.rf.5a9f8d4054c799fc7b7572996e99f4e5.jpg  \n",
            "  inflating: /content/data/images/val/IMG_0748_MP4-0007_jpg.rf.a26d6ea5aa6564e6ce73847c9def6eb9.jpg  \n",
            "  inflating: /content/data/images/val/IMG_0748_MP4-0011_jpg.rf.261634ebcca333a34edfb38dc5288a70.jpg  \n",
            "  inflating: /content/data/images/val/IMG_0748_MP4-0012_jpg.rf.93b92f5dca6a2379dd46b3bdaecbbb60.jpg  \n",
            "  inflating: /content/data/images/val/IMG_0748_MP4-0018_jpg.rf.de5ea25f4e122e801a30870386d9cb4c.jpg  \n",
            "  inflating: /content/data/images/val/IMG_0755_MP4-0010_jpg.rf.72146cf680d8ed3f748470db31fdb10e.jpg  \n",
            "  inflating: /content/data/images/val/IMG_0755_MP4-0012_jpg.rf.281b7f8e4e79a8782f5a7aba58e913bf.jpg  \n",
            "  inflating: /content/data/images/val/IMG_0755_MP4-0014_jpg.rf.b5844ca3e7c8ccc1c3a7b79924928d1c.jpg  \n",
            "  inflating: /content/data/images/val/IMG_0755_MP4-0017_jpg.rf.f812d0455943d77bb23d15ffe4579335.jpg  \n",
            "  inflating: /content/data/images/val/IMG_0755_MP4-0025_jpg.rf.fc8d161c647d5e25f3c40f20e93882f0.jpg  \n",
            "  inflating: /content/data/images/val/IMG_0779_MP4-0002_jpg.rf.55f03c64d01550cb00ad68986bf060ff.jpg  \n",
            "  inflating: /content/data/images/val/IMG_0779_MP4-0008_jpg.rf.f10f9939324bf9bd2084339db2dc463f.jpg  \n",
            "  inflating: /content/data/images/val/IMG_0779_MP4-0011_jpg.rf.aa96e53dbcb4a408b327cf859e7c9b6d.jpg  \n",
            "  inflating: /content/data/images/val/IMG_0779_MP4-0012_jpg.rf.992274f8a161f2f24d1b2f3eeb7329bc.jpg  \n",
            "  inflating: /content/data/images/val/IMG_0782_MP4-0002_jpg.rf.2d7f7e48ba4cffa54973320c0bab230b.jpg  \n",
            "  inflating: /content/data/images/val/IMG_0782_MP4-0008_jpg.rf.76a091ef958f7f1151af128348761b6f.jpg  \n",
            "  inflating: /content/data/images/val/IMG_0782_MP4-0012_jpg.rf.357c859e482aaf8d1acb5d50f59db264.jpg  \n",
            "  inflating: /content/data/images/val/IMG_0782_MP4-0013_jpg.rf.258151387e32a72879ee0ab7fb3d6362.jpg  \n",
            "  inflating: /content/data/images/val/IMG_0782_MP4-0014_jpg.rf.cd1a81ce9de2301dfc3d4db70f69e7fa.jpg  \n",
            "  inflating: /content/data/images/val/IMG_0783_MP4-0008_jpg.rf.2ec1c88ebe59e4e44c0c982e205da1c9.jpg  \n",
            "  inflating: /content/data/images/val/IMG_0783_MP4-0011_jpg.rf.2bff3091bb94b4843c6990a717770b56.jpg  \n",
            "  inflating: /content/data/images/val/IMG_0783_MP4-0012_jpg.rf.9874469f1ce161b0e1a9335fc0a81b6c.jpg  \n",
            "  inflating: /content/data/images/val/IMG_0783_MP4-0015_jpg.rf.25cded210141704f9bac974832e3a9ec.jpg  \n",
            "  inflating: /content/data/images/val/IMG_0783_MP4-0019_jpg.rf.1a5d235911453f2b2a9888649f6f7ba2.jpg  \n",
            "  inflating: /content/data/images/val/IMG_0783_MP4-0023_jpg.rf.11194dbcdca0726788fd16cb0fe44d1f.jpg  \n",
            "  inflating: /content/data/images/val/IMG_0784_MP4-0001_jpg.rf.6b004dce855bc6600cf5c610d5628011.jpg  \n",
            "  inflating: /content/data/images/val/IMG_0784_MP4-0008_jpg.rf.ba50843957fe3cc07bf01e0fbad10a5c.jpg  \n",
            "  inflating: /content/data/images/val/IMG_0784_MP4-0009_jpg.rf.419c9e2deb81ec1a9f93f0a8874954aa.jpg  \n",
            "  inflating: /content/data/images/val/IMG_0784_MP4-0019_jpg.rf.ae6e44350e3a2acac9ba5d12a41eab98.jpg  \n",
            "  inflating: /content/data/images/val/IMG_0784_MP4-0021_jpg.rf.99a11d50b719a091a4e67e5b1302a014.jpg  \n",
            "  inflating: /content/data/images/val/IMG_0784_MP4-0022_jpg.rf.ee26bdea71654fd0a6fe6f5ef143fc67.jpg  \n",
            "  inflating: /content/data/images/val/IMG_0792_MP4-0005_jpg.rf.907d5b4d53a0e385889b33f64e64348d.jpg  \n",
            "  inflating: /content/data/images/val/IMG_0792_MP4-0009_jpg.rf.0ed66f94648353854674ef0359016e66.jpg  \n",
            "  inflating: /content/data/images/val/IMG_0792_MP4-0010_jpg.rf.cb1448a1b6d243cf453f86c54151859a.jpg  \n",
            "  inflating: /content/data/images/val/IMG_0792_MP4-0015_jpg.rf.3b9330982cef2e4ac764dac1c651687d.jpg  \n",
            "  inflating: /content/data/images/val/IMG_0792_MP4-0016_jpg.rf.714daf25bb90deca16365a39674f8caf.jpg  \n",
            "  inflating: /content/data/images/val/IMG_0792_MP4-0023_jpg.rf.fb1b2c44707f9188b7b74f383a6f3806.jpg  \n",
            "  inflating: /content/data/images/val/IMG_0793_MP4-0004_jpg.rf.a67a02857d28b4a8b21b9d9415987939.jpg  \n",
            "  inflating: /content/data/images/val/IMG_0793_MP4-0013_jpg.rf.af11eeae384ec957db3b7908845b20b0.jpg  \n",
            "  inflating: /content/data/images/val/IMG_0793_MP4-0021_jpg.rf.31e4cd5f5bade2c3b72512b0434845dd.jpg  \n",
            "  inflating: /content/data/images/val/IMG_0795_MP4-0001_jpg.rf.83a378b2c0740e34edb08ccb99048a3b.jpg  \n",
            "  inflating: /content/data/images/val/IMG_0795_MP4-0013_jpg.rf.461086d04fcdd782fa6ec5db91c07574.jpg  \n",
            "  inflating: /content/data/images/val/IMG_0797_MP4-0008_jpg.rf.476a4b55e38da8edb285d0e08b938e99.jpg  \n",
            "  inflating: /content/data/images/val/IMG_0797_MP4-0016_jpg.rf.2e26391fed6b4e08f15bbfa33920ee21.jpg  \n",
            "  inflating: /content/data/images/val/IMG_0797_MP4-0020_jpg.rf.48dc9a80ed915c58def15742ac3869a0.jpg  \n",
            "  inflating: /content/data/images/val/IMG_0797_MP4-0023_jpg.rf.1eaaf2f74ebd8bf3c7dc75d1253ca988.jpg  \n",
            "  inflating: /content/data/images/val/IMG_0799_MP4-0000_jpg.rf.8a47bd8049c65540243e869ae53b1c5f.jpg  \n",
            "  inflating: /content/data/images/val/IMG_0799_MP4-0001_jpg.rf.0b8ab0c66b934f3f888c7fb81b977dcc.jpg  \n",
            "  inflating: /content/data/images/val/IMG_0799_MP4-0005_jpg.rf.2686080cdc122d1d058376a815cbebea.jpg  \n",
            "  inflating: /content/data/images/val/IMG_0799_MP4-0010_jpg.rf.3ce9bc008309bd4db9694d71db5de07a.jpg  \n",
            "  inflating: /content/data/images/val/IMG_0800_MP4-0004_jpg.rf.92fb91ce76aa9f1f388911f05b71cbbe.jpg  \n",
            "  inflating: /content/data/images/val/IMG_0800_MP4-0010_jpg.rf.5002b7582be83181782ae075dbadb32d.jpg  \n",
            "  inflating: /content/data/images/val/IMG_0800_MP4-0012_jpg.rf.c22a44e3859af271fe2430aa8c98dfee.jpg  \n",
            "  inflating: /content/data/images/val/IMG_0803_MP4-0016_jpg.rf.9ece8ce4453198a6ea921b9ebfddd831.jpg  \n",
            "  inflating: /content/data/images/val/IMG_0805_MP4-0009_jpg.rf.5e47febac3f86652c8a2bd617ced3de2.jpg  \n",
            "  inflating: /content/data/images/val/IMG_0812_MP4-0001_jpg.rf.296b29f4a676cdbbaa700f2fff374c63.jpg  \n",
            "  inflating: /content/data/images/val/IMG_0812_MP4-0005_jpg.rf.6cd5ad547de05b7e1df1af89ebacc773.jpg  \n",
            "  inflating: /content/data/images/val/IMG_0812_MP4-0009_jpg.rf.90c1083f75cddd6fc7f7606a77640663.jpg  \n",
            "  inflating: /content/data/images/val/IMG_0812_MP4-0010_jpg.rf.9ae12dd0e874c789725de1202edd1901.jpg  \n",
            "  inflating: /content/data/images/val/IMG_0812_MP4-0014_jpg.rf.4361b7c641f33e337e36b25b8aa36646.jpg  \n",
            "  inflating: /content/data/images/val/IMG_0812_MP4-0017_jpg.rf.3dbfb39c6fd6ec15631eb5f9495c3e34.jpg  \n",
            "  inflating: /content/data/images/val/IMG_0813_MP4-0004_jpg.rf.ef17ed1cecbf531e079a21778715aec4.jpg  \n",
            "  inflating: /content/data/images/val/IMG_0813_MP4-0019_jpg.rf.fbefa43b5011bbd9c32f29f30796ffa3.jpg  \n",
            "  inflating: /content/data/images/val/IMG_0813_MP4-0023_jpg.rf.ebb1dea70c2d71975476804982a51351.jpg  \n",
            "  inflating: /content/data/images/val/IMG_0813_MP4-0024_jpg.rf.1c9c5823c16a94cb3fc911157f2d2b34.jpg  \n",
            "  inflating: /content/data/images/val/IMG_0815_MP4-0001_jpg.rf.f0875643912b19ca3dbe58522698edcb.jpg  \n",
            "  inflating: /content/data/images/val/IMG_0815_MP4-0006_jpg.rf.ef9fa99c4317e024ba2c142aa738aded.jpg  \n",
            "  inflating: /content/data/images/val/IMG_0815_MP4-0011_jpg.rf.e2116a3eb37e817bda847fbe636f5740.jpg  \n",
            "  inflating: /content/data/images/val/IMG_0815_MP4-0013_jpg.rf.87b2986c4c4dab14d33b601608c39c51.jpg  \n",
            "  inflating: /content/data/images/val/IMG_0818_MP4-0000_jpg.rf.c429fb13417179eba2ab98938b0f643c.jpg  \n",
            "  inflating: /content/data/images/val/IMG_0818_MP4-0003_jpg.rf.a0634d1500e8627304349eb69f2b941b.jpg  \n",
            "  inflating: /content/data/images/val/IMG_0818_MP4-0005_jpg.rf.b2ba2ad8bc61889448407fe917b09310.jpg  \n",
            "  inflating: /content/data/images/val/IMG_0818_MP4-0013_jpg.rf.e71f97bd07add2ad4990cae30414cd2c.jpg  \n",
            "  inflating: /content/data/images/val/IMG_0837_MP4-0001_jpg.rf.1385cf1cf8cf610c2479b7a0c9e113d1.jpg  \n",
            "  inflating: /content/data/images/val/IMG_0837_MP4-0009_jpg.rf.f396492be870a570e31a6d3b0a258ce8.jpg  \n",
            "  inflating: /content/data/images/val/IMG_0837_MP4-0013_jpg.rf.e6e8ed15c74b8056f3bfd8bc4be1bafa.jpg  \n",
            "  inflating: /content/data/images/val/IMG_0837_MP4-0014_jpg.rf.dd9912e09951e8ff89fd9770b168c806.jpg  \n",
            "   creating: /content/data/labels/\n",
            "   creating: /content/data/labels/train/\n",
            "  inflating: /content/data/labels/train/IMG_0705_MP4-0002_jpg.rf.1be84e17fb2f75ce328122733f4c419b.txt  \n",
            "  inflating: /content/data/labels/train/IMG_0705_MP4-0003_jpg.rf.0d96534eb18f89f9fe461921b4bcb7e5.txt  \n",
            "  inflating: /content/data/labels/train/IMG_0705_MP4-0004_jpg.rf.183d076a697988aa8e30bf5699ab5752.txt  \n",
            "  inflating: /content/data/labels/train/IMG_0705_MP4-0005_jpg.rf.e8d4584351faa29007a349f4b1c7b28c.txt  \n",
            "  inflating: /content/data/labels/train/IMG_0705_MP4-0007_jpg.rf.5d7e15ae3ac07755ff00e6866a361d34.txt  \n",
            "  inflating: /content/data/labels/train/IMG_0705_MP4-0008_jpg.rf.d322d146786d6cbac9676e222e8cdbd9.txt  \n",
            "  inflating: /content/data/labels/train/IMG_0705_MP4-0009_jpg.rf.b413161ac823bce2aed40ad5b2745b6a.txt  \n",
            "  inflating: /content/data/labels/train/IMG_0705_MP4-0011_jpg.rf.6f973008f2bf079d1821cc029abf46ca.txt  \n",
            "  inflating: /content/data/labels/train/IMG_0705_MP4-0012_jpg.rf.de639171e86c77c008e05e07449a6673.txt  \n",
            "  inflating: /content/data/labels/train/IMG_0705_MP4-0013_jpg.rf.9abad121b3cf97d14ce5fde98299bae6.txt  \n",
            "  inflating: /content/data/labels/train/IMG_0705_MP4-0017_jpg.rf.15ea07b2626ef26d30135c57802ebdbd.txt  \n",
            "  inflating: /content/data/labels/train/IMG_0705_MP4-0018_jpg.rf.a290832759caca019c709361778de98f.txt  \n",
            "  inflating: /content/data/labels/train/IMG_0729_MP4-0000_jpg.rf.289eecf252ce3d790e1784302678ab88.txt  \n",
            "  inflating: /content/data/labels/train/IMG_0729_MP4-0001_jpg.rf.6aa5a599d9996801fbe957bd4731612b.txt  \n",
            "  inflating: /content/data/labels/train/IMG_0729_MP4-0004_jpg.rf.6abe496132f44d7ec0e0c8b787b6f91e.txt  \n",
            "  inflating: /content/data/labels/train/IMG_0729_MP4-0005_jpg.rf.56a61413691162755aa2be6192ae0698.txt  \n",
            "  inflating: /content/data/labels/train/IMG_0729_MP4-0006_jpg.rf.16d2f635a65a1cbb7c85b91a40d5bd54.txt  \n",
            "  inflating: /content/data/labels/train/IMG_0729_MP4-0007_jpg.rf.6c64f8366413ed82bb078639e9c2ea9a.txt  \n",
            "  inflating: /content/data/labels/train/IMG_0729_MP4-0008_jpg.rf.90d6821079c3a8d57de25212b203fe98.txt  \n",
            "  inflating: /content/data/labels/train/IMG_0729_MP4-0009_jpg.rf.0d2d5801a4054a9a360a55e39930f329.txt  \n",
            "  inflating: /content/data/labels/train/IMG_0729_MP4-0010_jpg.rf.c09f5fbfd031665a84c2f735e591759a.txt  \n",
            "  inflating: /content/data/labels/train/IMG_0729_MP4-0011_jpg.rf.f9dc1f987f0fa22e2627c309011c1382.txt  \n",
            "  inflating: /content/data/labels/train/IMG_0729_MP4-0012_jpg.rf.5547eba5c02b71f8cce370842af6ab19.txt  \n",
            "  inflating: /content/data/labels/train/IMG_0729_MP4-0013_jpg.rf.653ff4b63cf479ca9e28abdfc27290a9.txt  \n",
            "  inflating: /content/data/labels/train/IMG_0729_MP4-0014_jpg.rf.3d585ebea5a749766c6e450834496573.txt  \n",
            "  inflating: /content/data/labels/train/IMG_0729_MP4-0016_jpg.rf.0a87c75fbfb32bf52da84105bcf8c502.txt  \n",
            "  inflating: /content/data/labels/train/IMG_0729_MP4-0018_jpg.rf.f09ee1863be0cc4bf169d181f7f41630.txt  \n",
            "  inflating: /content/data/labels/train/IMG_0729_MP4-0019_jpg.rf.32420f64771458719e68a718dd522b96.txt  \n",
            "  inflating: /content/data/labels/train/IMG_0729_MP4-0020_jpg.rf.379e8631db206e3b115a67029359c376.txt  \n",
            "  inflating: /content/data/labels/train/IMG_0729_MP4-0022_jpg.rf.dc15bde6248261205743a8fbdd0153d9.txt  \n",
            "  inflating: /content/data/labels/train/IMG_0729_MP4-0023_jpg.rf.856061bd2bce9b0e96785e2973fd2c86.txt  \n",
            "  inflating: /content/data/labels/train/IMG_0729_MP4-0024_jpg.rf.6687a2f964a340e8c660daf01b647072.txt  \n",
            "  inflating: /content/data/labels/train/IMG_0729_MP4-0025_jpg.rf.3ebfd527f09206f0418165880e3b495d.txt  \n",
            "  inflating: /content/data/labels/train/IMG_0729_MP4-0026_jpg.rf.641bb616bb9efd6692647c6080505b74.txt  \n",
            "  inflating: /content/data/labels/train/IMG_0736_MP4-0003_jpg.rf.3e3e5c310e93586c02abf28f50ddb355.txt  \n",
            "  inflating: /content/data/labels/train/IMG_0736_MP4-0005_jpg.rf.9d8bf47ee8f71688275eff003e1b8ff1.txt  \n",
            "  inflating: /content/data/labels/train/IMG_0736_MP4-0006_jpg.rf.76451c671d2ac465113dab6c72a43af1.txt  \n",
            "  inflating: /content/data/labels/train/IMG_0736_MP4-0009_jpg.rf.221a306ba6fd16b91b668751ce992587.txt  \n",
            "  inflating: /content/data/labels/train/IMG_0736_MP4-0010_jpg.rf.2df0b911cefa6f40bf970126177fa173.txt  \n",
            "  inflating: /content/data/labels/train/IMG_0736_MP4-0013_jpg.rf.aa83d9d6ce66c5639e92e5acc949b4e7.txt  \n",
            "  inflating: /content/data/labels/train/IMG_0736_MP4-0014_jpg.rf.0f3b49578a168dad2bfd1f8122d082c6.txt  \n",
            "  inflating: /content/data/labels/train/IMG_0736_MP4-0018_jpg.rf.910c462b091e74bc2a5ba3bec3c94529.txt  \n",
            "  inflating: /content/data/labels/train/IMG_0736_MP4-0019_jpg.rf.32e8fcf80348ee27e6897c01baa77045.txt  \n",
            "  inflating: /content/data/labels/train/IMG_0736_MP4-0021_jpg.rf.66c6f7ded646978c18672625e4fbc13b.txt  \n",
            "  inflating: /content/data/labels/train/IMG_0736_MP4-0022_jpg.rf.b97d84d39c1732435867c05fc9d0721b.txt  \n",
            "  inflating: /content/data/labels/train/IMG_0736_MP4-0023_jpg.rf.f2403c73f90f3352464e92ff4ab66a05.txt  \n",
            "  inflating: /content/data/labels/train/IMG_0737_MP4-0000_jpg.rf.d2576af0b6c2e8990582dd5f992a262f.txt  \n",
            "  inflating: /content/data/labels/train/IMG_0737_MP4-0001_jpg.rf.ce7b18a1bf53c5793d6a0e0d33311308.txt  \n",
            "  inflating: /content/data/labels/train/IMG_0737_MP4-0002_jpg.rf.e75c2a20fac737d4ea56cab0b317bc86.txt  \n",
            "  inflating: /content/data/labels/train/IMG_0737_MP4-0003_jpg.rf.6ee7165605ccace0bb81b8b8d8948d33.txt  \n",
            "  inflating: /content/data/labels/train/IMG_0737_MP4-0007_jpg.rf.13bea9a9bd22959231658c2aa15ca3fb.txt  \n",
            "  inflating: /content/data/labels/train/IMG_0737_MP4-0008_jpg.rf.ed9a2407624d2ab1246521d88ae96b21.txt  \n",
            "  inflating: /content/data/labels/train/IMG_0737_MP4-0011_jpg.rf.0c4015d88a008d0a0a4d8a4fc3847c0c.txt  \n",
            "  inflating: /content/data/labels/train/IMG_0737_MP4-0012_jpg.rf.9661d712d4f48c98c4d35c7140f34dd6.txt  \n",
            "  inflating: /content/data/labels/train/IMG_0737_MP4-0014_jpg.rf.b5ba52b1f025311f2f5dbec32f9ab5c1.txt  \n",
            "  inflating: /content/data/labels/train/IMG_0737_MP4-0015_jpg.rf.9d994bb1bf564bd8c1390e88fd39f773.txt  \n",
            "  inflating: /content/data/labels/train/IMG_0737_MP4-0018_jpg.rf.2ce6d5829e3e116e5afa3f7dab8918cd.txt  \n",
            "  inflating: /content/data/labels/train/IMG_0737_MP4-0019_jpg.rf.89c8504c09b264a0e8350f50dbc238f2.txt  \n",
            "  inflating: /content/data/labels/train/IMG_0737_MP4-0023_jpg.rf.5362f897efc5e7109c14558f0e39e7d4.txt  \n",
            "  inflating: /content/data/labels/train/IMG_0739_JPG_jpg.rf.07dbbd60198c624ff05cabdac308207c.txt  \n",
            "  inflating: /content/data/labels/train/IMG_0741_MP4-0000_jpg.rf.1df3fd4bd69191ecab9e406aadc97cbf.txt  \n",
            "  inflating: /content/data/labels/train/IMG_0741_MP4-0001_jpg.rf.5884844a37034c26be5f551b47eba487.txt  \n",
            "  inflating: /content/data/labels/train/IMG_0741_MP4-0004_jpg.rf.45ee9a56c665b44e04530927c68ad9e9.txt  \n",
            "  inflating: /content/data/labels/train/IMG_0741_MP4-0008_jpg.rf.b67241d55ab4074ba6911aa5fe71a00e.txt  \n",
            "  inflating: /content/data/labels/train/IMG_0741_MP4-0009_jpg.rf.fff0a8b74e526c4978cbdb0dc31a63ee.txt  \n",
            "  inflating: /content/data/labels/train/IMG_0741_MP4-0013_jpg.rf.df038bf05dad976b059238fdc7e11ecb.txt  \n",
            "  inflating: /content/data/labels/train/IMG_0741_MP4-0017_jpg.rf.7456277eb418ea69fa4423e42792f42d.txt  \n",
            "  inflating: /content/data/labels/train/IMG_0741_MP4-0021_jpg.rf.e636507fa1354caf32ec1a8a8e017f32.txt  \n",
            "  inflating: /content/data/labels/train/IMG_0741_MP4-0022_jpg.rf.bd4d0feb924ce4ae1bb92b1f82920b99.txt  \n",
            "  inflating: /content/data/labels/train/IMG_0741_MP4-0023_jpg.rf.b149c41e22ee0ec1aaeb396e0d2cc4fc.txt  \n",
            "  inflating: /content/data/labels/train/IMG_0741_MP4-0024_jpg.rf.6e0d32cba4238c2d7f86af6b17874900.txt  \n",
            "  inflating: /content/data/labels/train/IMG_0741_MP4-0026_jpg.rf.5ef92b7ccab971a6a23eab6c4fa7c1d9.txt  \n",
            "  inflating: /content/data/labels/train/IMG_0743_MP4-0000_jpg.rf.11dbfe2f70e0935a70bef6f74084221f.txt  \n",
            "  inflating: /content/data/labels/train/IMG_0743_MP4-0002_jpg.rf.358b752ecb9a3af4d766ae9fd01e8134.txt  \n",
            "  inflating: /content/data/labels/train/IMG_0743_MP4-0003_jpg.rf.97b0c67178823aec4b10f265c335eb42.txt  \n",
            "  inflating: /content/data/labels/train/IMG_0743_MP4-0004_jpg.rf.191611f711844c56d8944c0df10e337c.txt  \n",
            "  inflating: /content/data/labels/train/IMG_0743_MP4-0005_jpg.rf.6f001b28c8a9afaaf9a47b4b112751a6.txt  \n",
            "  inflating: /content/data/labels/train/IMG_0743_MP4-0007_jpg.rf.6df6ee6fce1b6b15f9d58f07399c91bc.txt  \n",
            "  inflating: /content/data/labels/train/IMG_0743_MP4-0009_jpg.rf.e159f18500826ca82d49f46b5456b5c8.txt  \n",
            "  inflating: /content/data/labels/train/IMG_0743_MP4-0011_jpg.rf.a7186f46ab3bebc743cf18bceb58e662.txt  \n",
            "  inflating: /content/data/labels/train/IMG_0743_MP4-0012_jpg.rf.6c18fbe9d1a7d8fae78c7b33623528af.txt  \n",
            "  inflating: /content/data/labels/train/IMG_0743_MP4-0013_jpg.rf.d4153f8edcef6b71c80674f0c6dd526e.txt  \n",
            "  inflating: /content/data/labels/train/IMG_0743_MP4-0014_jpg.rf.6c71892d36380176d7073773027c8e3d.txt  \n",
            "  inflating: /content/data/labels/train/IMG_0743_MP4-0016_jpg.rf.32543e6abdc3f9bb83e9b869520553b8.txt  \n",
            "  inflating: /content/data/labels/train/IMG_0743_MP4-0017_jpg.rf.f5469a8a8f49f0a83bb92e058fd9068e.txt  \n",
            "  inflating: /content/data/labels/train/IMG_0744_MP4-0001_jpg.rf.0c318403f0be0ec5f3f1fcfe81727e62.txt  \n",
            "  inflating: /content/data/labels/train/IMG_0744_MP4-0002_jpg.rf.dece491e81eb28e94dee6cda0550ca35.txt  \n",
            "  inflating: /content/data/labels/train/IMG_0744_MP4-0003_jpg.rf.348b7e6e0b9613a930df63768e47d0ed.txt  \n",
            "  inflating: /content/data/labels/train/IMG_0744_MP4-0004_jpg.rf.a527b90f3e6a915b1be675ccd39b2245.txt  \n",
            "  inflating: /content/data/labels/train/IMG_0744_MP4-0005_jpg.rf.084c25dd25deb9bdc1a9e85c5ada2bde.txt  \n",
            "  inflating: /content/data/labels/train/IMG_0744_MP4-0006_jpg.rf.93c29af1bc5beca7fc3c719f4afcc404.txt  \n",
            "  inflating: /content/data/labels/train/IMG_0744_MP4-0008_jpg.rf.23f4fec9ccfeb791e3a21c9205d41b75.txt  \n",
            "  inflating: /content/data/labels/train/IMG_0744_MP4-0009_jpg.rf.1d67a1b2c74b129eef8316750a616f01.txt  \n",
            "  inflating: /content/data/labels/train/IMG_0744_MP4-0010_jpg.rf.b56a83e4a5c1e5b60c5403346060f3b3.txt  \n",
            "  inflating: /content/data/labels/train/IMG_0744_MP4-0011_jpg.rf.fd41508135aa514e9c72f201c9c5836d.txt  \n",
            "  inflating: /content/data/labels/train/IMG_0744_MP4-0012_jpg.rf.4d0fad236a4fe3a457eb637911b724d4.txt  \n",
            "  inflating: /content/data/labels/train/IMG_0744_MP4-0013_jpg.rf.550fc7abb05fed80af407c8a7a89af85.txt  \n",
            "  inflating: /content/data/labels/train/IMG_0744_MP4-0014_jpg.rf.23e78684f578a82a51c556cad565e4b0.txt  \n",
            "  inflating: /content/data/labels/train/IMG_0744_MP4-0015_jpg.rf.b4739299c21f0f5499da11e883ddc402.txt  \n",
            "  inflating: /content/data/labels/train/IMG_0744_MP4-0016_jpg.rf.828d26d75d2140cadf7f0e638f66acdf.txt  \n",
            " extracting: /content/data/labels/train/IMG_0745_MP4-0001_jpg.rf.ba817815cab805b9828f1ac3a70bb550.txt  \n",
            " extracting: /content/data/labels/train/IMG_0745_MP4-0002_jpg.rf.b1bdf4c9b7586c795a90dd3ecb2acf85.txt  \n",
            "  inflating: /content/data/labels/train/IMG_0745_MP4-0004_jpg.rf.50beafe9f8cecb1c48b3a7393cd9abb4.txt  \n",
            "  inflating: /content/data/labels/train/IMG_0745_MP4-0005_jpg.rf.442ac1702e3e225e7b44f831a1ca4d0d.txt  \n",
            "  inflating: /content/data/labels/train/IMG_0745_MP4-0008_jpg.rf.5adde288663a39d78aa5aeb85a65653a.txt  \n",
            "  inflating: /content/data/labels/train/IMG_0745_MP4-0009_jpg.rf.375fc16a23bbeb0be65adb7c95cad9fd.txt  \n",
            "  inflating: /content/data/labels/train/IMG_0745_MP4-0010_jpg.rf.decdfa3a723f52d97185f43d8200d0d5.txt  \n",
            "  inflating: /content/data/labels/train/IMG_0745_MP4-0012_jpg.rf.0d6d5986454582c2f85c7be49f7d58fd.txt  \n",
            "  inflating: /content/data/labels/train/IMG_0745_MP4-0016_jpg.rf.4d9266f011aaba488918315a9a0714a7.txt  \n",
            "  inflating: /content/data/labels/train/IMG_0748_MP4-0001_jpg.rf.5e23c83490ee53b5fd11238a316f0f6b.txt  \n",
            "  inflating: /content/data/labels/train/IMG_0748_MP4-0002_jpg.rf.a7c1aaf0244bf39e928c6f4afb01338d.txt  \n",
            "  inflating: /content/data/labels/train/IMG_0748_MP4-0003_jpg.rf.bf3ec82df031ad91dfd8cd0e7f778057.txt  \n",
            "  inflating: /content/data/labels/train/IMG_0748_MP4-0004_jpg.rf.f8aef7b0cbda6b5c60a6e038fa3822bf.txt  \n",
            "  inflating: /content/data/labels/train/IMG_0748_MP4-0005_jpg.rf.8a18abc8c6548896e8dfa3cc63fdf5c0.txt  \n",
            "  inflating: /content/data/labels/train/IMG_0748_MP4-0008_jpg.rf.fb7ffe99987a35f8837961aab316c773.txt  \n",
            "  inflating: /content/data/labels/train/IMG_0748_MP4-0010_jpg.rf.8eda131ee2890708318f32f133ea184b.txt  \n",
            "  inflating: /content/data/labels/train/IMG_0748_MP4-0016_jpg.rf.20ce91b74536aeef6908a8966ea5b4d0.txt  \n",
            "  inflating: /content/data/labels/train/IMG_0748_MP4-0017_jpg.rf.09fe10a07ca04342944903d511e79df2.txt  \n",
            " extracting: /content/data/labels/train/IMG_0755_MP4-0001_jpg.rf.619403489b0665b0d28db3ae32a453c3.txt  \n",
            " extracting: /content/data/labels/train/IMG_0755_MP4-0002_jpg.rf.2d7a2b33bfabff312c1b647451132c0c.txt  \n",
            "  inflating: /content/data/labels/train/IMG_0755_MP4-0005_jpg.rf.ebf0d7d8944036527a420093465245cc.txt  \n",
            "  inflating: /content/data/labels/train/IMG_0755_MP4-0006_jpg.rf.bbec32a552acb8b0d3c766fff40dc51e.txt  \n",
            "  inflating: /content/data/labels/train/IMG_0755_MP4-0013_jpg.rf.b12e43f6907a4f1d70e5a51069ac1005.txt  \n",
            "  inflating: /content/data/labels/train/IMG_0755_MP4-0018_jpg.rf.ba53e3371d66793543e0cf9086679982.txt  \n",
            "  inflating: /content/data/labels/train/IMG_0755_MP4-0019_jpg.rf.307e289c66bd033ba40a7b29b09b6ca0.txt  \n",
            "  inflating: /content/data/labels/train/IMG_0755_MP4-0022_jpg.rf.d4daddaa07ea06fc41c167a9a2c40899.txt  \n",
            "  inflating: /content/data/labels/train/IMG_0755_MP4-0026_jpg.rf.68335c3850f6f908a7e7beed58230895.txt  \n",
            "  inflating: /content/data/labels/train/IMG_0779_MP4-0000_jpg.rf.d8de8f93569eab1b3107b191c9f6a6bf.txt  \n",
            "  inflating: /content/data/labels/train/IMG_0779_MP4-0001_jpg.rf.1e28d636e9a81e14cf58708f223ee7f9.txt  \n",
            "  inflating: /content/data/labels/train/IMG_0779_MP4-0003_jpg.rf.e47d37327cbb146ef4cf57d903481b65.txt  \n",
            "  inflating: /content/data/labels/train/IMG_0779_MP4-0004_jpg.rf.30e9c46cac6c160c64bc2829a16f2f6e.txt  \n",
            "  inflating: /content/data/labels/train/IMG_0779_MP4-0005_jpg.rf.3a16a9d915c427755db7b059a75a08a9.txt  \n",
            "  inflating: /content/data/labels/train/IMG_0779_MP4-0006_jpg.rf.a10b3a966c7d086bc457d9fdc6a701b0.txt  \n",
            "  inflating: /content/data/labels/train/IMG_0779_MP4-0007_jpg.rf.3d673f704eb31630d2db86a6b6e1fc86.txt  \n",
            "  inflating: /content/data/labels/train/IMG_0779_MP4-0009_jpg.rf.f26e3d5782b0aa20cfd4706cc05beb9f.txt  \n",
            "  inflating: /content/data/labels/train/IMG_0779_MP4-0010_jpg.rf.ec6d7ad1ee787c14fc46393585a3c8f6.txt  \n",
            "  inflating: /content/data/labels/train/IMG_0779_MP4-0013_jpg.rf.89615b828b7eb18f5dbca468705b4dd2.txt  \n",
            "  inflating: /content/data/labels/train/IMG_0779_MP4-0014_jpg.rf.7188496d36f5e7052fcc1e76f1740c97.txt  \n",
            "  inflating: /content/data/labels/train/IMG_0782_MP4-0000_jpg.rf.a0a2add40ac76bd87bd507d00ed6738d.txt  \n",
            "  inflating: /content/data/labels/train/IMG_0782_MP4-0001_jpg.rf.65df8b094344bfdbe63cb746c06fd082.txt  \n",
            "  inflating: /content/data/labels/train/IMG_0782_MP4-0003_jpg.rf.ec3abf49ebfa596009b6287c01a6f393.txt  \n",
            "  inflating: /content/data/labels/train/IMG_0782_MP4-0004_jpg.rf.7fc54d0d4e1a106229b35543901dfeff.txt  \n",
            "  inflating: /content/data/labels/train/IMG_0782_MP4-0005_jpg.rf.761dc2c381127d0c2316e97f74e6a3bf.txt  \n",
            "  inflating: /content/data/labels/train/IMG_0782_MP4-0006_jpg.rf.345f6747dbb16a26c674fd7af32ef47e.txt  \n",
            "  inflating: /content/data/labels/train/IMG_0782_MP4-0007_jpg.rf.9de58e9cba7974ef00f69c1d6c132b59.txt  \n",
            "  inflating: /content/data/labels/train/IMG_0782_MP4-0010_jpg.rf.d69d1c4f7d68d0c9ab67761b17e90afd.txt  \n",
            "  inflating: /content/data/labels/train/IMG_0782_MP4-0011_jpg.rf.1a00a9767598e6d49de18a5e94db9e25.txt  \n",
            "  inflating: /content/data/labels/train/IMG_0782_MP4-0016_jpg.rf.dc9637f00a50d1f0a5398b8de41da901.txt  \n",
            "  inflating: /content/data/labels/train/IMG_0783_MP4-0001_jpg.rf.6264bc54138d0931528a29f57e3343bc.txt  \n",
            "  inflating: /content/data/labels/train/IMG_0783_MP4-0002_jpg.rf.0a1080f3fb7c547c7d5b46961ce2e385.txt  \n",
            "  inflating: /content/data/labels/train/IMG_0783_MP4-0003_jpg.rf.9b8518d4c0d8da0a06abccb116f8353e.txt  \n",
            "  inflating: /content/data/labels/train/IMG_0783_MP4-0005_jpg.rf.923d68da30cdc569358d91592afb2aa5.txt  \n",
            "  inflating: /content/data/labels/train/IMG_0783_MP4-0006_jpg.rf.ca132927a95eda92407c2460fb667ff3.txt  \n",
            "  inflating: /content/data/labels/train/IMG_0783_MP4-0007_jpg.rf.934d1ed4c344308378dc1744f4de9c73.txt  \n",
            "  inflating: /content/data/labels/train/IMG_0783_MP4-0014_jpg.rf.6ca93be567b08bd681def8666eab85b9.txt  \n",
            "  inflating: /content/data/labels/train/IMG_0783_MP4-0016_jpg.rf.e5e11e2549e4fc1922818d1f6ecd68a0.txt  \n",
            "  inflating: /content/data/labels/train/IMG_0783_MP4-0017_jpg.rf.9414f56243bbf0f04342a4b22d91c708.txt  \n",
            "  inflating: /content/data/labels/train/IMG_0783_MP4-0018_jpg.rf.a9bb40c8f4e772d6d4b7b93a532743bc.txt  \n",
            "  inflating: /content/data/labels/train/IMG_0783_MP4-0020_jpg.rf.61cd167983b24c6a09c701de464888f6.txt  \n",
            "  inflating: /content/data/labels/train/IMG_0783_MP4-0024_jpg.rf.6dab8ad43684042dd8e8f0666fc127e8.txt  \n",
            "  inflating: /content/data/labels/train/IMG_0783_MP4-0025_jpg.rf.af1c5631bfccfde3483b35844410a9b6.txt  \n",
            "  inflating: /content/data/labels/train/IMG_0784_MP4-0000_jpg.rf.f4d588d610d140dd9479616c8a9a66fc.txt  \n",
            "  inflating: /content/data/labels/train/IMG_0784_MP4-0002_jpg.rf.e7923021a30cd25984f17ba7ed9c1cf4.txt  \n",
            "  inflating: /content/data/labels/train/IMG_0784_MP4-0003_jpg.rf.9256a6d222c929c685ce889127fe0a3f.txt  \n",
            "  inflating: /content/data/labels/train/IMG_0784_MP4-0004_jpg.rf.0023b4266e2be8db95e73189b31f7d5c.txt  \n",
            "  inflating: /content/data/labels/train/IMG_0784_MP4-0005_jpg.rf.08e8605185fe1854d01e8ee0f6646e05.txt  \n",
            "  inflating: /content/data/labels/train/IMG_0784_MP4-0006_jpg.rf.ab08e969519dd6ef9bcf5634ef3468e8.txt  \n",
            "  inflating: /content/data/labels/train/IMG_0784_MP4-0007_jpg.rf.2e7cb9bc6da93c7fbe80c25c4572ff94.txt  \n",
            "  inflating: /content/data/labels/train/IMG_0784_MP4-0010_jpg.rf.8253154b7aeddd13e60e1b5fea09bbc4.txt  \n",
            "  inflating: /content/data/labels/train/IMG_0784_MP4-0011_jpg.rf.241c5ae29af278ba99648bda38ca3ad7.txt  \n",
            "  inflating: /content/data/labels/train/IMG_0784_MP4-0012_jpg.rf.3f6640cee65eb49708a10cfbb513ffdb.txt  \n",
            "  inflating: /content/data/labels/train/IMG_0784_MP4-0013_jpg.rf.ac9f4f388261983a468b3d824d0e8911.txt  \n",
            "  inflating: /content/data/labels/train/IMG_0784_MP4-0015_jpg.rf.50effa8c4ba0b2a452810c8fb586455d.txt  \n",
            "  inflating: /content/data/labels/train/IMG_0784_MP4-0016_jpg.rf.8b4440c12ed78ee0489836d71a0254b4.txt  \n",
            "  inflating: /content/data/labels/train/IMG_0784_MP4-0017_jpg.rf.3f56711f59962e496ceb820621b5eb8e.txt  \n",
            "  inflating: /content/data/labels/train/IMG_0784_MP4-0020_jpg.rf.4ef8b3fcf21f96bedd99ed4928cda3e8.txt  \n",
            "  inflating: /content/data/labels/train/IMG_0785_MP4-0000_jpg.rf.abf6100cd48d37c1ab3f8f568f041bc3.txt  \n",
            "  inflating: /content/data/labels/train/IMG_0785_MP4-0002_jpg.rf.b208b59f03024f1f50014dc1acee25cd.txt  \n",
            "  inflating: /content/data/labels/train/IMG_0788_MP4-0010_jpg.rf.a7983c28bf2e80d3f325dc47ba7338de.txt  \n",
            "  inflating: /content/data/labels/train/IMG_0788_MP4-0011_jpg.rf.f5cfc2fe3ef859df522fee1c06aa26af.txt  \n",
            "  inflating: /content/data/labels/train/IMG_0788_MP4-0012_jpg.rf.e66ffa0bd5cbfc7e2596858a2d634284.txt  \n",
            "  inflating: /content/data/labels/train/IMG_0788_MP4-0013_jpg.rf.061e605cb6bda8c93c1fef210d9d81db.txt  \n",
            "  inflating: /content/data/labels/train/IMG_0788_MP4-0014_jpg.rf.0336e15b05e9322c14023062765ffd61.txt  \n",
            "  inflating: /content/data/labels/train/IMG_0789_MP4-0000_jpg.rf.d3c7c1762782a7ab81d222ccaa725b3b.txt  \n",
            "  inflating: /content/data/labels/train/IMG_0789_MP4-0001_jpg.rf.9eadc0d9982d357810ff84f0791b1c05.txt  \n",
            "  inflating: /content/data/labels/train/IMG_0789_MP4-0002_jpg.rf.df3c7be2fe544b80102644f929c3bbe0.txt  \n",
            "  inflating: /content/data/labels/train/IMG_0789_MP4-0003_jpg.rf.254da5fbfd90bce3c3827316e871a4ed.txt  \n",
            "  inflating: /content/data/labels/train/IMG_0789_MP4-0004_jpg.rf.d75b93715ae7adce886c6d9059eb07ee.txt  \n",
            "  inflating: /content/data/labels/train/IMG_0789_MP4-0005_jpg.rf.591cbab01408048ee285922086d7189b.txt  \n",
            "  inflating: /content/data/labels/train/IMG_0789_MP4-0006_jpg.rf.ddcf184a380671175eb3b7a6a5577ac6.txt  \n",
            "  inflating: /content/data/labels/train/IMG_0789_MP4-0007_jpg.rf.5308a4217322e5e3e581837d288f5fba.txt  \n",
            "  inflating: /content/data/labels/train/IMG_0789_MP4-0008_jpg.rf.cb745d8f1fff977c3d5aabb0b1c66a0d.txt  \n",
            "  inflating: /content/data/labels/train/IMG_0789_MP4-0009_jpg.rf.a15b5acae9d4d89c685546290e13c4b9.txt  \n",
            "  inflating: /content/data/labels/train/IMG_0789_MP4-0010_jpg.rf.53a1cf97d20e349acd1d0aca1315420c.txt  \n",
            "  inflating: /content/data/labels/train/IMG_0789_MP4-0011_jpg.rf.66a5c0bc41f0d2215968b518d1369602.txt  \n",
            "  inflating: /content/data/labels/train/IMG_0789_MP4-0013_jpg.rf.f5acdbbdd684a674f7ec2675372f9216.txt  \n",
            "  inflating: /content/data/labels/train/IMG_0789_MP4-0014_jpg.rf.7a97e1e80680fa3bb04fe78edbd17ec0.txt  \n",
            "  inflating: /content/data/labels/train/IMG_0789_MP4-0015_jpg.rf.0efe016a338479c7f7d5ccf8e16307dc.txt  \n",
            "  inflating: /content/data/labels/train/IMG_0792_MP4-0000_jpg.rf.97461a785cc95e96232e60a950e0b8a5.txt  \n",
            "  inflating: /content/data/labels/train/IMG_0792_MP4-0002_jpg.rf.b3d3af93c72ee2f094747abb75f7e48d.txt  \n",
            "  inflating: /content/data/labels/train/IMG_0792_MP4-0003_jpg.rf.bff162295ef583ba666b5fa05319291b.txt  \n",
            "  inflating: /content/data/labels/train/IMG_0792_MP4-0004_jpg.rf.0e7b66336fd089c173a453be4313ced8.txt  \n",
            "  inflating: /content/data/labels/train/IMG_0792_MP4-0006_jpg.rf.c915e466d26d67a8b06f975829a1ba35.txt  \n",
            "  inflating: /content/data/labels/train/IMG_0792_MP4-0007_jpg.rf.22ebecfc8f26af4aa0d38d0cd01e7224.txt  \n",
            "  inflating: /content/data/labels/train/IMG_0792_MP4-0008_jpg.rf.9d96cdaa7249dd581b5356c84ff1ac27.txt  \n",
            "  inflating: /content/data/labels/train/IMG_0792_MP4-0011_jpg.rf.95c461cc0785c839fef1f430cf690f02.txt  \n",
            "  inflating: /content/data/labels/train/IMG_0792_MP4-0013_jpg.rf.1e26439b585e4a629f57752a6be6f2c5.txt  \n",
            "  inflating: /content/data/labels/train/IMG_0792_MP4-0017_jpg.rf.4d27ffc2dcf8b810502cd46457b52522.txt  \n",
            "  inflating: /content/data/labels/train/IMG_0792_MP4-0018_jpg.rf.3e2b23df6acd057d32a81090f4264b8c.txt  \n",
            "  inflating: /content/data/labels/train/IMG_0792_MP4-0019_jpg.rf.ba6b66cb52d966ad90d04cf013b0fc11.txt  \n",
            "  inflating: /content/data/labels/train/IMG_0792_MP4-0021_jpg.rf.0f86cad6f73d66a57e24918075605299.txt  \n",
            "  inflating: /content/data/labels/train/IMG_0792_MP4-0022_jpg.rf.c95549d5788a581ad4198a3a5dbdb624.txt  \n",
            "  inflating: /content/data/labels/train/IMG_0793_MP4-0000_jpg.rf.e888041f40dacc8b4eab4ea60d2f1c3c.txt  \n",
            "  inflating: /content/data/labels/train/IMG_0793_MP4-0001_jpg.rf.834733f277e30c624a4c1c36f55076a9.txt  \n",
            "  inflating: /content/data/labels/train/IMG_0793_MP4-0002_jpg.rf.7eec11823306ab8dfdbad3c47aac0986.txt  \n",
            "  inflating: /content/data/labels/train/IMG_0793_MP4-0003_jpg.rf.8d61fc46c03cb87e6ac33ce5c77d5c1a.txt  \n",
            "  inflating: /content/data/labels/train/IMG_0793_MP4-0005_jpg.rf.63f60d2d5806a456b260b21858e44ca0.txt  \n",
            "  inflating: /content/data/labels/train/IMG_0793_MP4-0007_jpg.rf.488ba612ee720b98748d4b5d0adf2626.txt  \n",
            "  inflating: /content/data/labels/train/IMG_0793_MP4-0009_jpg.rf.2fc80338c083ea8db552ab9796ace605.txt  \n",
            "  inflating: /content/data/labels/train/IMG_0793_MP4-0010_jpg.rf.06aeffbd08f459a9b7a0f12e19cdfc61.txt  \n",
            "  inflating: /content/data/labels/train/IMG_0793_MP4-0011_jpg.rf.72c2a785e524f95624280abe97d87add.txt  \n",
            "  inflating: /content/data/labels/train/IMG_0793_MP4-0012_jpg.rf.34bd58da8df8f643021f8b5a03375e0e.txt  \n",
            "  inflating: /content/data/labels/train/IMG_0793_MP4-0015_jpg.rf.0536cc3573ce4629d91277394159b040.txt  \n",
            "  inflating: /content/data/labels/train/IMG_0793_MP4-0016_jpg.rf.d69ea51daa93eeb0b5a387ffb35778a1.txt  \n",
            "  inflating: /content/data/labels/train/IMG_0793_MP4-0017_jpg.rf.bc5fe69774f119517fca6904ca4e1a21.txt  \n",
            "  inflating: /content/data/labels/train/IMG_0793_MP4-0018_jpg.rf.2d1058df32310366a5e8259d6c0054fa.txt  \n",
            "  inflating: /content/data/labels/train/IMG_0793_MP4-0019_jpg.rf.a7ff36dcdae30d5972c812e27371a7bd.txt  \n",
            "  inflating: /content/data/labels/train/IMG_0795_MP4-0002_jpg.rf.3b75cf8e5a28fe346da1a4f946c65089.txt  \n",
            "  inflating: /content/data/labels/train/IMG_0795_MP4-0003_jpg.rf.a2fb3f58dd66b9f2f1a522120cebd5e2.txt  \n",
            "  inflating: /content/data/labels/train/IMG_0795_MP4-0004_jpg.rf.06df8e6663f4316e940d4e3e6a849b2f.txt  \n",
            "  inflating: /content/data/labels/train/IMG_0795_MP4-0005_jpg.rf.26bef816c6cc53827f410f473238c82d.txt  \n",
            "  inflating: /content/data/labels/train/IMG_0795_MP4-0006_jpg.rf.8cc6ca69f31d47e615ebcd0a9f274efd.txt  \n",
            "  inflating: /content/data/labels/train/IMG_0795_MP4-0007_jpg.rf.98864bb68dc0603ae76e831ed62725ce.txt  \n",
            "  inflating: /content/data/labels/train/IMG_0795_MP4-0008_jpg.rf.2411ec9fde2897cb469fa14cff6512d8.txt  \n",
            "  inflating: /content/data/labels/train/IMG_0795_MP4-0009_jpg.rf.b95d8d375d8f83b2fb7d788a496eb201.txt  \n",
            "  inflating: /content/data/labels/train/IMG_0795_MP4-0010_jpg.rf.0082c36e48dfcd7e0ee104ac04953415.txt  \n",
            "  inflating: /content/data/labels/train/IMG_0795_MP4-0011_jpg.rf.3d009a15ae00d124b1bd24308abc3736.txt  \n",
            "  inflating: /content/data/labels/train/IMG_0795_MP4-0015_jpg.rf.5b09b814852c5f7282b902f54798e183.txt  \n",
            "  inflating: /content/data/labels/train/IMG_0797_MP4-0001_jpg.rf.0b5c82425082d33dc8b874d3ec54abad.txt  \n",
            "  inflating: /content/data/labels/train/IMG_0797_MP4-0002_jpg.rf.ec5f76246c2342f168dd84d991c96fd5.txt  \n",
            "  inflating: /content/data/labels/train/IMG_0797_MP4-0003_jpg.rf.f72797b98b03df1192da9b0338b37531.txt  \n",
            "  inflating: /content/data/labels/train/IMG_0797_MP4-0004_jpg.rf.ad4ee9032961ffccd6e0f1e272f373e6.txt  \n",
            "  inflating: /content/data/labels/train/IMG_0797_MP4-0005_jpg.rf.8da42e3e6ae1f565ea078f5d7bb2d18e.txt  \n",
            "  inflating: /content/data/labels/train/IMG_0797_MP4-0007_jpg.rf.a40506efdcddcf9de7e2da490cfb8d4e.txt  \n",
            "  inflating: /content/data/labels/train/IMG_0797_MP4-0009_jpg.rf.9699bb90fd22257be9e24353687c77a7.txt  \n",
            "  inflating: /content/data/labels/train/IMG_0797_MP4-0010_jpg.rf.40f268dce94887dfbc77ed3a2b4cec7e.txt  \n",
            "  inflating: /content/data/labels/train/IMG_0797_MP4-0011_jpg.rf.b9c293b1651b6297ee831bdaa4dffad2.txt  \n",
            "  inflating: /content/data/labels/train/IMG_0797_MP4-0012_jpg.rf.f67c649b76bcd65fab0b0422c786fbe1.txt  \n",
            "  inflating: /content/data/labels/train/IMG_0797_MP4-0013_jpg.rf.77d0a532c82d57fbe914c00fc43939eb.txt  \n",
            "  inflating: /content/data/labels/train/IMG_0797_MP4-0015_jpg.rf.1b7c2c782783d6affdc246576cd9c23d.txt  \n",
            "  inflating: /content/data/labels/train/IMG_0797_MP4-0017_jpg.rf.370c5adb8c8cab308d65dcb34f0d0ce9.txt  \n",
            "  inflating: /content/data/labels/train/IMG_0797_MP4-0018_jpg.rf.fd724a5eb65d8e800b5b594f1a85eb6f.txt  \n",
            "  inflating: /content/data/labels/train/IMG_0797_MP4-0021_jpg.rf.59dbfb9951aaa6ef833faa0728f770e9.txt  \n",
            "  inflating: /content/data/labels/train/IMG_0797_MP4-0022_jpg.rf.433db8653b26d3353acafbc110453a96.txt  \n",
            "  inflating: /content/data/labels/train/IMG_0797_MP4-0024_jpg.rf.0c127168ef086c2392526070e4d6b076.txt  \n",
            "  inflating: /content/data/labels/train/IMG_0797_MP4-0025_jpg.rf.10314d6662fb3ad5377dbeeaa4b556c0.txt  \n",
            "  inflating: /content/data/labels/train/IMG_0797_MP4-0026_jpg.rf.69269c58dbc5d97ebd0bd287c89a9a5e.txt  \n",
            "  inflating: /content/data/labels/train/IMG_0797_MP4-0027_jpg.rf.8e9e102c0e831308a3aa25244a461fde.txt  \n",
            "  inflating: /content/data/labels/train/IMG_0799_MP4-0002_jpg.rf.18228794798d7273fbc1a3a6fdf59aa8.txt  \n",
            "  inflating: /content/data/labels/train/IMG_0799_MP4-0004_jpg.rf.bcc6e63c3aa162f3728526dfa7bb1204.txt  \n",
            "  inflating: /content/data/labels/train/IMG_0799_MP4-0007_jpg.rf.0abcf861790553c4726f22ca6e9ec22f.txt  \n",
            "  inflating: /content/data/labels/train/IMG_0799_MP4-0009_jpg.rf.0ee8085e2a46d5cde59be2066ecd0dd0.txt  \n",
            "  inflating: /content/data/labels/train/IMG_0799_MP4-0011_jpg.rf.5e811adf21744a3fa901c630894ebc84.txt  \n",
            "  inflating: /content/data/labels/train/IMG_0799_MP4-0012_jpg.rf.5bc4afe7365392ef7efb515eff1322a0.txt  \n",
            "  inflating: /content/data/labels/train/IMG_0800_MP4-0000_jpg.rf.f780f1d9fd013c40042950f7174395e5.txt  \n",
            "  inflating: /content/data/labels/train/IMG_0800_MP4-0001_jpg.rf.41987a39ac044c891cdbdfab6cffd9f1.txt  \n",
            "  inflating: /content/data/labels/train/IMG_0800_MP4-0002_jpg.rf.04bc19ff8cf5d7b1e88fcaa9fc51297b.txt  \n",
            "  inflating: /content/data/labels/train/IMG_0800_MP4-0005_jpg.rf.45b03bccd65ce1c13702d571ec360165.txt  \n",
            "  inflating: /content/data/labels/train/IMG_0800_MP4-0006_jpg.rf.e928bb0eaf04046aeb6928b637c169b5.txt  \n",
            "  inflating: /content/data/labels/train/IMG_0800_MP4-0007_jpg.rf.c443f204bd482044b9f492e03473f32c.txt  \n",
            "  inflating: /content/data/labels/train/IMG_0800_MP4-0008_jpg.rf.72509c76eed6e5b2d9ae7eaabeb0b3ce.txt  \n",
            "  inflating: /content/data/labels/train/IMG_0800_MP4-0009_jpg.rf.af8a6671af34a3a717521e6155e78a6d.txt  \n",
            "  inflating: /content/data/labels/train/IMG_0800_MP4-0011_jpg.rf.b8ac22333ed31e5722bd5c63724b60c9.txt  \n",
            "  inflating: /content/data/labels/train/IMG_0800_MP4-0013_jpg.rf.e1c0a9acfd1a66a7a8ed4c4e8979d967.txt  \n",
            "  inflating: /content/data/labels/train/IMG_0803_MP4-0000_jpg.rf.d9ec3e0f1e100ca0e6d78f6dd3e6f263.txt  \n",
            "  inflating: /content/data/labels/train/IMG_0803_MP4-0001_jpg.rf.9ba96c90a907a6c37bdca475332506c5.txt  \n",
            "  inflating: /content/data/labels/train/IMG_0803_MP4-0002_jpg.rf.d8ac0e5fd361ed6d4c2266798ce44e71.txt  \n",
            "  inflating: /content/data/labels/train/IMG_0803_MP4-0003_jpg.rf.468e67cff33e49fab0096fe1223040dd.txt  \n",
            "  inflating: /content/data/labels/train/IMG_0803_MP4-0004_jpg.rf.d75d7ad9b327fa8de7ccef685bf20a8a.txt  \n",
            "  inflating: /content/data/labels/train/IMG_0803_MP4-0005_jpg.rf.4305b4faa5637e1afc3b8769bf5e25b4.txt  \n",
            "  inflating: /content/data/labels/train/IMG_0803_MP4-0006_jpg.rf.d034ef22fafa40e04a9c47f78f348b2e.txt  \n",
            "  inflating: /content/data/labels/train/IMG_0803_MP4-0007_jpg.rf.e108194b48880bb3c16232f00c82718e.txt  \n",
            "  inflating: /content/data/labels/train/IMG_0803_MP4-0008_jpg.rf.b98ef6b671d5fd6dc2edd027f344c9c7.txt  \n",
            "  inflating: /content/data/labels/train/IMG_0803_MP4-0010_jpg.rf.5f5bac7ce5165e191987ba9b707bcdba.txt  \n",
            "  inflating: /content/data/labels/train/IMG_0803_MP4-0011_jpg.rf.2fa8ac2b923ede538649a20c44bd40f0.txt  \n",
            "  inflating: /content/data/labels/train/IMG_0803_MP4-0013_jpg.rf.0f824f8cd2e89888431dba20a7cfb48f.txt  \n",
            "  inflating: /content/data/labels/train/IMG_0803_MP4-0015_jpg.rf.a6c03398da840201711ff1e2b7c56629.txt  \n",
            "  inflating: /content/data/labels/train/IMG_0803_MP4-0017_jpg.rf.898a902a606aef75ad029b76d0145bdd.txt  \n",
            "  inflating: /content/data/labels/train/IMG_0805_MP4-0000_jpg.rf.a48a04b02080fd555e5339fa02a14a2c.txt  \n",
            "  inflating: /content/data/labels/train/IMG_0805_MP4-0001_jpg.rf.bfbf86f573e81e643727b92b9f961d9c.txt  \n",
            "  inflating: /content/data/labels/train/IMG_0805_MP4-0002_jpg.rf.5f45b99632fb4fc6e39b20474fa7abd2.txt  \n",
            "  inflating: /content/data/labels/train/IMG_0805_MP4-0003_jpg.rf.458831af963955a47d5c73cf77645e60.txt  \n",
            "  inflating: /content/data/labels/train/IMG_0805_MP4-0005_jpg.rf.82635f97bfa99a90c509af97d5bb4788.txt  \n",
            "  inflating: /content/data/labels/train/IMG_0805_MP4-0006_jpg.rf.c3b12c67781acdccc63ab8e87794c743.txt  \n",
            "  inflating: /content/data/labels/train/IMG_0805_MP4-0007_jpg.rf.a63f797a263de3ecf95521a3dd0cd1be.txt  \n",
            "  inflating: /content/data/labels/train/IMG_0805_MP4-0008_jpg.rf.db2a0af42bb2279ff8e933b2d6a002f3.txt  \n",
            "  inflating: /content/data/labels/train/IMG_0805_MP4-0010_jpg.rf.182d72090a7f94b37055a952b8bd7249.txt  \n",
            "  inflating: /content/data/labels/train/IMG_0805_MP4-0011_jpg.rf.ba2304872db70fd785d40de2467b546e.txt  \n",
            "  inflating: /content/data/labels/train/IMG_0805_MP4-0012_jpg.rf.8adaacb52911ae657c61a3c099321efa.txt  \n",
            "  inflating: /content/data/labels/train/IMG_0805_MP4-0013_jpg.rf.fe1f0aee64b7f696c0e883eb8acae498.txt  \n",
            "  inflating: /content/data/labels/train/IMG_0805_MP4-0014_jpg.rf.32ef471394f4df540066b6aedc477591.txt  \n",
            "  inflating: /content/data/labels/train/IMG_0805_MP4-0015_jpg.rf.171cec0da847193f5a1eed073633a237.txt  \n",
            "  inflating: /content/data/labels/train/IMG_0805_MP4-0016_jpg.rf.857a6d01f941717276148ea8bfef93f2.txt  \n",
            "  inflating: /content/data/labels/train/IMG_0805_MP4-0017_jpg.rf.3389a3c9aff8c143ad061ba77bf614eb.txt  \n",
            "  inflating: /content/data/labels/train/IMG_0805_MP4-0019_jpg.rf.4b4d50a63af86bf5cfb20bb03d258727.txt  \n",
            "  inflating: /content/data/labels/train/IMG_0811_MP4-0005_jpg.rf.70213c4c97bf2edf79af010e21bbcb51.txt  \n",
            "  inflating: /content/data/labels/train/IMG_0811_MP4-0006_jpg.rf.201f3c4c69a20617ef1e9cd13c8084d2.txt  \n",
            "  inflating: /content/data/labels/train/IMG_0811_MP4-0007_jpg.rf.83e2b3fa86dbe77d8a278909497a2124.txt  \n",
            "  inflating: /content/data/labels/train/IMG_0811_MP4-0009_jpg.rf.69e88e397de0c4c92e5ae67869cc1809.txt  \n",
            "  inflating: /content/data/labels/train/IMG_0811_MP4-0010_jpg.rf.adc0e45e4dd7c9077e63befc1439d8fc.txt  \n",
            "  inflating: /content/data/labels/train/IMG_0811_MP4-0011_jpg.rf.bb645befe3d58f31f1fcc2edd3a549a6.txt  \n",
            "  inflating: /content/data/labels/train/IMG_0811_MP4-0013_jpg.rf.de51264cf9243594c15248a62d133d59.txt  \n",
            "  inflating: /content/data/labels/train/IMG_0811_MP4-0014_jpg.rf.9d844beb5161548c5b0bc394aa80eb3f.txt  \n",
            "  inflating: /content/data/labels/train/IMG_0811_MP4-0016_jpg.rf.8d7d7b011a333b2d6f1d0bc58ba8302e.txt  \n",
            "  inflating: /content/data/labels/train/IMG_0811_MP4-0017_jpg.rf.2430f9ae7fd37176acfccf44208ab106.txt  \n",
            "  inflating: /content/data/labels/train/IMG_0811_MP4-0018_jpg.rf.1e1e5ff31c9388aa3fde6ee2d3c431f3.txt  \n",
            "  inflating: /content/data/labels/train/IMG_0811_MP4-0019_jpg.rf.0c14790f2525e443fa8c20bd07da5751.txt  \n",
            "  inflating: /content/data/labels/train/IMG_0811_MP4-0021_jpg.rf.ffe1d806a90aef5828f3d3a6c770fd26.txt  \n",
            "  inflating: /content/data/labels/train/IMG_0812_MP4-0000_jpg.rf.899a6304a2cdf703780636183fba5a45.txt  \n",
            "  inflating: /content/data/labels/train/IMG_0812_MP4-0002_jpg.rf.a89a9987d8dddf16ce1e1369dcad720b.txt  \n",
            "  inflating: /content/data/labels/train/IMG_0812_MP4-0003_jpg.rf.0cbb9b9d0694da07de73ca13dd239381.txt  \n",
            "  inflating: /content/data/labels/train/IMG_0812_MP4-0004_jpg.rf.200e1267e3953d2c8c5f4698a2197ba3.txt  \n",
            "  inflating: /content/data/labels/train/IMG_0812_MP4-0006_jpg.rf.b86443efbe5479d0ec0584288db2622d.txt  \n",
            "  inflating: /content/data/labels/train/IMG_0812_MP4-0008_jpg.rf.059faa00ada9f650b0bb76c1b47f9615.txt  \n",
            "  inflating: /content/data/labels/train/IMG_0812_MP4-0012_jpg.rf.abf89478eb2b9df6b5b478a155711af7.txt  \n",
            "  inflating: /content/data/labels/train/IMG_0812_MP4-0013_jpg.rf.991b7271305264c1b09096e5f32b1d4d.txt  \n",
            "  inflating: /content/data/labels/train/IMG_0812_MP4-0016_jpg.rf.b8a969b8eada54eef15017db7ed867c2.txt  \n",
            "  inflating: /content/data/labels/train/IMG_0812_MP4-0019_jpg.rf.74f4a75fae68610a7cc25bd876792c7b.txt  \n",
            "  inflating: /content/data/labels/train/IMG_0812_MP4-0021_jpg.rf.49a2a7326d48fb4d926b699b5630566c.txt  \n",
            "  inflating: /content/data/labels/train/IMG_0812_MP4-0022_jpg.rf.8d4821a1c1bff41c031743419359a6de.txt  \n",
            "  inflating: /content/data/labels/train/IMG_0812_MP4-0023_jpg.rf.a24e009cf49dca52f53a28570b64ee71.txt  \n",
            "  inflating: /content/data/labels/train/IMG_0812_MP4-0024_jpg.rf.e4a94182744de4d51a8a908a7d05fd41.txt  \n",
            "  inflating: /content/data/labels/train/IMG_0812_MP4-0025_jpg.rf.f17a4be920cb0ead8790d463aa33151f.txt  \n",
            "  inflating: /content/data/labels/train/IMG_0813_MP4-0000_jpg.rf.f9482a3a8fbc1f6a49cbc10d456fd097.txt  \n",
            "  inflating: /content/data/labels/train/IMG_0813_MP4-0003_jpg.rf.306e258205dc610497e209d994cf7de6.txt  \n",
            "  inflating: /content/data/labels/train/IMG_0813_MP4-0007_jpg.rf.ed70884a06fc5676dd9121cb6d74a24f.txt  \n",
            "  inflating: /content/data/labels/train/IMG_0813_MP4-0008_jpg.rf.406069a2eb602fe2df97b1dc9840e75e.txt  \n",
            "  inflating: /content/data/labels/train/IMG_0813_MP4-0009_jpg.rf.2c65803fee27390ffe1a5d12d85cb9c0.txt  \n",
            "  inflating: /content/data/labels/train/IMG_0813_MP4-0010_jpg.rf.5f2f03ab3986d84cac9097a2f0371c47.txt  \n",
            "  inflating: /content/data/labels/train/IMG_0813_MP4-0011_jpg.rf.14ece8ef3566e9289a361fc03d54b4e1.txt  \n",
            "  inflating: /content/data/labels/train/IMG_0813_MP4-0012_jpg.rf.5cb34601ef082db7731a7de645ffeaa3.txt  \n",
            "  inflating: /content/data/labels/train/IMG_0813_MP4-0013_jpg.rf.7b2689475eb226baf48d3055d6efc7f2.txt  \n",
            "  inflating: /content/data/labels/train/IMG_0813_MP4-0015_jpg.rf.5d2617f78c00ae874bba7f0fc12462cb.txt  \n",
            "  inflating: /content/data/labels/train/IMG_0813_MP4-0016_jpg.rf.fa3e14a77f53478783547874d318cf99.txt  \n",
            "  inflating: /content/data/labels/train/IMG_0813_MP4-0017_jpg.rf.439817c9f50e0a366fd5371a1c96d858.txt  \n",
            "  inflating: /content/data/labels/train/IMG_0813_MP4-0018_jpg.rf.9925db36a78d976f6bbac36ae157f2f6.txt  \n",
            "  inflating: /content/data/labels/train/IMG_0813_MP4-0021_jpg.rf.c68e42f972d9e61dab116a16351bca7d.txt  \n",
            "  inflating: /content/data/labels/train/IMG_0813_MP4-0022_jpg.rf.eeccc264c6b48727c3582bd1dd8dd1be.txt  \n",
            "  inflating: /content/data/labels/train/IMG_0815_MP4-0002_jpg.rf.0b33cd5eb80945cec3393c8b2c726579.txt  \n",
            "  inflating: /content/data/labels/train/IMG_0815_MP4-0004_jpg.rf.7bbefca119a016cdf8bf4df58c891783.txt  \n",
            "  inflating: /content/data/labels/train/IMG_0815_MP4-0005_jpg.rf.a5c3a6f1f3a55385501599ba6f9aa5d8.txt  \n",
            "  inflating: /content/data/labels/train/IMG_0815_MP4-0008_jpg.rf.8f40ab1376443f7f63f00333f4bb3e0a.txt  \n",
            "  inflating: /content/data/labels/train/IMG_0815_MP4-0009_jpg.rf.a999143d59a7ffadaa1f2cb6b949897d.txt  \n",
            "  inflating: /content/data/labels/train/IMG_0815_MP4-0010_jpg.rf.c08c222cb1c776a7d2ada380144fa813.txt  \n",
            "  inflating: /content/data/labels/train/IMG_0815_MP4-0012_jpg.rf.bd13da24cc77007c788c5feb46e7c367.txt  \n",
            "  inflating: /content/data/labels/train/IMG_0818_MP4-0002_jpg.rf.882de51a4506ddebf7becbd763feaefa.txt  \n",
            "  inflating: /content/data/labels/train/IMG_0818_MP4-0004_jpg.rf.92560578a2d7403b3a48c293573ba8c5.txt  \n",
            "  inflating: /content/data/labels/train/IMG_0818_MP4-0006_jpg.rf.a785beca0c991a89b5e469407702f1bc.txt  \n",
            "  inflating: /content/data/labels/train/IMG_0818_MP4-0007_jpg.rf.742fd055e862c902b392cec6c7b204ca.txt  \n",
            "  inflating: /content/data/labels/train/IMG_0818_MP4-0008_jpg.rf.e20b789a19c089a2a4bed45c13a2ad9d.txt  \n",
            "  inflating: /content/data/labels/train/IMG_0818_MP4-0009_jpg.rf.550d29bf0f2306267c9bdbd8e5ef9c62.txt  \n",
            "  inflating: /content/data/labels/train/IMG_0818_MP4-0010_jpg.rf.19a1a226e354e56652708133a780bbb1.txt  \n",
            "  inflating: /content/data/labels/train/IMG_0818_MP4-0011_jpg.rf.1b79718373d3bb76ccf2ded0d02cef25.txt  \n",
            " extracting: /content/data/labels/train/IMG_0837_MP4-0000_jpg.rf.bdc9e34b97afc30272fc0632a2dcb65a.txt  \n",
            "  inflating: /content/data/labels/train/IMG_0837_MP4-0002_jpg.rf.ab35afeda72276a42218e3be9d81fed9.txt  \n",
            "  inflating: /content/data/labels/train/IMG_0837_MP4-0003_jpg.rf.20065c4f3141a98660c81985c665ac33.txt  \n",
            "  inflating: /content/data/labels/train/IMG_0837_MP4-0005_jpg.rf.fd5ca3fd0acea84b17799ac0dcfb6cde.txt  \n",
            "  inflating: /content/data/labels/train/IMG_0837_MP4-0007_jpg.rf.4e217632847d1c17cc5a886ac0a8d729.txt  \n",
            "  inflating: /content/data/labels/train/IMG_0837_MP4-0010_jpg.rf.d612612c07051f8d646feca8cfb5af49.txt  \n",
            "  inflating: /content/data/labels/train/IMG_0837_MP4-0011_jpg.rf.864ebfaf30a67c25f2230a202cb23e27.txt  \n",
            "  inflating: /content/data/labels/train/IMG_0837_MP4-0012_jpg.rf.bd5afdbbf2d63acb64bd4eaf7d7a191f.txt  \n",
            "   creating: /content/data/labels/val/\n",
            "  inflating: /content/data/labels/val/IMG_0705_MP4-0001_jpg.rf.7da126204240e6dd8e54b2dd748e7f41.txt  \n",
            "  inflating: /content/data/labels/val/IMG_0705_MP4-0016_jpg.rf.6cce207392f80058ad2be32ea4fe6c3a.txt  \n",
            "  inflating: /content/data/labels/val/IMG_0729_MP4-0002_jpg.rf.325658b901e8a5ebab4a377d29d3a5f9.txt  \n",
            "  inflating: /content/data/labels/val/IMG_0729_MP4-0003_jpg.rf.7c118a495488fb6de6db63c5cc95e144.txt  \n",
            "  inflating: /content/data/labels/val/IMG_0729_MP4-0015_jpg.rf.de7abf70c726c7b76b18f2c761806930.txt  \n",
            "  inflating: /content/data/labels/val/IMG_0731_MP4-0000_jpg.rf.a64e1f92d1ec3d394efb8bf40b9a6ac8.txt  \n",
            "  inflating: /content/data/labels/val/IMG_0736_MP4-0011_jpg.rf.084f09a1d7775ae76a8937143af90166.txt  \n",
            "  inflating: /content/data/labels/val/IMG_0736_MP4-0015_jpg.rf.17ef1f48bab2c6a123c3976d061ce601.txt  \n",
            "  inflating: /content/data/labels/val/IMG_0736_MP4-0016_jpg.rf.7ed0c80b3ac18e5e4f3aa57ad8161f84.txt  \n",
            "  inflating: /content/data/labels/val/IMG_0736_MP4-0024_jpg.rf.961a4b6fcb8d5a513fd72a9c5fbcd0da.txt  \n",
            "  inflating: /content/data/labels/val/IMG_0737_MP4-0004_jpg.rf.586ba28d52b624c313208b0ee035e71e.txt  \n",
            "  inflating: /content/data/labels/val/IMG_0737_MP4-0005_jpg.rf.ad89ecafda0a1c35e6eee691ab2ee200.txt  \n",
            "  inflating: /content/data/labels/val/IMG_0737_MP4-0006_jpg.rf.5e59c976ba769bdef1ae8305c8e32305.txt  \n",
            "  inflating: /content/data/labels/val/IMG_0737_MP4-0010_jpg.rf.031e94f9be3a2dbf5c300443f778c1cb.txt  \n",
            "  inflating: /content/data/labels/val/IMG_0737_MP4-0013_jpg.rf.d50f6a6733c852989db4e4e853a5f54d.txt  \n",
            "  inflating: /content/data/labels/val/IMG_0737_MP4-0016_jpg.rf.f9e6bec1e57da995b3548c04f5757bf3.txt  \n",
            "  inflating: /content/data/labels/val/IMG_0737_MP4-0021_jpg.rf.b1e8c520720968e8e23fb31c6cf50f4a.txt  \n",
            "  inflating: /content/data/labels/val/IMG_0741_MP4-0003_jpg.rf.e12a6381caf5bb2d1995830a5b47aa9a.txt  \n",
            "  inflating: /content/data/labels/val/IMG_0741_MP4-0011_jpg.rf.48e11dd5cb5b6b12adb2e776001015ed.txt  \n",
            "  inflating: /content/data/labels/val/IMG_0741_MP4-0015_jpg.rf.fd07bb2f146f3f0e4218b1cef67034d3.txt  \n",
            "  inflating: /content/data/labels/val/IMG_0741_MP4-0018_jpg.rf.323aea33e76084d898ed734a9efe73f0.txt  \n",
            "  inflating: /content/data/labels/val/IMG_0743_MP4-0010_jpg.rf.c942fd981a8f4e52a2ddf49669fd7c27.txt  \n",
            "  inflating: /content/data/labels/val/IMG_0743_MP4-0015_jpg.rf.e5b9a914cfede252bb2dfb7ed4414920.txt  \n",
            "  inflating: /content/data/labels/val/IMG_0744_MP4-0000_jpg.rf.49d042a6104ff41342fc3bfcd5cd16d2.txt  \n",
            "  inflating: /content/data/labels/val/IMG_0744_MP4-0007_jpg.rf.40bc47ce778fb8b811c94415a6803b3a.txt  \n",
            "  inflating: /content/data/labels/val/IMG_0744_MP4-0017_jpg.rf.410270fd604e7a6788c6c09f870b8b31.txt  \n",
            "  inflating: /content/data/labels/val/IMG_0745_MP4-0000_jpg.rf.3089c17e0fa1747cf47eb216609027e1.txt  \n",
            " extracting: /content/data/labels/val/IMG_0745_MP4-0003_jpg.rf.96687812f0d568c2b888fb0727ccc3ce.txt  \n",
            "  inflating: /content/data/labels/val/IMG_0745_MP4-0006_jpg.rf.ffbefa4b25aedc7c26cec5989018e66e.txt  \n",
            "  inflating: /content/data/labels/val/IMG_0745_MP4-0007_jpg.rf.e300b2797f598ec05da02072e1b42b9c.txt  \n",
            "  inflating: /content/data/labels/val/IMG_0745_MP4-0013_jpg.rf.5a9f8d4054c799fc7b7572996e99f4e5.txt  \n",
            "  inflating: /content/data/labels/val/IMG_0748_MP4-0007_jpg.rf.a26d6ea5aa6564e6ce73847c9def6eb9.txt  \n",
            "  inflating: /content/data/labels/val/IMG_0748_MP4-0011_jpg.rf.261634ebcca333a34edfb38dc5288a70.txt  \n",
            "  inflating: /content/data/labels/val/IMG_0748_MP4-0012_jpg.rf.93b92f5dca6a2379dd46b3bdaecbbb60.txt  \n",
            "  inflating: /content/data/labels/val/IMG_0748_MP4-0018_jpg.rf.de5ea25f4e122e801a30870386d9cb4c.txt  \n",
            "  inflating: /content/data/labels/val/IMG_0755_MP4-0010_jpg.rf.72146cf680d8ed3f748470db31fdb10e.txt  \n",
            "  inflating: /content/data/labels/val/IMG_0755_MP4-0012_jpg.rf.281b7f8e4e79a8782f5a7aba58e913bf.txt  \n",
            "  inflating: /content/data/labels/val/IMG_0755_MP4-0014_jpg.rf.b5844ca3e7c8ccc1c3a7b79924928d1c.txt  \n",
            "  inflating: /content/data/labels/val/IMG_0755_MP4-0017_jpg.rf.f812d0455943d77bb23d15ffe4579335.txt  \n",
            "  inflating: /content/data/labels/val/IMG_0755_MP4-0025_jpg.rf.fc8d161c647d5e25f3c40f20e93882f0.txt  \n",
            "  inflating: /content/data/labels/val/IMG_0779_MP4-0002_jpg.rf.55f03c64d01550cb00ad68986bf060ff.txt  \n",
            "  inflating: /content/data/labels/val/IMG_0779_MP4-0008_jpg.rf.f10f9939324bf9bd2084339db2dc463f.txt  \n",
            "  inflating: /content/data/labels/val/IMG_0779_MP4-0011_jpg.rf.aa96e53dbcb4a408b327cf859e7c9b6d.txt  \n",
            "  inflating: /content/data/labels/val/IMG_0779_MP4-0012_jpg.rf.992274f8a161f2f24d1b2f3eeb7329bc.txt  \n",
            "  inflating: /content/data/labels/val/IMG_0782_MP4-0002_jpg.rf.2d7f7e48ba4cffa54973320c0bab230b.txt  \n",
            "  inflating: /content/data/labels/val/IMG_0782_MP4-0008_jpg.rf.76a091ef958f7f1151af128348761b6f.txt  \n",
            "  inflating: /content/data/labels/val/IMG_0782_MP4-0012_jpg.rf.357c859e482aaf8d1acb5d50f59db264.txt  \n",
            "  inflating: /content/data/labels/val/IMG_0782_MP4-0013_jpg.rf.258151387e32a72879ee0ab7fb3d6362.txt  \n",
            "  inflating: /content/data/labels/val/IMG_0782_MP4-0014_jpg.rf.cd1a81ce9de2301dfc3d4db70f69e7fa.txt  \n",
            "  inflating: /content/data/labels/val/IMG_0783_MP4-0008_jpg.rf.2ec1c88ebe59e4e44c0c982e205da1c9.txt  \n",
            "  inflating: /content/data/labels/val/IMG_0783_MP4-0011_jpg.rf.2bff3091bb94b4843c6990a717770b56.txt  \n",
            "  inflating: /content/data/labels/val/IMG_0783_MP4-0012_jpg.rf.9874469f1ce161b0e1a9335fc0a81b6c.txt  \n",
            "  inflating: /content/data/labels/val/IMG_0783_MP4-0015_jpg.rf.25cded210141704f9bac974832e3a9ec.txt  \n",
            "  inflating: /content/data/labels/val/IMG_0783_MP4-0019_jpg.rf.1a5d235911453f2b2a9888649f6f7ba2.txt  \n",
            "  inflating: /content/data/labels/val/IMG_0783_MP4-0023_jpg.rf.11194dbcdca0726788fd16cb0fe44d1f.txt  \n",
            "  inflating: /content/data/labels/val/IMG_0784_MP4-0001_jpg.rf.6b004dce855bc6600cf5c610d5628011.txt  \n",
            "  inflating: /content/data/labels/val/IMG_0784_MP4-0008_jpg.rf.ba50843957fe3cc07bf01e0fbad10a5c.txt  \n",
            "  inflating: /content/data/labels/val/IMG_0784_MP4-0009_jpg.rf.419c9e2deb81ec1a9f93f0a8874954aa.txt  \n",
            "  inflating: /content/data/labels/val/IMG_0784_MP4-0019_jpg.rf.ae6e44350e3a2acac9ba5d12a41eab98.txt  \n",
            "  inflating: /content/data/labels/val/IMG_0784_MP4-0021_jpg.rf.99a11d50b719a091a4e67e5b1302a014.txt  \n",
            "  inflating: /content/data/labels/val/IMG_0784_MP4-0022_jpg.rf.ee26bdea71654fd0a6fe6f5ef143fc67.txt  \n",
            "  inflating: /content/data/labels/val/IMG_0792_MP4-0005_jpg.rf.907d5b4d53a0e385889b33f64e64348d.txt  \n",
            "  inflating: /content/data/labels/val/IMG_0792_MP4-0009_jpg.rf.0ed66f94648353854674ef0359016e66.txt  \n",
            "  inflating: /content/data/labels/val/IMG_0792_MP4-0010_jpg.rf.cb1448a1b6d243cf453f86c54151859a.txt  \n",
            "  inflating: /content/data/labels/val/IMG_0792_MP4-0015_jpg.rf.3b9330982cef2e4ac764dac1c651687d.txt  \n",
            "  inflating: /content/data/labels/val/IMG_0792_MP4-0016_jpg.rf.714daf25bb90deca16365a39674f8caf.txt  \n",
            "  inflating: /content/data/labels/val/IMG_0792_MP4-0023_jpg.rf.fb1b2c44707f9188b7b74f383a6f3806.txt  \n",
            "  inflating: /content/data/labels/val/IMG_0793_MP4-0004_jpg.rf.a67a02857d28b4a8b21b9d9415987939.txt  \n",
            "  inflating: /content/data/labels/val/IMG_0793_MP4-0013_jpg.rf.af11eeae384ec957db3b7908845b20b0.txt  \n",
            "  inflating: /content/data/labels/val/IMG_0793_MP4-0021_jpg.rf.31e4cd5f5bade2c3b72512b0434845dd.txt  \n",
            "  inflating: /content/data/labels/val/IMG_0795_MP4-0001_jpg.rf.83a378b2c0740e34edb08ccb99048a3b.txt  \n",
            "  inflating: /content/data/labels/val/IMG_0795_MP4-0013_jpg.rf.461086d04fcdd782fa6ec5db91c07574.txt  \n",
            "  inflating: /content/data/labels/val/IMG_0797_MP4-0008_jpg.rf.476a4b55e38da8edb285d0e08b938e99.txt  \n",
            "  inflating: /content/data/labels/val/IMG_0797_MP4-0016_jpg.rf.2e26391fed6b4e08f15bbfa33920ee21.txt  \n",
            "  inflating: /content/data/labels/val/IMG_0797_MP4-0020_jpg.rf.48dc9a80ed915c58def15742ac3869a0.txt  \n",
            "  inflating: /content/data/labels/val/IMG_0797_MP4-0023_jpg.rf.1eaaf2f74ebd8bf3c7dc75d1253ca988.txt  \n",
            "  inflating: /content/data/labels/val/IMG_0799_MP4-0000_jpg.rf.8a47bd8049c65540243e869ae53b1c5f.txt  \n",
            "  inflating: /content/data/labels/val/IMG_0799_MP4-0001_jpg.rf.0b8ab0c66b934f3f888c7fb81b977dcc.txt  \n",
            "  inflating: /content/data/labels/val/IMG_0799_MP4-0005_jpg.rf.2686080cdc122d1d058376a815cbebea.txt  \n",
            "  inflating: /content/data/labels/val/IMG_0799_MP4-0010_jpg.rf.3ce9bc008309bd4db9694d71db5de07a.txt  \n",
            "  inflating: /content/data/labels/val/IMG_0800_MP4-0004_jpg.rf.92fb91ce76aa9f1f388911f05b71cbbe.txt  \n",
            "  inflating: /content/data/labels/val/IMG_0800_MP4-0010_jpg.rf.5002b7582be83181782ae075dbadb32d.txt  \n",
            "  inflating: /content/data/labels/val/IMG_0800_MP4-0012_jpg.rf.c22a44e3859af271fe2430aa8c98dfee.txt  \n",
            "  inflating: /content/data/labels/val/IMG_0803_MP4-0016_jpg.rf.9ece8ce4453198a6ea921b9ebfddd831.txt  \n",
            "  inflating: /content/data/labels/val/IMG_0805_MP4-0009_jpg.rf.5e47febac3f86652c8a2bd617ced3de2.txt  \n",
            "  inflating: /content/data/labels/val/IMG_0812_MP4-0001_jpg.rf.296b29f4a676cdbbaa700f2fff374c63.txt  \n",
            "  inflating: /content/data/labels/val/IMG_0812_MP4-0005_jpg.rf.6cd5ad547de05b7e1df1af89ebacc773.txt  \n",
            "  inflating: /content/data/labels/val/IMG_0812_MP4-0009_jpg.rf.90c1083f75cddd6fc7f7606a77640663.txt  \n",
            "  inflating: /content/data/labels/val/IMG_0812_MP4-0010_jpg.rf.9ae12dd0e874c789725de1202edd1901.txt  \n",
            "  inflating: /content/data/labels/val/IMG_0812_MP4-0014_jpg.rf.4361b7c641f33e337e36b25b8aa36646.txt  \n",
            "  inflating: /content/data/labels/val/IMG_0812_MP4-0017_jpg.rf.3dbfb39c6fd6ec15631eb5f9495c3e34.txt  \n",
            "  inflating: /content/data/labels/val/IMG_0813_MP4-0004_jpg.rf.ef17ed1cecbf531e079a21778715aec4.txt  \n",
            "  inflating: /content/data/labels/val/IMG_0813_MP4-0019_jpg.rf.fbefa43b5011bbd9c32f29f30796ffa3.txt  \n",
            "  inflating: /content/data/labels/val/IMG_0813_MP4-0023_jpg.rf.ebb1dea70c2d71975476804982a51351.txt  \n",
            "  inflating: /content/data/labels/val/IMG_0813_MP4-0024_jpg.rf.1c9c5823c16a94cb3fc911157f2d2b34.txt  \n",
            "  inflating: /content/data/labels/val/IMG_0815_MP4-0001_jpg.rf.f0875643912b19ca3dbe58522698edcb.txt  \n",
            "  inflating: /content/data/labels/val/IMG_0815_MP4-0006_jpg.rf.ef9fa99c4317e024ba2c142aa738aded.txt  \n",
            "  inflating: /content/data/labels/val/IMG_0815_MP4-0011_jpg.rf.e2116a3eb37e817bda847fbe636f5740.txt  \n",
            "  inflating: /content/data/labels/val/IMG_0815_MP4-0013_jpg.rf.87b2986c4c4dab14d33b601608c39c51.txt  \n",
            "  inflating: /content/data/labels/val/IMG_0818_MP4-0000_jpg.rf.c429fb13417179eba2ab98938b0f643c.txt  \n",
            "  inflating: /content/data/labels/val/IMG_0818_MP4-0003_jpg.rf.a0634d1500e8627304349eb69f2b941b.txt  \n",
            "  inflating: /content/data/labels/val/IMG_0818_MP4-0005_jpg.rf.b2ba2ad8bc61889448407fe917b09310.txt  \n",
            "  inflating: /content/data/labels/val/IMG_0818_MP4-0013_jpg.rf.e71f97bd07add2ad4990cae30414cd2c.txt  \n",
            "  inflating: /content/data/labels/val/IMG_0837_MP4-0001_jpg.rf.1385cf1cf8cf610c2479b7a0c9e113d1.txt  \n",
            "  inflating: /content/data/labels/val/IMG_0837_MP4-0009_jpg.rf.f396492be870a570e31a6d3b0a258ce8.txt  \n",
            "  inflating: /content/data/labels/val/IMG_0837_MP4-0013_jpg.rf.e6e8ed15c74b8056f3bfd8bc4be1bafa.txt  \n",
            "  inflating: /content/data/labels/val/IMG_0837_MP4-0014_jpg.rf.dd9912e09951e8ff89fd9770b168c806.txt  \n"
          ]
        }
      ]
    },
    {
      "cell_type": "code",
      "source": [
        "\n",
        "\n",
        "from ultralytics import YOLO\n",
        "import albumentations as A\n",
        "\n",
        "# Load a pre-trained model for transfer learning\n",
        "model = YOLO('yolov8n.pt')\n",
        "\n",
        "# Data augmentation using albumentations\n",
        "augmenter = A.Compose([\n",
        "    A.HorizontalFlip(p=0.5),\n",
        "    A.RandomBrightnessContrast(p=0.5),\n",
        "    A.Rotate(limit=15, p=0.5),\n",
        "    A.Blur(blur_limit=3, p=0.5)\n",
        "])\n",
        "\n",
        "# Set training parameters\n",
        "config_path = '/content/drive/My Drive/treegen_od/config.yaml'\n",
        "epochs = 200\n",
        "batch_size = 32\n",
        "learning_rate = 0.001\n",
        "\n",
        "# Train the model with additional parameters for logging and augmentations\n",
        "model.train(\n",
        "    data=config_path,\n",
        "    epochs=epochs,\n",
        "    batch=batch_size,\n",
        "    lr0=learning_rate,\n",
        "    lrf=0.1,\n",
        "    patience=30,\n",
        "    save_period=5,\n",
        "    augment=True,\n",
        "    project='treegen_project',\n",
        "    name='treegen_model_v1.0',\n",
        "    optimizer='Adam',\n",
        "\n",
        ")\n"
      ],
      "metadata": {
        "colab": {
          "base_uri": "https://localhost:8080/"
        },
        "id": "GsomrvDgNOW0",
        "outputId": "9b44c3d5-f4cb-4678-a2ae-28cd80f0104e"
      },
      "execution_count": null,
      "outputs": [
        {
          "metadata": {
            "tags": null
          },
          "name": "stdout",
          "output_type": "stream",
          "text": [
            "Ultralytics 8.3.14 🚀 Python-3.10.12 torch-2.4.1+cu121 CUDA:0 (Tesla T4, 15102MiB)\n",
            "\u001b[34m\u001b[1mengine/trainer: \u001b[0mtask=detect, mode=train, model=yolov8n.pt, data=/content/drive/My Drive/treegen_od/config.yaml, epochs=200, time=None, patience=30, batch=32, imgsz=640, save=True, save_period=5, cache=False, device=None, workers=8, project=treegen_project, name=treegen_model_v1.0, exist_ok=False, pretrained=True, optimizer=Adam, verbose=True, seed=0, deterministic=True, single_cls=False, rect=False, cos_lr=False, close_mosaic=10, resume=False, amp=True, fraction=1.0, profile=False, freeze=None, multi_scale=False, overlap_mask=True, mask_ratio=4, dropout=0.0, val=True, split=val, save_json=False, save_hybrid=False, conf=None, iou=0.7, max_det=300, half=False, dnn=False, plots=True, source=None, vid_stride=1, stream_buffer=False, visualize=False, augment=True, agnostic_nms=False, classes=None, retina_masks=False, embed=None, show=False, save_frames=False, save_txt=False, save_conf=False, save_crop=False, show_labels=True, show_conf=True, show_boxes=True, line_width=None, format=torchscript, keras=False, optimize=False, int8=False, dynamic=False, simplify=True, opset=None, workspace=4, nms=False, lr0=0.001, lrf=0.1, momentum=0.937, weight_decay=0.0005, warmup_epochs=3.0, warmup_momentum=0.8, warmup_bias_lr=0.1, box=7.5, cls=0.5, dfl=1.5, pose=12.0, kobj=1.0, label_smoothing=0.0, nbs=64, hsv_h=0.015, hsv_s=0.7, hsv_v=0.4, degrees=0.0, translate=0.1, scale=0.5, shear=0.0, perspective=0.0, flipud=0.0, fliplr=0.5, bgr=0.0, mosaic=1.0, mixup=0.0, copy_paste=0.0, copy_paste_mode=flip, auto_augment=randaugment, erasing=0.4, crop_fraction=1.0, cfg=None, tracker=botsort.yaml, save_dir=treegen_project/treegen_model_v1.0\n",
            "Overriding model.yaml nc=80 with nc=1\n",
            "\n",
            "                   from  n    params  module                                       arguments                     \n",
            "  0                  -1  1       464  ultralytics.nn.modules.conv.Conv             [3, 16, 3, 2]                 \n",
            "  1                  -1  1      4672  ultralytics.nn.modules.conv.Conv             [16, 32, 3, 2]                \n",
            "  2                  -1  1      7360  ultralytics.nn.modules.block.C2f             [32, 32, 1, True]             \n",
            "  3                  -1  1     18560  ultralytics.nn.modules.conv.Conv             [32, 64, 3, 2]                \n",
            "  4                  -1  2     49664  ultralytics.nn.modules.block.C2f             [64, 64, 2, True]             \n",
            "  5                  -1  1     73984  ultralytics.nn.modules.conv.Conv             [64, 128, 3, 2]               \n",
            "  6                  -1  2    197632  ultralytics.nn.modules.block.C2f             [128, 128, 2, True]           \n",
            "  7                  -1  1    295424  ultralytics.nn.modules.conv.Conv             [128, 256, 3, 2]              \n",
            "  8                  -1  1    460288  ultralytics.nn.modules.block.C2f             [256, 256, 1, True]           \n",
            "  9                  -1  1    164608  ultralytics.nn.modules.block.SPPF            [256, 256, 5]                 \n",
            " 10                  -1  1         0  torch.nn.modules.upsampling.Upsample         [None, 2, 'nearest']          \n",
            " 11             [-1, 6]  1         0  ultralytics.nn.modules.conv.Concat           [1]                           \n",
            " 12                  -1  1    148224  ultralytics.nn.modules.block.C2f             [384, 128, 1]                 \n",
            " 13                  -1  1         0  torch.nn.modules.upsampling.Upsample         [None, 2, 'nearest']          \n",
            " 14             [-1, 4]  1         0  ultralytics.nn.modules.conv.Concat           [1]                           \n",
            " 15                  -1  1     37248  ultralytics.nn.modules.block.C2f             [192, 64, 1]                  \n",
            " 16                  -1  1     36992  ultralytics.nn.modules.conv.Conv             [64, 64, 3, 2]                \n",
            " 17            [-1, 12]  1         0  ultralytics.nn.modules.conv.Concat           [1]                           \n",
            " 18                  -1  1    123648  ultralytics.nn.modules.block.C2f             [192, 128, 1]                 \n",
            " 19                  -1  1    147712  ultralytics.nn.modules.conv.Conv             [128, 128, 3, 2]              \n",
            " 20             [-1, 9]  1         0  ultralytics.nn.modules.conv.Concat           [1]                           \n",
            " 21                  -1  1    493056  ultralytics.nn.modules.block.C2f             [384, 256, 1]                 \n",
            " 22        [15, 18, 21]  1    430867  ultralytics.nn.modules.head.Detect           [1, [64, 128, 256]]           \n",
            "Model summary: 249 layers, 2,690,403 parameters, 2,690,387 gradients, 6.9 GFLOPs\n",
            "\n",
            "Transferred 313/391 items from pretrained weights\n",
            "\u001b[34m\u001b[1mTensorBoard: \u001b[0mStart with 'tensorboard --logdir treegen_project/treegen_model_v1.0', view at http://localhost:6006/\n",
            "Freezing layer 'model.22.dfl.conv.weight'\n",
            "\u001b[34m\u001b[1mAMP: \u001b[0mrunning Automatic Mixed Precision (AMP) checks with YOLO11n...\n",
            "\u001b[34m\u001b[1mAMP: \u001b[0mchecks passed ✅\n"
          ]
        },
        {
          "metadata": {
            "tags": null
          },
          "name": "stderr",
          "output_type": "stream",
          "text": [
            "\u001b[34m\u001b[1mtrain: \u001b[0mScanning /content/data/labels/train.cache... 371 images, 5 backgrounds, 0 corrupt: 100%|██████████| 371/371 [00:00<?, ?it/s]"
          ]
        },
        {
          "metadata": {
            "tags": null
          },
          "name": "stdout",
          "output_type": "stream",
          "text": [
            "\u001b[34m\u001b[1malbumentations: \u001b[0mBlur(p=0.01, blur_limit=(3, 7)), MedianBlur(p=0.01, blur_limit=(3, 7)), ToGray(p=0.01), CLAHE(p=0.01, clip_limit=(1, 4.0), tile_grid_size=(8, 8))\n"
          ]
        },
        {
          "metadata": {
            "tags": null
          },
          "name": "stderr",
          "output_type": "stream",
          "text": [
            "\n",
            "\u001b[34m\u001b[1mval: \u001b[0mScanning /content/data/labels/val.cache... 107 images, 1 backgrounds, 0 corrupt: 100%|██████████| 107/107 [00:00<?, ?it/s]\n"
          ]
        },
        {
          "metadata": {
            "tags": null
          },
          "name": "stdout",
          "output_type": "stream",
          "text": [
            "Plotting labels to treegen_project/treegen_model_v1.0/labels.jpg... \n",
            "\u001b[34m\u001b[1moptimizer:\u001b[0m Adam(lr=0.001, momentum=0.937) with parameter groups 63 weight(decay=0.0), 70 weight(decay=0.0005), 69 bias(decay=0.0)\n",
            "\u001b[34m\u001b[1mTensorBoard: \u001b[0mmodel graph visualization added ✅\n",
            "Image sizes 640 train, 640 val\n",
            "Using 2 dataloader workers\n",
            "Logging results to \u001b[1mtreegen_project/treegen_model_v1.0\u001b[0m\n",
            "Starting training for 200 epochs...\n",
            "\n",
            "      Epoch    GPU_mem   box_loss   cls_loss   dfl_loss  Instances       Size\n"
          ]
        },
        {
          "metadata": {
            "tags": null
          },
          "name": "stderr",
          "output_type": "stream",
          "text": [
            "      1/200      7.25G      3.103       3.58      1.872        681        640: 100%|██████████| 12/12 [00:19<00:00,  1.59s/it]\n",
            "                 Class     Images  Instances      Box(P          R      mAP50  mAP50-95): 100%|██████████| 2/2 [00:08<00:00,  4.10s/it]"
          ]
        },
        {
          "metadata": {
            "tags": null
          },
          "name": "stdout",
          "output_type": "stream",
          "text": [
            "                   all        107       3682     0.0129      0.112    0.00786    0.00206\n"
          ]
        },
        {
          "metadata": {
            "tags": null
          },
          "name": "stderr",
          "output_type": "stream",
          "text": [
            "\n"
          ]
        },
        {
          "metadata": {
            "tags": null
          },
          "name": "stdout",
          "output_type": "stream",
          "text": [
            "\n",
            "      Epoch    GPU_mem   box_loss   cls_loss   dfl_loss  Instances       Size\n"
          ]
        },
        {
          "metadata": {
            "tags": null
          },
          "name": "stderr",
          "output_type": "stream",
          "text": [
            "      2/200       8.6G      2.262      2.541      1.336        959        640: 100%|██████████| 12/12 [00:16<00:00,  1.35s/it]\n",
            "                 Class     Images  Instances      Box(P          R      mAP50  mAP50-95): 100%|██████████| 2/2 [00:07<00:00,  3.81s/it]"
          ]
        },
        {
          "metadata": {
            "tags": null
          },
          "name": "stdout",
          "output_type": "stream",
          "text": [
            "                   all        107       3682     0.0215      0.187     0.0357    0.00826\n"
          ]
        },
        {
          "metadata": {
            "tags": null
          },
          "name": "stderr",
          "output_type": "stream",
          "text": [
            "\n"
          ]
        },
        {
          "metadata": {
            "tags": null
          },
          "name": "stdout",
          "output_type": "stream",
          "text": [
            "\n",
            "      Epoch    GPU_mem   box_loss   cls_loss   dfl_loss  Instances       Size\n"
          ]
        },
        {
          "metadata": {
            "tags": null
          },
          "name": "stderr",
          "output_type": "stream",
          "text": [
            "      3/200      6.51G      2.095      1.968      1.243        599        640: 100%|██████████| 12/12 [00:17<00:00,  1.43s/it]\n",
            "                 Class     Images  Instances      Box(P          R      mAP50  mAP50-95): 100%|██████████| 2/2 [00:06<00:00,  3.20s/it]"
          ]
        },
        {
          "metadata": {
            "tags": null
          },
          "name": "stdout",
          "output_type": "stream",
          "text": [
            "                   all        107       3682     0.0348      0.303       0.11     0.0289\n"
          ]
        },
        {
          "metadata": {
            "tags": null
          },
          "name": "stderr",
          "output_type": "stream",
          "text": [
            "\n"
          ]
        },
        {
          "metadata": {
            "tags": null
          },
          "name": "stdout",
          "output_type": "stream",
          "text": [
            "\n",
            "      Epoch    GPU_mem   box_loss   cls_loss   dfl_loss  Instances       Size\n"
          ]
        },
        {
          "metadata": {
            "tags": null
          },
          "name": "stderr",
          "output_type": "stream",
          "text": [
            "      4/200      6.98G      2.018      1.665      1.207        729        640: 100%|██████████| 12/12 [00:18<00:00,  1.53s/it]\n",
            "                 Class     Images  Instances      Box(P          R      mAP50  mAP50-95): 100%|██████████| 2/2 [00:02<00:00,  1.13s/it]"
          ]
        },
        {
          "metadata": {
            "tags": null
          },
          "name": "stdout",
          "output_type": "stream",
          "text": [
            "                   all        107       3682     0.0531      0.436      0.139       0.05\n"
          ]
        },
        {
          "metadata": {
            "tags": null
          },
          "name": "stderr",
          "output_type": "stream",
          "text": [
            "\n"
          ]
        },
        {
          "metadata": {
            "tags": null
          },
          "name": "stdout",
          "output_type": "stream",
          "text": [
            "\n",
            "      Epoch    GPU_mem   box_loss   cls_loss   dfl_loss  Instances       Size\n"
          ]
        },
        {
          "metadata": {
            "tags": null
          },
          "name": "stderr",
          "output_type": "stream",
          "text": [
            "      5/200      7.47G      1.923      1.544      1.169        800        640: 100%|██████████| 12/12 [00:19<00:00,  1.62s/it]\n",
            "                 Class     Images  Instances      Box(P          R      mAP50  mAP50-95): 100%|██████████| 2/2 [00:02<00:00,  1.18s/it]"
          ]
        },
        {
          "metadata": {
            "tags": null
          },
          "name": "stdout",
          "output_type": "stream",
          "text": [
            "                   all        107       3682     0.0509      0.441      0.164     0.0508\n"
          ]
        },
        {
          "metadata": {
            "tags": null
          },
          "name": "stderr",
          "output_type": "stream",
          "text": [
            "\n"
          ]
        },
        {
          "metadata": {
            "tags": null
          },
          "name": "stdout",
          "output_type": "stream",
          "text": [
            "\n",
            "      Epoch    GPU_mem   box_loss   cls_loss   dfl_loss  Instances       Size\n"
          ]
        },
        {
          "metadata": {
            "tags": null
          },
          "name": "stderr",
          "output_type": "stream",
          "text": [
            "      6/200      6.93G      1.856      1.478      1.152        673        640: 100%|██████████| 12/12 [00:20<00:00,  1.72s/it]\n",
            "                 Class     Images  Instances      Box(P          R      mAP50  mAP50-95): 100%|██████████| 2/2 [00:02<00:00,  1.15s/it]"
          ]
        },
        {
          "metadata": {
            "tags": null
          },
          "name": "stdout",
          "output_type": "stream",
          "text": [
            "                   all        107       3682     0.0766      0.662      0.341      0.151\n"
          ]
        },
        {
          "metadata": {
            "tags": null
          },
          "name": "stderr",
          "output_type": "stream",
          "text": [
            "\n"
          ]
        },
        {
          "metadata": {
            "tags": null
          },
          "name": "stdout",
          "output_type": "stream",
          "text": [
            "\n",
            "      Epoch    GPU_mem   box_loss   cls_loss   dfl_loss  Instances       Size\n"
          ]
        },
        {
          "metadata": {
            "tags": null
          },
          "name": "stderr",
          "output_type": "stream",
          "text": [
            "      7/200      8.99G      1.849      1.442      1.131        761        640: 100%|██████████| 12/12 [00:19<00:00,  1.64s/it]\n",
            "                 Class     Images  Instances      Box(P          R      mAP50  mAP50-95): 100%|██████████| 2/2 [00:02<00:00,  1.14s/it]"
          ]
        },
        {
          "metadata": {
            "tags": null
          },
          "name": "stdout",
          "output_type": "stream",
          "text": [
            "                   all        107       3682     0.0876        0.7      0.358      0.148\n"
          ]
        },
        {
          "metadata": {
            "tags": null
          },
          "name": "stderr",
          "output_type": "stream",
          "text": [
            "\n"
          ]
        },
        {
          "metadata": {
            "tags": null
          },
          "name": "stdout",
          "output_type": "stream",
          "text": [
            "\n",
            "      Epoch    GPU_mem   box_loss   cls_loss   dfl_loss  Instances       Size\n"
          ]
        },
        {
          "metadata": {
            "tags": null
          },
          "name": "stderr",
          "output_type": "stream",
          "text": [
            "      8/200      6.27G      1.825      1.372      1.123        766        640: 100%|██████████| 12/12 [00:18<00:00,  1.51s/it]\n",
            "                 Class     Images  Instances      Box(P          R      mAP50  mAP50-95): 100%|██████████| 2/2 [00:02<00:00,  1.34s/it]"
          ]
        },
        {
          "metadata": {
            "tags": null
          },
          "name": "stdout",
          "output_type": "stream",
          "text": [
            "                   all        107       3682       0.68      0.267      0.399       0.18\n"
          ]
        },
        {
          "metadata": {
            "tags": null
          },
          "name": "stderr",
          "output_type": "stream",
          "text": [
            "\n"
          ]
        },
        {
          "metadata": {
            "tags": null
          },
          "name": "stdout",
          "output_type": "stream",
          "text": [
            "\n",
            "      Epoch    GPU_mem   box_loss   cls_loss   dfl_loss  Instances       Size\n"
          ]
        },
        {
          "metadata": {
            "tags": null
          },
          "name": "stderr",
          "output_type": "stream",
          "text": [
            "      9/200      7.08G      1.787       1.36      1.104        690        640: 100%|██████████| 12/12 [00:18<00:00,  1.54s/it]\n",
            "                 Class     Images  Instances      Box(P          R      mAP50  mAP50-95): 100%|██████████| 2/2 [00:03<00:00,  1.65s/it]"
          ]
        },
        {
          "metadata": {
            "tags": null
          },
          "name": "stdout",
          "output_type": "stream",
          "text": [
            "                   all        107       3682      0.704      0.274      0.427      0.195\n"
          ]
        },
        {
          "metadata": {
            "tags": null
          },
          "name": "stderr",
          "output_type": "stream",
          "text": [
            "\n"
          ]
        },
        {
          "metadata": {
            "tags": null
          },
          "name": "stdout",
          "output_type": "stream",
          "text": [
            "\n",
            "      Epoch    GPU_mem   box_loss   cls_loss   dfl_loss  Instances       Size\n"
          ]
        },
        {
          "metadata": {
            "tags": null
          },
          "name": "stderr",
          "output_type": "stream",
          "text": [
            "     10/200      6.42G      1.754      1.314      1.126        648        640: 100%|██████████| 12/12 [00:18<00:00,  1.55s/it]\n",
            "                 Class     Images  Instances      Box(P          R      mAP50  mAP50-95): 100%|██████████| 2/2 [00:03<00:00,  1.93s/it]"
          ]
        },
        {
          "metadata": {
            "tags": null
          },
          "name": "stdout",
          "output_type": "stream",
          "text": [
            "                   all        107       3682      0.573      0.433      0.469      0.232\n"
          ]
        },
        {
          "metadata": {
            "tags": null
          },
          "name": "stderr",
          "output_type": "stream",
          "text": [
            "\n"
          ]
        },
        {
          "metadata": {
            "tags": null
          },
          "name": "stdout",
          "output_type": "stream",
          "text": [
            "\n",
            "      Epoch    GPU_mem   box_loss   cls_loss   dfl_loss  Instances       Size\n"
          ]
        },
        {
          "metadata": {
            "tags": null
          },
          "name": "stderr",
          "output_type": "stream",
          "text": [
            "     11/200      7.02G      1.693      1.293      1.099        771        640: 100%|██████████| 12/12 [00:17<00:00,  1.42s/it]\n",
            "                 Class     Images  Instances      Box(P          R      mAP50  mAP50-95): 100%|██████████| 2/2 [00:03<00:00,  1.91s/it]"
          ]
        },
        {
          "metadata": {
            "tags": null
          },
          "name": "stdout",
          "output_type": "stream",
          "text": [
            "                   all        107       3682      0.693      0.545      0.603      0.311\n"
          ]
        },
        {
          "metadata": {
            "tags": null
          },
          "name": "stderr",
          "output_type": "stream",
          "text": [
            "\n"
          ]
        },
        {
          "metadata": {
            "tags": null
          },
          "name": "stdout",
          "output_type": "stream",
          "text": [
            "\n",
            "      Epoch    GPU_mem   box_loss   cls_loss   dfl_loss  Instances       Size\n"
          ]
        },
        {
          "metadata": {
            "tags": null
          },
          "name": "stderr",
          "output_type": "stream",
          "text": [
            "     12/200      6.99G        1.7      1.242      1.094        585        640: 100%|██████████| 12/12 [00:19<00:00,  1.60s/it]\n",
            "                 Class     Images  Instances      Box(P          R      mAP50  mAP50-95): 100%|██████████| 2/2 [00:03<00:00,  1.65s/it]"
          ]
        },
        {
          "metadata": {
            "tags": null
          },
          "name": "stdout",
          "output_type": "stream",
          "text": [
            "                   all        107       3682      0.545       0.46      0.445      0.226\n"
          ]
        },
        {
          "metadata": {
            "tags": null
          },
          "name": "stderr",
          "output_type": "stream",
          "text": [
            "\n"
          ]
        },
        {
          "metadata": {
            "tags": null
          },
          "name": "stdout",
          "output_type": "stream",
          "text": [
            "\n",
            "      Epoch    GPU_mem   box_loss   cls_loss   dfl_loss  Instances       Size\n"
          ]
        },
        {
          "metadata": {
            "tags": null
          },
          "name": "stderr",
          "output_type": "stream",
          "text": [
            "     13/200         6G       1.67      1.243       1.08        626        640: 100%|██████████| 12/12 [00:19<00:00,  1.63s/it]\n",
            "                 Class     Images  Instances      Box(P          R      mAP50  mAP50-95): 100%|██████████| 2/2 [00:02<00:00,  1.12s/it]"
          ]
        },
        {
          "metadata": {
            "tags": null
          },
          "name": "stdout",
          "output_type": "stream",
          "text": [
            "                   all        107       3682      0.653      0.527      0.571      0.293\n"
          ]
        },
        {
          "metadata": {
            "tags": null
          },
          "name": "stderr",
          "output_type": "stream",
          "text": [
            "\n"
          ]
        },
        {
          "metadata": {
            "tags": null
          },
          "name": "stdout",
          "output_type": "stream",
          "text": [
            "\n",
            "      Epoch    GPU_mem   box_loss   cls_loss   dfl_loss  Instances       Size\n"
          ]
        },
        {
          "metadata": {
            "tags": null
          },
          "name": "stderr",
          "output_type": "stream",
          "text": [
            "     14/200      8.42G       1.64      1.231       1.07        776        640: 100%|██████████| 12/12 [00:20<00:00,  1.69s/it]\n",
            "                 Class     Images  Instances      Box(P          R      mAP50  mAP50-95): 100%|██████████| 2/2 [00:02<00:00,  1.19s/it]"
          ]
        },
        {
          "metadata": {
            "tags": null
          },
          "name": "stdout",
          "output_type": "stream",
          "text": [
            "                   all        107       3682      0.679      0.567      0.622      0.327\n"
          ]
        },
        {
          "metadata": {
            "tags": null
          },
          "name": "stderr",
          "output_type": "stream",
          "text": [
            "\n"
          ]
        },
        {
          "metadata": {
            "tags": null
          },
          "name": "stdout",
          "output_type": "stream",
          "text": [
            "\n",
            "      Epoch    GPU_mem   box_loss   cls_loss   dfl_loss  Instances       Size\n"
          ]
        },
        {
          "metadata": {
            "tags": null
          },
          "name": "stderr",
          "output_type": "stream",
          "text": [
            "     15/200       6.5G       1.62      1.215      1.062        599        640: 100%|██████████| 12/12 [00:19<00:00,  1.65s/it]\n",
            "                 Class     Images  Instances      Box(P          R      mAP50  mAP50-95): 100%|██████████| 2/2 [00:02<00:00,  1.15s/it]"
          ]
        },
        {
          "metadata": {
            "tags": null
          },
          "name": "stdout",
          "output_type": "stream",
          "text": [
            "                   all        107       3682      0.726      0.605      0.665      0.355\n"
          ]
        },
        {
          "metadata": {
            "tags": null
          },
          "name": "stderr",
          "output_type": "stream",
          "text": [
            "\n"
          ]
        },
        {
          "metadata": {
            "tags": null
          },
          "name": "stdout",
          "output_type": "stream",
          "text": [
            "\n",
            "      Epoch    GPU_mem   box_loss   cls_loss   dfl_loss  Instances       Size\n"
          ]
        },
        {
          "metadata": {
            "tags": null
          },
          "name": "stderr",
          "output_type": "stream",
          "text": [
            "     16/200      7.54G      1.625      1.166      1.081        718        640: 100%|██████████| 12/12 [00:20<00:00,  1.68s/it]\n",
            "                 Class     Images  Instances      Box(P          R      mAP50  mAP50-95): 100%|██████████| 2/2 [00:02<00:00,  1.22s/it]"
          ]
        },
        {
          "metadata": {
            "tags": null
          },
          "name": "stdout",
          "output_type": "stream",
          "text": [
            "                   all        107       3682      0.709      0.566      0.638      0.347\n"
          ]
        },
        {
          "metadata": {
            "tags": null
          },
          "name": "stderr",
          "output_type": "stream",
          "text": [
            "\n"
          ]
        },
        {
          "metadata": {
            "tags": null
          },
          "name": "stdout",
          "output_type": "stream",
          "text": [
            "\n",
            "      Epoch    GPU_mem   box_loss   cls_loss   dfl_loss  Instances       Size\n"
          ]
        },
        {
          "metadata": {
            "tags": null
          },
          "name": "stderr",
          "output_type": "stream",
          "text": [
            "     17/200      7.45G      1.605      1.126      1.064        915        640: 100%|██████████| 12/12 [00:19<00:00,  1.60s/it]\n",
            "                 Class     Images  Instances      Box(P          R      mAP50  mAP50-95): 100%|██████████| 2/2 [00:02<00:00,  1.38s/it]"
          ]
        },
        {
          "metadata": {
            "tags": null
          },
          "name": "stdout",
          "output_type": "stream",
          "text": [
            "                   all        107       3682      0.691      0.577      0.641      0.352\n"
          ]
        },
        {
          "metadata": {
            "tags": null
          },
          "name": "stderr",
          "output_type": "stream",
          "text": [
            "\n"
          ]
        },
        {
          "metadata": {
            "tags": null
          },
          "name": "stdout",
          "output_type": "stream",
          "text": [
            "\n",
            "      Epoch    GPU_mem   box_loss   cls_loss   dfl_loss  Instances       Size\n"
          ]
        },
        {
          "metadata": {
            "tags": null
          },
          "name": "stderr",
          "output_type": "stream",
          "text": [
            "     18/200      6.69G      1.628      1.142      1.087        570        640: 100%|██████████| 12/12 [00:18<00:00,  1.56s/it]\n",
            "                 Class     Images  Instances      Box(P          R      mAP50  mAP50-95): 100%|██████████| 2/2 [00:03<00:00,  1.72s/it]"
          ]
        },
        {
          "metadata": {
            "tags": null
          },
          "name": "stdout",
          "output_type": "stream",
          "text": [
            "                   all        107       3682      0.706      0.558      0.627      0.338\n"
          ]
        },
        {
          "metadata": {
            "tags": null
          },
          "name": "stderr",
          "output_type": "stream",
          "text": [
            "\n"
          ]
        },
        {
          "metadata": {
            "tags": null
          },
          "name": "stdout",
          "output_type": "stream",
          "text": [
            "\n",
            "      Epoch    GPU_mem   box_loss   cls_loss   dfl_loss  Instances       Size\n"
          ]
        },
        {
          "metadata": {
            "tags": null
          },
          "name": "stderr",
          "output_type": "stream",
          "text": [
            "     19/200      6.47G      1.581      1.125      1.051        510        640: 100%|██████████| 12/12 [00:18<00:00,  1.55s/it]\n",
            "                 Class     Images  Instances      Box(P          R      mAP50  mAP50-95): 100%|██████████| 2/2 [00:03<00:00,  1.84s/it]"
          ]
        },
        {
          "metadata": {
            "tags": null
          },
          "name": "stdout",
          "output_type": "stream",
          "text": [
            "                   all        107       3682      0.721      0.594       0.66      0.357\n"
          ]
        },
        {
          "metadata": {
            "tags": null
          },
          "name": "stderr",
          "output_type": "stream",
          "text": [
            "\n"
          ]
        },
        {
          "metadata": {
            "tags": null
          },
          "name": "stdout",
          "output_type": "stream",
          "text": [
            "\n",
            "      Epoch    GPU_mem   box_loss   cls_loss   dfl_loss  Instances       Size\n"
          ]
        },
        {
          "metadata": {
            "tags": null
          },
          "name": "stderr",
          "output_type": "stream",
          "text": [
            "     20/200      6.52G      1.608      1.146      1.059        663        640: 100%|██████████| 12/12 [00:18<00:00,  1.56s/it]\n",
            "                 Class     Images  Instances      Box(P          R      mAP50  mAP50-95): 100%|██████████| 2/2 [00:03<00:00,  1.98s/it]"
          ]
        },
        {
          "metadata": {
            "tags": null
          },
          "name": "stdout",
          "output_type": "stream",
          "text": [
            "                   all        107       3682      0.671       0.55      0.594        0.3\n"
          ]
        },
        {
          "metadata": {
            "tags": null
          },
          "name": "stderr",
          "output_type": "stream",
          "text": [
            "\n"
          ]
        },
        {
          "metadata": {
            "tags": null
          },
          "name": "stdout",
          "output_type": "stream",
          "text": [
            "\n",
            "      Epoch    GPU_mem   box_loss   cls_loss   dfl_loss  Instances       Size\n"
          ]
        },
        {
          "metadata": {
            "tags": null
          },
          "name": "stderr",
          "output_type": "stream",
          "text": [
            "     21/200      5.77G      1.569      1.116       1.05        678        640: 100%|██████████| 12/12 [00:19<00:00,  1.61s/it]\n",
            "                 Class     Images  Instances      Box(P          R      mAP50  mAP50-95): 100%|██████████| 2/2 [00:02<00:00,  1.44s/it]"
          ]
        },
        {
          "metadata": {
            "tags": null
          },
          "name": "stdout",
          "output_type": "stream",
          "text": [
            "                   all        107       3682      0.648      0.556      0.584      0.319\n"
          ]
        },
        {
          "metadata": {
            "tags": null
          },
          "name": "stderr",
          "output_type": "stream",
          "text": [
            "\n"
          ]
        },
        {
          "metadata": {
            "tags": null
          },
          "name": "stdout",
          "output_type": "stream",
          "text": [
            "\n",
            "      Epoch    GPU_mem   box_loss   cls_loss   dfl_loss  Instances       Size\n"
          ]
        },
        {
          "metadata": {
            "tags": null
          },
          "name": "stderr",
          "output_type": "stream",
          "text": [
            "     22/200       7.1G       1.57      1.086      1.038        872        640: 100%|██████████| 12/12 [00:19<00:00,  1.62s/it]\n",
            "                 Class     Images  Instances      Box(P          R      mAP50  mAP50-95): 100%|██████████| 2/2 [00:02<00:00,  1.14s/it]"
          ]
        },
        {
          "metadata": {
            "tags": null
          },
          "name": "stdout",
          "output_type": "stream",
          "text": [
            "                   all        107       3682      0.723      0.588      0.654      0.365\n"
          ]
        },
        {
          "metadata": {
            "tags": null
          },
          "name": "stderr",
          "output_type": "stream",
          "text": [
            "\n"
          ]
        },
        {
          "metadata": {
            "tags": null
          },
          "name": "stdout",
          "output_type": "stream",
          "text": [
            "\n",
            "      Epoch    GPU_mem   box_loss   cls_loss   dfl_loss  Instances       Size\n"
          ]
        },
        {
          "metadata": {
            "tags": null
          },
          "name": "stderr",
          "output_type": "stream",
          "text": [
            "     23/200      5.98G      1.559      1.101      1.055        549        640: 100%|██████████| 12/12 [00:20<00:00,  1.67s/it]\n",
            "                 Class     Images  Instances      Box(P          R      mAP50  mAP50-95): 100%|██████████| 2/2 [00:02<00:00,  1.15s/it]"
          ]
        },
        {
          "metadata": {
            "tags": null
          },
          "name": "stdout",
          "output_type": "stream",
          "text": [
            "                   all        107       3682      0.727      0.643      0.689      0.391\n"
          ]
        },
        {
          "metadata": {
            "tags": null
          },
          "name": "stderr",
          "output_type": "stream",
          "text": [
            "\n"
          ]
        },
        {
          "metadata": {
            "tags": null
          },
          "name": "stdout",
          "output_type": "stream",
          "text": [
            "\n",
            "      Epoch    GPU_mem   box_loss   cls_loss   dfl_loss  Instances       Size\n"
          ]
        },
        {
          "metadata": {
            "tags": null
          },
          "name": "stderr",
          "output_type": "stream",
          "text": [
            "     24/200       6.7G      1.565      1.078      1.041        546        640: 100%|██████████| 12/12 [00:20<00:00,  1.71s/it]\n",
            "                 Class     Images  Instances      Box(P          R      mAP50  mAP50-95): 100%|██████████| 2/2 [00:02<00:00,  1.18s/it]"
          ]
        },
        {
          "metadata": {
            "tags": null
          },
          "name": "stdout",
          "output_type": "stream",
          "text": [
            "                   all        107       3682      0.752      0.656      0.718      0.402\n"
          ]
        },
        {
          "metadata": {
            "tags": null
          },
          "name": "stderr",
          "output_type": "stream",
          "text": [
            "\n"
          ]
        },
        {
          "metadata": {
            "tags": null
          },
          "name": "stdout",
          "output_type": "stream",
          "text": [
            "\n",
            "      Epoch    GPU_mem   box_loss   cls_loss   dfl_loss  Instances       Size\n"
          ]
        },
        {
          "metadata": {
            "tags": null
          },
          "name": "stderr",
          "output_type": "stream",
          "text": [
            "     25/200      6.66G      1.535      1.067      1.031        606        640: 100%|██████████| 12/12 [00:18<00:00,  1.56s/it]\n",
            "                 Class     Images  Instances      Box(P          R      mAP50  mAP50-95): 100%|██████████| 2/2 [00:03<00:00,  1.67s/it]"
          ]
        },
        {
          "metadata": {
            "tags": null
          },
          "name": "stdout",
          "output_type": "stream",
          "text": [
            "                   all        107       3682      0.766       0.64      0.711      0.404\n"
          ]
        },
        {
          "metadata": {
            "tags": null
          },
          "name": "stderr",
          "output_type": "stream",
          "text": [
            "\n"
          ]
        },
        {
          "metadata": {
            "tags": null
          },
          "name": "stdout",
          "output_type": "stream",
          "text": [
            "\n",
            "      Epoch    GPU_mem   box_loss   cls_loss   dfl_loss  Instances       Size\n"
          ]
        },
        {
          "metadata": {
            "tags": null
          },
          "name": "stderr",
          "output_type": "stream",
          "text": [
            "     26/200      6.44G      1.556      1.056      1.042        373        640: 100%|██████████| 12/12 [00:19<00:00,  1.60s/it]\n",
            "                 Class     Images  Instances      Box(P          R      mAP50  mAP50-95): 100%|██████████| 2/2 [00:03<00:00,  1.97s/it]"
          ]
        },
        {
          "metadata": {
            "tags": null
          },
          "name": "stdout",
          "output_type": "stream",
          "text": [
            "                   all        107       3682      0.776      0.638       0.71      0.398\n"
          ]
        },
        {
          "metadata": {
            "tags": null
          },
          "name": "stderr",
          "output_type": "stream",
          "text": [
            "\n"
          ]
        },
        {
          "metadata": {
            "tags": null
          },
          "name": "stdout",
          "output_type": "stream",
          "text": [
            "\n",
            "      Epoch    GPU_mem   box_loss   cls_loss   dfl_loss  Instances       Size\n"
          ]
        },
        {
          "metadata": {
            "tags": null
          },
          "name": "stderr",
          "output_type": "stream",
          "text": [
            "     27/200      6.89G      1.525      1.039      1.034        632        640: 100%|██████████| 12/12 [00:19<00:00,  1.62s/it]\n",
            "                 Class     Images  Instances      Box(P          R      mAP50  mAP50-95): 100%|██████████| 2/2 [00:03<00:00,  1.64s/it]"
          ]
        },
        {
          "metadata": {
            "tags": null
          },
          "name": "stdout",
          "output_type": "stream",
          "text": [
            "                   all        107       3682      0.751      0.636      0.698      0.392\n"
          ]
        },
        {
          "metadata": {
            "tags": null
          },
          "name": "stderr",
          "output_type": "stream",
          "text": [
            "\n"
          ]
        },
        {
          "metadata": {
            "tags": null
          },
          "name": "stdout",
          "output_type": "stream",
          "text": [
            "\n",
            "      Epoch    GPU_mem   box_loss   cls_loss   dfl_loss  Instances       Size\n"
          ]
        },
        {
          "metadata": {
            "tags": null
          },
          "name": "stderr",
          "output_type": "stream",
          "text": [
            "     28/200      7.38G      1.558      1.069      1.026        648        640: 100%|██████████| 12/12 [00:20<00:00,  1.70s/it]\n",
            "                 Class     Images  Instances      Box(P          R      mAP50  mAP50-95): 100%|██████████| 2/2 [00:02<00:00,  1.21s/it]"
          ]
        },
        {
          "metadata": {
            "tags": null
          },
          "name": "stdout",
          "output_type": "stream",
          "text": [
            "                   all        107       3682      0.693      0.612      0.656      0.352\n"
          ]
        },
        {
          "metadata": {
            "tags": null
          },
          "name": "stderr",
          "output_type": "stream",
          "text": [
            "\n"
          ]
        },
        {
          "metadata": {
            "tags": null
          },
          "name": "stdout",
          "output_type": "stream",
          "text": [
            "\n",
            "      Epoch    GPU_mem   box_loss   cls_loss   dfl_loss  Instances       Size\n"
          ]
        },
        {
          "metadata": {
            "tags": null
          },
          "name": "stderr",
          "output_type": "stream",
          "text": [
            "     29/200      6.43G      1.583      1.068      1.051        514        640: 100%|██████████| 12/12 [00:20<00:00,  1.69s/it]\n",
            "                 Class     Images  Instances      Box(P          R      mAP50  mAP50-95): 100%|██████████| 2/2 [00:02<00:00,  1.24s/it]"
          ]
        },
        {
          "metadata": {
            "tags": null
          },
          "name": "stdout",
          "output_type": "stream",
          "text": [
            "                   all        107       3682      0.771      0.632       0.71      0.394\n"
          ]
        },
        {
          "metadata": {
            "tags": null
          },
          "name": "stderr",
          "output_type": "stream",
          "text": [
            "\n"
          ]
        },
        {
          "metadata": {
            "tags": null
          },
          "name": "stdout",
          "output_type": "stream",
          "text": [
            "\n",
            "      Epoch    GPU_mem   box_loss   cls_loss   dfl_loss  Instances       Size\n"
          ]
        },
        {
          "metadata": {
            "tags": null
          },
          "name": "stderr",
          "output_type": "stream",
          "text": [
            "     30/200         7G      1.528      1.046      1.042        732        640: 100%|██████████| 12/12 [00:20<00:00,  1.68s/it]\n",
            "                 Class     Images  Instances      Box(P          R      mAP50  mAP50-95): 100%|██████████| 2/2 [00:02<00:00,  1.15s/it]"
          ]
        },
        {
          "metadata": {
            "tags": null
          },
          "name": "stdout",
          "output_type": "stream",
          "text": [
            "                   all        107       3682      0.744      0.633      0.698      0.394\n"
          ]
        },
        {
          "metadata": {
            "tags": null
          },
          "name": "stderr",
          "output_type": "stream",
          "text": [
            "\n"
          ]
        },
        {
          "metadata": {
            "tags": null
          },
          "name": "stdout",
          "output_type": "stream",
          "text": [
            "\n",
            "      Epoch    GPU_mem   box_loss   cls_loss   dfl_loss  Instances       Size\n"
          ]
        },
        {
          "metadata": {
            "tags": null
          },
          "name": "stderr",
          "output_type": "stream",
          "text": [
            "     31/200      6.88G      1.497      1.039      1.034        682        640: 100%|██████████| 12/12 [00:20<00:00,  1.73s/it]\n",
            "                 Class     Images  Instances      Box(P          R      mAP50  mAP50-95): 100%|██████████| 2/2 [00:01<00:00,  1.02it/s]"
          ]
        },
        {
          "metadata": {
            "tags": null
          },
          "name": "stdout",
          "output_type": "stream",
          "text": [
            "                   all        107       3682      0.745      0.648      0.717      0.409\n"
          ]
        },
        {
          "metadata": {
            "tags": null
          },
          "name": "stderr",
          "output_type": "stream",
          "text": [
            "\n"
          ]
        },
        {
          "metadata": {
            "tags": null
          },
          "name": "stdout",
          "output_type": "stream",
          "text": [
            "\n",
            "      Epoch    GPU_mem   box_loss   cls_loss   dfl_loss  Instances       Size\n"
          ]
        },
        {
          "metadata": {
            "tags": null
          },
          "name": "stderr",
          "output_type": "stream",
          "text": [
            "     32/200      6.19G       1.47      1.041      1.022        358        640: 100%|██████████| 12/12 [00:19<00:00,  1.59s/it]\n",
            "                 Class     Images  Instances      Box(P          R      mAP50  mAP50-95): 100%|██████████| 2/2 [00:03<00:00,  1.60s/it]"
          ]
        },
        {
          "metadata": {
            "tags": null
          },
          "name": "stdout",
          "output_type": "stream",
          "text": [
            "                   all        107       3682       0.78       0.64      0.721      0.418\n"
          ]
        },
        {
          "metadata": {
            "tags": null
          },
          "name": "stderr",
          "output_type": "stream",
          "text": [
            "\n"
          ]
        },
        {
          "metadata": {
            "tags": null
          },
          "name": "stdout",
          "output_type": "stream",
          "text": [
            "\n",
            "      Epoch    GPU_mem   box_loss   cls_loss   dfl_loss  Instances       Size\n"
          ]
        },
        {
          "metadata": {
            "tags": null
          },
          "name": "stderr",
          "output_type": "stream",
          "text": [
            "     33/200      6.79G      1.494      1.004      1.023        738        640: 100%|██████████| 12/12 [00:18<00:00,  1.52s/it]\n",
            "                 Class     Images  Instances      Box(P          R      mAP50  mAP50-95): 100%|██████████| 2/2 [00:03<00:00,  1.91s/it]"
          ]
        },
        {
          "metadata": {
            "tags": null
          },
          "name": "stdout",
          "output_type": "stream",
          "text": [
            "                   all        107       3682      0.785      0.647      0.724      0.408\n"
          ]
        },
        {
          "metadata": {
            "tags": null
          },
          "name": "stderr",
          "output_type": "stream",
          "text": [
            "\n"
          ]
        },
        {
          "metadata": {
            "tags": null
          },
          "name": "stdout",
          "output_type": "stream",
          "text": [
            "\n",
            "      Epoch    GPU_mem   box_loss   cls_loss   dfl_loss  Instances       Size\n"
          ]
        },
        {
          "metadata": {
            "tags": null
          },
          "name": "stderr",
          "output_type": "stream",
          "text": [
            "     34/200      6.21G      1.464     0.9818      1.004        619        640: 100%|██████████| 12/12 [00:17<00:00,  1.50s/it]\n",
            "                 Class     Images  Instances      Box(P          R      mAP50  mAP50-95): 100%|██████████| 2/2 [00:03<00:00,  1.91s/it]"
          ]
        },
        {
          "metadata": {
            "tags": null
          },
          "name": "stdout",
          "output_type": "stream",
          "text": [
            "                   all        107       3682      0.735      0.645      0.709      0.404\n"
          ]
        },
        {
          "metadata": {
            "tags": null
          },
          "name": "stderr",
          "output_type": "stream",
          "text": [
            "\n"
          ]
        },
        {
          "metadata": {
            "tags": null
          },
          "name": "stdout",
          "output_type": "stream",
          "text": [
            "\n",
            "      Epoch    GPU_mem   box_loss   cls_loss   dfl_loss  Instances       Size\n"
          ]
        },
        {
          "metadata": {
            "tags": null
          },
          "name": "stderr",
          "output_type": "stream",
          "text": [
            "     35/200      7.01G      1.493      0.976      1.022        707        640: 100%|██████████| 12/12 [00:19<00:00,  1.63s/it]\n",
            "                 Class     Images  Instances      Box(P          R      mAP50  mAP50-95): 100%|██████████| 2/2 [00:02<00:00,  1.26s/it]"
          ]
        },
        {
          "metadata": {
            "tags": null
          },
          "name": "stdout",
          "output_type": "stream",
          "text": [
            "                   all        107       3682      0.739      0.625      0.691      0.392\n"
          ]
        },
        {
          "metadata": {
            "tags": null
          },
          "name": "stderr",
          "output_type": "stream",
          "text": [
            "\n"
          ]
        },
        {
          "metadata": {
            "tags": null
          },
          "name": "stdout",
          "output_type": "stream",
          "text": [
            "\n",
            "      Epoch    GPU_mem   box_loss   cls_loss   dfl_loss  Instances       Size\n"
          ]
        },
        {
          "metadata": {
            "tags": null
          },
          "name": "stderr",
          "output_type": "stream",
          "text": [
            "     36/200      7.29G      1.518      1.033      1.046        754        640: 100%|██████████| 12/12 [00:19<00:00,  1.62s/it]\n",
            "                 Class     Images  Instances      Box(P          R      mAP50  mAP50-95): 100%|██████████| 2/2 [00:02<00:00,  1.16s/it]"
          ]
        },
        {
          "metadata": {
            "tags": null
          },
          "name": "stdout",
          "output_type": "stream",
          "text": [
            "                   all        107       3682      0.773      0.629      0.717      0.412\n"
          ]
        },
        {
          "metadata": {
            "tags": null
          },
          "name": "stderr",
          "output_type": "stream",
          "text": [
            "\n"
          ]
        },
        {
          "metadata": {
            "tags": null
          },
          "name": "stdout",
          "output_type": "stream",
          "text": [
            "\n",
            "      Epoch    GPU_mem   box_loss   cls_loss   dfl_loss  Instances       Size\n"
          ]
        },
        {
          "metadata": {
            "tags": null
          },
          "name": "stderr",
          "output_type": "stream",
          "text": [
            "     37/200      6.08G      1.452     0.9805      1.022        580        640: 100%|██████████| 12/12 [00:20<00:00,  1.73s/it]\n",
            "                 Class     Images  Instances      Box(P          R      mAP50  mAP50-95): 100%|██████████| 2/2 [00:02<00:00,  1.20s/it]"
          ]
        },
        {
          "metadata": {
            "tags": null
          },
          "name": "stdout",
          "output_type": "stream",
          "text": [
            "                   all        107       3682      0.783      0.628      0.711      0.409\n"
          ]
        },
        {
          "metadata": {
            "tags": null
          },
          "name": "stderr",
          "output_type": "stream",
          "text": [
            "\n"
          ]
        },
        {
          "metadata": {
            "tags": null
          },
          "name": "stdout",
          "output_type": "stream",
          "text": [
            "\n",
            "      Epoch    GPU_mem   box_loss   cls_loss   dfl_loss  Instances       Size\n"
          ]
        },
        {
          "metadata": {
            "tags": null
          },
          "name": "stderr",
          "output_type": "stream",
          "text": [
            "     38/200      8.37G      1.486      1.006      1.035        647        640: 100%|██████████| 12/12 [00:18<00:00,  1.58s/it]\n",
            "                 Class     Images  Instances      Box(P          R      mAP50  mAP50-95): 100%|██████████| 2/2 [00:02<00:00,  1.17s/it]"
          ]
        },
        {
          "metadata": {
            "tags": null
          },
          "name": "stdout",
          "output_type": "stream",
          "text": [
            "                   all        107       3682      0.732      0.606      0.677      0.384\n"
          ]
        },
        {
          "metadata": {
            "tags": null
          },
          "name": "stderr",
          "output_type": "stream",
          "text": [
            "\n"
          ]
        },
        {
          "metadata": {
            "tags": null
          },
          "name": "stdout",
          "output_type": "stream",
          "text": [
            "\n",
            "      Epoch    GPU_mem   box_loss   cls_loss   dfl_loss  Instances       Size\n"
          ]
        },
        {
          "metadata": {
            "tags": null
          },
          "name": "stderr",
          "output_type": "stream",
          "text": [
            "     39/200      7.12G      1.492      1.011      1.022        683        640: 100%|██████████| 12/12 [00:20<00:00,  1.68s/it]\n",
            "                 Class     Images  Instances      Box(P          R      mAP50  mAP50-95): 100%|██████████| 2/2 [00:02<00:00,  1.41s/it]"
          ]
        },
        {
          "metadata": {
            "tags": null
          },
          "name": "stdout",
          "output_type": "stream",
          "text": [
            "                   all        107       3682      0.775      0.633      0.712      0.411\n"
          ]
        },
        {
          "metadata": {
            "tags": null
          },
          "name": "stderr",
          "output_type": "stream",
          "text": [
            "\n"
          ]
        },
        {
          "metadata": {
            "tags": null
          },
          "name": "stdout",
          "output_type": "stream",
          "text": [
            "\n",
            "      Epoch    GPU_mem   box_loss   cls_loss   dfl_loss  Instances       Size\n"
          ]
        },
        {
          "metadata": {
            "tags": null
          },
          "name": "stderr",
          "output_type": "stream",
          "text": [
            "     40/200      7.16G      1.476     0.9843      1.034        637        640: 100%|██████████| 12/12 [00:20<00:00,  1.69s/it]\n",
            "                 Class     Images  Instances      Box(P          R      mAP50  mAP50-95): 100%|██████████| 2/2 [00:03<00:00,  1.66s/it]"
          ]
        },
        {
          "metadata": {
            "tags": null
          },
          "name": "stdout",
          "output_type": "stream",
          "text": [
            "                   all        107       3682      0.776      0.632      0.718      0.418\n"
          ]
        },
        {
          "metadata": {
            "tags": null
          },
          "name": "stderr",
          "output_type": "stream",
          "text": [
            "\n"
          ]
        },
        {
          "metadata": {
            "tags": null
          },
          "name": "stdout",
          "output_type": "stream",
          "text": [
            "\n",
            "      Epoch    GPU_mem   box_loss   cls_loss   dfl_loss  Instances       Size\n"
          ]
        },
        {
          "metadata": {
            "tags": null
          },
          "name": "stderr",
          "output_type": "stream",
          "text": [
            "     41/200      7.43G      1.418       0.95     0.9962        626        640: 100%|██████████| 12/12 [00:18<00:00,  1.55s/it]\n",
            "                 Class     Images  Instances      Box(P          R      mAP50  mAP50-95): 100%|██████████| 2/2 [00:03<00:00,  1.82s/it]"
          ]
        },
        {
          "metadata": {
            "tags": null
          },
          "name": "stdout",
          "output_type": "stream",
          "text": [
            "                   all        107       3682      0.776      0.647      0.721       0.41\n"
          ]
        },
        {
          "metadata": {
            "tags": null
          },
          "name": "stderr",
          "output_type": "stream",
          "text": [
            "\n"
          ]
        },
        {
          "metadata": {
            "tags": null
          },
          "name": "stdout",
          "output_type": "stream",
          "text": [
            "\n",
            "      Epoch    GPU_mem   box_loss   cls_loss   dfl_loss  Instances       Size\n"
          ]
        },
        {
          "metadata": {
            "tags": null
          },
          "name": "stderr",
          "output_type": "stream",
          "text": [
            "     42/200       6.2G      1.446     0.9623      1.006        635        640: 100%|██████████| 12/12 [00:18<00:00,  1.52s/it]\n",
            "                 Class     Images  Instances      Box(P          R      mAP50  mAP50-95): 100%|██████████| 2/2 [00:03<00:00,  1.85s/it]"
          ]
        },
        {
          "metadata": {
            "tags": null
          },
          "name": "stdout",
          "output_type": "stream",
          "text": [
            "                   all        107       3682      0.763      0.649      0.717      0.412\n"
          ]
        },
        {
          "metadata": {
            "tags": null
          },
          "name": "stderr",
          "output_type": "stream",
          "text": [
            "\n"
          ]
        },
        {
          "metadata": {
            "tags": null
          },
          "name": "stdout",
          "output_type": "stream",
          "text": [
            "\n",
            "      Epoch    GPU_mem   box_loss   cls_loss   dfl_loss  Instances       Size\n"
          ]
        },
        {
          "metadata": {
            "tags": null
          },
          "name": "stderr",
          "output_type": "stream",
          "text": [
            "     43/200      7.16G      1.455     0.9546     0.9995        820        640: 100%|██████████| 12/12 [00:20<00:00,  1.71s/it]\n",
            "                 Class     Images  Instances      Box(P          R      mAP50  mAP50-95): 100%|██████████| 2/2 [00:02<00:00,  1.12s/it]"
          ]
        },
        {
          "metadata": {
            "tags": null
          },
          "name": "stdout",
          "output_type": "stream",
          "text": [
            "                   all        107       3682      0.757       0.66      0.722      0.414\n"
          ]
        },
        {
          "metadata": {
            "tags": null
          },
          "name": "stderr",
          "output_type": "stream",
          "text": [
            "\n"
          ]
        },
        {
          "metadata": {
            "tags": null
          },
          "name": "stdout",
          "output_type": "stream",
          "text": [
            "\n",
            "      Epoch    GPU_mem   box_loss   cls_loss   dfl_loss  Instances       Size\n"
          ]
        },
        {
          "metadata": {
            "tags": null
          },
          "name": "stderr",
          "output_type": "stream",
          "text": [
            "     44/200      7.08G      1.435     0.9653      1.018        469        640: 100%|██████████| 12/12 [00:21<00:00,  1.77s/it]\n",
            "                 Class     Images  Instances      Box(P          R      mAP50  mAP50-95): 100%|██████████| 2/2 [00:02<00:00,  1.15s/it]"
          ]
        },
        {
          "metadata": {
            "tags": null
          },
          "name": "stdout",
          "output_type": "stream",
          "text": [
            "                   all        107       3682      0.717      0.637      0.691      0.389\n"
          ]
        },
        {
          "metadata": {
            "tags": null
          },
          "name": "stderr",
          "output_type": "stream",
          "text": [
            "\n"
          ]
        },
        {
          "metadata": {
            "tags": null
          },
          "name": "stdout",
          "output_type": "stream",
          "text": [
            "\n",
            "      Epoch    GPU_mem   box_loss   cls_loss   dfl_loss  Instances       Size\n"
          ]
        },
        {
          "metadata": {
            "tags": null
          },
          "name": "stderr",
          "output_type": "stream",
          "text": [
            "     45/200      8.07G      1.439     0.9615      1.021        512        640: 100%|██████████| 12/12 [00:20<00:00,  1.67s/it]\n",
            "                 Class     Images  Instances      Box(P          R      mAP50  mAP50-95): 100%|██████████| 2/2 [00:02<00:00,  1.17s/it]"
          ]
        },
        {
          "metadata": {
            "tags": null
          },
          "name": "stdout",
          "output_type": "stream",
          "text": [
            "                   all        107       3682      0.773       0.66      0.732      0.415\n"
          ]
        },
        {
          "metadata": {
            "tags": null
          },
          "name": "stderr",
          "output_type": "stream",
          "text": [
            "\n"
          ]
        },
        {
          "metadata": {
            "tags": null
          },
          "name": "stdout",
          "output_type": "stream",
          "text": [
            "\n",
            "      Epoch    GPU_mem   box_loss   cls_loss   dfl_loss  Instances       Size\n"
          ]
        },
        {
          "metadata": {
            "tags": null
          },
          "name": "stderr",
          "output_type": "stream",
          "text": [
            "     46/200      6.96G      1.466     0.9671      1.016        796        640: 100%|██████████| 12/12 [00:20<00:00,  1.72s/it]\n",
            "                 Class     Images  Instances      Box(P          R      mAP50  mAP50-95): 100%|██████████| 2/2 [00:02<00:00,  1.33s/it]"
          ]
        },
        {
          "metadata": {
            "tags": null
          },
          "name": "stdout",
          "output_type": "stream",
          "text": [
            "                   all        107       3682      0.789       0.67      0.746      0.423\n"
          ]
        },
        {
          "metadata": {
            "tags": null
          },
          "name": "stderr",
          "output_type": "stream",
          "text": [
            "\n"
          ]
        },
        {
          "metadata": {
            "tags": null
          },
          "name": "stdout",
          "output_type": "stream",
          "text": [
            "\n",
            "      Epoch    GPU_mem   box_loss   cls_loss   dfl_loss  Instances       Size\n"
          ]
        },
        {
          "metadata": {
            "tags": null
          },
          "name": "stderr",
          "output_type": "stream",
          "text": [
            "     47/200      6.52G      1.464     0.9714      1.019        678        640: 100%|██████████| 12/12 [00:17<00:00,  1.47s/it]\n",
            "                 Class     Images  Instances      Box(P          R      mAP50  mAP50-95): 100%|██████████| 2/2 [00:03<00:00,  1.75s/it]"
          ]
        },
        {
          "metadata": {
            "tags": null
          },
          "name": "stdout",
          "output_type": "stream",
          "text": [
            "                   all        107       3682       0.75      0.649      0.722      0.415\n"
          ]
        },
        {
          "metadata": {
            "tags": null
          },
          "name": "stderr",
          "output_type": "stream",
          "text": [
            "\n"
          ]
        },
        {
          "metadata": {
            "tags": null
          },
          "name": "stdout",
          "output_type": "stream",
          "text": [
            "\n",
            "      Epoch    GPU_mem   box_loss   cls_loss   dfl_loss  Instances       Size\n"
          ]
        },
        {
          "metadata": {
            "tags": null
          },
          "name": "stderr",
          "output_type": "stream",
          "text": [
            "     48/200      7.38G      1.482     0.9474      1.012        840        640: 100%|██████████| 12/12 [00:19<00:00,  1.63s/it]\n",
            "                 Class     Images  Instances      Box(P          R      mAP50  mAP50-95): 100%|██████████| 2/2 [00:03<00:00,  1.79s/it]"
          ]
        },
        {
          "metadata": {
            "tags": null
          },
          "name": "stdout",
          "output_type": "stream",
          "text": [
            "                   all        107       3682      0.728      0.642      0.698      0.388\n"
          ]
        },
        {
          "metadata": {
            "tags": null
          },
          "name": "stderr",
          "output_type": "stream",
          "text": [
            "\n"
          ]
        },
        {
          "metadata": {
            "tags": null
          },
          "name": "stdout",
          "output_type": "stream",
          "text": [
            "\n",
            "      Epoch    GPU_mem   box_loss   cls_loss   dfl_loss  Instances       Size\n"
          ]
        },
        {
          "metadata": {
            "tags": null
          },
          "name": "stderr",
          "output_type": "stream",
          "text": [
            "     49/200      8.12G      1.456     0.9585      1.001        788        640: 100%|██████████| 12/12 [00:20<00:00,  1.70s/it]\n",
            "                 Class     Images  Instances      Box(P          R      mAP50  mAP50-95): 100%|██████████| 2/2 [00:02<00:00,  1.22s/it]"
          ]
        },
        {
          "metadata": {
            "tags": null
          },
          "name": "stdout",
          "output_type": "stream",
          "text": [
            "                   all        107       3682      0.766      0.656      0.727      0.413\n"
          ]
        },
        {
          "metadata": {
            "tags": null
          },
          "name": "stderr",
          "output_type": "stream",
          "text": [
            "\n"
          ]
        },
        {
          "metadata": {
            "tags": null
          },
          "name": "stdout",
          "output_type": "stream",
          "text": [
            "\n",
            "      Epoch    GPU_mem   box_loss   cls_loss   dfl_loss  Instances       Size\n"
          ]
        },
        {
          "metadata": {
            "tags": null
          },
          "name": "stderr",
          "output_type": "stream",
          "text": [
            "     50/200      6.69G      1.407     0.9499      1.001        682        640: 100%|██████████| 12/12 [00:20<00:00,  1.71s/it]\n",
            "                 Class     Images  Instances      Box(P          R      mAP50  mAP50-95): 100%|██████████| 2/2 [00:02<00:00,  1.21s/it]"
          ]
        },
        {
          "metadata": {
            "tags": null
          },
          "name": "stdout",
          "output_type": "stream",
          "text": [
            "                   all        107       3682      0.768      0.651      0.711      0.407\n"
          ]
        },
        {
          "metadata": {
            "tags": null
          },
          "name": "stderr",
          "output_type": "stream",
          "text": [
            "\n"
          ]
        },
        {
          "metadata": {
            "tags": null
          },
          "name": "stdout",
          "output_type": "stream",
          "text": [
            "\n",
            "      Epoch    GPU_mem   box_loss   cls_loss   dfl_loss  Instances       Size\n"
          ]
        },
        {
          "metadata": {
            "tags": null
          },
          "name": "stderr",
          "output_type": "stream",
          "text": [
            "     51/200      6.33G      1.443     0.9499      1.006        590        640: 100%|██████████| 12/12 [00:21<00:00,  1.77s/it]\n",
            "                 Class     Images  Instances      Box(P          R      mAP50  mAP50-95): 100%|██████████| 2/2 [00:02<00:00,  1.15s/it]"
          ]
        },
        {
          "metadata": {
            "tags": null
          },
          "name": "stdout",
          "output_type": "stream",
          "text": [
            "                   all        107       3682      0.782      0.681      0.745      0.428\n"
          ]
        },
        {
          "metadata": {
            "tags": null
          },
          "name": "stderr",
          "output_type": "stream",
          "text": [
            "\n"
          ]
        },
        {
          "metadata": {
            "tags": null
          },
          "name": "stdout",
          "output_type": "stream",
          "text": [
            "\n",
            "      Epoch    GPU_mem   box_loss   cls_loss   dfl_loss  Instances       Size\n"
          ]
        },
        {
          "metadata": {
            "tags": null
          },
          "name": "stderr",
          "output_type": "stream",
          "text": [
            "     52/200      6.95G      1.437     0.9422      1.009        769        640: 100%|██████████| 12/12 [00:20<00:00,  1.67s/it]\n",
            "                 Class     Images  Instances      Box(P          R      mAP50  mAP50-95): 100%|██████████| 2/2 [00:02<00:00,  1.28s/it]"
          ]
        },
        {
          "metadata": {
            "tags": null
          },
          "name": "stdout",
          "output_type": "stream",
          "text": [
            "                   all        107       3682      0.788      0.658      0.731      0.423\n"
          ]
        },
        {
          "metadata": {
            "tags": null
          },
          "name": "stderr",
          "output_type": "stream",
          "text": [
            "\n"
          ]
        },
        {
          "metadata": {
            "tags": null
          },
          "name": "stdout",
          "output_type": "stream",
          "text": [
            "\n",
            "      Epoch    GPU_mem   box_loss   cls_loss   dfl_loss  Instances       Size\n"
          ]
        },
        {
          "metadata": {
            "tags": null
          },
          "name": "stderr",
          "output_type": "stream",
          "text": [
            "     53/200      6.12G      1.402     0.9563      1.007        565        640: 100%|██████████| 12/12 [00:18<00:00,  1.51s/it]\n",
            "                 Class     Images  Instances      Box(P          R      mAP50  mAP50-95): 100%|██████████| 2/2 [00:02<00:00,  1.43s/it]"
          ]
        },
        {
          "metadata": {
            "tags": null
          },
          "name": "stdout",
          "output_type": "stream",
          "text": [
            "                   all        107       3682       0.77      0.669      0.745      0.434\n"
          ]
        },
        {
          "metadata": {
            "tags": null
          },
          "name": "stderr",
          "output_type": "stream",
          "text": [
            "\n"
          ]
        },
        {
          "metadata": {
            "tags": null
          },
          "name": "stdout",
          "output_type": "stream",
          "text": [
            "\n",
            "      Epoch    GPU_mem   box_loss   cls_loss   dfl_loss  Instances       Size\n"
          ]
        },
        {
          "metadata": {
            "tags": null
          },
          "name": "stderr",
          "output_type": "stream",
          "text": [
            "     54/200      6.38G      1.408     0.9329     0.9892        751        640: 100%|██████████| 12/12 [00:17<00:00,  1.42s/it]\n",
            "                 Class     Images  Instances      Box(P          R      mAP50  mAP50-95): 100%|██████████| 2/2 [00:03<00:00,  1.74s/it]"
          ]
        },
        {
          "metadata": {
            "tags": null
          },
          "name": "stdout",
          "output_type": "stream",
          "text": [
            "                   all        107       3682      0.782      0.671      0.749      0.445\n"
          ]
        },
        {
          "metadata": {
            "tags": null
          },
          "name": "stderr",
          "output_type": "stream",
          "text": [
            "\n"
          ]
        },
        {
          "metadata": {
            "tags": null
          },
          "name": "stdout",
          "output_type": "stream",
          "text": [
            "\n",
            "      Epoch    GPU_mem   box_loss   cls_loss   dfl_loss  Instances       Size\n"
          ]
        },
        {
          "metadata": {
            "tags": null
          },
          "name": "stderr",
          "output_type": "stream",
          "text": [
            "     55/200      7.23G      1.387     0.9076      1.007        782        640: 100%|██████████| 12/12 [00:18<00:00,  1.56s/it]\n",
            "                 Class     Images  Instances      Box(P          R      mAP50  mAP50-95): 100%|██████████| 2/2 [00:03<00:00,  1.77s/it]"
          ]
        },
        {
          "metadata": {
            "tags": null
          },
          "name": "stdout",
          "output_type": "stream",
          "text": [
            "                   all        107       3682        0.8      0.671      0.748      0.433\n"
          ]
        },
        {
          "metadata": {
            "tags": null
          },
          "name": "stderr",
          "output_type": "stream",
          "text": [
            "\n"
          ]
        },
        {
          "metadata": {
            "tags": null
          },
          "name": "stdout",
          "output_type": "stream",
          "text": [
            "\n",
            "      Epoch    GPU_mem   box_loss   cls_loss   dfl_loss  Instances       Size\n"
          ]
        },
        {
          "metadata": {
            "tags": null
          },
          "name": "stderr",
          "output_type": "stream",
          "text": [
            "     56/200      7.23G      1.405     0.9082          1        699        640: 100%|██████████| 12/12 [00:19<00:00,  1.65s/it]\n",
            "                 Class     Images  Instances      Box(P          R      mAP50  mAP50-95): 100%|██████████| 2/2 [00:02<00:00,  1.38s/it]"
          ]
        },
        {
          "metadata": {
            "tags": null
          },
          "name": "stdout",
          "output_type": "stream",
          "text": [
            "                   all        107       3682      0.801       0.66      0.749      0.439\n"
          ]
        },
        {
          "metadata": {
            "tags": null
          },
          "name": "stderr",
          "output_type": "stream",
          "text": [
            "\n"
          ]
        },
        {
          "metadata": {
            "tags": null
          },
          "name": "stdout",
          "output_type": "stream",
          "text": [
            "\n",
            "      Epoch    GPU_mem   box_loss   cls_loss   dfl_loss  Instances       Size\n"
          ]
        },
        {
          "metadata": {
            "tags": null
          },
          "name": "stderr",
          "output_type": "stream",
          "text": [
            "     57/200      6.89G      1.404     0.9053     0.9968        624        640: 100%|██████████| 12/12 [00:20<00:00,  1.71s/it]\n",
            "                 Class     Images  Instances      Box(P          R      mAP50  mAP50-95): 100%|██████████| 2/2 [00:02<00:00,  1.14s/it]"
          ]
        },
        {
          "metadata": {
            "tags": null
          },
          "name": "stdout",
          "output_type": "stream",
          "text": [
            "                   all        107       3682      0.766      0.626      0.717      0.419\n"
          ]
        },
        {
          "metadata": {
            "tags": null
          },
          "name": "stderr",
          "output_type": "stream",
          "text": [
            "\n"
          ]
        },
        {
          "metadata": {
            "tags": null
          },
          "name": "stdout",
          "output_type": "stream",
          "text": [
            "\n",
            "      Epoch    GPU_mem   box_loss   cls_loss   dfl_loss  Instances       Size\n"
          ]
        },
        {
          "metadata": {
            "tags": null
          },
          "name": "stderr",
          "output_type": "stream",
          "text": [
            "     58/200      6.29G      1.358     0.8996      0.982        522        640: 100%|██████████| 12/12 [00:19<00:00,  1.62s/it]\n",
            "                 Class     Images  Instances      Box(P          R      mAP50  mAP50-95): 100%|██████████| 2/2 [00:02<00:00,  1.18s/it]"
          ]
        },
        {
          "metadata": {
            "tags": null
          },
          "name": "stdout",
          "output_type": "stream",
          "text": [
            "                   all        107       3682      0.776      0.668      0.751      0.436\n"
          ]
        },
        {
          "metadata": {
            "tags": null
          },
          "name": "stderr",
          "output_type": "stream",
          "text": [
            "\n"
          ]
        },
        {
          "metadata": {
            "tags": null
          },
          "name": "stdout",
          "output_type": "stream",
          "text": [
            "\n",
            "      Epoch    GPU_mem   box_loss   cls_loss   dfl_loss  Instances       Size\n"
          ]
        },
        {
          "metadata": {
            "tags": null
          },
          "name": "stderr",
          "output_type": "stream",
          "text": [
            "     59/200      5.77G      1.345     0.8734     0.9834        641        640: 100%|██████████| 12/12 [00:19<00:00,  1.59s/it]\n",
            "                 Class     Images  Instances      Box(P          R      mAP50  mAP50-95): 100%|██████████| 2/2 [00:01<00:00,  1.05it/s]"
          ]
        },
        {
          "metadata": {
            "tags": null
          },
          "name": "stdout",
          "output_type": "stream",
          "text": [
            "                   all        107       3682      0.821      0.668      0.757      0.447\n"
          ]
        },
        {
          "metadata": {
            "tags": null
          },
          "name": "stderr",
          "output_type": "stream",
          "text": [
            "\n"
          ]
        },
        {
          "metadata": {
            "tags": null
          },
          "name": "stdout",
          "output_type": "stream",
          "text": [
            "\n",
            "      Epoch    GPU_mem   box_loss   cls_loss   dfl_loss  Instances       Size\n"
          ]
        },
        {
          "metadata": {
            "tags": null
          },
          "name": "stderr",
          "output_type": "stream",
          "text": [
            "     60/200      6.32G      1.414     0.9064     0.9941       1045        640: 100%|██████████| 12/12 [00:20<00:00,  1.70s/it]\n",
            "                 Class     Images  Instances      Box(P          R      mAP50  mAP50-95): 100%|██████████| 2/2 [00:02<00:00,  1.10s/it]"
          ]
        },
        {
          "metadata": {
            "tags": null
          },
          "name": "stdout",
          "output_type": "stream",
          "text": [
            "                   all        107       3682      0.803      0.688       0.76      0.447\n"
          ]
        },
        {
          "metadata": {
            "tags": null
          },
          "name": "stderr",
          "output_type": "stream",
          "text": [
            "\n"
          ]
        },
        {
          "metadata": {
            "tags": null
          },
          "name": "stdout",
          "output_type": "stream",
          "text": [
            "\n",
            "      Epoch    GPU_mem   box_loss   cls_loss   dfl_loss  Instances       Size\n"
          ]
        },
        {
          "metadata": {
            "tags": null
          },
          "name": "stderr",
          "output_type": "stream",
          "text": [
            "     61/200      5.92G      1.395     0.8989     0.9937        640        640: 100%|██████████| 12/12 [00:18<00:00,  1.50s/it]\n",
            "                 Class     Images  Instances      Box(P          R      mAP50  mAP50-95): 100%|██████████| 2/2 [00:03<00:00,  1.74s/it]"
          ]
        },
        {
          "metadata": {
            "tags": null
          },
          "name": "stdout",
          "output_type": "stream",
          "text": [
            "                   all        107       3682      0.787      0.709      0.768      0.444\n"
          ]
        },
        {
          "metadata": {
            "tags": null
          },
          "name": "stderr",
          "output_type": "stream",
          "text": [
            "\n"
          ]
        },
        {
          "metadata": {
            "tags": null
          },
          "name": "stdout",
          "output_type": "stream",
          "text": [
            "\n",
            "      Epoch    GPU_mem   box_loss   cls_loss   dfl_loss  Instances       Size\n"
          ]
        },
        {
          "metadata": {
            "tags": null
          },
          "name": "stderr",
          "output_type": "stream",
          "text": [
            "     62/200      6.71G      1.357      0.877     0.9883        819        640: 100%|██████████| 12/12 [00:18<00:00,  1.51s/it]\n",
            "                 Class     Images  Instances      Box(P          R      mAP50  mAP50-95): 100%|██████████| 2/2 [00:03<00:00,  1.85s/it]"
          ]
        },
        {
          "metadata": {
            "tags": null
          },
          "name": "stdout",
          "output_type": "stream",
          "text": [
            "                   all        107       3682      0.793      0.677      0.765      0.449\n"
          ]
        },
        {
          "metadata": {
            "tags": null
          },
          "name": "stderr",
          "output_type": "stream",
          "text": [
            "\n"
          ]
        },
        {
          "metadata": {
            "tags": null
          },
          "name": "stdout",
          "output_type": "stream",
          "text": [
            "\n",
            "      Epoch    GPU_mem   box_loss   cls_loss   dfl_loss  Instances       Size\n"
          ]
        },
        {
          "metadata": {
            "tags": null
          },
          "name": "stderr",
          "output_type": "stream",
          "text": [
            "     63/200      7.54G      1.381     0.8806     0.9861        613        640: 100%|██████████| 12/12 [00:18<00:00,  1.54s/it]\n",
            "                 Class     Images  Instances      Box(P          R      mAP50  mAP50-95): 100%|██████████| 2/2 [00:03<00:00,  1.91s/it]"
          ]
        },
        {
          "metadata": {
            "tags": null
          },
          "name": "stdout",
          "output_type": "stream",
          "text": [
            "                   all        107       3682      0.785      0.686      0.759      0.454\n"
          ]
        },
        {
          "metadata": {
            "tags": null
          },
          "name": "stderr",
          "output_type": "stream",
          "text": [
            "\n"
          ]
        },
        {
          "metadata": {
            "tags": null
          },
          "name": "stdout",
          "output_type": "stream",
          "text": [
            "\n",
            "      Epoch    GPU_mem   box_loss   cls_loss   dfl_loss  Instances       Size\n"
          ]
        },
        {
          "metadata": {
            "tags": null
          },
          "name": "stderr",
          "output_type": "stream",
          "text": [
            "     64/200      6.21G      1.368     0.8953     0.9957        674        640: 100%|██████████| 12/12 [00:20<00:00,  1.67s/it]\n",
            "                 Class     Images  Instances      Box(P          R      mAP50  mAP50-95): 100%|██████████| 2/2 [00:02<00:00,  1.26s/it]"
          ]
        },
        {
          "metadata": {
            "tags": null
          },
          "name": "stdout",
          "output_type": "stream",
          "text": [
            "                   all        107       3682      0.802      0.694      0.771      0.458\n"
          ]
        },
        {
          "metadata": {
            "tags": null
          },
          "name": "stderr",
          "output_type": "stream",
          "text": [
            "\n"
          ]
        },
        {
          "metadata": {
            "tags": null
          },
          "name": "stdout",
          "output_type": "stream",
          "text": [
            "\n",
            "      Epoch    GPU_mem   box_loss   cls_loss   dfl_loss  Instances       Size\n"
          ]
        },
        {
          "metadata": {
            "tags": null
          },
          "name": "stderr",
          "output_type": "stream",
          "text": [
            "     65/200      6.49G      1.361     0.8737     0.9804        666        640: 100%|██████████| 12/12 [00:19<00:00,  1.58s/it]\n",
            "                 Class     Images  Instances      Box(P          R      mAP50  mAP50-95): 100%|██████████| 2/2 [00:02<00:00,  1.16s/it]"
          ]
        },
        {
          "metadata": {
            "tags": null
          },
          "name": "stdout",
          "output_type": "stream",
          "text": [
            "                   all        107       3682      0.777      0.671      0.746      0.437\n"
          ]
        },
        {
          "metadata": {
            "tags": null
          },
          "name": "stderr",
          "output_type": "stream",
          "text": [
            "\n"
          ]
        },
        {
          "metadata": {
            "tags": null
          },
          "name": "stdout",
          "output_type": "stream",
          "text": [
            "\n",
            "      Epoch    GPU_mem   box_loss   cls_loss   dfl_loss  Instances       Size\n"
          ]
        },
        {
          "metadata": {
            "tags": null
          },
          "name": "stderr",
          "output_type": "stream",
          "text": [
            "     66/200       7.2G      1.389     0.8871     0.9944        612        640: 100%|██████████| 12/12 [00:19<00:00,  1.59s/it]\n",
            "                 Class     Images  Instances      Box(P          R      mAP50  mAP50-95): 100%|██████████| 2/2 [00:02<00:00,  1.19s/it]"
          ]
        },
        {
          "metadata": {
            "tags": null
          },
          "name": "stdout",
          "output_type": "stream",
          "text": [
            "                   all        107       3682      0.793      0.682      0.755      0.445\n"
          ]
        },
        {
          "metadata": {
            "tags": null
          },
          "name": "stderr",
          "output_type": "stream",
          "text": [
            "\n"
          ]
        },
        {
          "metadata": {
            "tags": null
          },
          "name": "stdout",
          "output_type": "stream",
          "text": [
            "\n",
            "      Epoch    GPU_mem   box_loss   cls_loss   dfl_loss  Instances       Size\n"
          ]
        },
        {
          "metadata": {
            "tags": null
          },
          "name": "stderr",
          "output_type": "stream",
          "text": [
            "     67/200       5.9G      1.394     0.8938     0.9952        639        640: 100%|██████████| 12/12 [00:19<00:00,  1.61s/it]\n",
            "                 Class     Images  Instances      Box(P          R      mAP50  mAP50-95): 100%|██████████| 2/2 [00:02<00:00,  1.17s/it]"
          ]
        },
        {
          "metadata": {
            "tags": null
          },
          "name": "stdout",
          "output_type": "stream",
          "text": [
            "                   all        107       3682      0.792      0.679      0.752      0.447\n"
          ]
        },
        {
          "metadata": {
            "tags": null
          },
          "name": "stderr",
          "output_type": "stream",
          "text": [
            "\n"
          ]
        },
        {
          "metadata": {
            "tags": null
          },
          "name": "stdout",
          "output_type": "stream",
          "text": [
            "\n",
            "      Epoch    GPU_mem   box_loss   cls_loss   dfl_loss  Instances       Size\n"
          ]
        },
        {
          "metadata": {
            "tags": null
          },
          "name": "stderr",
          "output_type": "stream",
          "text": [
            "     68/200       6.5G      1.339     0.8539     0.9739        597        640: 100%|██████████| 12/12 [00:20<00:00,  1.67s/it]\n",
            "                 Class     Images  Instances      Box(P          R      mAP50  mAP50-95): 100%|██████████| 2/2 [00:02<00:00,  1.31s/it]"
          ]
        },
        {
          "metadata": {
            "tags": null
          },
          "name": "stdout",
          "output_type": "stream",
          "text": [
            "                   all        107       3682      0.806      0.685      0.766      0.465\n"
          ]
        },
        {
          "metadata": {
            "tags": null
          },
          "name": "stderr",
          "output_type": "stream",
          "text": [
            "\n"
          ]
        },
        {
          "metadata": {
            "tags": null
          },
          "name": "stdout",
          "output_type": "stream",
          "text": [
            "\n",
            "      Epoch    GPU_mem   box_loss   cls_loss   dfl_loss  Instances       Size\n"
          ]
        },
        {
          "metadata": {
            "tags": null
          },
          "name": "stderr",
          "output_type": "stream",
          "text": [
            "     69/200      6.84G       1.35     0.8644     0.9829        593        640: 100%|██████████| 12/12 [00:19<00:00,  1.65s/it]\n",
            "                 Class     Images  Instances      Box(P          R      mAP50  mAP50-95): 100%|██████████| 2/2 [00:03<00:00,  1.82s/it]"
          ]
        },
        {
          "metadata": {
            "tags": null
          },
          "name": "stdout",
          "output_type": "stream",
          "text": [
            "                   all        107       3682      0.811      0.696      0.773      0.469\n"
          ]
        },
        {
          "metadata": {
            "tags": null
          },
          "name": "stderr",
          "output_type": "stream",
          "text": [
            "\n"
          ]
        },
        {
          "metadata": {
            "tags": null
          },
          "name": "stdout",
          "output_type": "stream",
          "text": [
            "\n",
            "      Epoch    GPU_mem   box_loss   cls_loss   dfl_loss  Instances       Size\n"
          ]
        },
        {
          "metadata": {
            "tags": null
          },
          "name": "stderr",
          "output_type": "stream",
          "text": [
            "     70/200      6.29G      1.358     0.8654     0.9716        620        640: 100%|██████████| 12/12 [00:18<00:00,  1.57s/it]\n",
            "                 Class     Images  Instances      Box(P          R      mAP50  mAP50-95): 100%|██████████| 2/2 [00:03<00:00,  1.80s/it]"
          ]
        },
        {
          "metadata": {
            "tags": null
          },
          "name": "stdout",
          "output_type": "stream",
          "text": [
            "                   all        107       3682      0.785      0.681      0.757      0.449\n"
          ]
        },
        {
          "metadata": {
            "tags": null
          },
          "name": "stderr",
          "output_type": "stream",
          "text": [
            "\n"
          ]
        },
        {
          "metadata": {
            "tags": null
          },
          "name": "stdout",
          "output_type": "stream",
          "text": [
            "\n",
            "      Epoch    GPU_mem   box_loss   cls_loss   dfl_loss  Instances       Size\n"
          ]
        },
        {
          "metadata": {
            "tags": null
          },
          "name": "stderr",
          "output_type": "stream",
          "text": [
            "     71/200      6.35G       1.37     0.8713     0.9759        932        640: 100%|██████████| 12/12 [00:20<00:00,  1.68s/it]\n",
            "                 Class     Images  Instances      Box(P          R      mAP50  mAP50-95): 100%|██████████| 2/2 [00:02<00:00,  1.21s/it]"
          ]
        },
        {
          "metadata": {
            "tags": null
          },
          "name": "stdout",
          "output_type": "stream",
          "text": [
            "                   all        107       3682      0.771      0.686       0.75      0.438\n"
          ]
        },
        {
          "metadata": {
            "tags": null
          },
          "name": "stderr",
          "output_type": "stream",
          "text": [
            "\n"
          ]
        },
        {
          "metadata": {
            "tags": null
          },
          "name": "stdout",
          "output_type": "stream",
          "text": [
            "\n",
            "      Epoch    GPU_mem   box_loss   cls_loss   dfl_loss  Instances       Size\n"
          ]
        },
        {
          "metadata": {
            "tags": null
          },
          "name": "stderr",
          "output_type": "stream",
          "text": [
            "     72/200      6.31G      1.336     0.8488      0.973        644        640: 100%|██████████| 12/12 [00:19<00:00,  1.61s/it]\n",
            "                 Class     Images  Instances      Box(P          R      mAP50  mAP50-95): 100%|██████████| 2/2 [00:02<00:00,  1.19s/it]"
          ]
        },
        {
          "metadata": {
            "tags": null
          },
          "name": "stdout",
          "output_type": "stream",
          "text": [
            "                   all        107       3682      0.778      0.659      0.734      0.428\n"
          ]
        },
        {
          "metadata": {
            "tags": null
          },
          "name": "stderr",
          "output_type": "stream",
          "text": [
            "\n"
          ]
        },
        {
          "metadata": {
            "tags": null
          },
          "name": "stdout",
          "output_type": "stream",
          "text": [
            "\n",
            "      Epoch    GPU_mem   box_loss   cls_loss   dfl_loss  Instances       Size\n"
          ]
        },
        {
          "metadata": {
            "tags": null
          },
          "name": "stderr",
          "output_type": "stream",
          "text": [
            "     73/200      9.02G      1.351     0.8682     0.9858        730        640: 100%|██████████| 12/12 [00:19<00:00,  1.62s/it]\n",
            "                 Class     Images  Instances      Box(P          R      mAP50  mAP50-95): 100%|██████████| 2/2 [00:02<00:00,  1.09s/it]"
          ]
        },
        {
          "metadata": {
            "tags": null
          },
          "name": "stdout",
          "output_type": "stream",
          "text": [
            "                   all        107       3682      0.801      0.679      0.762      0.456\n"
          ]
        },
        {
          "metadata": {
            "tags": null
          },
          "name": "stderr",
          "output_type": "stream",
          "text": [
            "\n"
          ]
        },
        {
          "metadata": {
            "tags": null
          },
          "name": "stdout",
          "output_type": "stream",
          "text": [
            "\n",
            "      Epoch    GPU_mem   box_loss   cls_loss   dfl_loss  Instances       Size\n"
          ]
        },
        {
          "metadata": {
            "tags": null
          },
          "name": "stderr",
          "output_type": "stream",
          "text": [
            "     74/200      6.85G      1.378     0.8784     0.9873        499        640: 100%|██████████| 12/12 [00:20<00:00,  1.72s/it]\n",
            "                 Class     Images  Instances      Box(P          R      mAP50  mAP50-95): 100%|██████████| 2/2 [00:02<00:00,  1.18s/it]"
          ]
        },
        {
          "metadata": {
            "tags": null
          },
          "name": "stdout",
          "output_type": "stream",
          "text": [
            "                   all        107       3682      0.818      0.684      0.769      0.464\n"
          ]
        },
        {
          "metadata": {
            "tags": null
          },
          "name": "stderr",
          "output_type": "stream",
          "text": [
            "\n"
          ]
        },
        {
          "metadata": {
            "tags": null
          },
          "name": "stdout",
          "output_type": "stream",
          "text": [
            "\n",
            "      Epoch    GPU_mem   box_loss   cls_loss   dfl_loss  Instances       Size\n"
          ]
        },
        {
          "metadata": {
            "tags": null
          },
          "name": "stderr",
          "output_type": "stream",
          "text": [
            "     75/200      6.26G      1.354     0.8428     0.9678        444        640: 100%|██████████| 12/12 [00:19<00:00,  1.63s/it]\n",
            "                 Class     Images  Instances      Box(P          R      mAP50  mAP50-95): 100%|██████████| 2/2 [00:03<00:00,  1.70s/it]"
          ]
        },
        {
          "metadata": {
            "tags": null
          },
          "name": "stdout",
          "output_type": "stream",
          "text": [
            "                   all        107       3682      0.808      0.689      0.766      0.461\n"
          ]
        },
        {
          "metadata": {
            "tags": null
          },
          "name": "stderr",
          "output_type": "stream",
          "text": [
            "\n"
          ]
        },
        {
          "metadata": {
            "tags": null
          },
          "name": "stdout",
          "output_type": "stream",
          "text": [
            "\n",
            "      Epoch    GPU_mem   box_loss   cls_loss   dfl_loss  Instances       Size\n"
          ]
        },
        {
          "metadata": {
            "tags": null
          },
          "name": "stderr",
          "output_type": "stream",
          "text": [
            "     76/200      7.38G       1.34     0.8557     0.9738       1004        640: 100%|██████████| 12/12 [00:18<00:00,  1.58s/it]\n",
            "                 Class     Images  Instances      Box(P          R      mAP50  mAP50-95): 100%|██████████| 2/2 [00:04<00:00,  2.01s/it]"
          ]
        },
        {
          "metadata": {
            "tags": null
          },
          "name": "stdout",
          "output_type": "stream",
          "text": [
            "                   all        107       3682      0.794      0.665      0.751      0.447\n"
          ]
        },
        {
          "metadata": {
            "tags": null
          },
          "name": "stderr",
          "output_type": "stream",
          "text": [
            "\n"
          ]
        },
        {
          "metadata": {
            "tags": null
          },
          "name": "stdout",
          "output_type": "stream",
          "text": [
            "\n",
            "      Epoch    GPU_mem   box_loss   cls_loss   dfl_loss  Instances       Size\n"
          ]
        },
        {
          "metadata": {
            "tags": null
          },
          "name": "stderr",
          "output_type": "stream",
          "text": [
            "     77/200      6.29G      1.324     0.8511     0.9738        916        640: 100%|██████████| 12/12 [00:17<00:00,  1.44s/it]\n",
            "                 Class     Images  Instances      Box(P          R      mAP50  mAP50-95): 100%|██████████| 2/2 [00:03<00:00,  1.95s/it]"
          ]
        },
        {
          "metadata": {
            "tags": null
          },
          "name": "stdout",
          "output_type": "stream",
          "text": [
            "                   all        107       3682      0.761      0.696      0.761      0.452\n"
          ]
        },
        {
          "metadata": {
            "tags": null
          },
          "name": "stderr",
          "output_type": "stream",
          "text": [
            "\n"
          ]
        },
        {
          "metadata": {
            "tags": null
          },
          "name": "stdout",
          "output_type": "stream",
          "text": [
            "\n",
            "      Epoch    GPU_mem   box_loss   cls_loss   dfl_loss  Instances       Size\n"
          ]
        },
        {
          "metadata": {
            "tags": null
          },
          "name": "stderr",
          "output_type": "stream",
          "text": [
            "     78/200      8.47G      1.363     0.8456     0.9832        574        640: 100%|██████████| 12/12 [00:20<00:00,  1.74s/it]\n",
            "                 Class     Images  Instances      Box(P          R      mAP50  mAP50-95): 100%|██████████| 2/2 [00:02<00:00,  1.32s/it]"
          ]
        },
        {
          "metadata": {
            "tags": null
          },
          "name": "stdout",
          "output_type": "stream",
          "text": [
            "                   all        107       3682      0.786        0.7      0.769      0.467\n"
          ]
        },
        {
          "metadata": {
            "tags": null
          },
          "name": "stderr",
          "output_type": "stream",
          "text": [
            "\n"
          ]
        },
        {
          "metadata": {
            "tags": null
          },
          "name": "stdout",
          "output_type": "stream",
          "text": [
            "\n",
            "      Epoch    GPU_mem   box_loss   cls_loss   dfl_loss  Instances       Size\n"
          ]
        },
        {
          "metadata": {
            "tags": null
          },
          "name": "stderr",
          "output_type": "stream",
          "text": [
            "     79/200      5.71G      1.367      0.856     0.9757        742        640: 100%|██████████| 12/12 [00:21<00:00,  1.79s/it]\n",
            "                 Class     Images  Instances      Box(P          R      mAP50  mAP50-95): 100%|██████████| 2/2 [00:02<00:00,  1.17s/it]"
          ]
        },
        {
          "metadata": {
            "tags": null
          },
          "name": "stdout",
          "output_type": "stream",
          "text": [
            "                   all        107       3682      0.791      0.683      0.767      0.463\n"
          ]
        },
        {
          "metadata": {
            "tags": null
          },
          "name": "stderr",
          "output_type": "stream",
          "text": [
            "\n"
          ]
        },
        {
          "metadata": {
            "tags": null
          },
          "name": "stdout",
          "output_type": "stream",
          "text": [
            "\n",
            "      Epoch    GPU_mem   box_loss   cls_loss   dfl_loss  Instances       Size\n"
          ]
        },
        {
          "metadata": {
            "tags": null
          },
          "name": "stderr",
          "output_type": "stream",
          "text": [
            "     80/200      6.62G      1.341     0.8504     0.9759        832        640: 100%|██████████| 12/12 [00:19<00:00,  1.64s/it]\n",
            "                 Class     Images  Instances      Box(P          R      mAP50  mAP50-95): 100%|██████████| 2/2 [00:02<00:00,  1.16s/it]"
          ]
        },
        {
          "metadata": {
            "tags": null
          },
          "name": "stdout",
          "output_type": "stream",
          "text": [
            "                   all        107       3682      0.792      0.678      0.765      0.453\n"
          ]
        },
        {
          "metadata": {
            "tags": null
          },
          "name": "stderr",
          "output_type": "stream",
          "text": [
            "\n"
          ]
        },
        {
          "metadata": {
            "tags": null
          },
          "name": "stdout",
          "output_type": "stream",
          "text": [
            "\n",
            "      Epoch    GPU_mem   box_loss   cls_loss   dfl_loss  Instances       Size\n"
          ]
        },
        {
          "metadata": {
            "tags": null
          },
          "name": "stderr",
          "output_type": "stream",
          "text": [
            "     81/200      7.55G      1.339     0.8357     0.9724        602        640: 100%|██████████| 12/12 [00:20<00:00,  1.71s/it]\n",
            "                 Class     Images  Instances      Box(P          R      mAP50  mAP50-95): 100%|██████████| 2/2 [00:02<00:00,  1.42s/it]"
          ]
        },
        {
          "metadata": {
            "tags": null
          },
          "name": "stdout",
          "output_type": "stream",
          "text": [
            "                   all        107       3682       0.77      0.668      0.748      0.447\n"
          ]
        },
        {
          "metadata": {
            "tags": null
          },
          "name": "stderr",
          "output_type": "stream",
          "text": [
            "\n"
          ]
        },
        {
          "metadata": {
            "tags": null
          },
          "name": "stdout",
          "output_type": "stream",
          "text": [
            "\n",
            "      Epoch    GPU_mem   box_loss   cls_loss   dfl_loss  Instances       Size\n"
          ]
        },
        {
          "metadata": {
            "tags": null
          },
          "name": "stderr",
          "output_type": "stream",
          "text": [
            "     82/200      5.77G      1.341     0.8512     0.9688        602        640: 100%|██████████| 12/12 [00:18<00:00,  1.57s/it]\n",
            "                 Class     Images  Instances      Box(P          R      mAP50  mAP50-95): 100%|██████████| 2/2 [00:03<00:00,  1.59s/it]"
          ]
        },
        {
          "metadata": {
            "tags": null
          },
          "name": "stdout",
          "output_type": "stream",
          "text": [
            "                   all        107       3682       0.81      0.695       0.78      0.474\n"
          ]
        },
        {
          "metadata": {
            "tags": null
          },
          "name": "stderr",
          "output_type": "stream",
          "text": [
            "\n"
          ]
        },
        {
          "metadata": {
            "tags": null
          },
          "name": "stdout",
          "output_type": "stream",
          "text": [
            "\n",
            "      Epoch    GPU_mem   box_loss   cls_loss   dfl_loss  Instances       Size\n"
          ]
        },
        {
          "metadata": {
            "tags": null
          },
          "name": "stderr",
          "output_type": "stream",
          "text": [
            "     83/200      7.77G      1.335     0.8347     0.9725        662        640: 100%|██████████| 12/12 [00:18<00:00,  1.51s/it]\n",
            "                 Class     Images  Instances      Box(P          R      mAP50  mAP50-95): 100%|██████████| 2/2 [00:03<00:00,  1.88s/it]"
          ]
        },
        {
          "metadata": {
            "tags": null
          },
          "name": "stdout",
          "output_type": "stream",
          "text": [
            "                   all        107       3682      0.803      0.696      0.777      0.474\n"
          ]
        },
        {
          "metadata": {
            "tags": null
          },
          "name": "stderr",
          "output_type": "stream",
          "text": [
            "\n"
          ]
        },
        {
          "metadata": {
            "tags": null
          },
          "name": "stdout",
          "output_type": "stream",
          "text": [
            "\n",
            "      Epoch    GPU_mem   box_loss   cls_loss   dfl_loss  Instances       Size\n"
          ]
        },
        {
          "metadata": {
            "tags": null
          },
          "name": "stderr",
          "output_type": "stream",
          "text": [
            "     84/200      7.13G      1.315     0.8251     0.9809        338        640: 100%|██████████| 12/12 [00:19<00:00,  1.60s/it]\n",
            "                 Class     Images  Instances      Box(P          R      mAP50  mAP50-95): 100%|██████████| 2/2 [00:02<00:00,  1.50s/it]"
          ]
        },
        {
          "metadata": {
            "tags": null
          },
          "name": "stdout",
          "output_type": "stream",
          "text": [
            "                   all        107       3682      0.806      0.696      0.775      0.476\n"
          ]
        },
        {
          "metadata": {
            "tags": null
          },
          "name": "stderr",
          "output_type": "stream",
          "text": [
            "\n"
          ]
        },
        {
          "metadata": {
            "tags": null
          },
          "name": "stdout",
          "output_type": "stream",
          "text": [
            "\n",
            "      Epoch    GPU_mem   box_loss   cls_loss   dfl_loss  Instances       Size\n"
          ]
        },
        {
          "metadata": {
            "tags": null
          },
          "name": "stderr",
          "output_type": "stream",
          "text": [
            "     85/200      5.87G      1.316      0.847     0.9624        475        640: 100%|██████████| 12/12 [00:20<00:00,  1.69s/it]\n",
            "                 Class     Images  Instances      Box(P          R      mAP50  mAP50-95): 100%|██████████| 2/2 [00:02<00:00,  1.13s/it]"
          ]
        },
        {
          "metadata": {
            "tags": null
          },
          "name": "stdout",
          "output_type": "stream",
          "text": [
            "                   all        107       3682      0.811      0.704       0.78      0.466\n"
          ]
        },
        {
          "metadata": {
            "tags": null
          },
          "name": "stderr",
          "output_type": "stream",
          "text": [
            "\n"
          ]
        },
        {
          "metadata": {
            "tags": null
          },
          "name": "stdout",
          "output_type": "stream",
          "text": [
            "\n",
            "      Epoch    GPU_mem   box_loss   cls_loss   dfl_loss  Instances       Size\n"
          ]
        },
        {
          "metadata": {
            "tags": null
          },
          "name": "stderr",
          "output_type": "stream",
          "text": [
            "     86/200       8.6G      1.363     0.8557     0.9715        673        640: 100%|██████████| 12/12 [00:20<00:00,  1.68s/it]\n",
            "                 Class     Images  Instances      Box(P          R      mAP50  mAP50-95): 100%|██████████| 2/2 [00:02<00:00,  1.17s/it]"
          ]
        },
        {
          "metadata": {
            "tags": null
          },
          "name": "stdout",
          "output_type": "stream",
          "text": [
            "                   all        107       3682      0.809      0.705       0.78       0.47\n"
          ]
        },
        {
          "metadata": {
            "tags": null
          },
          "name": "stderr",
          "output_type": "stream",
          "text": [
            "\n"
          ]
        },
        {
          "metadata": {
            "tags": null
          },
          "name": "stdout",
          "output_type": "stream",
          "text": [
            "\n",
            "      Epoch    GPU_mem   box_loss   cls_loss   dfl_loss  Instances       Size\n"
          ]
        },
        {
          "metadata": {
            "tags": null
          },
          "name": "stderr",
          "output_type": "stream",
          "text": [
            "     87/200       6.5G      1.315      0.832     0.9568        626        640: 100%|██████████| 12/12 [00:20<00:00,  1.68s/it]\n",
            "                 Class     Images  Instances      Box(P          R      mAP50  mAP50-95): 100%|██████████| 2/2 [00:02<00:00,  1.18s/it]"
          ]
        },
        {
          "metadata": {
            "tags": null
          },
          "name": "stdout",
          "output_type": "stream",
          "text": [
            "                   all        107       3682      0.805      0.703      0.773      0.472\n"
          ]
        },
        {
          "metadata": {
            "tags": null
          },
          "name": "stderr",
          "output_type": "stream",
          "text": [
            "\n"
          ]
        },
        {
          "metadata": {
            "tags": null
          },
          "name": "stdout",
          "output_type": "stream",
          "text": [
            "\n",
            "      Epoch    GPU_mem   box_loss   cls_loss   dfl_loss  Instances       Size\n"
          ]
        },
        {
          "metadata": {
            "tags": null
          },
          "name": "stderr",
          "output_type": "stream",
          "text": [
            "     88/200      6.47G      1.306     0.8202     0.9721        578        640: 100%|██████████| 12/12 [00:20<00:00,  1.69s/it]\n",
            "                 Class     Images  Instances      Box(P          R      mAP50  mAP50-95): 100%|██████████| 2/2 [00:03<00:00,  1.63s/it]"
          ]
        },
        {
          "metadata": {
            "tags": null
          },
          "name": "stdout",
          "output_type": "stream",
          "text": [
            "                   all        107       3682      0.819      0.704      0.779      0.467\n"
          ]
        },
        {
          "metadata": {
            "tags": null
          },
          "name": "stderr",
          "output_type": "stream",
          "text": [
            "\n"
          ]
        },
        {
          "metadata": {
            "tags": null
          },
          "name": "stdout",
          "output_type": "stream",
          "text": [
            "\n",
            "      Epoch    GPU_mem   box_loss   cls_loss   dfl_loss  Instances       Size\n"
          ]
        },
        {
          "metadata": {
            "tags": null
          },
          "name": "stderr",
          "output_type": "stream",
          "text": [
            "     89/200      7.11G      1.317     0.8323     0.9803        754        640: 100%|██████████| 12/12 [00:18<00:00,  1.58s/it]\n",
            "                 Class     Images  Instances      Box(P          R      mAP50  mAP50-95): 100%|██████████| 2/2 [00:03<00:00,  1.81s/it]"
          ]
        },
        {
          "metadata": {
            "tags": null
          },
          "name": "stdout",
          "output_type": "stream",
          "text": [
            "                   all        107       3682      0.814      0.699      0.777      0.471\n"
          ]
        },
        {
          "metadata": {
            "tags": null
          },
          "name": "stderr",
          "output_type": "stream",
          "text": [
            "\n"
          ]
        },
        {
          "metadata": {
            "tags": null
          },
          "name": "stdout",
          "output_type": "stream",
          "text": [
            "\n",
            "      Epoch    GPU_mem   box_loss   cls_loss   dfl_loss  Instances       Size\n"
          ]
        },
        {
          "metadata": {
            "tags": null
          },
          "name": "stderr",
          "output_type": "stream",
          "text": [
            "     90/200      6.76G       1.29     0.8183     0.9624        642        640: 100%|██████████| 12/12 [00:19<00:00,  1.64s/it]\n",
            "                 Class     Images  Instances      Box(P          R      mAP50  mAP50-95): 100%|██████████| 2/2 [00:02<00:00,  1.42s/it]"
          ]
        },
        {
          "metadata": {
            "tags": null
          },
          "name": "stdout",
          "output_type": "stream",
          "text": [
            "                   all        107       3682       0.81      0.683      0.761      0.454\n"
          ]
        },
        {
          "metadata": {
            "tags": null
          },
          "name": "stderr",
          "output_type": "stream",
          "text": [
            "\n"
          ]
        },
        {
          "metadata": {
            "tags": null
          },
          "name": "stdout",
          "output_type": "stream",
          "text": [
            "\n",
            "      Epoch    GPU_mem   box_loss   cls_loss   dfl_loss  Instances       Size\n"
          ]
        },
        {
          "metadata": {
            "tags": null
          },
          "name": "stderr",
          "output_type": "stream",
          "text": [
            "     91/200      6.93G      1.317     0.8052     0.9679        727        640: 100%|██████████| 12/12 [00:21<00:00,  1.78s/it]\n",
            "                 Class     Images  Instances      Box(P          R      mAP50  mAP50-95): 100%|██████████| 2/2 [00:02<00:00,  1.18s/it]"
          ]
        },
        {
          "metadata": {
            "tags": null
          },
          "name": "stdout",
          "output_type": "stream",
          "text": [
            "                   all        107       3682      0.815      0.703      0.784      0.481\n"
          ]
        },
        {
          "metadata": {
            "tags": null
          },
          "name": "stderr",
          "output_type": "stream",
          "text": [
            "\n"
          ]
        },
        {
          "metadata": {
            "tags": null
          },
          "name": "stdout",
          "output_type": "stream",
          "text": [
            "\n",
            "      Epoch    GPU_mem   box_loss   cls_loss   dfl_loss  Instances       Size\n"
          ]
        },
        {
          "metadata": {
            "tags": null
          },
          "name": "stderr",
          "output_type": "stream",
          "text": [
            "     92/200      6.81G      1.301     0.8215     0.9657        803        640: 100%|██████████| 12/12 [00:20<00:00,  1.67s/it]\n",
            "                 Class     Images  Instances      Box(P          R      mAP50  mAP50-95): 100%|██████████| 2/2 [00:02<00:00,  1.07s/it]"
          ]
        },
        {
          "metadata": {
            "tags": null
          },
          "name": "stdout",
          "output_type": "stream",
          "text": [
            "                   all        107       3682      0.811      0.698      0.782       0.47\n"
          ]
        },
        {
          "metadata": {
            "tags": null
          },
          "name": "stderr",
          "output_type": "stream",
          "text": [
            "\n"
          ]
        },
        {
          "metadata": {
            "tags": null
          },
          "name": "stdout",
          "output_type": "stream",
          "text": [
            "\n",
            "      Epoch    GPU_mem   box_loss   cls_loss   dfl_loss  Instances       Size\n"
          ]
        },
        {
          "metadata": {
            "tags": null
          },
          "name": "stderr",
          "output_type": "stream",
          "text": [
            "     93/200      7.13G      1.313     0.8066     0.9628        494        640: 100%|██████████| 12/12 [00:22<00:00,  1.83s/it]\n",
            "                 Class     Images  Instances      Box(P          R      mAP50  mAP50-95): 100%|██████████| 2/2 [00:02<00:00,  1.25s/it]"
          ]
        },
        {
          "metadata": {
            "tags": null
          },
          "name": "stdout",
          "output_type": "stream",
          "text": [
            "                   all        107       3682      0.796      0.713      0.779      0.472\n"
          ]
        },
        {
          "metadata": {
            "tags": null
          },
          "name": "stderr",
          "output_type": "stream",
          "text": [
            "\n"
          ]
        },
        {
          "metadata": {
            "tags": null
          },
          "name": "stdout",
          "output_type": "stream",
          "text": [
            "\n",
            "      Epoch    GPU_mem   box_loss   cls_loss   dfl_loss  Instances       Size\n"
          ]
        },
        {
          "metadata": {
            "tags": null
          },
          "name": "stderr",
          "output_type": "stream",
          "text": [
            "     94/200      6.51G      1.307      0.819      0.962        705        640: 100%|██████████| 12/12 [00:19<00:00,  1.60s/it]\n",
            "                 Class     Images  Instances      Box(P          R      mAP50  mAP50-95): 100%|██████████| 2/2 [00:03<00:00,  1.66s/it]"
          ]
        },
        {
          "metadata": {
            "tags": null
          },
          "name": "stdout",
          "output_type": "stream",
          "text": [
            "                   all        107       3682      0.786      0.696      0.772       0.46\n"
          ]
        },
        {
          "metadata": {
            "tags": null
          },
          "name": "stderr",
          "output_type": "stream",
          "text": [
            "\n"
          ]
        },
        {
          "metadata": {
            "tags": null
          },
          "name": "stdout",
          "output_type": "stream",
          "text": [
            "\n",
            "      Epoch    GPU_mem   box_loss   cls_loss   dfl_loss  Instances       Size\n"
          ]
        },
        {
          "metadata": {
            "tags": null
          },
          "name": "stderr",
          "output_type": "stream",
          "text": [
            "     95/200         6G      1.328       0.82     0.9631       1238        640: 100%|██████████| 12/12 [00:20<00:00,  1.68s/it]\n",
            "                 Class     Images  Instances      Box(P          R      mAP50  mAP50-95): 100%|██████████| 2/2 [00:03<00:00,  1.83s/it]"
          ]
        },
        {
          "metadata": {
            "tags": null
          },
          "name": "stdout",
          "output_type": "stream",
          "text": [
            "                   all        107       3682      0.799      0.698      0.779      0.462\n"
          ]
        },
        {
          "metadata": {
            "tags": null
          },
          "name": "stderr",
          "output_type": "stream",
          "text": [
            "\n"
          ]
        },
        {
          "metadata": {
            "tags": null
          },
          "name": "stdout",
          "output_type": "stream",
          "text": [
            "\n",
            "      Epoch    GPU_mem   box_loss   cls_loss   dfl_loss  Instances       Size\n"
          ]
        },
        {
          "metadata": {
            "tags": null
          },
          "name": "stderr",
          "output_type": "stream",
          "text": [
            "     96/200         7G      1.315     0.8126     0.9677        832        640: 100%|██████████| 12/12 [00:21<00:00,  1.78s/it]\n",
            "                 Class     Images  Instances      Box(P          R      mAP50  mAP50-95): 100%|██████████| 2/2 [00:02<00:00,  1.11s/it]"
          ]
        },
        {
          "metadata": {
            "tags": null
          },
          "name": "stdout",
          "output_type": "stream",
          "text": [
            "                   all        107       3682       0.81      0.708      0.787      0.487\n"
          ]
        },
        {
          "metadata": {
            "tags": null
          },
          "name": "stderr",
          "output_type": "stream",
          "text": [
            "\n"
          ]
        },
        {
          "metadata": {
            "tags": null
          },
          "name": "stdout",
          "output_type": "stream",
          "text": [
            "\n",
            "      Epoch    GPU_mem   box_loss   cls_loss   dfl_loss  Instances       Size\n"
          ]
        },
        {
          "metadata": {
            "tags": null
          },
          "name": "stderr",
          "output_type": "stream",
          "text": [
            "     97/200      7.75G      1.278     0.8042      0.966        703        640: 100%|██████████| 12/12 [00:20<00:00,  1.75s/it]\n",
            "                 Class     Images  Instances      Box(P          R      mAP50  mAP50-95): 100%|██████████| 2/2 [00:02<00:00,  1.04s/it]"
          ]
        },
        {
          "metadata": {
            "tags": null
          },
          "name": "stdout",
          "output_type": "stream",
          "text": [
            "                   all        107       3682      0.813      0.714      0.783      0.482\n"
          ]
        },
        {
          "metadata": {
            "tags": null
          },
          "name": "stderr",
          "output_type": "stream",
          "text": [
            "\n"
          ]
        },
        {
          "metadata": {
            "tags": null
          },
          "name": "stdout",
          "output_type": "stream",
          "text": [
            "\n",
            "      Epoch    GPU_mem   box_loss   cls_loss   dfl_loss  Instances       Size\n"
          ]
        },
        {
          "metadata": {
            "tags": null
          },
          "name": "stderr",
          "output_type": "stream",
          "text": [
            "     98/200      6.94G       1.32     0.8128     0.9838        677        640: 100%|██████████| 12/12 [00:20<00:00,  1.72s/it]\n",
            "                 Class     Images  Instances      Box(P          R      mAP50  mAP50-95): 100%|██████████| 2/2 [00:02<00:00,  1.07s/it]"
          ]
        },
        {
          "metadata": {
            "tags": null
          },
          "name": "stdout",
          "output_type": "stream",
          "text": [
            "                   all        107       3682      0.822       0.71      0.788      0.488\n"
          ]
        },
        {
          "metadata": {
            "tags": null
          },
          "name": "stderr",
          "output_type": "stream",
          "text": [
            "\n"
          ]
        },
        {
          "metadata": {
            "tags": null
          },
          "name": "stdout",
          "output_type": "stream",
          "text": [
            "\n",
            "      Epoch    GPU_mem   box_loss   cls_loss   dfl_loss  Instances       Size\n"
          ]
        },
        {
          "metadata": {
            "tags": null
          },
          "name": "stderr",
          "output_type": "stream",
          "text": [
            "     99/200      7.43G      1.279     0.7975     0.9581        536        640: 100%|██████████| 12/12 [00:20<00:00,  1.68s/it]\n",
            "                 Class     Images  Instances      Box(P          R      mAP50  mAP50-95): 100%|██████████| 2/2 [00:03<00:00,  1.50s/it]"
          ]
        },
        {
          "metadata": {
            "tags": null
          },
          "name": "stdout",
          "output_type": "stream",
          "text": [
            "                   all        107       3682      0.828      0.719      0.797      0.486\n"
          ]
        },
        {
          "metadata": {
            "tags": null
          },
          "name": "stderr",
          "output_type": "stream",
          "text": [
            "\n"
          ]
        },
        {
          "metadata": {
            "tags": null
          },
          "name": "stdout",
          "output_type": "stream",
          "text": [
            "\n",
            "      Epoch    GPU_mem   box_loss   cls_loss   dfl_loss  Instances       Size\n"
          ]
        },
        {
          "metadata": {
            "tags": null
          },
          "name": "stderr",
          "output_type": "stream",
          "text": [
            "    100/200       6.6G      1.313     0.8158     0.9706        752        640: 100%|██████████| 12/12 [00:18<00:00,  1.58s/it]\n",
            "                 Class     Images  Instances      Box(P          R      mAP50  mAP50-95): 100%|██████████| 2/2 [00:03<00:00,  1.76s/it]"
          ]
        },
        {
          "metadata": {
            "tags": null
          },
          "name": "stdout",
          "output_type": "stream",
          "text": [
            "                   all        107       3682      0.809      0.718      0.792      0.488\n"
          ]
        },
        {
          "metadata": {
            "tags": null
          },
          "name": "stderr",
          "output_type": "stream",
          "text": [
            "\n"
          ]
        },
        {
          "metadata": {
            "tags": null
          },
          "name": "stdout",
          "output_type": "stream",
          "text": [
            "\n",
            "      Epoch    GPU_mem   box_loss   cls_loss   dfl_loss  Instances       Size\n"
          ]
        },
        {
          "metadata": {
            "tags": null
          },
          "name": "stderr",
          "output_type": "stream",
          "text": [
            "    101/200      6.94G      1.307     0.7969     0.9599        855        640: 100%|██████████| 12/12 [00:18<00:00,  1.53s/it]\n",
            "                 Class     Images  Instances      Box(P          R      mAP50  mAP50-95): 100%|██████████| 2/2 [00:03<00:00,  1.86s/it]"
          ]
        },
        {
          "metadata": {
            "tags": null
          },
          "name": "stdout",
          "output_type": "stream",
          "text": [
            "                   all        107       3682      0.811      0.689      0.778      0.485\n"
          ]
        },
        {
          "metadata": {
            "tags": null
          },
          "name": "stderr",
          "output_type": "stream",
          "text": [
            "\n"
          ]
        },
        {
          "metadata": {
            "tags": null
          },
          "name": "stdout",
          "output_type": "stream",
          "text": [
            "\n",
            "      Epoch    GPU_mem   box_loss   cls_loss   dfl_loss  Instances       Size\n"
          ]
        },
        {
          "metadata": {
            "tags": null
          },
          "name": "stderr",
          "output_type": "stream",
          "text": [
            "    102/200      7.23G      1.294     0.8094      0.967        708        640: 100%|██████████| 12/12 [00:21<00:00,  1.77s/it]\n",
            "                 Class     Images  Instances      Box(P          R      mAP50  mAP50-95): 100%|██████████| 2/2 [00:02<00:00,  1.27s/it]"
          ]
        },
        {
          "metadata": {
            "tags": null
          },
          "name": "stdout",
          "output_type": "stream",
          "text": [
            "                   all        107       3682      0.812      0.713      0.788      0.488\n"
          ]
        },
        {
          "metadata": {
            "tags": null
          },
          "name": "stderr",
          "output_type": "stream",
          "text": [
            "\n"
          ]
        },
        {
          "metadata": {
            "tags": null
          },
          "name": "stdout",
          "output_type": "stream",
          "text": [
            "\n",
            "      Epoch    GPU_mem   box_loss   cls_loss   dfl_loss  Instances       Size\n"
          ]
        },
        {
          "metadata": {
            "tags": null
          },
          "name": "stderr",
          "output_type": "stream",
          "text": [
            "    103/200      7.47G      1.253     0.7857     0.9525        524        640: 100%|██████████| 12/12 [00:20<00:00,  1.75s/it]\n",
            "                 Class     Images  Instances      Box(P          R      mAP50  mAP50-95): 100%|██████████| 2/2 [00:02<00:00,  1.12s/it]"
          ]
        },
        {
          "metadata": {
            "tags": null
          },
          "name": "stdout",
          "output_type": "stream",
          "text": [
            "                   all        107       3682      0.829      0.714      0.795      0.497\n"
          ]
        },
        {
          "metadata": {
            "tags": null
          },
          "name": "stderr",
          "output_type": "stream",
          "text": [
            "\n"
          ]
        },
        {
          "metadata": {
            "tags": null
          },
          "name": "stdout",
          "output_type": "stream",
          "text": [
            "\n",
            "      Epoch    GPU_mem   box_loss   cls_loss   dfl_loss  Instances       Size\n"
          ]
        },
        {
          "metadata": {
            "tags": null
          },
          "name": "stderr",
          "output_type": "stream",
          "text": [
            "    104/200      8.03G      1.279     0.7875      0.956        750        640: 100%|██████████| 12/12 [00:19<00:00,  1.65s/it]\n",
            "                 Class     Images  Instances      Box(P          R      mAP50  mAP50-95): 100%|██████████| 2/2 [00:02<00:00,  1.13s/it]"
          ]
        },
        {
          "metadata": {
            "tags": null
          },
          "name": "stdout",
          "output_type": "stream",
          "text": [
            "                   all        107       3682      0.828      0.705      0.792       0.49\n"
          ]
        },
        {
          "metadata": {
            "tags": null
          },
          "name": "stderr",
          "output_type": "stream",
          "text": [
            "\n"
          ]
        },
        {
          "metadata": {
            "tags": null
          },
          "name": "stdout",
          "output_type": "stream",
          "text": [
            "\n",
            "      Epoch    GPU_mem   box_loss   cls_loss   dfl_loss  Instances       Size\n"
          ]
        },
        {
          "metadata": {
            "tags": null
          },
          "name": "stderr",
          "output_type": "stream",
          "text": [
            "    105/200      6.87G      1.277     0.7812     0.9604        781        640: 100%|██████████| 12/12 [00:20<00:00,  1.69s/it]\n",
            "                 Class     Images  Instances      Box(P          R      mAP50  mAP50-95): 100%|██████████| 2/2 [00:02<00:00,  1.34s/it]"
          ]
        },
        {
          "metadata": {
            "tags": null
          },
          "name": "stdout",
          "output_type": "stream",
          "text": [
            "                   all        107       3682      0.815      0.713      0.791      0.492\n"
          ]
        },
        {
          "metadata": {
            "tags": null
          },
          "name": "stderr",
          "output_type": "stream",
          "text": [
            "\n"
          ]
        },
        {
          "metadata": {
            "tags": null
          },
          "name": "stdout",
          "output_type": "stream",
          "text": [
            "\n",
            "      Epoch    GPU_mem   box_loss   cls_loss   dfl_loss  Instances       Size\n"
          ]
        },
        {
          "metadata": {
            "tags": null
          },
          "name": "stderr",
          "output_type": "stream",
          "text": [
            "    106/200      7.38G      1.265     0.7825     0.9516        472        640: 100%|██████████| 12/12 [00:19<00:00,  1.61s/it]\n",
            "                 Class     Images  Instances      Box(P          R      mAP50  mAP50-95): 100%|██████████| 2/2 [00:03<00:00,  1.66s/it]"
          ]
        },
        {
          "metadata": {
            "tags": null
          },
          "name": "stdout",
          "output_type": "stream",
          "text": [
            "                   all        107       3682      0.808      0.721       0.79      0.488\n"
          ]
        },
        {
          "metadata": {
            "tags": null
          },
          "name": "stderr",
          "output_type": "stream",
          "text": [
            "\n"
          ]
        },
        {
          "metadata": {
            "tags": null
          },
          "name": "stdout",
          "output_type": "stream",
          "text": [
            "\n",
            "      Epoch    GPU_mem   box_loss   cls_loss   dfl_loss  Instances       Size\n"
          ]
        },
        {
          "metadata": {
            "tags": null
          },
          "name": "stderr",
          "output_type": "stream",
          "text": [
            "    107/200      6.38G      1.239     0.7695     0.9561        493        640: 100%|██████████| 12/12 [00:20<00:00,  1.68s/it]\n",
            "                 Class     Images  Instances      Box(P          R      mAP50  mAP50-95): 100%|██████████| 2/2 [00:03<00:00,  1.81s/it]"
          ]
        },
        {
          "metadata": {
            "tags": null
          },
          "name": "stdout",
          "output_type": "stream",
          "text": [
            "                   all        107       3682      0.814       0.72      0.795      0.498\n"
          ]
        },
        {
          "metadata": {
            "tags": null
          },
          "name": "stderr",
          "output_type": "stream",
          "text": [
            "\n"
          ]
        },
        {
          "metadata": {
            "tags": null
          },
          "name": "stdout",
          "output_type": "stream",
          "text": [
            "\n",
            "      Epoch    GPU_mem   box_loss   cls_loss   dfl_loss  Instances       Size\n"
          ]
        },
        {
          "metadata": {
            "tags": null
          },
          "name": "stderr",
          "output_type": "stream",
          "text": [
            "    108/200      6.75G      1.286     0.7972     0.9652        731        640: 100%|██████████| 12/12 [00:19<00:00,  1.66s/it]\n",
            "                 Class     Images  Instances      Box(P          R      mAP50  mAP50-95): 100%|██████████| 2/2 [00:02<00:00,  1.35s/it]"
          ]
        },
        {
          "metadata": {
            "tags": null
          },
          "name": "stdout",
          "output_type": "stream",
          "text": [
            "                   all        107       3682      0.818      0.713      0.795      0.494\n"
          ]
        },
        {
          "metadata": {
            "tags": null
          },
          "name": "stderr",
          "output_type": "stream",
          "text": [
            "\n"
          ]
        },
        {
          "metadata": {
            "tags": null
          },
          "name": "stdout",
          "output_type": "stream",
          "text": [
            "\n",
            "      Epoch    GPU_mem   box_loss   cls_loss   dfl_loss  Instances       Size\n"
          ]
        },
        {
          "metadata": {
            "tags": null
          },
          "name": "stderr",
          "output_type": "stream",
          "text": [
            "    109/200      6.64G      1.245     0.7769     0.9489        846        640: 100%|██████████| 12/12 [00:19<00:00,  1.64s/it]\n",
            "                 Class     Images  Instances      Box(P          R      mAP50  mAP50-95): 100%|██████████| 2/2 [00:02<00:00,  1.10s/it]"
          ]
        },
        {
          "metadata": {
            "tags": null
          },
          "name": "stdout",
          "output_type": "stream",
          "text": [
            "                   all        107       3682      0.817      0.698      0.783      0.486\n"
          ]
        },
        {
          "metadata": {
            "tags": null
          },
          "name": "stderr",
          "output_type": "stream",
          "text": [
            "\n"
          ]
        },
        {
          "metadata": {
            "tags": null
          },
          "name": "stdout",
          "output_type": "stream",
          "text": [
            "\n",
            "      Epoch    GPU_mem   box_loss   cls_loss   dfl_loss  Instances       Size\n"
          ]
        },
        {
          "metadata": {
            "tags": null
          },
          "name": "stderr",
          "output_type": "stream",
          "text": [
            "    110/200      8.01G      1.274     0.7815     0.9611        552        640: 100%|██████████| 12/12 [00:20<00:00,  1.68s/it]\n",
            "                 Class     Images  Instances      Box(P          R      mAP50  mAP50-95): 100%|██████████| 2/2 [00:02<00:00,  1.19s/it]"
          ]
        },
        {
          "metadata": {
            "tags": null
          },
          "name": "stdout",
          "output_type": "stream",
          "text": [
            "                   all        107       3682      0.812      0.701      0.782      0.484\n"
          ]
        },
        {
          "metadata": {
            "tags": null
          },
          "name": "stderr",
          "output_type": "stream",
          "text": [
            "\n"
          ]
        },
        {
          "metadata": {
            "tags": null
          },
          "name": "stdout",
          "output_type": "stream",
          "text": [
            "\n",
            "      Epoch    GPU_mem   box_loss   cls_loss   dfl_loss  Instances       Size\n"
          ]
        },
        {
          "metadata": {
            "tags": null
          },
          "name": "stderr",
          "output_type": "stream",
          "text": [
            "    111/200      6.31G      1.263     0.7809     0.9492        616        640: 100%|██████████| 12/12 [00:19<00:00,  1.63s/it]\n",
            "                 Class     Images  Instances      Box(P          R      mAP50  mAP50-95): 100%|██████████| 2/2 [00:02<00:00,  1.17s/it]"
          ]
        },
        {
          "metadata": {
            "tags": null
          },
          "name": "stdout",
          "output_type": "stream",
          "text": [
            "                   all        107       3682      0.823      0.723      0.792      0.491\n"
          ]
        },
        {
          "metadata": {
            "tags": null
          },
          "name": "stderr",
          "output_type": "stream",
          "text": [
            "\n"
          ]
        },
        {
          "metadata": {
            "tags": null
          },
          "name": "stdout",
          "output_type": "stream",
          "text": [
            "\n",
            "      Epoch    GPU_mem   box_loss   cls_loss   dfl_loss  Instances       Size\n"
          ]
        },
        {
          "metadata": {
            "tags": null
          },
          "name": "stderr",
          "output_type": "stream",
          "text": [
            "    112/200      6.43G      1.273     0.7859     0.9579        575        640: 100%|██████████| 12/12 [00:19<00:00,  1.63s/it]\n",
            "                 Class     Images  Instances      Box(P          R      mAP50  mAP50-95): 100%|██████████| 2/2 [00:03<00:00,  1.72s/it]"
          ]
        },
        {
          "metadata": {
            "tags": null
          },
          "name": "stdout",
          "output_type": "stream",
          "text": [
            "                   all        107       3682      0.813      0.705      0.778       0.48\n"
          ]
        },
        {
          "metadata": {
            "tags": null
          },
          "name": "stderr",
          "output_type": "stream",
          "text": [
            "\n"
          ]
        },
        {
          "metadata": {
            "tags": null
          },
          "name": "stdout",
          "output_type": "stream",
          "text": [
            "\n",
            "      Epoch    GPU_mem   box_loss   cls_loss   dfl_loss  Instances       Size\n"
          ]
        },
        {
          "metadata": {
            "tags": null
          },
          "name": "stderr",
          "output_type": "stream",
          "text": [
            "    113/200      6.89G      1.231     0.7624     0.9463        651        640: 100%|██████████| 12/12 [00:18<00:00,  1.53s/it]\n",
            "                 Class     Images  Instances      Box(P          R      mAP50  mAP50-95): 100%|██████████| 2/2 [00:03<00:00,  1.89s/it]"
          ]
        },
        {
          "metadata": {
            "tags": null
          },
          "name": "stdout",
          "output_type": "stream",
          "text": [
            "                   all        107       3682      0.823      0.711      0.788      0.485\n"
          ]
        },
        {
          "metadata": {
            "tags": null
          },
          "name": "stderr",
          "output_type": "stream",
          "text": [
            "\n"
          ]
        },
        {
          "metadata": {
            "tags": null
          },
          "name": "stdout",
          "output_type": "stream",
          "text": [
            "\n",
            "      Epoch    GPU_mem   box_loss   cls_loss   dfl_loss  Instances       Size\n"
          ]
        },
        {
          "metadata": {
            "tags": null
          },
          "name": "stderr",
          "output_type": "stream",
          "text": [
            "    114/200      6.11G      1.235     0.7625     0.9501        851        640: 100%|██████████| 12/12 [00:18<00:00,  1.52s/it]\n",
            "                 Class     Images  Instances      Box(P          R      mAP50  mAP50-95): 100%|██████████| 2/2 [00:03<00:00,  1.64s/it]"
          ]
        },
        {
          "metadata": {
            "tags": null
          },
          "name": "stdout",
          "output_type": "stream",
          "text": [
            "                   all        107       3682      0.835      0.718      0.797      0.494\n"
          ]
        },
        {
          "metadata": {
            "tags": null
          },
          "name": "stderr",
          "output_type": "stream",
          "text": [
            "\n"
          ]
        },
        {
          "metadata": {
            "tags": null
          },
          "name": "stdout",
          "output_type": "stream",
          "text": [
            "\n",
            "      Epoch    GPU_mem   box_loss   cls_loss   dfl_loss  Instances       Size\n"
          ]
        },
        {
          "metadata": {
            "tags": null
          },
          "name": "stderr",
          "output_type": "stream",
          "text": [
            "    115/200      5.72G      1.267      0.778     0.9547        685        640: 100%|██████████| 12/12 [00:21<00:00,  1.77s/it]\n",
            "                 Class     Images  Instances      Box(P          R      mAP50  mAP50-95): 100%|██████████| 2/2 [00:02<00:00,  1.08s/it]"
          ]
        },
        {
          "metadata": {
            "tags": null
          },
          "name": "stdout",
          "output_type": "stream",
          "text": [
            "                   all        107       3682      0.829      0.726        0.8      0.491\n"
          ]
        },
        {
          "metadata": {
            "tags": null
          },
          "name": "stderr",
          "output_type": "stream",
          "text": [
            "\n"
          ]
        },
        {
          "metadata": {
            "tags": null
          },
          "name": "stdout",
          "output_type": "stream",
          "text": [
            "\n",
            "      Epoch    GPU_mem   box_loss   cls_loss   dfl_loss  Instances       Size\n"
          ]
        },
        {
          "metadata": {
            "tags": null
          },
          "name": "stderr",
          "output_type": "stream",
          "text": [
            "    116/200      6.49G      1.278     0.7845     0.9566        571        640: 100%|██████████| 12/12 [00:20<00:00,  1.72s/it]\n",
            "                 Class     Images  Instances      Box(P          R      mAP50  mAP50-95): 100%|██████████| 2/2 [00:02<00:00,  1.24s/it]"
          ]
        },
        {
          "metadata": {
            "tags": null
          },
          "name": "stdout",
          "output_type": "stream",
          "text": [
            "                   all        107       3682      0.825      0.719      0.797       0.49\n"
          ]
        },
        {
          "metadata": {
            "tags": null
          },
          "name": "stderr",
          "output_type": "stream",
          "text": [
            "\n"
          ]
        },
        {
          "metadata": {
            "tags": null
          },
          "name": "stdout",
          "output_type": "stream",
          "text": [
            "\n",
            "      Epoch    GPU_mem   box_loss   cls_loss   dfl_loss  Instances       Size\n"
          ]
        },
        {
          "metadata": {
            "tags": null
          },
          "name": "stderr",
          "output_type": "stream",
          "text": [
            "    117/200       6.5G       1.26     0.7809     0.9577        870        640: 100%|██████████| 12/12 [00:20<00:00,  1.70s/it]\n",
            "                 Class     Images  Instances      Box(P          R      mAP50  mAP50-95): 100%|██████████| 2/2 [00:02<00:00,  1.19s/it]"
          ]
        },
        {
          "metadata": {
            "tags": null
          },
          "name": "stdout",
          "output_type": "stream",
          "text": [
            "                   all        107       3682        0.8      0.722      0.785       0.47\n"
          ]
        },
        {
          "metadata": {
            "tags": null
          },
          "name": "stderr",
          "output_type": "stream",
          "text": [
            "\n"
          ]
        },
        {
          "metadata": {
            "tags": null
          },
          "name": "stdout",
          "output_type": "stream",
          "text": [
            "\n",
            "      Epoch    GPU_mem   box_loss   cls_loss   dfl_loss  Instances       Size\n"
          ]
        },
        {
          "metadata": {
            "tags": null
          },
          "name": "stderr",
          "output_type": "stream",
          "text": [
            "    118/200      7.17G      1.254     0.7712      0.946        863        640: 100%|██████████| 12/12 [00:20<00:00,  1.69s/it]\n",
            "                 Class     Images  Instances      Box(P          R      mAP50  mAP50-95): 100%|██████████| 2/2 [00:03<00:00,  1.71s/it]"
          ]
        },
        {
          "metadata": {
            "tags": null
          },
          "name": "stdout",
          "output_type": "stream",
          "text": [
            "                   all        107       3682      0.811      0.731      0.797      0.492\n"
          ]
        },
        {
          "metadata": {
            "tags": null
          },
          "name": "stderr",
          "output_type": "stream",
          "text": [
            "\n"
          ]
        },
        {
          "metadata": {
            "tags": null
          },
          "name": "stdout",
          "output_type": "stream",
          "text": [
            "\n",
            "      Epoch    GPU_mem   box_loss   cls_loss   dfl_loss  Instances       Size\n"
          ]
        },
        {
          "metadata": {
            "tags": null
          },
          "name": "stderr",
          "output_type": "stream",
          "text": [
            "    119/200      6.34G      1.247     0.7655      0.954        824        640: 100%|██████████| 12/12 [00:18<00:00,  1.57s/it]\n",
            "                 Class     Images  Instances      Box(P          R      mAP50  mAP50-95): 100%|██████████| 2/2 [00:03<00:00,  1.86s/it]"
          ]
        },
        {
          "metadata": {
            "tags": null
          },
          "name": "stdout",
          "output_type": "stream",
          "text": [
            "                   all        107       3682      0.789       0.71      0.778      0.474\n"
          ]
        },
        {
          "metadata": {
            "tags": null
          },
          "name": "stderr",
          "output_type": "stream",
          "text": [
            "\n"
          ]
        },
        {
          "metadata": {
            "tags": null
          },
          "name": "stdout",
          "output_type": "stream",
          "text": [
            "\n",
            "      Epoch    GPU_mem   box_loss   cls_loss   dfl_loss  Instances       Size\n"
          ]
        },
        {
          "metadata": {
            "tags": null
          },
          "name": "stderr",
          "output_type": "stream",
          "text": [
            "    120/200       7.2G      1.283     0.7801     0.9461        669        640: 100%|██████████| 12/12 [00:19<00:00,  1.59s/it]\n",
            "                 Class     Images  Instances      Box(P          R      mAP50  mAP50-95): 100%|██████████| 2/2 [00:03<00:00,  1.64s/it]"
          ]
        },
        {
          "metadata": {
            "tags": null
          },
          "name": "stdout",
          "output_type": "stream",
          "text": [
            "                   all        107       3682      0.805      0.705      0.785      0.485\n"
          ]
        },
        {
          "metadata": {
            "tags": null
          },
          "name": "stderr",
          "output_type": "stream",
          "text": [
            "\n"
          ]
        },
        {
          "metadata": {
            "tags": null
          },
          "name": "stdout",
          "output_type": "stream",
          "text": [
            "\n",
            "      Epoch    GPU_mem   box_loss   cls_loss   dfl_loss  Instances       Size\n"
          ]
        },
        {
          "metadata": {
            "tags": null
          },
          "name": "stderr",
          "output_type": "stream",
          "text": [
            "    121/200      9.02G      1.298      0.791      0.962       1013        640: 100%|██████████| 12/12 [00:19<00:00,  1.59s/it]\n",
            "                 Class     Images  Instances      Box(P          R      mAP50  mAP50-95): 100%|██████████| 2/2 [00:02<00:00,  1.12s/it]"
          ]
        },
        {
          "metadata": {
            "tags": null
          },
          "name": "stdout",
          "output_type": "stream",
          "text": [
            "                   all        107       3682      0.839      0.703      0.795      0.494\n"
          ]
        },
        {
          "metadata": {
            "tags": null
          },
          "name": "stderr",
          "output_type": "stream",
          "text": [
            "\n"
          ]
        },
        {
          "metadata": {
            "tags": null
          },
          "name": "stdout",
          "output_type": "stream",
          "text": [
            "\n",
            "      Epoch    GPU_mem   box_loss   cls_loss   dfl_loss  Instances       Size\n"
          ]
        },
        {
          "metadata": {
            "tags": null
          },
          "name": "stderr",
          "output_type": "stream",
          "text": [
            "    122/200      7.02G      1.289     0.7932     0.9563        741        640: 100%|██████████| 12/12 [00:21<00:00,  1.75s/it]\n",
            "                 Class     Images  Instances      Box(P          R      mAP50  mAP50-95): 100%|██████████| 2/2 [00:02<00:00,  1.09s/it]"
          ]
        },
        {
          "metadata": {
            "tags": null
          },
          "name": "stdout",
          "output_type": "stream",
          "text": [
            "                   all        107       3682      0.844      0.723      0.805      0.496\n"
          ]
        },
        {
          "metadata": {
            "tags": null
          },
          "name": "stderr",
          "output_type": "stream",
          "text": [
            "\n"
          ]
        },
        {
          "metadata": {
            "tags": null
          },
          "name": "stdout",
          "output_type": "stream",
          "text": [
            "\n",
            "      Epoch    GPU_mem   box_loss   cls_loss   dfl_loss  Instances       Size\n"
          ]
        },
        {
          "metadata": {
            "tags": null
          },
          "name": "stderr",
          "output_type": "stream",
          "text": [
            "    123/200      7.89G      1.272     0.7639     0.9503        796        640: 100%|██████████| 12/12 [00:19<00:00,  1.65s/it]\n",
            "                 Class     Images  Instances      Box(P          R      mAP50  mAP50-95): 100%|██████████| 2/2 [00:02<00:00,  1.04s/it]"
          ]
        },
        {
          "metadata": {
            "tags": null
          },
          "name": "stdout",
          "output_type": "stream",
          "text": [
            "                   all        107       3682       0.83      0.711        0.8       0.49\n"
          ]
        },
        {
          "metadata": {
            "tags": null
          },
          "name": "stderr",
          "output_type": "stream",
          "text": [
            "\n"
          ]
        },
        {
          "metadata": {
            "tags": null
          },
          "name": "stdout",
          "output_type": "stream",
          "text": [
            "\n",
            "      Epoch    GPU_mem   box_loss   cls_loss   dfl_loss  Instances       Size\n"
          ]
        },
        {
          "metadata": {
            "tags": null
          },
          "name": "stderr",
          "output_type": "stream",
          "text": [
            "    124/200      7.43G      1.267     0.7686     0.9456        751        640: 100%|██████████| 12/12 [00:19<00:00,  1.60s/it]\n",
            "                 Class     Images  Instances      Box(P          R      mAP50  mAP50-95): 100%|██████████| 2/2 [00:03<00:00,  1.75s/it]"
          ]
        },
        {
          "metadata": {
            "tags": null
          },
          "name": "stdout",
          "output_type": "stream",
          "text": [
            "                   all        107       3682      0.814      0.735      0.804      0.498\n"
          ]
        },
        {
          "metadata": {
            "tags": null
          },
          "name": "stderr",
          "output_type": "stream",
          "text": [
            "\n"
          ]
        },
        {
          "metadata": {
            "tags": null
          },
          "name": "stdout",
          "output_type": "stream",
          "text": [
            "\n",
            "      Epoch    GPU_mem   box_loss   cls_loss   dfl_loss  Instances       Size\n"
          ]
        },
        {
          "metadata": {
            "tags": null
          },
          "name": "stderr",
          "output_type": "stream",
          "text": [
            "    125/200      6.91G      1.243     0.7539     0.9433        511        640: 100%|██████████| 12/12 [00:18<00:00,  1.53s/it]\n",
            "                 Class     Images  Instances      Box(P          R      mAP50  mAP50-95): 100%|██████████| 2/2 [00:03<00:00,  1.85s/it]"
          ]
        },
        {
          "metadata": {
            "tags": null
          },
          "name": "stdout",
          "output_type": "stream",
          "text": [
            "                   all        107       3682       0.82      0.717      0.799      0.498\n"
          ]
        },
        {
          "metadata": {
            "tags": null
          },
          "name": "stderr",
          "output_type": "stream",
          "text": [
            "\n"
          ]
        },
        {
          "metadata": {
            "tags": null
          },
          "name": "stdout",
          "output_type": "stream",
          "text": [
            "\n",
            "      Epoch    GPU_mem   box_loss   cls_loss   dfl_loss  Instances       Size\n"
          ]
        },
        {
          "metadata": {
            "tags": null
          },
          "name": "stderr",
          "output_type": "stream",
          "text": [
            "    126/200      7.52G      1.256     0.7734     0.9442        499        640: 100%|██████████| 12/12 [00:19<00:00,  1.65s/it]\n",
            "                 Class     Images  Instances      Box(P          R      mAP50  mAP50-95): 100%|██████████| 2/2 [00:02<00:00,  1.34s/it]"
          ]
        },
        {
          "metadata": {
            "tags": null
          },
          "name": "stdout",
          "output_type": "stream",
          "text": [
            "                   all        107       3682      0.804      0.721      0.794      0.497\n"
          ]
        },
        {
          "metadata": {
            "tags": null
          },
          "name": "stderr",
          "output_type": "stream",
          "text": [
            "\n"
          ]
        },
        {
          "metadata": {
            "tags": null
          },
          "name": "stdout",
          "output_type": "stream",
          "text": [
            "\n",
            "      Epoch    GPU_mem   box_loss   cls_loss   dfl_loss  Instances       Size\n"
          ]
        },
        {
          "metadata": {
            "tags": null
          },
          "name": "stderr",
          "output_type": "stream",
          "text": [
            "    127/200      8.07G      1.261     0.7704     0.9447        798        640: 100%|██████████| 12/12 [00:20<00:00,  1.69s/it]\n",
            "                 Class     Images  Instances      Box(P          R      mAP50  mAP50-95): 100%|██████████| 2/2 [00:02<00:00,  1.14s/it]"
          ]
        },
        {
          "metadata": {
            "tags": null
          },
          "name": "stdout",
          "output_type": "stream",
          "text": [
            "                   all        107       3682       0.82      0.729      0.801      0.498\n"
          ]
        },
        {
          "metadata": {
            "tags": null
          },
          "name": "stderr",
          "output_type": "stream",
          "text": [
            "\n"
          ]
        },
        {
          "metadata": {
            "tags": null
          },
          "name": "stdout",
          "output_type": "stream",
          "text": [
            "\n",
            "      Epoch    GPU_mem   box_loss   cls_loss   dfl_loss  Instances       Size\n"
          ]
        },
        {
          "metadata": {
            "tags": null
          },
          "name": "stderr",
          "output_type": "stream",
          "text": [
            "    128/200      6.65G      1.256     0.7545     0.9466        568        640: 100%|██████████| 12/12 [00:19<00:00,  1.65s/it]\n",
            "                 Class     Images  Instances      Box(P          R      mAP50  mAP50-95): 100%|██████████| 2/2 [00:02<00:00,  1.16s/it]"
          ]
        },
        {
          "metadata": {
            "tags": null
          },
          "name": "stdout",
          "output_type": "stream",
          "text": [
            "                   all        107       3682      0.807       0.74      0.802        0.5\n"
          ]
        },
        {
          "metadata": {
            "tags": null
          },
          "name": "stderr",
          "output_type": "stream",
          "text": [
            "\n"
          ]
        },
        {
          "metadata": {
            "tags": null
          },
          "name": "stdout",
          "output_type": "stream",
          "text": [
            "\n",
            "      Epoch    GPU_mem   box_loss   cls_loss   dfl_loss  Instances       Size\n"
          ]
        },
        {
          "metadata": {
            "tags": null
          },
          "name": "stderr",
          "output_type": "stream",
          "text": [
            "    129/200      7.79G      1.235     0.7348     0.9389        646        640: 100%|██████████| 12/12 [00:20<00:00,  1.67s/it]\n",
            "                 Class     Images  Instances      Box(P          R      mAP50  mAP50-95): 100%|██████████| 2/2 [00:02<00:00,  1.27s/it]"
          ]
        },
        {
          "metadata": {
            "tags": null
          },
          "name": "stdout",
          "output_type": "stream",
          "text": [
            "                   all        107       3682      0.835       0.74      0.811      0.506\n"
          ]
        },
        {
          "metadata": {
            "tags": null
          },
          "name": "stderr",
          "output_type": "stream",
          "text": [
            "\n"
          ]
        },
        {
          "metadata": {
            "tags": null
          },
          "name": "stdout",
          "output_type": "stream",
          "text": [
            "\n",
            "      Epoch    GPU_mem   box_loss   cls_loss   dfl_loss  Instances       Size\n"
          ]
        },
        {
          "metadata": {
            "tags": null
          },
          "name": "stderr",
          "output_type": "stream",
          "text": [
            "    130/200      6.83G      1.245     0.7645     0.9389        710        640: 100%|██████████| 12/12 [00:18<00:00,  1.54s/it]\n",
            "                 Class     Images  Instances      Box(P          R      mAP50  mAP50-95): 100%|██████████| 2/2 [00:03<00:00,  1.64s/it]"
          ]
        },
        {
          "metadata": {
            "tags": null
          },
          "name": "stdout",
          "output_type": "stream",
          "text": [
            "                   all        107       3682      0.837      0.729      0.808      0.508\n"
          ]
        },
        {
          "metadata": {
            "tags": null
          },
          "name": "stderr",
          "output_type": "stream",
          "text": [
            "\n"
          ]
        },
        {
          "metadata": {
            "tags": null
          },
          "name": "stdout",
          "output_type": "stream",
          "text": [
            "\n",
            "      Epoch    GPU_mem   box_loss   cls_loss   dfl_loss  Instances       Size\n"
          ]
        },
        {
          "metadata": {
            "tags": null
          },
          "name": "stderr",
          "output_type": "stream",
          "text": [
            "    131/200      7.61G      1.236     0.7474     0.9465        625        640: 100%|██████████| 12/12 [00:19<00:00,  1.61s/it]\n",
            "                 Class     Images  Instances      Box(P          R      mAP50  mAP50-95): 100%|██████████| 2/2 [00:03<00:00,  1.84s/it]"
          ]
        },
        {
          "metadata": {
            "tags": null
          },
          "name": "stdout",
          "output_type": "stream",
          "text": [
            "                   all        107       3682      0.825       0.74       0.81      0.507\n"
          ]
        },
        {
          "metadata": {
            "tags": null
          },
          "name": "stderr",
          "output_type": "stream",
          "text": [
            "\n"
          ]
        },
        {
          "metadata": {
            "tags": null
          },
          "name": "stdout",
          "output_type": "stream",
          "text": [
            "\n",
            "      Epoch    GPU_mem   box_loss   cls_loss   dfl_loss  Instances       Size\n"
          ]
        },
        {
          "metadata": {
            "tags": null
          },
          "name": "stderr",
          "output_type": "stream",
          "text": [
            "    132/200      7.15G      1.207     0.7297     0.9391        566        640: 100%|██████████| 12/12 [00:18<00:00,  1.54s/it]\n",
            "                 Class     Images  Instances      Box(P          R      mAP50  mAP50-95): 100%|██████████| 2/2 [00:03<00:00,  1.88s/it]"
          ]
        },
        {
          "metadata": {
            "tags": null
          },
          "name": "stdout",
          "output_type": "stream",
          "text": [
            "                   all        107       3682      0.852      0.717      0.813      0.507\n"
          ]
        },
        {
          "metadata": {
            "tags": null
          },
          "name": "stderr",
          "output_type": "stream",
          "text": [
            "\n"
          ]
        },
        {
          "metadata": {
            "tags": null
          },
          "name": "stdout",
          "output_type": "stream",
          "text": [
            "\n",
            "      Epoch    GPU_mem   box_loss   cls_loss   dfl_loss  Instances       Size\n"
          ]
        },
        {
          "metadata": {
            "tags": null
          },
          "name": "stderr",
          "output_type": "stream",
          "text": [
            "    133/200      6.33G      1.232     0.7574     0.9485        531        640: 100%|██████████| 12/12 [00:20<00:00,  1.71s/it]\n",
            "                 Class     Images  Instances      Box(P          R      mAP50  mAP50-95): 100%|██████████| 2/2 [00:02<00:00,  1.20s/it]"
          ]
        },
        {
          "metadata": {
            "tags": null
          },
          "name": "stdout",
          "output_type": "stream",
          "text": [
            "                   all        107       3682      0.835      0.719      0.808      0.508\n"
          ]
        },
        {
          "metadata": {
            "tags": null
          },
          "name": "stderr",
          "output_type": "stream",
          "text": [
            "\n"
          ]
        },
        {
          "metadata": {
            "tags": null
          },
          "name": "stdout",
          "output_type": "stream",
          "text": [
            "\n",
            "      Epoch    GPU_mem   box_loss   cls_loss   dfl_loss  Instances       Size\n"
          ]
        },
        {
          "metadata": {
            "tags": null
          },
          "name": "stderr",
          "output_type": "stream",
          "text": [
            "    134/200      6.61G      1.241     0.7552     0.9455        736        640: 100%|██████████| 12/12 [00:20<00:00,  1.73s/it]\n",
            "                 Class     Images  Instances      Box(P          R      mAP50  mAP50-95): 100%|██████████| 2/2 [00:02<00:00,  1.07s/it]"
          ]
        },
        {
          "metadata": {
            "tags": null
          },
          "name": "stdout",
          "output_type": "stream",
          "text": [
            "                   all        107       3682      0.813      0.726      0.806      0.505\n"
          ]
        },
        {
          "metadata": {
            "tags": null
          },
          "name": "stderr",
          "output_type": "stream",
          "text": [
            "\n"
          ]
        },
        {
          "metadata": {
            "tags": null
          },
          "name": "stdout",
          "output_type": "stream",
          "text": [
            "\n",
            "      Epoch    GPU_mem   box_loss   cls_loss   dfl_loss  Instances       Size\n"
          ]
        },
        {
          "metadata": {
            "tags": null
          },
          "name": "stderr",
          "output_type": "stream",
          "text": [
            "    135/200      7.04G      1.245     0.7576     0.9438        642        640: 100%|██████████| 12/12 [00:20<00:00,  1.72s/it]\n",
            "                 Class     Images  Instances      Box(P          R      mAP50  mAP50-95): 100%|██████████| 2/2 [00:02<00:00,  1.23s/it]"
          ]
        },
        {
          "metadata": {
            "tags": null
          },
          "name": "stdout",
          "output_type": "stream",
          "text": [
            "                   all        107       3682      0.827      0.719      0.802      0.499\n"
          ]
        },
        {
          "metadata": {
            "tags": null
          },
          "name": "stderr",
          "output_type": "stream",
          "text": [
            "\n"
          ]
        },
        {
          "metadata": {
            "tags": null
          },
          "name": "stdout",
          "output_type": "stream",
          "text": [
            "\n",
            "      Epoch    GPU_mem   box_loss   cls_loss   dfl_loss  Instances       Size\n"
          ]
        },
        {
          "metadata": {
            "tags": null
          },
          "name": "stderr",
          "output_type": "stream",
          "text": [
            "    136/200      6.03G      1.207     0.7459     0.9515        572        640: 100%|██████████| 12/12 [00:20<00:00,  1.68s/it]\n",
            "                 Class     Images  Instances      Box(P          R      mAP50  mAP50-95): 100%|██████████| 2/2 [00:03<00:00,  1.60s/it]"
          ]
        },
        {
          "metadata": {
            "tags": null
          },
          "name": "stdout",
          "output_type": "stream",
          "text": [
            "                   all        107       3682      0.811      0.727      0.799      0.498\n"
          ]
        },
        {
          "metadata": {
            "tags": null
          },
          "name": "stderr",
          "output_type": "stream",
          "text": [
            "\n"
          ]
        },
        {
          "metadata": {
            "tags": null
          },
          "name": "stdout",
          "output_type": "stream",
          "text": [
            "\n",
            "      Epoch    GPU_mem   box_loss   cls_loss   dfl_loss  Instances       Size\n"
          ]
        },
        {
          "metadata": {
            "tags": null
          },
          "name": "stderr",
          "output_type": "stream",
          "text": [
            "    137/200      7.41G      1.231     0.7394     0.9446        560        640: 100%|██████████| 12/12 [00:19<00:00,  1.63s/it]\n",
            "                 Class     Images  Instances      Box(P          R      mAP50  mAP50-95): 100%|██████████| 2/2 [00:03<00:00,  1.80s/it]"
          ]
        },
        {
          "metadata": {
            "tags": null
          },
          "name": "stdout",
          "output_type": "stream",
          "text": [
            "                   all        107       3682      0.826      0.713      0.798        0.5\n"
          ]
        },
        {
          "metadata": {
            "tags": null
          },
          "name": "stderr",
          "output_type": "stream",
          "text": [
            "\n"
          ]
        },
        {
          "metadata": {
            "tags": null
          },
          "name": "stdout",
          "output_type": "stream",
          "text": [
            "\n",
            "      Epoch    GPU_mem   box_loss   cls_loss   dfl_loss  Instances       Size\n"
          ]
        },
        {
          "metadata": {
            "tags": null
          },
          "name": "stderr",
          "output_type": "stream",
          "text": [
            "    138/200       7.4G      1.236     0.7487     0.9425        783        640: 100%|██████████| 12/12 [00:19<00:00,  1.65s/it]\n",
            "                 Class     Images  Instances      Box(P          R      mAP50  mAP50-95): 100%|██████████| 2/2 [00:03<00:00,  1.78s/it]"
          ]
        },
        {
          "metadata": {
            "tags": null
          },
          "name": "stdout",
          "output_type": "stream",
          "text": [
            "                   all        107       3682      0.831      0.728      0.807      0.509\n"
          ]
        },
        {
          "metadata": {
            "tags": null
          },
          "name": "stderr",
          "output_type": "stream",
          "text": [
            "\n"
          ]
        },
        {
          "metadata": {
            "tags": null
          },
          "name": "stdout",
          "output_type": "stream",
          "text": [
            "\n",
            "      Epoch    GPU_mem   box_loss   cls_loss   dfl_loss  Instances       Size\n"
          ]
        },
        {
          "metadata": {
            "tags": null
          },
          "name": "stderr",
          "output_type": "stream",
          "text": [
            "    139/200         7G      1.233     0.7544     0.9471        679        640: 100%|██████████| 12/12 [00:19<00:00,  1.63s/it]\n",
            "                 Class     Images  Instances      Box(P          R      mAP50  mAP50-95): 100%|██████████| 2/2 [00:02<00:00,  1.19s/it]"
          ]
        },
        {
          "metadata": {
            "tags": null
          },
          "name": "stdout",
          "output_type": "stream",
          "text": [
            "                   all        107       3682      0.832      0.725      0.805      0.505\n"
          ]
        },
        {
          "metadata": {
            "tags": null
          },
          "name": "stderr",
          "output_type": "stream",
          "text": [
            "\n"
          ]
        },
        {
          "metadata": {
            "tags": null
          },
          "name": "stdout",
          "output_type": "stream",
          "text": [
            "\n",
            "      Epoch    GPU_mem   box_loss   cls_loss   dfl_loss  Instances       Size\n"
          ]
        },
        {
          "metadata": {
            "tags": null
          },
          "name": "stderr",
          "output_type": "stream",
          "text": [
            "    140/200      5.76G      1.231     0.7576     0.9473        573        640: 100%|██████████| 12/12 [00:21<00:00,  1.76s/it]\n",
            "                 Class     Images  Instances      Box(P          R      mAP50  mAP50-95): 100%|██████████| 2/2 [00:02<00:00,  1.07s/it]"
          ]
        },
        {
          "metadata": {
            "tags": null
          },
          "name": "stdout",
          "output_type": "stream",
          "text": [
            "                   all        107       3682      0.826      0.725      0.807      0.498\n"
          ]
        },
        {
          "metadata": {
            "tags": null
          },
          "name": "stderr",
          "output_type": "stream",
          "text": [
            "\n"
          ]
        },
        {
          "metadata": {
            "tags": null
          },
          "name": "stdout",
          "output_type": "stream",
          "text": [
            "\n",
            "      Epoch    GPU_mem   box_loss   cls_loss   dfl_loss  Instances       Size\n"
          ]
        },
        {
          "metadata": {
            "tags": null
          },
          "name": "stderr",
          "output_type": "stream",
          "text": [
            "    141/200      6.14G      1.216     0.7314     0.9424        933        640: 100%|██████████| 12/12 [00:20<00:00,  1.73s/it]\n",
            "                 Class     Images  Instances      Box(P          R      mAP50  mAP50-95): 100%|██████████| 2/2 [00:02<00:00,  1.16s/it]"
          ]
        },
        {
          "metadata": {
            "tags": null
          },
          "name": "stdout",
          "output_type": "stream",
          "text": [
            "                   all        107       3682      0.813      0.739      0.806      0.505\n"
          ]
        },
        {
          "metadata": {
            "tags": null
          },
          "name": "stderr",
          "output_type": "stream",
          "text": [
            "\n"
          ]
        },
        {
          "metadata": {
            "tags": null
          },
          "name": "stdout",
          "output_type": "stream",
          "text": [
            "\n",
            "      Epoch    GPU_mem   box_loss   cls_loss   dfl_loss  Instances       Size\n"
          ]
        },
        {
          "metadata": {
            "tags": null
          },
          "name": "stderr",
          "output_type": "stream",
          "text": [
            "    142/200      6.34G      1.226      0.744     0.9378        795        640: 100%|██████████| 12/12 [00:19<00:00,  1.59s/it]\n",
            "                 Class     Images  Instances      Box(P          R      mAP50  mAP50-95): 100%|██████████| 2/2 [00:02<00:00,  1.16s/it]"
          ]
        },
        {
          "metadata": {
            "tags": null
          },
          "name": "stdout",
          "output_type": "stream",
          "text": [
            "                   all        107       3682      0.836      0.724      0.811      0.507\n"
          ]
        },
        {
          "metadata": {
            "tags": null
          },
          "name": "stderr",
          "output_type": "stream",
          "text": [
            "\n"
          ]
        },
        {
          "metadata": {
            "tags": null
          },
          "name": "stdout",
          "output_type": "stream",
          "text": [
            "\n",
            "      Epoch    GPU_mem   box_loss   cls_loss   dfl_loss  Instances       Size\n"
          ]
        },
        {
          "metadata": {
            "tags": null
          },
          "name": "stderr",
          "output_type": "stream",
          "text": [
            "    143/200      6.99G      1.242     0.7568      0.945        731        640: 100%|██████████| 12/12 [00:19<00:00,  1.65s/it]\n",
            "                 Class     Images  Instances      Box(P          R      mAP50  mAP50-95): 100%|██████████| 2/2 [00:03<00:00,  1.65s/it]"
          ]
        },
        {
          "metadata": {
            "tags": null
          },
          "name": "stdout",
          "output_type": "stream",
          "text": [
            "                   all        107       3682      0.828      0.726      0.803      0.503\n"
          ]
        },
        {
          "metadata": {
            "tags": null
          },
          "name": "stderr",
          "output_type": "stream",
          "text": [
            "\n"
          ]
        },
        {
          "metadata": {
            "tags": null
          },
          "name": "stdout",
          "output_type": "stream",
          "text": [
            "\n",
            "      Epoch    GPU_mem   box_loss   cls_loss   dfl_loss  Instances       Size\n"
          ]
        },
        {
          "metadata": {
            "tags": null
          },
          "name": "stderr",
          "output_type": "stream",
          "text": [
            "    144/200      5.91G      1.212      0.737     0.9367        754        640: 100%|██████████| 12/12 [00:17<00:00,  1.48s/it]\n",
            "                 Class     Images  Instances      Box(P          R      mAP50  mAP50-95): 100%|██████████| 2/2 [00:03<00:00,  1.84s/it]"
          ]
        },
        {
          "metadata": {
            "tags": null
          },
          "name": "stdout",
          "output_type": "stream",
          "text": [
            "                   all        107       3682      0.824      0.715      0.793      0.496\n"
          ]
        },
        {
          "metadata": {
            "tags": null
          },
          "name": "stderr",
          "output_type": "stream",
          "text": [
            "\n"
          ]
        },
        {
          "metadata": {
            "tags": null
          },
          "name": "stdout",
          "output_type": "stream",
          "text": [
            "\n",
            "      Epoch    GPU_mem   box_loss   cls_loss   dfl_loss  Instances       Size\n"
          ]
        },
        {
          "metadata": {
            "tags": null
          },
          "name": "stderr",
          "output_type": "stream",
          "text": [
            "    145/200      6.78G      1.205     0.7322     0.9417        781        640: 100%|██████████| 12/12 [00:18<00:00,  1.57s/it]\n",
            "                 Class     Images  Instances      Box(P          R      mAP50  mAP50-95): 100%|██████████| 2/2 [00:03<00:00,  1.90s/it]"
          ]
        },
        {
          "metadata": {
            "tags": null
          },
          "name": "stdout",
          "output_type": "stream",
          "text": [
            "                   all        107       3682      0.833      0.725      0.804      0.504\n"
          ]
        },
        {
          "metadata": {
            "tags": null
          },
          "name": "stderr",
          "output_type": "stream",
          "text": [
            "\n"
          ]
        },
        {
          "metadata": {
            "tags": null
          },
          "name": "stdout",
          "output_type": "stream",
          "text": [
            "\n",
            "      Epoch    GPU_mem   box_loss   cls_loss   dfl_loss  Instances       Size\n"
          ]
        },
        {
          "metadata": {
            "tags": null
          },
          "name": "stderr",
          "output_type": "stream",
          "text": [
            "    146/200      6.91G      1.201     0.7275     0.9336        725        640: 100%|██████████| 12/12 [00:19<00:00,  1.64s/it]\n",
            "                 Class     Images  Instances      Box(P          R      mAP50  mAP50-95): 100%|██████████| 2/2 [00:02<00:00,  1.12s/it]"
          ]
        },
        {
          "metadata": {
            "tags": null
          },
          "name": "stdout",
          "output_type": "stream",
          "text": [
            "                   all        107       3682       0.84       0.72      0.808      0.503\n"
          ]
        },
        {
          "metadata": {
            "tags": null
          },
          "name": "stderr",
          "output_type": "stream",
          "text": [
            "\n"
          ]
        },
        {
          "metadata": {
            "tags": null
          },
          "name": "stdout",
          "output_type": "stream",
          "text": [
            "\n",
            "      Epoch    GPU_mem   box_loss   cls_loss   dfl_loss  Instances       Size\n"
          ]
        },
        {
          "metadata": {
            "tags": null
          },
          "name": "stderr",
          "output_type": "stream",
          "text": [
            "    147/200      6.05G      1.181     0.7201     0.9348        672        640: 100%|██████████| 12/12 [00:20<00:00,  1.68s/it]\n",
            "                 Class     Images  Instances      Box(P          R      mAP50  mAP50-95): 100%|██████████| 2/2 [00:02<00:00,  1.04s/it]"
          ]
        },
        {
          "metadata": {
            "tags": null
          },
          "name": "stdout",
          "output_type": "stream",
          "text": [
            "                   all        107       3682      0.822      0.719      0.799      0.499\n"
          ]
        },
        {
          "metadata": {
            "tags": null
          },
          "name": "stderr",
          "output_type": "stream",
          "text": [
            "\n"
          ]
        },
        {
          "metadata": {
            "tags": null
          },
          "name": "stdout",
          "output_type": "stream",
          "text": [
            "\n",
            "      Epoch    GPU_mem   box_loss   cls_loss   dfl_loss  Instances       Size\n"
          ]
        },
        {
          "metadata": {
            "tags": null
          },
          "name": "stderr",
          "output_type": "stream",
          "text": [
            "    148/200      6.56G      1.228     0.7386      0.944        497        640: 100%|██████████| 12/12 [00:20<00:00,  1.68s/it]\n",
            "                 Class     Images  Instances      Box(P          R      mAP50  mAP50-95): 100%|██████████| 2/2 [00:02<00:00,  1.15s/it]"
          ]
        },
        {
          "metadata": {
            "tags": null
          },
          "name": "stdout",
          "output_type": "stream",
          "text": [
            "                   all        107       3682      0.833       0.73      0.807      0.507\n"
          ]
        },
        {
          "metadata": {
            "tags": null
          },
          "name": "stderr",
          "output_type": "stream",
          "text": [
            "\n"
          ]
        },
        {
          "metadata": {
            "tags": null
          },
          "name": "stdout",
          "output_type": "stream",
          "text": [
            "\n",
            "      Epoch    GPU_mem   box_loss   cls_loss   dfl_loss  Instances       Size\n"
          ]
        },
        {
          "metadata": {
            "tags": null
          },
          "name": "stderr",
          "output_type": "stream",
          "text": [
            "    149/200      6.05G      1.219     0.7373     0.9433        748        640: 100%|██████████| 12/12 [00:20<00:00,  1.71s/it]\n",
            "                 Class     Images  Instances      Box(P          R      mAP50  mAP50-95): 100%|██████████| 2/2 [00:02<00:00,  1.14s/it]"
          ]
        },
        {
          "metadata": {
            "tags": null
          },
          "name": "stdout",
          "output_type": "stream",
          "text": [
            "                   all        107       3682      0.837      0.738      0.814       0.51\n"
          ]
        },
        {
          "metadata": {
            "tags": null
          },
          "name": "stderr",
          "output_type": "stream",
          "text": [
            "\n"
          ]
        },
        {
          "metadata": {
            "tags": null
          },
          "name": "stdout",
          "output_type": "stream",
          "text": [
            "\n",
            "      Epoch    GPU_mem   box_loss   cls_loss   dfl_loss  Instances       Size\n"
          ]
        },
        {
          "metadata": {
            "tags": null
          },
          "name": "stderr",
          "output_type": "stream",
          "text": [
            "    150/200      7.59G       1.25     0.7353     0.9326        841        640: 100%|██████████| 12/12 [00:19<00:00,  1.64s/it]\n",
            "                 Class     Images  Instances      Box(P          R      mAP50  mAP50-95): 100%|██████████| 2/2 [00:03<00:00,  1.83s/it]"
          ]
        },
        {
          "metadata": {
            "tags": null
          },
          "name": "stdout",
          "output_type": "stream",
          "text": [
            "                   all        107       3682      0.846      0.738      0.818      0.517\n"
          ]
        },
        {
          "metadata": {
            "tags": null
          },
          "name": "stderr",
          "output_type": "stream",
          "text": [
            "\n"
          ]
        },
        {
          "metadata": {
            "tags": null
          },
          "name": "stdout",
          "output_type": "stream",
          "text": [
            "\n",
            "      Epoch    GPU_mem   box_loss   cls_loss   dfl_loss  Instances       Size\n"
          ]
        },
        {
          "metadata": {
            "tags": null
          },
          "name": "stderr",
          "output_type": "stream",
          "text": [
            "    151/200      7.39G      1.227     0.7373     0.9429        680        640: 100%|██████████| 12/12 [00:18<00:00,  1.57s/it]\n",
            "                 Class     Images  Instances      Box(P          R      mAP50  mAP50-95): 100%|██████████| 2/2 [00:03<00:00,  1.89s/it]"
          ]
        },
        {
          "metadata": {
            "tags": null
          },
          "name": "stdout",
          "output_type": "stream",
          "text": [
            "                   all        107       3682       0.84      0.742      0.818      0.515\n"
          ]
        },
        {
          "metadata": {
            "tags": null
          },
          "name": "stderr",
          "output_type": "stream",
          "text": [
            "\n"
          ]
        },
        {
          "metadata": {
            "tags": null
          },
          "name": "stdout",
          "output_type": "stream",
          "text": [
            "\n",
            "      Epoch    GPU_mem   box_loss   cls_loss   dfl_loss  Instances       Size\n"
          ]
        },
        {
          "metadata": {
            "tags": null
          },
          "name": "stderr",
          "output_type": "stream",
          "text": [
            "    152/200      6.42G      1.209     0.7327     0.9285        624        640: 100%|██████████| 12/12 [00:19<00:00,  1.63s/it]\n",
            "                 Class     Images  Instances      Box(P          R      mAP50  mAP50-95): 100%|██████████| 2/2 [00:03<00:00,  1.51s/it]"
          ]
        },
        {
          "metadata": {
            "tags": null
          },
          "name": "stdout",
          "output_type": "stream",
          "text": [
            "                   all        107       3682      0.834       0.74      0.815       0.51\n"
          ]
        },
        {
          "metadata": {
            "tags": null
          },
          "name": "stderr",
          "output_type": "stream",
          "text": [
            "\n"
          ]
        },
        {
          "metadata": {
            "tags": null
          },
          "name": "stdout",
          "output_type": "stream",
          "text": [
            "\n",
            "      Epoch    GPU_mem   box_loss   cls_loss   dfl_loss  Instances       Size\n"
          ]
        },
        {
          "metadata": {
            "tags": null
          },
          "name": "stderr",
          "output_type": "stream",
          "text": [
            "    153/200      5.92G      1.181     0.7098     0.9278        801        640: 100%|██████████| 12/12 [00:20<00:00,  1.72s/it]\n",
            "                 Class     Images  Instances      Box(P          R      mAP50  mAP50-95): 100%|██████████| 2/2 [00:01<00:00,  1.01it/s]"
          ]
        },
        {
          "metadata": {
            "tags": null
          },
          "name": "stdout",
          "output_type": "stream",
          "text": [
            "                   all        107       3682      0.836      0.728      0.807      0.503\n"
          ]
        },
        {
          "metadata": {
            "tags": null
          },
          "name": "stderr",
          "output_type": "stream",
          "text": [
            "\n"
          ]
        },
        {
          "metadata": {
            "tags": null
          },
          "name": "stdout",
          "output_type": "stream",
          "text": [
            "\n",
            "      Epoch    GPU_mem   box_loss   cls_loss   dfl_loss  Instances       Size\n"
          ]
        },
        {
          "metadata": {
            "tags": null
          },
          "name": "stderr",
          "output_type": "stream",
          "text": [
            "    154/200      5.83G      1.205     0.7365     0.9381        600        640: 100%|██████████| 12/12 [00:20<00:00,  1.69s/it]\n",
            "                 Class     Images  Instances      Box(P          R      mAP50  mAP50-95): 100%|██████████| 2/2 [00:02<00:00,  1.19s/it]"
          ]
        },
        {
          "metadata": {
            "tags": null
          },
          "name": "stdout",
          "output_type": "stream",
          "text": [
            "                   all        107       3682      0.833      0.735      0.808      0.507\n"
          ]
        },
        {
          "metadata": {
            "tags": null
          },
          "name": "stderr",
          "output_type": "stream",
          "text": [
            "\n"
          ]
        },
        {
          "metadata": {
            "tags": null
          },
          "name": "stdout",
          "output_type": "stream",
          "text": [
            "\n",
            "      Epoch    GPU_mem   box_loss   cls_loss   dfl_loss  Instances       Size\n"
          ]
        },
        {
          "metadata": {
            "tags": null
          },
          "name": "stderr",
          "output_type": "stream",
          "text": [
            "    155/200         6G      1.171     0.7109     0.9335        588        640: 100%|██████████| 12/12 [00:19<00:00,  1.64s/it]\n",
            "                 Class     Images  Instances      Box(P          R      mAP50  mAP50-95): 100%|██████████| 2/2 [00:02<00:00,  1.20s/it]"
          ]
        },
        {
          "metadata": {
            "tags": null
          },
          "name": "stdout",
          "output_type": "stream",
          "text": [
            "                   all        107       3682      0.838      0.729       0.81      0.508\n"
          ]
        },
        {
          "metadata": {
            "tags": null
          },
          "name": "stderr",
          "output_type": "stream",
          "text": [
            "\n"
          ]
        },
        {
          "metadata": {
            "tags": null
          },
          "name": "stdout",
          "output_type": "stream",
          "text": [
            "\n",
            "      Epoch    GPU_mem   box_loss   cls_loss   dfl_loss  Instances       Size\n"
          ]
        },
        {
          "metadata": {
            "tags": null
          },
          "name": "stderr",
          "output_type": "stream",
          "text": [
            "    156/200       7.3G      1.221     0.7362     0.9364        511        640: 100%|██████████| 12/12 [00:20<00:00,  1.68s/it]\n",
            "                 Class     Images  Instances      Box(P          R      mAP50  mAP50-95): 100%|██████████| 2/2 [00:02<00:00,  1.27s/it]"
          ]
        },
        {
          "metadata": {
            "tags": null
          },
          "name": "stdout",
          "output_type": "stream",
          "text": [
            "                   all        107       3682      0.837      0.733      0.814       0.51\n"
          ]
        },
        {
          "metadata": {
            "tags": null
          },
          "name": "stderr",
          "output_type": "stream",
          "text": [
            "\n"
          ]
        },
        {
          "metadata": {
            "tags": null
          },
          "name": "stdout",
          "output_type": "stream",
          "text": [
            "\n",
            "      Epoch    GPU_mem   box_loss   cls_loss   dfl_loss  Instances       Size\n"
          ]
        },
        {
          "metadata": {
            "tags": null
          },
          "name": "stderr",
          "output_type": "stream",
          "text": [
            "    157/200      5.75G      1.195     0.7202     0.9335        662        640: 100%|██████████| 12/12 [00:17<00:00,  1.49s/it]\n",
            "                 Class     Images  Instances      Box(P          R      mAP50  mAP50-95): 100%|██████████| 2/2 [00:03<00:00,  1.71s/it]"
          ]
        },
        {
          "metadata": {
            "tags": null
          },
          "name": "stdout",
          "output_type": "stream",
          "text": [
            "                   all        107       3682      0.821       0.73      0.802      0.504\n"
          ]
        },
        {
          "metadata": {
            "tags": null
          },
          "name": "stderr",
          "output_type": "stream",
          "text": [
            "\n"
          ]
        },
        {
          "metadata": {
            "tags": null
          },
          "name": "stdout",
          "output_type": "stream",
          "text": [
            "\n",
            "      Epoch    GPU_mem   box_loss   cls_loss   dfl_loss  Instances       Size\n"
          ]
        },
        {
          "metadata": {
            "tags": null
          },
          "name": "stderr",
          "output_type": "stream",
          "text": [
            "    158/200      7.49G       1.17     0.7207     0.9312        557        640: 100%|██████████| 12/12 [00:18<00:00,  1.56s/it]\n",
            "                 Class     Images  Instances      Box(P          R      mAP50  mAP50-95): 100%|██████████| 2/2 [00:03<00:00,  1.83s/it]"
          ]
        },
        {
          "metadata": {
            "tags": null
          },
          "name": "stdout",
          "output_type": "stream",
          "text": [
            "                   all        107       3682      0.827      0.737      0.808      0.502\n"
          ]
        },
        {
          "metadata": {
            "tags": null
          },
          "name": "stderr",
          "output_type": "stream",
          "text": [
            "\n"
          ]
        },
        {
          "metadata": {
            "tags": null
          },
          "name": "stdout",
          "output_type": "stream",
          "text": [
            "\n",
            "      Epoch    GPU_mem   box_loss   cls_loss   dfl_loss  Instances       Size\n"
          ]
        },
        {
          "metadata": {
            "tags": null
          },
          "name": "stderr",
          "output_type": "stream",
          "text": [
            "    159/200      8.16G      1.206     0.7244     0.9365        409        640: 100%|██████████| 12/12 [00:19<00:00,  1.59s/it]\n",
            "                 Class     Images  Instances      Box(P          R      mAP50  mAP50-95): 100%|██████████| 2/2 [00:02<00:00,  1.44s/it]"
          ]
        },
        {
          "metadata": {
            "tags": null
          },
          "name": "stdout",
          "output_type": "stream",
          "text": [
            "                   all        107       3682      0.822      0.733      0.808      0.499\n"
          ]
        },
        {
          "metadata": {
            "tags": null
          },
          "name": "stderr",
          "output_type": "stream",
          "text": [
            "\n"
          ]
        },
        {
          "metadata": {
            "tags": null
          },
          "name": "stdout",
          "output_type": "stream",
          "text": [
            "\n",
            "      Epoch    GPU_mem   box_loss   cls_loss   dfl_loss  Instances       Size\n"
          ]
        },
        {
          "metadata": {
            "tags": null
          },
          "name": "stderr",
          "output_type": "stream",
          "text": [
            "    160/200      8.07G      1.186     0.7198     0.9326        571        640: 100%|██████████| 12/12 [00:20<00:00,  1.68s/it]\n",
            "                 Class     Images  Instances      Box(P          R      mAP50  mAP50-95): 100%|██████████| 2/2 [00:02<00:00,  1.11s/it]"
          ]
        },
        {
          "metadata": {
            "tags": null
          },
          "name": "stdout",
          "output_type": "stream",
          "text": [
            "                   all        107       3682      0.829      0.723      0.809      0.501\n"
          ]
        },
        {
          "metadata": {
            "tags": null
          },
          "name": "stderr",
          "output_type": "stream",
          "text": [
            "\n"
          ]
        },
        {
          "metadata": {
            "tags": null
          },
          "name": "stdout",
          "output_type": "stream",
          "text": [
            "\n",
            "      Epoch    GPU_mem   box_loss   cls_loss   dfl_loss  Instances       Size\n"
          ]
        },
        {
          "metadata": {
            "tags": null
          },
          "name": "stderr",
          "output_type": "stream",
          "text": [
            "    161/200      7.12G      1.216     0.7267     0.9343        723        640: 100%|██████████| 12/12 [00:20<00:00,  1.69s/it]\n",
            "                 Class     Images  Instances      Box(P          R      mAP50  mAP50-95): 100%|██████████| 2/2 [00:02<00:00,  1.06s/it]"
          ]
        },
        {
          "metadata": {
            "tags": null
          },
          "name": "stdout",
          "output_type": "stream",
          "text": [
            "                   all        107       3682      0.831       0.73      0.812      0.509\n"
          ]
        },
        {
          "metadata": {
            "tags": null
          },
          "name": "stderr",
          "output_type": "stream",
          "text": [
            "\n"
          ]
        },
        {
          "metadata": {
            "tags": null
          },
          "name": "stdout",
          "output_type": "stream",
          "text": [
            "\n",
            "      Epoch    GPU_mem   box_loss   cls_loss   dfl_loss  Instances       Size\n"
          ]
        },
        {
          "metadata": {
            "tags": null
          },
          "name": "stderr",
          "output_type": "stream",
          "text": [
            "    162/200      6.47G      1.192     0.7207     0.9357        609        640: 100%|██████████| 12/12 [00:20<00:00,  1.67s/it]\n",
            "                 Class     Images  Instances      Box(P          R      mAP50  mAP50-95): 100%|██████████| 2/2 [00:02<00:00,  1.15s/it]"
          ]
        },
        {
          "metadata": {
            "tags": null
          },
          "name": "stdout",
          "output_type": "stream",
          "text": [
            "                   all        107       3682      0.843      0.728      0.817       0.52\n"
          ]
        },
        {
          "metadata": {
            "tags": null
          },
          "name": "stderr",
          "output_type": "stream",
          "text": [
            "\n"
          ]
        },
        {
          "metadata": {
            "tags": null
          },
          "name": "stdout",
          "output_type": "stream",
          "text": [
            "\n",
            "      Epoch    GPU_mem   box_loss   cls_loss   dfl_loss  Instances       Size\n"
          ]
        },
        {
          "output_type": "stream",
          "name": "stderr",
          "text": [
            "    163/200      7.66G      1.187     0.7159     0.9349        717        640: 100%|██████████| 12/12 [00:19<00:00,  1.65s/it]\n",
            "                 Class     Images  Instances      Box(P          R      mAP50  mAP50-95): 100%|██████████| 2/2 [00:03<00:00,  1.68s/it]"
          ]
        },
        {
          "output_type": "stream",
          "name": "stdout",
          "text": [
            "                   all        107       3682      0.831       0.75      0.821      0.522\n"
          ]
        },
        {
          "output_type": "stream",
          "name": "stderr",
          "text": [
            "\n"
          ]
        },
        {
          "output_type": "stream",
          "name": "stdout",
          "text": [
            "\n",
            "      Epoch    GPU_mem   box_loss   cls_loss   dfl_loss  Instances       Size\n"
          ]
        },
        {
          "output_type": "stream",
          "name": "stderr",
          "text": [
            "    164/200      6.13G      1.165     0.6967     0.9307        593        640: 100%|██████████| 12/12 [00:17<00:00,  1.49s/it]\n",
            "                 Class     Images  Instances      Box(P          R      mAP50  mAP50-95): 100%|██████████| 2/2 [00:03<00:00,  1.75s/it]"
          ]
        },
        {
          "output_type": "stream",
          "name": "stdout",
          "text": [
            "                   all        107       3682      0.844      0.738      0.818      0.524\n"
          ]
        },
        {
          "output_type": "stream",
          "name": "stderr",
          "text": [
            "\n"
          ]
        },
        {
          "output_type": "stream",
          "name": "stdout",
          "text": [
            "\n",
            "      Epoch    GPU_mem   box_loss   cls_loss   dfl_loss  Instances       Size\n"
          ]
        },
        {
          "output_type": "stream",
          "name": "stderr",
          "text": [
            "    165/200      8.25G      1.199     0.7212     0.9383       1114        640: 100%|██████████| 12/12 [00:19<00:00,  1.63s/it]\n",
            "                 Class     Images  Instances      Box(P          R      mAP50  mAP50-95): 100%|██████████| 2/2 [00:03<00:00,  1.63s/it]"
          ]
        },
        {
          "output_type": "stream",
          "name": "stdout",
          "text": [
            "                   all        107       3682      0.848      0.736      0.817       0.52\n"
          ]
        },
        {
          "output_type": "stream",
          "name": "stderr",
          "text": [
            "\n"
          ]
        },
        {
          "output_type": "stream",
          "name": "stdout",
          "text": [
            "\n",
            "      Epoch    GPU_mem   box_loss   cls_loss   dfl_loss  Instances       Size\n"
          ]
        },
        {
          "output_type": "stream",
          "name": "stderr",
          "text": [
            "    166/200      6.02G      1.179     0.7143     0.9444        541        640: 100%|██████████| 12/12 [00:19<00:00,  1.64s/it]\n",
            "                 Class     Images  Instances      Box(P          R      mAP50  mAP50-95): 100%|██████████| 2/2 [00:02<00:00,  1.13s/it]"
          ]
        },
        {
          "output_type": "stream",
          "name": "stdout",
          "text": [
            "                   all        107       3682      0.843      0.736      0.815      0.521\n"
          ]
        },
        {
          "output_type": "stream",
          "name": "stderr",
          "text": [
            "\n"
          ]
        },
        {
          "output_type": "stream",
          "name": "stdout",
          "text": [
            "\n",
            "      Epoch    GPU_mem   box_loss   cls_loss   dfl_loss  Instances       Size\n"
          ]
        },
        {
          "output_type": "stream",
          "name": "stderr",
          "text": [
            "    167/200      8.11G      1.172     0.7005     0.9305        721        640: 100%|██████████| 12/12 [00:18<00:00,  1.57s/it]\n",
            "                 Class     Images  Instances      Box(P          R      mAP50  mAP50-95): 100%|██████████| 2/2 [00:02<00:00,  1.05s/it]"
          ]
        },
        {
          "output_type": "stream",
          "name": "stdout",
          "text": [
            "                   all        107       3682      0.846      0.731      0.817      0.519\n"
          ]
        },
        {
          "output_type": "stream",
          "name": "stderr",
          "text": [
            "\n"
          ]
        },
        {
          "output_type": "stream",
          "name": "stdout",
          "text": [
            "\n",
            "      Epoch    GPU_mem   box_loss   cls_loss   dfl_loss  Instances       Size\n"
          ]
        },
        {
          "output_type": "stream",
          "name": "stderr",
          "text": [
            "    168/200      8.04G       1.19     0.7102     0.9356        804        640: 100%|██████████| 12/12 [00:20<00:00,  1.69s/it]\n",
            "                 Class     Images  Instances      Box(P          R      mAP50  mAP50-95): 100%|██████████| 2/2 [00:02<00:00,  1.12s/it]"
          ]
        },
        {
          "output_type": "stream",
          "name": "stdout",
          "text": [
            "                   all        107       3682      0.842      0.742      0.823      0.523\n"
          ]
        },
        {
          "output_type": "stream",
          "name": "stderr",
          "text": [
            "\n"
          ]
        },
        {
          "output_type": "stream",
          "name": "stdout",
          "text": [
            "\n",
            "      Epoch    GPU_mem   box_loss   cls_loss   dfl_loss  Instances       Size\n"
          ]
        },
        {
          "output_type": "stream",
          "name": "stderr",
          "text": [
            "    169/200      6.49G      1.171     0.7002     0.9283        539        640: 100%|██████████| 12/12 [00:19<00:00,  1.64s/it]\n",
            "                 Class     Images  Instances      Box(P          R      mAP50  mAP50-95): 100%|██████████| 2/2 [00:03<00:00,  1.53s/it]"
          ]
        },
        {
          "output_type": "stream",
          "name": "stdout",
          "text": [
            "                   all        107       3682       0.84       0.73      0.816      0.516\n"
          ]
        },
        {
          "output_type": "stream",
          "name": "stderr",
          "text": [
            "\n"
          ]
        },
        {
          "output_type": "stream",
          "name": "stdout",
          "text": [
            "\n",
            "      Epoch    GPU_mem   box_loss   cls_loss   dfl_loss  Instances       Size\n"
          ]
        },
        {
          "output_type": "stream",
          "name": "stderr",
          "text": [
            "    170/200      7.02G      1.158     0.6899     0.9214        748        640: 100%|██████████| 12/12 [00:18<00:00,  1.54s/it]\n",
            "                 Class     Images  Instances      Box(P          R      mAP50  mAP50-95): 100%|██████████| 2/2 [00:03<00:00,  1.73s/it]"
          ]
        },
        {
          "output_type": "stream",
          "name": "stdout",
          "text": [
            "                   all        107       3682      0.851      0.737      0.819      0.522\n"
          ]
        },
        {
          "output_type": "stream",
          "name": "stderr",
          "text": [
            "\n"
          ]
        },
        {
          "output_type": "stream",
          "name": "stdout",
          "text": [
            "\n",
            "      Epoch    GPU_mem   box_loss   cls_loss   dfl_loss  Instances       Size\n"
          ]
        },
        {
          "output_type": "stream",
          "name": "stderr",
          "text": [
            "    171/200      7.42G      1.159      0.699     0.9235        771        640: 100%|██████████| 12/12 [00:17<00:00,  1.48s/it]\n",
            "                 Class     Images  Instances      Box(P          R      mAP50  mAP50-95): 100%|██████████| 2/2 [00:03<00:00,  1.77s/it]"
          ]
        },
        {
          "output_type": "stream",
          "name": "stdout",
          "text": [
            "                   all        107       3682      0.857      0.741       0.82      0.522\n"
          ]
        },
        {
          "output_type": "stream",
          "name": "stderr",
          "text": [
            "\n"
          ]
        },
        {
          "output_type": "stream",
          "name": "stdout",
          "text": [
            "\n",
            "      Epoch    GPU_mem   box_loss   cls_loss   dfl_loss  Instances       Size\n"
          ]
        },
        {
          "output_type": "stream",
          "name": "stderr",
          "text": [
            "    172/200      6.58G      1.174     0.7027     0.9347        586        640: 100%|██████████| 12/12 [00:19<00:00,  1.66s/it]\n",
            "                 Class     Images  Instances      Box(P          R      mAP50  mAP50-95): 100%|██████████| 2/2 [00:02<00:00,  1.33s/it]"
          ]
        },
        {
          "output_type": "stream",
          "name": "stdout",
          "text": [
            "                   all        107       3682      0.839      0.746       0.82      0.525\n"
          ]
        },
        {
          "output_type": "stream",
          "name": "stderr",
          "text": [
            "\n"
          ]
        },
        {
          "output_type": "stream",
          "name": "stdout",
          "text": [
            "\n",
            "      Epoch    GPU_mem   box_loss   cls_loss   dfl_loss  Instances       Size\n"
          ]
        },
        {
          "output_type": "stream",
          "name": "stderr",
          "text": [
            "    173/200      6.54G      1.176     0.7123     0.9337        603        640: 100%|██████████| 12/12 [00:19<00:00,  1.65s/it]\n",
            "                 Class     Images  Instances      Box(P          R      mAP50  mAP50-95): 100%|██████████| 2/2 [00:02<00:00,  1.14s/it]"
          ]
        },
        {
          "output_type": "stream",
          "name": "stdout",
          "text": [
            "                   all        107       3682      0.835      0.743      0.818      0.516\n"
          ]
        },
        {
          "output_type": "stream",
          "name": "stderr",
          "text": [
            "\n"
          ]
        },
        {
          "output_type": "stream",
          "name": "stdout",
          "text": [
            "\n",
            "      Epoch    GPU_mem   box_loss   cls_loss   dfl_loss  Instances       Size\n"
          ]
        },
        {
          "output_type": "stream",
          "name": "stderr",
          "text": [
            "    174/200      6.73G      1.188     0.7116     0.9264        514        640: 100%|██████████| 12/12 [00:20<00:00,  1.71s/it]\n",
            "                 Class     Images  Instances      Box(P          R      mAP50  mAP50-95): 100%|██████████| 2/2 [00:02<00:00,  1.17s/it]"
          ]
        },
        {
          "output_type": "stream",
          "name": "stdout",
          "text": [
            "                   all        107       3682      0.838      0.744       0.82      0.517\n"
          ]
        },
        {
          "output_type": "stream",
          "name": "stderr",
          "text": [
            "\n"
          ]
        },
        {
          "output_type": "stream",
          "name": "stdout",
          "text": [
            "\n",
            "      Epoch    GPU_mem   box_loss   cls_loss   dfl_loss  Instances       Size\n"
          ]
        },
        {
          "output_type": "stream",
          "name": "stderr",
          "text": [
            "    175/200      5.96G       1.17     0.6993     0.9304        734        640: 100%|██████████| 12/12 [00:19<00:00,  1.62s/it]\n",
            "                 Class     Images  Instances      Box(P          R      mAP50  mAP50-95): 100%|██████████| 2/2 [00:02<00:00,  1.08s/it]"
          ]
        },
        {
          "output_type": "stream",
          "name": "stdout",
          "text": [
            "                   all        107       3682      0.829      0.749      0.821      0.515\n"
          ]
        },
        {
          "output_type": "stream",
          "name": "stderr",
          "text": [
            "\n"
          ]
        },
        {
          "output_type": "stream",
          "name": "stdout",
          "text": [
            "\n",
            "      Epoch    GPU_mem   box_loss   cls_loss   dfl_loss  Instances       Size\n"
          ]
        },
        {
          "output_type": "stream",
          "name": "stderr",
          "text": [
            "    176/200      7.38G       1.17      0.686     0.9226        481        640: 100%|██████████| 12/12 [00:19<00:00,  1.59s/it]\n",
            "                 Class     Images  Instances      Box(P          R      mAP50  mAP50-95): 100%|██████████| 2/2 [00:03<00:00,  1.52s/it]"
          ]
        },
        {
          "output_type": "stream",
          "name": "stdout",
          "text": [
            "                   all        107       3682      0.828      0.718      0.811      0.502\n"
          ]
        },
        {
          "output_type": "stream",
          "name": "stderr",
          "text": [
            "\n"
          ]
        },
        {
          "output_type": "stream",
          "name": "stdout",
          "text": [
            "\n",
            "      Epoch    GPU_mem   box_loss   cls_loss   dfl_loss  Instances       Size\n"
          ]
        },
        {
          "output_type": "stream",
          "name": "stderr",
          "text": [
            "    177/200      6.72G      1.155     0.6929     0.9284        802        640: 100%|██████████| 12/12 [00:16<00:00,  1.41s/it]\n",
            "                 Class     Images  Instances      Box(P          R      mAP50  mAP50-95): 100%|██████████| 2/2 [00:03<00:00,  1.66s/it]"
          ]
        },
        {
          "output_type": "stream",
          "name": "stdout",
          "text": [
            "                   all        107       3682      0.821      0.742      0.818      0.513\n"
          ]
        },
        {
          "output_type": "stream",
          "name": "stderr",
          "text": [
            "\n"
          ]
        },
        {
          "output_type": "stream",
          "name": "stdout",
          "text": [
            "\n",
            "      Epoch    GPU_mem   box_loss   cls_loss   dfl_loss  Instances       Size\n"
          ]
        },
        {
          "output_type": "stream",
          "name": "stderr",
          "text": [
            "    178/200      7.89G      1.188     0.7027     0.9223        699        640: 100%|██████████| 12/12 [00:18<00:00,  1.56s/it]\n",
            "                 Class     Images  Instances      Box(P          R      mAP50  mAP50-95): 100%|██████████| 2/2 [00:03<00:00,  1.74s/it]"
          ]
        },
        {
          "output_type": "stream",
          "name": "stdout",
          "text": [
            "                   all        107       3682      0.805      0.732      0.804        0.5\n"
          ]
        },
        {
          "output_type": "stream",
          "name": "stderr",
          "text": [
            "\n"
          ]
        },
        {
          "output_type": "stream",
          "name": "stdout",
          "text": [
            "\n",
            "      Epoch    GPU_mem   box_loss   cls_loss   dfl_loss  Instances       Size\n"
          ]
        },
        {
          "output_type": "stream",
          "name": "stderr",
          "text": [
            "    179/200      7.57G      1.158     0.6974     0.9184        530        640: 100%|██████████| 12/12 [00:19<00:00,  1.61s/it]\n",
            "                 Class     Images  Instances      Box(P          R      mAP50  mAP50-95): 100%|██████████| 2/2 [00:03<00:00,  1.60s/it]"
          ]
        },
        {
          "output_type": "stream",
          "name": "stdout",
          "text": [
            "                   all        107       3682      0.839      0.748      0.821      0.519\n"
          ]
        },
        {
          "output_type": "stream",
          "name": "stderr",
          "text": [
            "\n"
          ]
        },
        {
          "output_type": "stream",
          "name": "stdout",
          "text": [
            "\n",
            "      Epoch    GPU_mem   box_loss   cls_loss   dfl_loss  Instances       Size\n"
          ]
        },
        {
          "output_type": "stream",
          "name": "stderr",
          "text": [
            "    180/200       6.8G      1.177     0.6993     0.9273        658        640: 100%|██████████| 12/12 [00:20<00:00,  1.67s/it]\n",
            "                 Class     Images  Instances      Box(P          R      mAP50  mAP50-95): 100%|██████████| 2/2 [00:02<00:00,  1.07s/it]"
          ]
        },
        {
          "output_type": "stream",
          "name": "stdout",
          "text": [
            "                   all        107       3682      0.851      0.745      0.825      0.524\n"
          ]
        },
        {
          "output_type": "stream",
          "name": "stderr",
          "text": [
            "\n"
          ]
        },
        {
          "output_type": "stream",
          "name": "stdout",
          "text": [
            "\n",
            "      Epoch    GPU_mem   box_loss   cls_loss   dfl_loss  Instances       Size\n"
          ]
        },
        {
          "output_type": "stream",
          "name": "stderr",
          "text": [
            "    181/200       6.9G      1.154     0.6894     0.9251        647        640: 100%|██████████| 12/12 [00:20<00:00,  1.70s/it]\n",
            "                 Class     Images  Instances      Box(P          R      mAP50  mAP50-95): 100%|██████████| 2/2 [00:02<00:00,  1.20s/it]"
          ]
        },
        {
          "output_type": "stream",
          "name": "stdout",
          "text": [
            "                   all        107       3682       0.84      0.757      0.825      0.521\n"
          ]
        },
        {
          "output_type": "stream",
          "name": "stderr",
          "text": [
            "\n"
          ]
        },
        {
          "output_type": "stream",
          "name": "stdout",
          "text": [
            "\n",
            "      Epoch    GPU_mem   box_loss   cls_loss   dfl_loss  Instances       Size\n"
          ]
        },
        {
          "output_type": "stream",
          "name": "stderr",
          "text": [
            "    182/200      6.44G      1.172     0.6924     0.9182        695        640: 100%|██████████| 12/12 [00:19<00:00,  1.61s/it]\n",
            "                 Class     Images  Instances      Box(P          R      mAP50  mAP50-95): 100%|██████████| 2/2 [00:02<00:00,  1.19s/it]"
          ]
        },
        {
          "output_type": "stream",
          "name": "stdout",
          "text": [
            "                   all        107       3682      0.838      0.752      0.823      0.524\n"
          ]
        },
        {
          "output_type": "stream",
          "name": "stderr",
          "text": [
            "\n"
          ]
        },
        {
          "output_type": "stream",
          "name": "stdout",
          "text": [
            "\n",
            "      Epoch    GPU_mem   box_loss   cls_loss   dfl_loss  Instances       Size\n"
          ]
        },
        {
          "output_type": "stream",
          "name": "stderr",
          "text": [
            "    183/200      7.31G      1.186     0.7072     0.9305        624        640: 100%|██████████| 12/12 [00:18<00:00,  1.54s/it]\n",
            "                 Class     Images  Instances      Box(P          R      mAP50  mAP50-95): 100%|██████████| 2/2 [00:03<00:00,  1.56s/it]"
          ]
        },
        {
          "output_type": "stream",
          "name": "stdout",
          "text": [
            "                   all        107       3682      0.843      0.751      0.824      0.528\n"
          ]
        },
        {
          "output_type": "stream",
          "name": "stderr",
          "text": [
            "\n"
          ]
        },
        {
          "output_type": "stream",
          "name": "stdout",
          "text": [
            "\n",
            "      Epoch    GPU_mem   box_loss   cls_loss   dfl_loss  Instances       Size\n"
          ]
        },
        {
          "output_type": "stream",
          "name": "stderr",
          "text": [
            "    184/200      6.53G      1.142     0.6838     0.9214        636        640: 100%|██████████| 12/12 [00:17<00:00,  1.50s/it]\n",
            "                 Class     Images  Instances      Box(P          R      mAP50  mAP50-95): 100%|██████████| 2/2 [00:03<00:00,  1.79s/it]"
          ]
        },
        {
          "output_type": "stream",
          "name": "stdout",
          "text": [
            "                   all        107       3682      0.849      0.745      0.825      0.528\n"
          ]
        },
        {
          "output_type": "stream",
          "name": "stderr",
          "text": [
            "\n"
          ]
        },
        {
          "output_type": "stream",
          "name": "stdout",
          "text": [
            "\n",
            "      Epoch    GPU_mem   box_loss   cls_loss   dfl_loss  Instances       Size\n"
          ]
        },
        {
          "output_type": "stream",
          "name": "stderr",
          "text": [
            "    185/200      6.28G      1.154     0.6945      0.921        683        640: 100%|██████████| 12/12 [00:18<00:00,  1.54s/it]\n",
            "                 Class     Images  Instances      Box(P          R      mAP50  mAP50-95): 100%|██████████| 2/2 [00:03<00:00,  1.52s/it]"
          ]
        },
        {
          "output_type": "stream",
          "name": "stdout",
          "text": [
            "                   all        107       3682      0.837       0.75      0.825      0.527\n"
          ]
        },
        {
          "output_type": "stream",
          "name": "stderr",
          "text": [
            "\n"
          ]
        },
        {
          "output_type": "stream",
          "name": "stdout",
          "text": [
            "\n",
            "      Epoch    GPU_mem   box_loss   cls_loss   dfl_loss  Instances       Size\n"
          ]
        },
        {
          "output_type": "stream",
          "name": "stderr",
          "text": [
            "    186/200         7G       1.19     0.7025     0.9335        734        640: 100%|██████████| 12/12 [00:20<00:00,  1.69s/it]\n",
            "                 Class     Images  Instances      Box(P          R      mAP50  mAP50-95): 100%|██████████| 2/2 [00:02<00:00,  1.04s/it]"
          ]
        },
        {
          "output_type": "stream",
          "name": "stdout",
          "text": [
            "                   all        107       3682      0.834      0.748      0.823      0.522\n"
          ]
        },
        {
          "output_type": "stream",
          "name": "stderr",
          "text": [
            "\n"
          ]
        },
        {
          "output_type": "stream",
          "name": "stdout",
          "text": [
            "\n",
            "      Epoch    GPU_mem   box_loss   cls_loss   dfl_loss  Instances       Size\n"
          ]
        },
        {
          "output_type": "stream",
          "name": "stderr",
          "text": [
            "    187/200      7.94G      1.147     0.6975      0.927        712        640: 100%|██████████| 12/12 [00:20<00:00,  1.71s/it]\n",
            "                 Class     Images  Instances      Box(P          R      mAP50  mAP50-95): 100%|██████████| 2/2 [00:02<00:00,  1.15s/it]"
          ]
        },
        {
          "output_type": "stream",
          "name": "stdout",
          "text": [
            "                   all        107       3682      0.835      0.755       0.83      0.529\n"
          ]
        },
        {
          "output_type": "stream",
          "name": "stderr",
          "text": [
            "\n"
          ]
        },
        {
          "output_type": "stream",
          "name": "stdout",
          "text": [
            "\n",
            "      Epoch    GPU_mem   box_loss   cls_loss   dfl_loss  Instances       Size\n"
          ]
        },
        {
          "output_type": "stream",
          "name": "stderr",
          "text": [
            "    188/200      6.87G      1.147     0.6945     0.9181        650        640: 100%|██████████| 12/12 [00:19<00:00,  1.59s/it]\n",
            "                 Class     Images  Instances      Box(P          R      mAP50  mAP50-95): 100%|██████████| 2/2 [00:02<00:00,  1.17s/it]"
          ]
        },
        {
          "output_type": "stream",
          "name": "stdout",
          "text": [
            "                   all        107       3682       0.84      0.753      0.828      0.528\n"
          ]
        },
        {
          "output_type": "stream",
          "name": "stderr",
          "text": [
            "\n"
          ]
        },
        {
          "output_type": "stream",
          "name": "stdout",
          "text": [
            "\n",
            "      Epoch    GPU_mem   box_loss   cls_loss   dfl_loss  Instances       Size\n"
          ]
        },
        {
          "output_type": "stream",
          "name": "stderr",
          "text": [
            "    189/200         7G      1.167     0.6932     0.9177        623        640: 100%|██████████| 12/12 [00:19<00:00,  1.62s/it]\n",
            "                 Class     Images  Instances      Box(P          R      mAP50  mAP50-95): 100%|██████████| 2/2 [00:03<00:00,  1.65s/it]"
          ]
        },
        {
          "output_type": "stream",
          "name": "stdout",
          "text": [
            "                   all        107       3682      0.839      0.756      0.829      0.527\n"
          ]
        },
        {
          "output_type": "stream",
          "name": "stderr",
          "text": [
            "\n"
          ]
        },
        {
          "output_type": "stream",
          "name": "stdout",
          "text": [
            "\n",
            "      Epoch    GPU_mem   box_loss   cls_loss   dfl_loss  Instances       Size\n"
          ]
        },
        {
          "output_type": "stream",
          "name": "stderr",
          "text": [
            "    190/200      7.14G      1.144     0.6803     0.9162        827        640: 100%|██████████| 12/12 [00:18<00:00,  1.57s/it]\n",
            "                 Class     Images  Instances      Box(P          R      mAP50  mAP50-95): 100%|██████████| 2/2 [00:03<00:00,  1.77s/it]"
          ]
        },
        {
          "output_type": "stream",
          "name": "stdout",
          "text": [
            "                   all        107       3682      0.843      0.746      0.824      0.524\n"
          ]
        },
        {
          "output_type": "stream",
          "name": "stderr",
          "text": [
            "\n"
          ]
        },
        {
          "output_type": "stream",
          "name": "stdout",
          "text": [
            "Closing dataloader mosaic\n",
            "\u001b[34m\u001b[1malbumentations: \u001b[0mBlur(p=0.01, blur_limit=(3, 7)), MedianBlur(p=0.01, blur_limit=(3, 7)), ToGray(p=0.01), CLAHE(p=0.01, clip_limit=(1, 4.0), tile_grid_size=(8, 8))\n",
            "\n",
            "      Epoch    GPU_mem   box_loss   cls_loss   dfl_loss  Instances       Size\n"
          ]
        },
        {
          "output_type": "stream",
          "name": "stderr",
          "text": [
            "    191/200      6.12G        1.1     0.6842     0.9297        599        640: 100%|██████████| 12/12 [00:14<00:00,  1.18s/it]\n",
            "                 Class     Images  Instances      Box(P          R      mAP50  mAP50-95): 100%|██████████| 2/2 [00:03<00:00,  1.69s/it]"
          ]
        },
        {
          "output_type": "stream",
          "name": "stdout",
          "text": [
            "                   all        107       3682      0.849      0.753      0.827      0.526\n"
          ]
        },
        {
          "output_type": "stream",
          "name": "stderr",
          "text": [
            "\n"
          ]
        },
        {
          "output_type": "stream",
          "name": "stdout",
          "text": [
            "\n",
            "      Epoch    GPU_mem   box_loss   cls_loss   dfl_loss  Instances       Size\n"
          ]
        },
        {
          "output_type": "stream",
          "name": "stderr",
          "text": [
            "    192/200      6.12G       1.09     0.6554     0.9306        572        640: 100%|██████████| 12/12 [00:07<00:00,  1.60it/s]\n",
            "                 Class     Images  Instances      Box(P          R      mAP50  mAP50-95): 100%|██████████| 2/2 [00:02<00:00,  1.16s/it]"
          ]
        },
        {
          "output_type": "stream",
          "name": "stdout",
          "text": [
            "                   all        107       3682      0.845      0.745      0.825       0.52\n"
          ]
        },
        {
          "output_type": "stream",
          "name": "stderr",
          "text": [
            "\n"
          ]
        },
        {
          "output_type": "stream",
          "name": "stdout",
          "text": [
            "\n",
            "      Epoch    GPU_mem   box_loss   cls_loss   dfl_loss  Instances       Size\n"
          ]
        },
        {
          "output_type": "stream",
          "name": "stderr",
          "text": [
            "    193/200      5.45G      1.091      0.655     0.9247        401        640: 100%|██████████| 12/12 [00:10<00:00,  1.13it/s]\n",
            "                 Class     Images  Instances      Box(P          R      mAP50  mAP50-95): 100%|██████████| 2/2 [00:01<00:00,  1.03it/s]"
          ]
        },
        {
          "output_type": "stream",
          "name": "stdout",
          "text": [
            "                   all        107       3682      0.835      0.747       0.82      0.517\n"
          ]
        },
        {
          "output_type": "stream",
          "name": "stderr",
          "text": [
            "\n"
          ]
        },
        {
          "output_type": "stream",
          "name": "stdout",
          "text": [
            "\n",
            "      Epoch    GPU_mem   box_loss   cls_loss   dfl_loss  Instances       Size\n"
          ]
        },
        {
          "output_type": "stream",
          "name": "stderr",
          "text": [
            "    194/200      6.39G      1.078     0.6476     0.9185        440        640: 100%|██████████| 12/12 [00:08<00:00,  1.34it/s]\n",
            "                 Class     Images  Instances      Box(P          R      mAP50  mAP50-95): 100%|██████████| 2/2 [00:03<00:00,  1.72s/it]"
          ]
        },
        {
          "output_type": "stream",
          "name": "stdout",
          "text": [
            "                   all        107       3682      0.827      0.741      0.817      0.508\n"
          ]
        },
        {
          "output_type": "stream",
          "name": "stderr",
          "text": [
            "\n"
          ]
        },
        {
          "output_type": "stream",
          "name": "stdout",
          "text": [
            "\n",
            "      Epoch    GPU_mem   box_loss   cls_loss   dfl_loss  Instances       Size\n"
          ]
        },
        {
          "output_type": "stream",
          "name": "stderr",
          "text": [
            "    195/200      6.27G      1.064     0.6464      0.928        490        640: 100%|██████████| 12/12 [00:07<00:00,  1.53it/s]\n",
            "                 Class     Images  Instances      Box(P          R      mAP50  mAP50-95): 100%|██████████| 2/2 [00:01<00:00,  1.01it/s]"
          ]
        },
        {
          "output_type": "stream",
          "name": "stdout",
          "text": [
            "                   all        107       3682      0.833      0.742      0.819      0.513\n"
          ]
        },
        {
          "output_type": "stream",
          "name": "stderr",
          "text": [
            "\n"
          ]
        },
        {
          "output_type": "stream",
          "name": "stdout",
          "text": [
            "\n",
            "      Epoch    GPU_mem   box_loss   cls_loss   dfl_loss  Instances       Size\n"
          ]
        },
        {
          "output_type": "stream",
          "name": "stderr",
          "text": [
            "    196/200      5.41G      1.076     0.6447     0.9265        510        640: 100%|██████████| 12/12 [00:11<00:00,  1.02it/s]\n",
            "                 Class     Images  Instances      Box(P          R      mAP50  mAP50-95): 100%|██████████| 2/2 [00:02<00:00,  1.08s/it]"
          ]
        },
        {
          "output_type": "stream",
          "name": "stdout",
          "text": [
            "                   all        107       3682      0.823      0.754      0.823      0.515\n"
          ]
        },
        {
          "output_type": "stream",
          "name": "stderr",
          "text": [
            "\n"
          ]
        },
        {
          "output_type": "stream",
          "name": "stdout",
          "text": [
            "\n",
            "      Epoch    GPU_mem   box_loss   cls_loss   dfl_loss  Instances       Size\n"
          ]
        },
        {
          "output_type": "stream",
          "name": "stderr",
          "text": [
            "    197/200      5.53G      1.089     0.6496     0.9242        614        640: 100%|██████████| 12/12 [00:08<00:00,  1.39it/s]\n",
            "                 Class     Images  Instances      Box(P          R      mAP50  mAP50-95): 100%|██████████| 2/2 [00:03<00:00,  1.61s/it]"
          ]
        },
        {
          "output_type": "stream",
          "name": "stdout",
          "text": [
            "                   all        107       3682      0.835      0.761      0.824      0.522\n"
          ]
        },
        {
          "output_type": "stream",
          "name": "stderr",
          "text": [
            "\n"
          ]
        },
        {
          "output_type": "stream",
          "name": "stdout",
          "text": [
            "\n",
            "      Epoch    GPU_mem   box_loss   cls_loss   dfl_loss  Instances       Size\n"
          ]
        },
        {
          "output_type": "stream",
          "name": "stderr",
          "text": [
            "    198/200      7.18G      1.068     0.6378     0.9232        651        640: 100%|██████████| 12/12 [00:07<00:00,  1.54it/s]\n",
            "                 Class     Images  Instances      Box(P          R      mAP50  mAP50-95): 100%|██████████| 2/2 [00:02<00:00,  1.08s/it]"
          ]
        },
        {
          "output_type": "stream",
          "name": "stdout",
          "text": [
            "                   all        107       3682      0.842      0.756      0.824      0.522\n"
          ]
        },
        {
          "output_type": "stream",
          "name": "stderr",
          "text": [
            "\n"
          ]
        },
        {
          "output_type": "stream",
          "name": "stdout",
          "text": [
            "\n",
            "      Epoch    GPU_mem   box_loss   cls_loss   dfl_loss  Instances       Size\n"
          ]
        },
        {
          "output_type": "stream",
          "name": "stderr",
          "text": [
            "    199/200       5.4G       1.06     0.6323     0.9223        492        640: 100%|██████████| 12/12 [00:11<00:00,  1.09it/s]\n",
            "                 Class     Images  Instances      Box(P          R      mAP50  mAP50-95): 100%|██████████| 2/2 [00:02<00:00,  1.08s/it]"
          ]
        },
        {
          "output_type": "stream",
          "name": "stdout",
          "text": [
            "                   all        107       3682      0.836      0.749       0.82      0.522\n"
          ]
        },
        {
          "output_type": "stream",
          "name": "stderr",
          "text": [
            "\n"
          ]
        },
        {
          "output_type": "stream",
          "name": "stdout",
          "text": [
            "\n",
            "      Epoch    GPU_mem   box_loss   cls_loss   dfl_loss  Instances       Size\n"
          ]
        },
        {
          "output_type": "stream",
          "name": "stderr",
          "text": [
            "    200/200      5.61G      1.049     0.6263     0.9124        578        640: 100%|██████████| 12/12 [00:07<00:00,  1.55it/s]\n",
            "                 Class     Images  Instances      Box(P          R      mAP50  mAP50-95): 100%|██████████| 2/2 [00:03<00:00,  1.54s/it]"
          ]
        },
        {
          "output_type": "stream",
          "name": "stdout",
          "text": [
            "                   all        107       3682       0.83      0.754      0.821      0.523\n"
          ]
        },
        {
          "output_type": "stream",
          "name": "stderr",
          "text": [
            "\n"
          ]
        },
        {
          "output_type": "stream",
          "name": "stdout",
          "text": [
            "\n",
            "200 epochs completed in 1.393 hours.\n",
            "Optimizer stripped from treegen_project/treegen_model_v1.0/weights/last.pt, 5.6MB\n",
            "Optimizer stripped from treegen_project/treegen_model_v1.0/weights/best.pt, 5.6MB\n",
            "\n",
            "Validating treegen_project/treegen_model_v1.0/weights/best.pt...\n",
            "Ultralytics 8.3.14 🚀 Python-3.10.12 torch-2.4.1+cu121 CUDA:0 (Tesla T4, 15102MiB)\n",
            "Model summary (fused): 186 layers, 2,684,563 parameters, 0 gradients, 6.8 GFLOPs\n"
          ]
        },
        {
          "output_type": "stream",
          "name": "stderr",
          "text": [
            "                 Class     Images  Instances      Box(P          R      mAP50  mAP50-95): 100%|██████████| 2/2 [00:03<00:00,  1.62s/it]\n"
          ]
        },
        {
          "output_type": "stream",
          "name": "stdout",
          "text": [
            "                   all        107       3682      0.795      0.729      0.804      0.513\n",
            "Speed: 0.3ms preprocess, 7.9ms inference, 0.0ms loss, 3.1ms postprocess per image\n",
            "Results saved to \u001b[1mtreegen_project/treegen_model_v1.0\u001b[0m\n"
          ]
        },
        {
          "output_type": "execute_result",
          "data": {
            "text/plain": [
              "ultralytics.utils.metrics.DetMetrics object with attributes:\n",
              "\n",
              "ap_class_index: array([0])\n",
              "box: ultralytics.utils.metrics.Metric object\n",
              "confusion_matrix: <ultralytics.utils.metrics.ConfusionMatrix object at 0x7d8822029450>\n",
              "curves: ['Precision-Recall(B)', 'F1-Confidence(B)', 'Precision-Confidence(B)', 'Recall-Confidence(B)']\n",
              "curves_results: [[array([          0,    0.001001,    0.002002,    0.003003,    0.004004,    0.005005,    0.006006,    0.007007,    0.008008,    0.009009,     0.01001,    0.011011,    0.012012,    0.013013,    0.014014,    0.015015,    0.016016,    0.017017,    0.018018,    0.019019,     0.02002,    0.021021,    0.022022,    0.023023,\n",
              "          0.024024,    0.025025,    0.026026,    0.027027,    0.028028,    0.029029,     0.03003,    0.031031,    0.032032,    0.033033,    0.034034,    0.035035,    0.036036,    0.037037,    0.038038,    0.039039,     0.04004,    0.041041,    0.042042,    0.043043,    0.044044,    0.045045,    0.046046,    0.047047,\n",
              "          0.048048,    0.049049,     0.05005,    0.051051,    0.052052,    0.053053,    0.054054,    0.055055,    0.056056,    0.057057,    0.058058,    0.059059,     0.06006,    0.061061,    0.062062,    0.063063,    0.064064,    0.065065,    0.066066,    0.067067,    0.068068,    0.069069,     0.07007,    0.071071,\n",
              "          0.072072,    0.073073,    0.074074,    0.075075,    0.076076,    0.077077,    0.078078,    0.079079,     0.08008,    0.081081,    0.082082,    0.083083,    0.084084,    0.085085,    0.086086,    0.087087,    0.088088,    0.089089,     0.09009,    0.091091,    0.092092,    0.093093,    0.094094,    0.095095,\n",
              "          0.096096,    0.097097,    0.098098,    0.099099,      0.1001,      0.1011,      0.1021,      0.1031,      0.1041,     0.10511,     0.10611,     0.10711,     0.10811,     0.10911,     0.11011,     0.11111,     0.11211,     0.11311,     0.11411,     0.11512,     0.11612,     0.11712,     0.11812,     0.11912,\n",
              "           0.12012,     0.12112,     0.12212,     0.12312,     0.12412,     0.12513,     0.12613,     0.12713,     0.12813,     0.12913,     0.13013,     0.13113,     0.13213,     0.13313,     0.13413,     0.13514,     0.13614,     0.13714,     0.13814,     0.13914,     0.14014,     0.14114,     0.14214,     0.14314,\n",
              "           0.14414,     0.14515,     0.14615,     0.14715,     0.14815,     0.14915,     0.15015,     0.15115,     0.15215,     0.15315,     0.15415,     0.15516,     0.15616,     0.15716,     0.15816,     0.15916,     0.16016,     0.16116,     0.16216,     0.16316,     0.16416,     0.16517,     0.16617,     0.16717,\n",
              "           0.16817,     0.16917,     0.17017,     0.17117,     0.17217,     0.17317,     0.17417,     0.17518,     0.17618,     0.17718,     0.17818,     0.17918,     0.18018,     0.18118,     0.18218,     0.18318,     0.18418,     0.18519,     0.18619,     0.18719,     0.18819,     0.18919,     0.19019,     0.19119,\n",
              "           0.19219,     0.19319,     0.19419,      0.1952,      0.1962,      0.1972,      0.1982,      0.1992,      0.2002,      0.2012,      0.2022,      0.2032,      0.2042,     0.20521,     0.20621,     0.20721,     0.20821,     0.20921,     0.21021,     0.21121,     0.21221,     0.21321,     0.21421,     0.21522,\n",
              "           0.21622,     0.21722,     0.21822,     0.21922,     0.22022,     0.22122,     0.22222,     0.22322,     0.22422,     0.22523,     0.22623,     0.22723,     0.22823,     0.22923,     0.23023,     0.23123,     0.23223,     0.23323,     0.23423,     0.23524,     0.23624,     0.23724,     0.23824,     0.23924,\n",
              "           0.24024,     0.24124,     0.24224,     0.24324,     0.24424,     0.24525,     0.24625,     0.24725,     0.24825,     0.24925,     0.25025,     0.25125,     0.25225,     0.25325,     0.25425,     0.25526,     0.25626,     0.25726,     0.25826,     0.25926,     0.26026,     0.26126,     0.26226,     0.26326,\n",
              "           0.26426,     0.26527,     0.26627,     0.26727,     0.26827,     0.26927,     0.27027,     0.27127,     0.27227,     0.27327,     0.27427,     0.27528,     0.27628,     0.27728,     0.27828,     0.27928,     0.28028,     0.28128,     0.28228,     0.28328,     0.28428,     0.28529,     0.28629,     0.28729,\n",
              "           0.28829,     0.28929,     0.29029,     0.29129,     0.29229,     0.29329,     0.29429,      0.2953,      0.2963,      0.2973,      0.2983,      0.2993,      0.3003,      0.3013,      0.3023,      0.3033,      0.3043,     0.30531,     0.30631,     0.30731,     0.30831,     0.30931,     0.31031,     0.31131,\n",
              "           0.31231,     0.31331,     0.31431,     0.31532,     0.31632,     0.31732,     0.31832,     0.31932,     0.32032,     0.32132,     0.32232,     0.32332,     0.32432,     0.32533,     0.32633,     0.32733,     0.32833,     0.32933,     0.33033,     0.33133,     0.33233,     0.33333,     0.33433,     0.33534,\n",
              "           0.33634,     0.33734,     0.33834,     0.33934,     0.34034,     0.34134,     0.34234,     0.34334,     0.34434,     0.34535,     0.34635,     0.34735,     0.34835,     0.34935,     0.35035,     0.35135,     0.35235,     0.35335,     0.35435,     0.35536,     0.35636,     0.35736,     0.35836,     0.35936,\n",
              "           0.36036,     0.36136,     0.36236,     0.36336,     0.36436,     0.36537,     0.36637,     0.36737,     0.36837,     0.36937,     0.37037,     0.37137,     0.37237,     0.37337,     0.37437,     0.37538,     0.37638,     0.37738,     0.37838,     0.37938,     0.38038,     0.38138,     0.38238,     0.38338,\n",
              "           0.38438,     0.38539,     0.38639,     0.38739,     0.38839,     0.38939,     0.39039,     0.39139,     0.39239,     0.39339,     0.39439,      0.3954,      0.3964,      0.3974,      0.3984,      0.3994,      0.4004,      0.4014,      0.4024,      0.4034,      0.4044,     0.40541,     0.40641,     0.40741,\n",
              "           0.40841,     0.40941,     0.41041,     0.41141,     0.41241,     0.41341,     0.41441,     0.41542,     0.41642,     0.41742,     0.41842,     0.41942,     0.42042,     0.42142,     0.42242,     0.42342,     0.42442,     0.42543,     0.42643,     0.42743,     0.42843,     0.42943,     0.43043,     0.43143,\n",
              "           0.43243,     0.43343,     0.43443,     0.43544,     0.43644,     0.43744,     0.43844,     0.43944,     0.44044,     0.44144,     0.44244,     0.44344,     0.44444,     0.44545,     0.44645,     0.44745,     0.44845,     0.44945,     0.45045,     0.45145,     0.45245,     0.45345,     0.45445,     0.45546,\n",
              "           0.45646,     0.45746,     0.45846,     0.45946,     0.46046,     0.46146,     0.46246,     0.46346,     0.46446,     0.46547,     0.46647,     0.46747,     0.46847,     0.46947,     0.47047,     0.47147,     0.47247,     0.47347,     0.47447,     0.47548,     0.47648,     0.47748,     0.47848,     0.47948,\n",
              "           0.48048,     0.48148,     0.48248,     0.48348,     0.48448,     0.48549,     0.48649,     0.48749,     0.48849,     0.48949,     0.49049,     0.49149,     0.49249,     0.49349,     0.49449,      0.4955,      0.4965,      0.4975,      0.4985,      0.4995,      0.5005,      0.5015,      0.5025,      0.5035,\n",
              "            0.5045,     0.50551,     0.50651,     0.50751,     0.50851,     0.50951,     0.51051,     0.51151,     0.51251,     0.51351,     0.51451,     0.51552,     0.51652,     0.51752,     0.51852,     0.51952,     0.52052,     0.52152,     0.52252,     0.52352,     0.52452,     0.52553,     0.52653,     0.52753,\n",
              "           0.52853,     0.52953,     0.53053,     0.53153,     0.53253,     0.53353,     0.53453,     0.53554,     0.53654,     0.53754,     0.53854,     0.53954,     0.54054,     0.54154,     0.54254,     0.54354,     0.54454,     0.54555,     0.54655,     0.54755,     0.54855,     0.54955,     0.55055,     0.55155,\n",
              "           0.55255,     0.55355,     0.55455,     0.55556,     0.55656,     0.55756,     0.55856,     0.55956,     0.56056,     0.56156,     0.56256,     0.56356,     0.56456,     0.56557,     0.56657,     0.56757,     0.56857,     0.56957,     0.57057,     0.57157,     0.57257,     0.57357,     0.57457,     0.57558,\n",
              "           0.57658,     0.57758,     0.57858,     0.57958,     0.58058,     0.58158,     0.58258,     0.58358,     0.58458,     0.58559,     0.58659,     0.58759,     0.58859,     0.58959,     0.59059,     0.59159,     0.59259,     0.59359,     0.59459,      0.5956,      0.5966,      0.5976,      0.5986,      0.5996,\n",
              "            0.6006,      0.6016,      0.6026,      0.6036,      0.6046,     0.60561,     0.60661,     0.60761,     0.60861,     0.60961,     0.61061,     0.61161,     0.61261,     0.61361,     0.61461,     0.61562,     0.61662,     0.61762,     0.61862,     0.61962,     0.62062,     0.62162,     0.62262,     0.62362,\n",
              "           0.62462,     0.62563,     0.62663,     0.62763,     0.62863,     0.62963,     0.63063,     0.63163,     0.63263,     0.63363,     0.63463,     0.63564,     0.63664,     0.63764,     0.63864,     0.63964,     0.64064,     0.64164,     0.64264,     0.64364,     0.64464,     0.64565,     0.64665,     0.64765,\n",
              "           0.64865,     0.64965,     0.65065,     0.65165,     0.65265,     0.65365,     0.65465,     0.65566,     0.65666,     0.65766,     0.65866,     0.65966,     0.66066,     0.66166,     0.66266,     0.66366,     0.66466,     0.66567,     0.66667,     0.66767,     0.66867,     0.66967,     0.67067,     0.67167,\n",
              "           0.67267,     0.67367,     0.67467,     0.67568,     0.67668,     0.67768,     0.67868,     0.67968,     0.68068,     0.68168,     0.68268,     0.68368,     0.68468,     0.68569,     0.68669,     0.68769,     0.68869,     0.68969,     0.69069,     0.69169,     0.69269,     0.69369,     0.69469,      0.6957,\n",
              "            0.6967,      0.6977,      0.6987,      0.6997,      0.7007,      0.7017,      0.7027,      0.7037,      0.7047,     0.70571,     0.70671,     0.70771,     0.70871,     0.70971,     0.71071,     0.71171,     0.71271,     0.71371,     0.71471,     0.71572,     0.71672,     0.71772,     0.71872,     0.71972,\n",
              "           0.72072,     0.72172,     0.72272,     0.72372,     0.72472,     0.72573,     0.72673,     0.72773,     0.72873,     0.72973,     0.73073,     0.73173,     0.73273,     0.73373,     0.73473,     0.73574,     0.73674,     0.73774,     0.73874,     0.73974,     0.74074,     0.74174,     0.74274,     0.74374,\n",
              "           0.74474,     0.74575,     0.74675,     0.74775,     0.74875,     0.74975,     0.75075,     0.75175,     0.75275,     0.75375,     0.75475,     0.75576,     0.75676,     0.75776,     0.75876,     0.75976,     0.76076,     0.76176,     0.76276,     0.76376,     0.76476,     0.76577,     0.76677,     0.76777,\n",
              "           0.76877,     0.76977,     0.77077,     0.77177,     0.77277,     0.77377,     0.77477,     0.77578,     0.77678,     0.77778,     0.77878,     0.77978,     0.78078,     0.78178,     0.78278,     0.78378,     0.78478,     0.78579,     0.78679,     0.78779,     0.78879,     0.78979,     0.79079,     0.79179,\n",
              "           0.79279,     0.79379,     0.79479,      0.7958,      0.7968,      0.7978,      0.7988,      0.7998,      0.8008,      0.8018,      0.8028,      0.8038,      0.8048,     0.80581,     0.80681,     0.80781,     0.80881,     0.80981,     0.81081,     0.81181,     0.81281,     0.81381,     0.81481,     0.81582,\n",
              "           0.81682,     0.81782,     0.81882,     0.81982,     0.82082,     0.82182,     0.82282,     0.82382,     0.82482,     0.82583,     0.82683,     0.82783,     0.82883,     0.82983,     0.83083,     0.83183,     0.83283,     0.83383,     0.83483,     0.83584,     0.83684,     0.83784,     0.83884,     0.83984,\n",
              "           0.84084,     0.84184,     0.84284,     0.84384,     0.84484,     0.84585,     0.84685,     0.84785,     0.84885,     0.84985,     0.85085,     0.85185,     0.85285,     0.85385,     0.85485,     0.85586,     0.85686,     0.85786,     0.85886,     0.85986,     0.86086,     0.86186,     0.86286,     0.86386,\n",
              "           0.86486,     0.86587,     0.86687,     0.86787,     0.86887,     0.86987,     0.87087,     0.87187,     0.87287,     0.87387,     0.87487,     0.87588,     0.87688,     0.87788,     0.87888,     0.87988,     0.88088,     0.88188,     0.88288,     0.88388,     0.88488,     0.88589,     0.88689,     0.88789,\n",
              "           0.88889,     0.88989,     0.89089,     0.89189,     0.89289,     0.89389,     0.89489,      0.8959,      0.8969,      0.8979,      0.8989,      0.8999,      0.9009,      0.9019,      0.9029,      0.9039,      0.9049,     0.90591,     0.90691,     0.90791,     0.90891,     0.90991,     0.91091,     0.91191,\n",
              "           0.91291,     0.91391,     0.91491,     0.91592,     0.91692,     0.91792,     0.91892,     0.91992,     0.92092,     0.92192,     0.92292,     0.92392,     0.92492,     0.92593,     0.92693,     0.92793,     0.92893,     0.92993,     0.93093,     0.93193,     0.93293,     0.93393,     0.93493,     0.93594,\n",
              "           0.93694,     0.93794,     0.93894,     0.93994,     0.94094,     0.94194,     0.94294,     0.94394,     0.94494,     0.94595,     0.94695,     0.94795,     0.94895,     0.94995,     0.95095,     0.95195,     0.95295,     0.95395,     0.95495,     0.95596,     0.95696,     0.95796,     0.95896,     0.95996,\n",
              "           0.96096,     0.96196,     0.96296,     0.96396,     0.96496,     0.96597,     0.96697,     0.96797,     0.96897,     0.96997,     0.97097,     0.97197,     0.97297,     0.97397,     0.97497,     0.97598,     0.97698,     0.97798,     0.97898,     0.97998,     0.98098,     0.98198,     0.98298,     0.98398,\n",
              "           0.98498,     0.98599,     0.98699,     0.98799,     0.98899,     0.98999,     0.99099,     0.99199,     0.99299,     0.99399,     0.99499,       0.996,       0.997,       0.998,       0.999,           1]), array([[          1,           1,           1,           1,           1,           1,           1,     0.98795,     0.98795,     0.98795,     0.98795,     0.98795,     0.98795,     0.98795,     0.98795,     0.98795,     0.98795,     0.98795,     0.98795,     0.98795,     0.98795,     0.98795,     0.98795,\n",
              "            0.98137,     0.98137,     0.98137,     0.98137,     0.98137,     0.98137,     0.98137,     0.98137,     0.98137,     0.98137,     0.98137,     0.98137,     0.98137,     0.98137,     0.98137,     0.98137,     0.98137,     0.98137,     0.98137,     0.98137,     0.97936,     0.97936,     0.97936,\n",
              "            0.97936,     0.97936,     0.97936,     0.97936,     0.97936,     0.97936,     0.97936,     0.97936,     0.97936,     0.97936,     0.97936,     0.97936,     0.97936,     0.97936,     0.97936,     0.97936,     0.97936,     0.97936,     0.97936,     0.97936,     0.97936,     0.97936,     0.97936,\n",
              "            0.97936,     0.97936,     0.97936,     0.97936,     0.97936,     0.97936,     0.97936,     0.97936,     0.97936,     0.97936,     0.97936,     0.97936,     0.97936,     0.97936,     0.97936,     0.97936,     0.97936,     0.97936,     0.97936,     0.97936,     0.97936,     0.97936,     0.97936,\n",
              "            0.97936,     0.97936,     0.97936,     0.97936,     0.97936,     0.97936,     0.97936,     0.97936,     0.97936,     0.97936,     0.97936,     0.97936,     0.97936,     0.97936,     0.97936,     0.97936,     0.97936,     0.97936,     0.97936,     0.97936,     0.97936,     0.97936,     0.97936,\n",
              "            0.97936,     0.97881,     0.97881,     0.97881,     0.97881,     0.97881,     0.97881,     0.97881,     0.97881,     0.97881,     0.97881,     0.97826,     0.97826,     0.97826,     0.97826,     0.97826,     0.97826,     0.97826,     0.97826,     0.97826,     0.97735,     0.97735,     0.97735,\n",
              "            0.97735,     0.97735,     0.97735,     0.97735,     0.97735,     0.97735,     0.97735,     0.97735,     0.97735,     0.97735,     0.97735,     0.97735,     0.97735,     0.97735,     0.97735,     0.97735,     0.97735,     0.97735,     0.97735,     0.97735,     0.97735,     0.97735,     0.97735,\n",
              "            0.97735,     0.97735,     0.97735,     0.97735,     0.97735,     0.97735,     0.97735,     0.97735,     0.97735,     0.97735,     0.97735,     0.97735,     0.97735,     0.97735,     0.97735,     0.97735,     0.97735,     0.97735,     0.97735,     0.97735,     0.97735,     0.97735,     0.97735,\n",
              "            0.97735,     0.97735,     0.97735,     0.97735,     0.97735,     0.97735,     0.97735,     0.97735,     0.97735,     0.97735,     0.97735,     0.97735,     0.97735,     0.97735,     0.97735,     0.97735,     0.97735,     0.97735,     0.97735,     0.97735,     0.97735,     0.97735,     0.97735,\n",
              "            0.97735,     0.97735,     0.97735,     0.97735,     0.97735,     0.97735,     0.97735,     0.97735,     0.97735,     0.97735,     0.97735,     0.97735,     0.97735,     0.97735,     0.97735,     0.97735,     0.97664,     0.97664,     0.97664,     0.97664,     0.97624,     0.97624,     0.97624,\n",
              "            0.97624,     0.97624,     0.97624,     0.97624,     0.97624,     0.97479,     0.97479,     0.97479,     0.97479,     0.97479,     0.97479,     0.97479,     0.97479,     0.97479,     0.97479,     0.97479,     0.97479,     0.97479,     0.97479,     0.97479,     0.97479,     0.97479,     0.97388,\n",
              "            0.97361,     0.97361,     0.97361,     0.97361,     0.97361,     0.97361,     0.97361,     0.97361,     0.97361,     0.97361,     0.97361,     0.97361,     0.97361,     0.97361,     0.97361,     0.97361,     0.97361,     0.97361,     0.97361,     0.97361,     0.97361,     0.97361,     0.97361,\n",
              "            0.97361,     0.97361,     0.97361,     0.97361,     0.97361,     0.97361,     0.97361,     0.97361,     0.97361,     0.97361,     0.97361,     0.97361,     0.97361,     0.97361,     0.97361,     0.97305,     0.97305,     0.97305,     0.97279,     0.97279,     0.97279,     0.97279,     0.97279,\n",
              "            0.97279,     0.97279,     0.97279,     0.97279,     0.97279,     0.97279,     0.97279,     0.97279,     0.97279,     0.97279,     0.97279,     0.97279,     0.97121,     0.97054,     0.96992,     0.96992,     0.96992,     0.96932,     0.96932,     0.96809,     0.96809,     0.96809,     0.96805,\n",
              "            0.96805,     0.96805,     0.96805,     0.96805,     0.96805,     0.96805,     0.96805,     0.96764,     0.96764,     0.96764,     0.96764,     0.96693,     0.96692,     0.96692,     0.96692,     0.96692,     0.96692,     0.96692,     0.96692,     0.96692,     0.96606,     0.96606,     0.96606,\n",
              "            0.96606,     0.96606,     0.96606,     0.96554,     0.96554,     0.96531,     0.96531,     0.96531,     0.96531,     0.96531,     0.96465,     0.96418,     0.96418,     0.96377,     0.96377,     0.96377,      0.9631,     0.96254,     0.96238,     0.96238,     0.96238,     0.96238,     0.96238,\n",
              "            0.96238,     0.96238,     0.96238,     0.96238,     0.96238,     0.96238,     0.96238,     0.96238,     0.96238,     0.96238,     0.96238,     0.96238,     0.96238,     0.96238,     0.96238,     0.96238,     0.96238,     0.96238,     0.96238,     0.96238,     0.96238,     0.96238,     0.96238,\n",
              "            0.96238,     0.96238,     0.96238,     0.96238,     0.96238,     0.96209,     0.96209,     0.96209,     0.96209,     0.96109,     0.96109,     0.96109,      0.9608,      0.9608,      0.9608,     0.96056,     0.96056,     0.96056,     0.96056,     0.95977,     0.95977,     0.95977,     0.95977,\n",
              "            0.95977,     0.95935,     0.95935,     0.95908,     0.95908,     0.95908,     0.95854,     0.95808,     0.95764,     0.95764,     0.95716,     0.95681,     0.95681,     0.95652,     0.95652,     0.95652,     0.95613,     0.95613,     0.95449,       0.954,     0.95354,     0.95261,     0.95261,\n",
              "            0.95202,     0.95202,     0.95202,     0.95202,     0.95202,     0.95202,     0.95202,     0.95202,     0.95202,     0.95202,     0.95052,     0.95052,      0.9502,      0.9502,      0.9492,     0.94912,     0.94912,     0.94912,     0.94912,     0.94837,     0.94837,     0.94837,     0.94799,\n",
              "            0.94702,     0.94611,     0.94611,     0.94611,     0.94611,     0.94611,     0.94611,     0.94611,     0.94611,     0.94611,     0.94611,     0.94611,     0.94574,     0.94538,     0.94538,     0.94501,     0.94444,     0.94444,     0.94444,     0.94444,     0.94406,      0.9438,      0.9438,\n",
              "            0.94342,     0.94342,     0.94254,     0.94253,     0.94253,     0.94253,     0.94253,     0.94246,     0.94246,     0.94246,     0.94246,     0.94227,     0.94227,     0.94057,     0.94057,     0.94057,     0.94025,     0.93992,     0.93902,     0.93889,     0.93889,     0.93889,     0.93851,\n",
              "            0.93835,     0.93835,     0.93825,     0.93825,     0.93825,     0.93825,     0.93654,      0.9362,     0.93547,     0.93547,      0.9352,     0.93435,     0.93369,     0.93369,     0.93294,     0.93282,     0.93282,     0.93282,      0.9325,     0.93232,     0.93232,     0.93232,     0.93232,\n",
              "            0.93232,     0.93232,     0.93115,     0.93115,     0.93087,     0.93053,     0.92988,     0.92988,      0.9283,     0.92754,     0.92724,     0.92698,     0.92661,     0.92632,     0.92603,     0.92584,     0.92584,     0.92528,     0.92528,     0.92528,     0.92528,     0.92528,     0.92528,\n",
              "            0.92503,     0.92478,     0.92432,     0.92432,     0.92432,     0.92356,      0.9229,     0.92215,     0.92167,     0.92167,      0.9214,     0.92138,     0.92138,     0.92138,     0.92101,     0.92074,     0.92018,     0.92018,     0.91995,     0.91972,     0.91957,     0.91957,     0.91887,\n",
              "            0.91739,     0.91713,     0.91642,     0.91581,     0.91468,     0.91468,     0.91468,     0.91404,     0.91253,     0.91062,     0.91062,     0.91062,     0.91001,     0.90901,     0.90898,     0.90898,     0.90886,     0.90886,     0.90864,       0.908,      0.9077,     0.90755,     0.90752,\n",
              "            0.90752,     0.90752,     0.90738,     0.90653,     0.90653,     0.90594,     0.90532,     0.90507,     0.90486,     0.90407,     0.90407,     0.90342,     0.90329,     0.90297,     0.90284,     0.90223,     0.90092,     0.90004,     0.89976,     0.89822,     0.89819,     0.89819,     0.89788,\n",
              "            0.89738,     0.89644,     0.89642,     0.89642,     0.89623,     0.89492,     0.89443,     0.89295,     0.89295,     0.89272,     0.89272,     0.89272,     0.89207,     0.89207,     0.89185,     0.89096,     0.88918,     0.88893,     0.88822,     0.88822,     0.88747,     0.88689,     0.88569,\n",
              "            0.88549,     0.88443,     0.88414,     0.88351,     0.88351,     0.88172,     0.88065,     0.87977,     0.87943,     0.87943,     0.87929,     0.87663,     0.87645,     0.87599,     0.87518,     0.87415,     0.87415,     0.87415,     0.87268,     0.87175,     0.87162,     0.87162,     0.87088,\n",
              "            0.86983,     0.86695,     0.86648,     0.86585,     0.86357,     0.86307,     0.86176,     0.85927,     0.85916,     0.85901,     0.85803,     0.85582,     0.85397,      0.8534,     0.85263,     0.85134,      0.8502,     0.84916,     0.84851,     0.84687,     0.84687,     0.84562,     0.84498,\n",
              "            0.84294,     0.84087,      0.8397,     0.83798,     0.83627,     0.83507,     0.83447,     0.83252,     0.83199,     0.83156,     0.83092,     0.82874,     0.82721,     0.82627,     0.82591,     0.82487,     0.82452,     0.82338,     0.82231,     0.81872,     0.81577,     0.81448,     0.81269,\n",
              "            0.81184,     0.81184,     0.80958,     0.80876,     0.80801,     0.80578,     0.80516,     0.80473,     0.80375,     0.80283,     0.80223,      0.8018,     0.80036,     0.79857,     0.79727,     0.79644,      0.7938,     0.79346,     0.79224,     0.79028,     0.79006,     0.78961,     0.78819,\n",
              "            0.78507,     0.78351,     0.78241,     0.78237,     0.78112,     0.78102,     0.77882,      0.7779,     0.77683,     0.77571,      0.7753,     0.77515,     0.77515,     0.77317,      0.7717,     0.77094,     0.77086,      0.7684,     0.76774,     0.76715,      0.7665,     0.76487,     0.76262,\n",
              "            0.76219,     0.75688,     0.75688,     0.75538,     0.75234,     0.75093,      0.7496,      0.7461,     0.74474,     0.74448,     0.74397,     0.74339,     0.73793,     0.73692,     0.73473,     0.73342,     0.72994,     0.72676,     0.72656,     0.72626,     0.72452,     0.72254,     0.71885,\n",
              "            0.71788,     0.71524,      0.7134,     0.71123,     0.70918,     0.70894,     0.70613,     0.70358,     0.70345,     0.70316,     0.70091,     0.70012,     0.69812,     0.69802,     0.69724,     0.69456,     0.69045,      0.6888,     0.68821,     0.68452,     0.68378,     0.68218,     0.68013,\n",
              "            0.67918,     0.67816,     0.67652,     0.67597,     0.67451,     0.67267,      0.6692,     0.66689,     0.66482,     0.66109,     0.65986,     0.65519,     0.65026,     0.64769,     0.64481,     0.64033,     0.63915,     0.63615,     0.63222,      0.6286,     0.62482,     0.62398,     0.62174,\n",
              "            0.62045,     0.61875,     0.61176,      0.6087,     0.60358,     0.60133,     0.59805,      0.5928,      0.5902,     0.58684,     0.58393,     0.58282,     0.58195,      0.5802,     0.57386,     0.56954,     0.56595,     0.55514,     0.55272,     0.54676,     0.53934,     0.53697,     0.53337,\n",
              "            0.52988,     0.52887,     0.52743,     0.52318,     0.51774,     0.51687,     0.51391,     0.51099,     0.51015,     0.50825,     0.50574,      0.5011,     0.49726,     0.49588,     0.48949,     0.48807,      0.4841,     0.48302,     0.48007,     0.47553,     0.47437,     0.46742,     0.46335,\n",
              "             0.4618,     0.46006,     0.45779,      0.4569,     0.44722,      0.4422,      0.4382,     0.43106,      0.4227,      0.4212,     0.41389,     0.40734,     0.40421,     0.39781,     0.39429,     0.38993,      0.3801,     0.37557,     0.37081,     0.35994,     0.33715,     0.32384,     0.32074,\n",
              "            0.31465,     0.31054,     0.30714,     0.29981,     0.29434,     0.27434,     0.26059,       0.252,     0.23969,     0.21428,     0.19391,     0.18205,     0.16539,       0.137,      0.1346,     0.13307,     0.13154,     0.13001,     0.12848,     0.12695,     0.12542,     0.12389,     0.12236,\n",
              "            0.12084,     0.11931,     0.11778,     0.11625,     0.11472,     0.11319,     0.11166,     0.11013,      0.1086,     0.10707,     0.10554,     0.10401,     0.10248,     0.10095,    0.099421,    0.097892,    0.096362,    0.094833,    0.093303,    0.091774,    0.090244,    0.088715,    0.087185,\n",
              "           0.085655,    0.084126,    0.082596,    0.081067,    0.079537,    0.078008,    0.076478,    0.074948,    0.073419,    0.071889,     0.07036,     0.06883,    0.067301,    0.065771,    0.064242,    0.062712,    0.061182,    0.059653,    0.058123,    0.056594,    0.055064,    0.053535,    0.052005,\n",
              "           0.050476,    0.048946,    0.047416,    0.045887,    0.044357,    0.042828,    0.041298,    0.039769,    0.038239,    0.036709,     0.03518,     0.03365,    0.032121,    0.030591,    0.029062,    0.027532,    0.026003,    0.024473,    0.022943,    0.021414,    0.019884,    0.018355,    0.016825,\n",
              "           0.015296,    0.013766,    0.012236,    0.010707,   0.0091774,   0.0076478,   0.0061182,   0.0045887,   0.0030591,   0.0015296,           0]]), 'Recall', 'Precision'], [array([          0,    0.001001,    0.002002,    0.003003,    0.004004,    0.005005,    0.006006,    0.007007,    0.008008,    0.009009,     0.01001,    0.011011,    0.012012,    0.013013,    0.014014,    0.015015,    0.016016,    0.017017,    0.018018,    0.019019,     0.02002,    0.021021,    0.022022,    0.023023,\n",
              "          0.024024,    0.025025,    0.026026,    0.027027,    0.028028,    0.029029,     0.03003,    0.031031,    0.032032,    0.033033,    0.034034,    0.035035,    0.036036,    0.037037,    0.038038,    0.039039,     0.04004,    0.041041,    0.042042,    0.043043,    0.044044,    0.045045,    0.046046,    0.047047,\n",
              "          0.048048,    0.049049,     0.05005,    0.051051,    0.052052,    0.053053,    0.054054,    0.055055,    0.056056,    0.057057,    0.058058,    0.059059,     0.06006,    0.061061,    0.062062,    0.063063,    0.064064,    0.065065,    0.066066,    0.067067,    0.068068,    0.069069,     0.07007,    0.071071,\n",
              "          0.072072,    0.073073,    0.074074,    0.075075,    0.076076,    0.077077,    0.078078,    0.079079,     0.08008,    0.081081,    0.082082,    0.083083,    0.084084,    0.085085,    0.086086,    0.087087,    0.088088,    0.089089,     0.09009,    0.091091,    0.092092,    0.093093,    0.094094,    0.095095,\n",
              "          0.096096,    0.097097,    0.098098,    0.099099,      0.1001,      0.1011,      0.1021,      0.1031,      0.1041,     0.10511,     0.10611,     0.10711,     0.10811,     0.10911,     0.11011,     0.11111,     0.11211,     0.11311,     0.11411,     0.11512,     0.11612,     0.11712,     0.11812,     0.11912,\n",
              "           0.12012,     0.12112,     0.12212,     0.12312,     0.12412,     0.12513,     0.12613,     0.12713,     0.12813,     0.12913,     0.13013,     0.13113,     0.13213,     0.13313,     0.13413,     0.13514,     0.13614,     0.13714,     0.13814,     0.13914,     0.14014,     0.14114,     0.14214,     0.14314,\n",
              "           0.14414,     0.14515,     0.14615,     0.14715,     0.14815,     0.14915,     0.15015,     0.15115,     0.15215,     0.15315,     0.15415,     0.15516,     0.15616,     0.15716,     0.15816,     0.15916,     0.16016,     0.16116,     0.16216,     0.16316,     0.16416,     0.16517,     0.16617,     0.16717,\n",
              "           0.16817,     0.16917,     0.17017,     0.17117,     0.17217,     0.17317,     0.17417,     0.17518,     0.17618,     0.17718,     0.17818,     0.17918,     0.18018,     0.18118,     0.18218,     0.18318,     0.18418,     0.18519,     0.18619,     0.18719,     0.18819,     0.18919,     0.19019,     0.19119,\n",
              "           0.19219,     0.19319,     0.19419,      0.1952,      0.1962,      0.1972,      0.1982,      0.1992,      0.2002,      0.2012,      0.2022,      0.2032,      0.2042,     0.20521,     0.20621,     0.20721,     0.20821,     0.20921,     0.21021,     0.21121,     0.21221,     0.21321,     0.21421,     0.21522,\n",
              "           0.21622,     0.21722,     0.21822,     0.21922,     0.22022,     0.22122,     0.22222,     0.22322,     0.22422,     0.22523,     0.22623,     0.22723,     0.22823,     0.22923,     0.23023,     0.23123,     0.23223,     0.23323,     0.23423,     0.23524,     0.23624,     0.23724,     0.23824,     0.23924,\n",
              "           0.24024,     0.24124,     0.24224,     0.24324,     0.24424,     0.24525,     0.24625,     0.24725,     0.24825,     0.24925,     0.25025,     0.25125,     0.25225,     0.25325,     0.25425,     0.25526,     0.25626,     0.25726,     0.25826,     0.25926,     0.26026,     0.26126,     0.26226,     0.26326,\n",
              "           0.26426,     0.26527,     0.26627,     0.26727,     0.26827,     0.26927,     0.27027,     0.27127,     0.27227,     0.27327,     0.27427,     0.27528,     0.27628,     0.27728,     0.27828,     0.27928,     0.28028,     0.28128,     0.28228,     0.28328,     0.28428,     0.28529,     0.28629,     0.28729,\n",
              "           0.28829,     0.28929,     0.29029,     0.29129,     0.29229,     0.29329,     0.29429,      0.2953,      0.2963,      0.2973,      0.2983,      0.2993,      0.3003,      0.3013,      0.3023,      0.3033,      0.3043,     0.30531,     0.30631,     0.30731,     0.30831,     0.30931,     0.31031,     0.31131,\n",
              "           0.31231,     0.31331,     0.31431,     0.31532,     0.31632,     0.31732,     0.31832,     0.31932,     0.32032,     0.32132,     0.32232,     0.32332,     0.32432,     0.32533,     0.32633,     0.32733,     0.32833,     0.32933,     0.33033,     0.33133,     0.33233,     0.33333,     0.33433,     0.33534,\n",
              "           0.33634,     0.33734,     0.33834,     0.33934,     0.34034,     0.34134,     0.34234,     0.34334,     0.34434,     0.34535,     0.34635,     0.34735,     0.34835,     0.34935,     0.35035,     0.35135,     0.35235,     0.35335,     0.35435,     0.35536,     0.35636,     0.35736,     0.35836,     0.35936,\n",
              "           0.36036,     0.36136,     0.36236,     0.36336,     0.36436,     0.36537,     0.36637,     0.36737,     0.36837,     0.36937,     0.37037,     0.37137,     0.37237,     0.37337,     0.37437,     0.37538,     0.37638,     0.37738,     0.37838,     0.37938,     0.38038,     0.38138,     0.38238,     0.38338,\n",
              "           0.38438,     0.38539,     0.38639,     0.38739,     0.38839,     0.38939,     0.39039,     0.39139,     0.39239,     0.39339,     0.39439,      0.3954,      0.3964,      0.3974,      0.3984,      0.3994,      0.4004,      0.4014,      0.4024,      0.4034,      0.4044,     0.40541,     0.40641,     0.40741,\n",
              "           0.40841,     0.40941,     0.41041,     0.41141,     0.41241,     0.41341,     0.41441,     0.41542,     0.41642,     0.41742,     0.41842,     0.41942,     0.42042,     0.42142,     0.42242,     0.42342,     0.42442,     0.42543,     0.42643,     0.42743,     0.42843,     0.42943,     0.43043,     0.43143,\n",
              "           0.43243,     0.43343,     0.43443,     0.43544,     0.43644,     0.43744,     0.43844,     0.43944,     0.44044,     0.44144,     0.44244,     0.44344,     0.44444,     0.44545,     0.44645,     0.44745,     0.44845,     0.44945,     0.45045,     0.45145,     0.45245,     0.45345,     0.45445,     0.45546,\n",
              "           0.45646,     0.45746,     0.45846,     0.45946,     0.46046,     0.46146,     0.46246,     0.46346,     0.46446,     0.46547,     0.46647,     0.46747,     0.46847,     0.46947,     0.47047,     0.47147,     0.47247,     0.47347,     0.47447,     0.47548,     0.47648,     0.47748,     0.47848,     0.47948,\n",
              "           0.48048,     0.48148,     0.48248,     0.48348,     0.48448,     0.48549,     0.48649,     0.48749,     0.48849,     0.48949,     0.49049,     0.49149,     0.49249,     0.49349,     0.49449,      0.4955,      0.4965,      0.4975,      0.4985,      0.4995,      0.5005,      0.5015,      0.5025,      0.5035,\n",
              "            0.5045,     0.50551,     0.50651,     0.50751,     0.50851,     0.50951,     0.51051,     0.51151,     0.51251,     0.51351,     0.51451,     0.51552,     0.51652,     0.51752,     0.51852,     0.51952,     0.52052,     0.52152,     0.52252,     0.52352,     0.52452,     0.52553,     0.52653,     0.52753,\n",
              "           0.52853,     0.52953,     0.53053,     0.53153,     0.53253,     0.53353,     0.53453,     0.53554,     0.53654,     0.53754,     0.53854,     0.53954,     0.54054,     0.54154,     0.54254,     0.54354,     0.54454,     0.54555,     0.54655,     0.54755,     0.54855,     0.54955,     0.55055,     0.55155,\n",
              "           0.55255,     0.55355,     0.55455,     0.55556,     0.55656,     0.55756,     0.55856,     0.55956,     0.56056,     0.56156,     0.56256,     0.56356,     0.56456,     0.56557,     0.56657,     0.56757,     0.56857,     0.56957,     0.57057,     0.57157,     0.57257,     0.57357,     0.57457,     0.57558,\n",
              "           0.57658,     0.57758,     0.57858,     0.57958,     0.58058,     0.58158,     0.58258,     0.58358,     0.58458,     0.58559,     0.58659,     0.58759,     0.58859,     0.58959,     0.59059,     0.59159,     0.59259,     0.59359,     0.59459,      0.5956,      0.5966,      0.5976,      0.5986,      0.5996,\n",
              "            0.6006,      0.6016,      0.6026,      0.6036,      0.6046,     0.60561,     0.60661,     0.60761,     0.60861,     0.60961,     0.61061,     0.61161,     0.61261,     0.61361,     0.61461,     0.61562,     0.61662,     0.61762,     0.61862,     0.61962,     0.62062,     0.62162,     0.62262,     0.62362,\n",
              "           0.62462,     0.62563,     0.62663,     0.62763,     0.62863,     0.62963,     0.63063,     0.63163,     0.63263,     0.63363,     0.63463,     0.63564,     0.63664,     0.63764,     0.63864,     0.63964,     0.64064,     0.64164,     0.64264,     0.64364,     0.64464,     0.64565,     0.64665,     0.64765,\n",
              "           0.64865,     0.64965,     0.65065,     0.65165,     0.65265,     0.65365,     0.65465,     0.65566,     0.65666,     0.65766,     0.65866,     0.65966,     0.66066,     0.66166,     0.66266,     0.66366,     0.66466,     0.66567,     0.66667,     0.66767,     0.66867,     0.66967,     0.67067,     0.67167,\n",
              "           0.67267,     0.67367,     0.67467,     0.67568,     0.67668,     0.67768,     0.67868,     0.67968,     0.68068,     0.68168,     0.68268,     0.68368,     0.68468,     0.68569,     0.68669,     0.68769,     0.68869,     0.68969,     0.69069,     0.69169,     0.69269,     0.69369,     0.69469,      0.6957,\n",
              "            0.6967,      0.6977,      0.6987,      0.6997,      0.7007,      0.7017,      0.7027,      0.7037,      0.7047,     0.70571,     0.70671,     0.70771,     0.70871,     0.70971,     0.71071,     0.71171,     0.71271,     0.71371,     0.71471,     0.71572,     0.71672,     0.71772,     0.71872,     0.71972,\n",
              "           0.72072,     0.72172,     0.72272,     0.72372,     0.72472,     0.72573,     0.72673,     0.72773,     0.72873,     0.72973,     0.73073,     0.73173,     0.73273,     0.73373,     0.73473,     0.73574,     0.73674,     0.73774,     0.73874,     0.73974,     0.74074,     0.74174,     0.74274,     0.74374,\n",
              "           0.74474,     0.74575,     0.74675,     0.74775,     0.74875,     0.74975,     0.75075,     0.75175,     0.75275,     0.75375,     0.75475,     0.75576,     0.75676,     0.75776,     0.75876,     0.75976,     0.76076,     0.76176,     0.76276,     0.76376,     0.76476,     0.76577,     0.76677,     0.76777,\n",
              "           0.76877,     0.76977,     0.77077,     0.77177,     0.77277,     0.77377,     0.77477,     0.77578,     0.77678,     0.77778,     0.77878,     0.77978,     0.78078,     0.78178,     0.78278,     0.78378,     0.78478,     0.78579,     0.78679,     0.78779,     0.78879,     0.78979,     0.79079,     0.79179,\n",
              "           0.79279,     0.79379,     0.79479,      0.7958,      0.7968,      0.7978,      0.7988,      0.7998,      0.8008,      0.8018,      0.8028,      0.8038,      0.8048,     0.80581,     0.80681,     0.80781,     0.80881,     0.80981,     0.81081,     0.81181,     0.81281,     0.81381,     0.81481,     0.81582,\n",
              "           0.81682,     0.81782,     0.81882,     0.81982,     0.82082,     0.82182,     0.82282,     0.82382,     0.82482,     0.82583,     0.82683,     0.82783,     0.82883,     0.82983,     0.83083,     0.83183,     0.83283,     0.83383,     0.83483,     0.83584,     0.83684,     0.83784,     0.83884,     0.83984,\n",
              "           0.84084,     0.84184,     0.84284,     0.84384,     0.84484,     0.84585,     0.84685,     0.84785,     0.84885,     0.84985,     0.85085,     0.85185,     0.85285,     0.85385,     0.85485,     0.85586,     0.85686,     0.85786,     0.85886,     0.85986,     0.86086,     0.86186,     0.86286,     0.86386,\n",
              "           0.86486,     0.86587,     0.86687,     0.86787,     0.86887,     0.86987,     0.87087,     0.87187,     0.87287,     0.87387,     0.87487,     0.87588,     0.87688,     0.87788,     0.87888,     0.87988,     0.88088,     0.88188,     0.88288,     0.88388,     0.88488,     0.88589,     0.88689,     0.88789,\n",
              "           0.88889,     0.88989,     0.89089,     0.89189,     0.89289,     0.89389,     0.89489,      0.8959,      0.8969,      0.8979,      0.8989,      0.8999,      0.9009,      0.9019,      0.9029,      0.9039,      0.9049,     0.90591,     0.90691,     0.90791,     0.90891,     0.90991,     0.91091,     0.91191,\n",
              "           0.91291,     0.91391,     0.91491,     0.91592,     0.91692,     0.91792,     0.91892,     0.91992,     0.92092,     0.92192,     0.92292,     0.92392,     0.92492,     0.92593,     0.92693,     0.92793,     0.92893,     0.92993,     0.93093,     0.93193,     0.93293,     0.93393,     0.93493,     0.93594,\n",
              "           0.93694,     0.93794,     0.93894,     0.93994,     0.94094,     0.94194,     0.94294,     0.94394,     0.94494,     0.94595,     0.94695,     0.94795,     0.94895,     0.94995,     0.95095,     0.95195,     0.95295,     0.95395,     0.95495,     0.95596,     0.95696,     0.95796,     0.95896,     0.95996,\n",
              "           0.96096,     0.96196,     0.96296,     0.96396,     0.96496,     0.96597,     0.96697,     0.96797,     0.96897,     0.96997,     0.97097,     0.97197,     0.97297,     0.97397,     0.97497,     0.97598,     0.97698,     0.97798,     0.97898,     0.97998,     0.98098,     0.98198,     0.98298,     0.98398,\n",
              "           0.98498,     0.98599,     0.98699,     0.98799,     0.98899,     0.98999,     0.99099,     0.99199,     0.99299,     0.99399,     0.99499,       0.996,       0.997,       0.998,       0.999,           1]), array([[    0.23685,     0.23685,     0.28158,     0.30863,     0.32787,      0.3425,     0.35503,     0.36524,     0.37418,     0.38146,     0.38799,     0.39438,     0.40019,     0.40432,     0.40983,     0.41406,     0.41755,     0.42063,     0.42415,     0.42751,     0.43128,     0.43436,     0.43732,\n",
              "            0.44048,     0.44302,     0.44542,      0.4477,     0.45026,     0.45247,     0.45441,     0.45628,     0.45787,     0.45937,     0.46242,     0.46429,     0.46608,     0.46777,     0.46971,     0.47183,     0.47339,     0.47534,     0.47691,     0.47881,     0.48051,     0.48249,     0.48405,\n",
              "              0.486,     0.48788,     0.48968,     0.49084,      0.4926,     0.49392,      0.4953,     0.49693,      0.4985,     0.49972,     0.50103,     0.50228,     0.50343,     0.50497,     0.50594,     0.50762,     0.50899,     0.51052,     0.51185,     0.51295,     0.51453,     0.51579,     0.51701,\n",
              "            0.51824,     0.51917,     0.52021,     0.52062,     0.52192,      0.5227,     0.52375,     0.52436,     0.52507,     0.52644,     0.52712,     0.52788,     0.52849,     0.52973,     0.53068,     0.53174,     0.53277,     0.53345,     0.53425,     0.53515,       0.536,     0.53719,     0.53843,\n",
              "            0.53933,      0.5402,     0.54158,     0.54232,     0.54323,     0.54434,     0.54488,     0.54549,      0.5465,     0.54741,     0.54811,     0.54886,     0.54987,     0.55069,     0.55183,     0.55278,     0.55336,     0.55389,     0.55474,     0.55535,     0.55606,     0.55642,     0.55744,\n",
              "              0.558,     0.55876,     0.55991,     0.56083,     0.56147,     0.56214,     0.56288,     0.56399,     0.56522,     0.56566,     0.56656,     0.56734,     0.56802,     0.56847,     0.56945,     0.56999,     0.57052,     0.57169,     0.57268,     0.57332,      0.5744,     0.57558,      0.5762,\n",
              "            0.57675,     0.57716,      0.5775,     0.57828,     0.57904,     0.57997,     0.58047,      0.5817,     0.58259,     0.58322,     0.58414,      0.5849,     0.58526,     0.58609,      0.5871,     0.58771,     0.58835,     0.58885,      0.5897,     0.59061,     0.59103,     0.59183,     0.59279,\n",
              "            0.59303,     0.59418,     0.59504,     0.59589,     0.59687,     0.59764,     0.59807,     0.59889,     0.60016,     0.60056,     0.60165,     0.60196,     0.60207,     0.60297,     0.60382,     0.60443,     0.60499,     0.60538,     0.60601,     0.60684,     0.60728,     0.60823,     0.60904,\n",
              "            0.60966,     0.61046,     0.61114,     0.61211,      0.6132,     0.61392,     0.61441,     0.61487,     0.61519,     0.61588,     0.61645,      0.6172,     0.61818,     0.61862,     0.61911,     0.61973,     0.62036,      0.6209,     0.62093,     0.62172,     0.62207,     0.62318,     0.62338,\n",
              "            0.62468,     0.62519,     0.62547,     0.62634,     0.62672,     0.62767,     0.62814,     0.62923,     0.62994,     0.63074,     0.63113,     0.63227,      0.6328,     0.63378,     0.63419,     0.63497,      0.6355,     0.63616,     0.63656,     0.63776,     0.63853,     0.63943,     0.64004,\n",
              "            0.64068,     0.64089,     0.64124,     0.64242,      0.6429,     0.64422,     0.64477,     0.64557,     0.64626,     0.64686,     0.64748,     0.64818,     0.64913,     0.64983,     0.65079,     0.65169,     0.65225,     0.65301,     0.65342,     0.65386,      0.6549,     0.65533,     0.65561,\n",
              "            0.65667,     0.65787,     0.65792,     0.65951,     0.66009,     0.66096,     0.66238,     0.66296,     0.66461,      0.6649,      0.6657,     0.66594,     0.66696,     0.66813,     0.66873,     0.67012,     0.67042,     0.67102,     0.67199,     0.67296,     0.67336,     0.67431,     0.67565,\n",
              "            0.67612,     0.67658,     0.67696,     0.67817,     0.67888,      0.6797,     0.68054,     0.68132,     0.68201,      0.6827,     0.68282,     0.68344,     0.68421,     0.68485,     0.68637,     0.68693,     0.68697,     0.68774,     0.68824,     0.68853,     0.68894,     0.68975,     0.68992,\n",
              "            0.69074,     0.69146,     0.69186,     0.69235,     0.69373,     0.69432,     0.69519,       0.696,     0.69689,     0.69755,     0.69798,     0.69871,     0.69937,     0.69978,     0.70026,     0.70092,     0.70151,     0.70184,     0.70211,       0.703,     0.70393,     0.70419,     0.70471,\n",
              "            0.70506,     0.70596,     0.70698,     0.70741,     0.70825,       0.709,      0.7089,     0.70927,     0.70962,     0.71007,     0.71044,     0.71112,     0.71125,     0.71134,     0.71188,     0.71316,     0.71369,     0.71438,       0.715,     0.71546,     0.71557,     0.71734,     0.71753,\n",
              "            0.71823,     0.71885,     0.71905,     0.71888,     0.71931,     0.71991,     0.72044,     0.72113,     0.72185,     0.72256,     0.72305,     0.72318,     0.72356,      0.7241,     0.72449,     0.72585,     0.72659,     0.72732,     0.72771,     0.72843,     0.72916,     0.72947,     0.73014,\n",
              "            0.72995,     0.73024,     0.73171,     0.73183,     0.73256,     0.73266,     0.73317,     0.73364,     0.73403,     0.73532,     0.73498,     0.73561,     0.73651,     0.73634,     0.73631,     0.73661,     0.73719,      0.7369,     0.73761,     0.73791,     0.73809,     0.73851,     0.73867,\n",
              "            0.73895,     0.73998,     0.74013,     0.74016,     0.74005,     0.74014,     0.74073,     0.74101,     0.74194,     0.74234,     0.74264,     0.74349,     0.74365,      0.7439,     0.74345,     0.74367,     0.74405,     0.74419,     0.74419,     0.74457,     0.74485,     0.74437,     0.74427,\n",
              "            0.74448,     0.74483,     0.74544,     0.74595,     0.74602,     0.74608,     0.74589,     0.74646,     0.74666,     0.74726,     0.74745,     0.74778,     0.74791,     0.74823,     0.74875,     0.74889,     0.74895,     0.74967,      0.7501,     0.75052,     0.75069,     0.75129,     0.75133,\n",
              "            0.75157,     0.75106,     0.75125,     0.75188,     0.75209,     0.75288,     0.75325,     0.75342,     0.75366,     0.75409,     0.75415,     0.75421,     0.75451,     0.75458,     0.75502,     0.75553,     0.75597,     0.75688,     0.75687,     0.75661,     0.75608,     0.75647,     0.75628,\n",
              "            0.75655,      0.7571,     0.75756,     0.75725,     0.75776,     0.75778,     0.75894,      0.7588,     0.75898,     0.75931,     0.75885,     0.75909,     0.75941,     0.76006,     0.76048,     0.76097,     0.76091,     0.76046,     0.76121,     0.76123,     0.76149,     0.76136,     0.76123,\n",
              "            0.76105,     0.76095,     0.76099,     0.76131,     0.76172,     0.76102,     0.76097,     0.76133,     0.76172,     0.76183,     0.76114,     0.76076,     0.76035,     0.76054,      0.7605,      0.7605,     0.76026,     0.76021,     0.76053,     0.76067,      0.7606,     0.76012,     0.75993,\n",
              "            0.76029,     0.76029,     0.76092,     0.76059,     0.76116,     0.76091,     0.76041,     0.76045,     0.76103,     0.76065,       0.761,     0.76041,     0.76045,     0.76103,     0.76062,      0.7608,     0.76085,     0.76109,     0.76153,     0.76117,     0.76096,     0.76058,     0.76055,\n",
              "            0.76028,     0.75968,     0.76029,     0.76022,     0.75994,     0.75948,     0.75996,     0.76022,     0.76026,     0.75981,     0.75952,     0.75946,      0.7594,     0.75959,     0.75951,     0.76031,      0.7605,     0.76048,     0.76082,     0.76097,      0.7611,     0.76118,     0.76116,\n",
              "            0.76071,     0.76009,     0.76007,     0.76037,      0.7596,     0.75985,      0.7601,     0.76019,      0.7599,     0.75943,      0.7595,     0.75887,     0.75913,     0.75947,     0.75899,     0.75875,     0.75909,     0.75884,     0.75903,     0.75884,     0.75894,     0.75921,     0.75874,\n",
              "            0.75901,     0.75923,     0.75925,     0.75952,     0.75931,     0.75859,     0.75847,     0.75822,      0.7583,     0.75779,     0.75783,     0.75743,     0.75766,     0.75774,     0.75712,     0.75693,     0.75689,     0.75722,     0.75728,     0.75694,     0.75604,     0.75628,     0.75582,\n",
              "            0.75604,     0.75571,     0.75591,     0.75621,     0.75522,     0.75506,      0.7551,     0.75518,     0.75538,     0.75483,     0.75411,     0.75377,      0.7533,     0.75324,     0.75344,     0.75287,      0.7519,     0.75167,     0.75143,     0.75154,     0.75128,     0.75062,     0.75066,\n",
              "            0.75028,     0.75051,     0.75002,     0.74894,     0.74866,     0.74801,     0.74828,     0.74806,     0.74723,     0.74695,     0.74682,     0.74635,     0.74599,     0.74525,     0.74552,     0.74536,      0.7445,     0.74322,      0.7426,     0.74244,     0.74262,     0.74088,     0.74041,\n",
              "             0.7401,     0.73889,     0.73812,     0.73785,     0.73788,     0.73701,     0.73707,      0.7354,     0.73529,      0.7348,      0.7341,     0.73384,     0.73281,     0.73201,     0.73102,     0.73064,     0.73021,     0.72946,     0.72788,     0.72666,     0.72636,     0.72594,     0.72561,\n",
              "            0.72494,     0.72321,     0.72272,     0.72064,     0.71949,     0.71836,      0.7182,     0.71744,      0.7168,     0.71586,     0.71431,       0.714,      0.7122,     0.71159,     0.71173,     0.71157,     0.71133,     0.70974,     0.70921,     0.70913,     0.70836,     0.70762,     0.70721,\n",
              "            0.70587,     0.70473,     0.70361,     0.70167,     0.70091,     0.69933,      0.6984,     0.69685,     0.69589,     0.69583,     0.69292,     0.69215,     0.69047,     0.68881,     0.68713,     0.68534,     0.68455,     0.68373,     0.68286,     0.68206,     0.68114,     0.68082,     0.68052,\n",
              "            0.67918,     0.67741,     0.67604,     0.67456,     0.67316,     0.67258,     0.67084,     0.66893,     0.66632,     0.66547,     0.66408,     0.66278,     0.66171,     0.65954,     0.65863,     0.65657,     0.65494,     0.65415,     0.65373,     0.65123,     0.65106,     0.65059,     0.64985,\n",
              "            0.64598,     0.64453,     0.64257,     0.64011,     0.63641,     0.63467,     0.63303,     0.63203,     0.63018,     0.62801,     0.62692,     0.62365,     0.62019,     0.62013,     0.61827,     0.61497,     0.61479,     0.61146,     0.60834,     0.60841,     0.60534,     0.60099,     0.59891,\n",
              "            0.59862,     0.59633,     0.59428,     0.59067,     0.59037,      0.5861,     0.58345,     0.58308,     0.57955,     0.57717,     0.57473,     0.57411,     0.57034,     0.56674,     0.56527,     0.56171,     0.55782,     0.55695,     0.55165,     0.54769,     0.54401,      0.5404,     0.53969,\n",
              "            0.53494,     0.53222,     0.52801,     0.52731,     0.52276,     0.51739,     0.51194,     0.51156,     0.50814,     0.50458,     0.49961,     0.49924,     0.49624,     0.49396,     0.49072,     0.48721,       0.487,     0.48283,     0.47935,     0.47528,     0.47137,     0.46839,     0.46794,\n",
              "            0.46425,     0.46133,     0.45736,     0.45135,     0.45113,     0.44743,     0.44197,      0.4366,      0.4313,     0.42742,     0.42628,     0.42063,     0.41481,     0.41056,     0.40508,     0.40043,     0.39807,     0.39284,     0.38758,     0.38708,     0.38226,     0.37879,     0.37509,\n",
              "            0.37108,     0.36358,     0.36157,     0.35599,     0.35554,     0.34899,     0.34417,     0.34118,     0.33706,     0.33039,      0.3265,     0.32086,     0.31492,     0.30913,     0.30432,     0.29845,     0.29333,      0.2897,     0.28505,     0.27904,     0.27541,     0.26778,     0.26171,\n",
              "            0.25895,     0.25152,      0.2477,     0.24273,     0.23642,     0.23181,     0.22542,     0.22118,     0.21836,     0.21426,     0.21163,     0.20774,     0.20381,     0.19814,     0.19233,      0.1875,     0.18339,     0.17978,     0.17481,     0.17207,     0.16569,     0.15959,      0.1576,\n",
              "            0.15298,     0.14954,     0.14577,     0.14251,     0.13874,     0.13094,     0.12618,      0.1197,     0.11783,     0.11005,     0.10727,     0.10471,     0.09989,    0.098311,    0.094218,      0.0909,    0.085557,    0.079431,    0.075394,    0.071069,    0.070724,    0.066684,    0.064386,\n",
              "           0.062619,    0.060554,    0.056437,    0.053845,    0.050215,    0.047657,     0.04604,    0.043432,    0.039239,    0.038168,    0.036573,    0.035355,    0.032325,    0.030864,    0.029641,    0.028202,    0.026949,    0.025865,     0.02372,    0.022632,     0.01835,    0.016347,    0.015092,\n",
              "           0.014549,    0.014275,    0.013981,    0.013379,     0.01235,      0.0118,    0.011156,    0.010054,   0.0089514,   0.0071723,   0.0068975,   0.0067132,   0.0065288,   0.0060391,   0.0054855,   0.0050935,   0.0044189,   0.0037142,   0.0035293,   0.0033443,   0.0026995,   0.0021572,   0.0018794,\n",
              "          0.0016104,   0.0014251,   0.0012397,           0,           0,           0,           0,           0,           0,           0,           0,           0,           0,           0,           0,           0,           0,           0,           0,           0,           0,           0,           0,\n",
              "                  0,           0,           0,           0,           0,           0,           0,           0,           0,           0,           0,           0,           0,           0,           0,           0,           0,           0,           0,           0,           0,           0,           0,\n",
              "                  0,           0,           0,           0,           0,           0,           0,           0,           0,           0,           0]]), 'Confidence', 'F1'], [array([          0,    0.001001,    0.002002,    0.003003,    0.004004,    0.005005,    0.006006,    0.007007,    0.008008,    0.009009,     0.01001,    0.011011,    0.012012,    0.013013,    0.014014,    0.015015,    0.016016,    0.017017,    0.018018,    0.019019,     0.02002,    0.021021,    0.022022,    0.023023,\n",
              "          0.024024,    0.025025,    0.026026,    0.027027,    0.028028,    0.029029,     0.03003,    0.031031,    0.032032,    0.033033,    0.034034,    0.035035,    0.036036,    0.037037,    0.038038,    0.039039,     0.04004,    0.041041,    0.042042,    0.043043,    0.044044,    0.045045,    0.046046,    0.047047,\n",
              "          0.048048,    0.049049,     0.05005,    0.051051,    0.052052,    0.053053,    0.054054,    0.055055,    0.056056,    0.057057,    0.058058,    0.059059,     0.06006,    0.061061,    0.062062,    0.063063,    0.064064,    0.065065,    0.066066,    0.067067,    0.068068,    0.069069,     0.07007,    0.071071,\n",
              "          0.072072,    0.073073,    0.074074,    0.075075,    0.076076,    0.077077,    0.078078,    0.079079,     0.08008,    0.081081,    0.082082,    0.083083,    0.084084,    0.085085,    0.086086,    0.087087,    0.088088,    0.089089,     0.09009,    0.091091,    0.092092,    0.093093,    0.094094,    0.095095,\n",
              "          0.096096,    0.097097,    0.098098,    0.099099,      0.1001,      0.1011,      0.1021,      0.1031,      0.1041,     0.10511,     0.10611,     0.10711,     0.10811,     0.10911,     0.11011,     0.11111,     0.11211,     0.11311,     0.11411,     0.11512,     0.11612,     0.11712,     0.11812,     0.11912,\n",
              "           0.12012,     0.12112,     0.12212,     0.12312,     0.12412,     0.12513,     0.12613,     0.12713,     0.12813,     0.12913,     0.13013,     0.13113,     0.13213,     0.13313,     0.13413,     0.13514,     0.13614,     0.13714,     0.13814,     0.13914,     0.14014,     0.14114,     0.14214,     0.14314,\n",
              "           0.14414,     0.14515,     0.14615,     0.14715,     0.14815,     0.14915,     0.15015,     0.15115,     0.15215,     0.15315,     0.15415,     0.15516,     0.15616,     0.15716,     0.15816,     0.15916,     0.16016,     0.16116,     0.16216,     0.16316,     0.16416,     0.16517,     0.16617,     0.16717,\n",
              "           0.16817,     0.16917,     0.17017,     0.17117,     0.17217,     0.17317,     0.17417,     0.17518,     0.17618,     0.17718,     0.17818,     0.17918,     0.18018,     0.18118,     0.18218,     0.18318,     0.18418,     0.18519,     0.18619,     0.18719,     0.18819,     0.18919,     0.19019,     0.19119,\n",
              "           0.19219,     0.19319,     0.19419,      0.1952,      0.1962,      0.1972,      0.1982,      0.1992,      0.2002,      0.2012,      0.2022,      0.2032,      0.2042,     0.20521,     0.20621,     0.20721,     0.20821,     0.20921,     0.21021,     0.21121,     0.21221,     0.21321,     0.21421,     0.21522,\n",
              "           0.21622,     0.21722,     0.21822,     0.21922,     0.22022,     0.22122,     0.22222,     0.22322,     0.22422,     0.22523,     0.22623,     0.22723,     0.22823,     0.22923,     0.23023,     0.23123,     0.23223,     0.23323,     0.23423,     0.23524,     0.23624,     0.23724,     0.23824,     0.23924,\n",
              "           0.24024,     0.24124,     0.24224,     0.24324,     0.24424,     0.24525,     0.24625,     0.24725,     0.24825,     0.24925,     0.25025,     0.25125,     0.25225,     0.25325,     0.25425,     0.25526,     0.25626,     0.25726,     0.25826,     0.25926,     0.26026,     0.26126,     0.26226,     0.26326,\n",
              "           0.26426,     0.26527,     0.26627,     0.26727,     0.26827,     0.26927,     0.27027,     0.27127,     0.27227,     0.27327,     0.27427,     0.27528,     0.27628,     0.27728,     0.27828,     0.27928,     0.28028,     0.28128,     0.28228,     0.28328,     0.28428,     0.28529,     0.28629,     0.28729,\n",
              "           0.28829,     0.28929,     0.29029,     0.29129,     0.29229,     0.29329,     0.29429,      0.2953,      0.2963,      0.2973,      0.2983,      0.2993,      0.3003,      0.3013,      0.3023,      0.3033,      0.3043,     0.30531,     0.30631,     0.30731,     0.30831,     0.30931,     0.31031,     0.31131,\n",
              "           0.31231,     0.31331,     0.31431,     0.31532,     0.31632,     0.31732,     0.31832,     0.31932,     0.32032,     0.32132,     0.32232,     0.32332,     0.32432,     0.32533,     0.32633,     0.32733,     0.32833,     0.32933,     0.33033,     0.33133,     0.33233,     0.33333,     0.33433,     0.33534,\n",
              "           0.33634,     0.33734,     0.33834,     0.33934,     0.34034,     0.34134,     0.34234,     0.34334,     0.34434,     0.34535,     0.34635,     0.34735,     0.34835,     0.34935,     0.35035,     0.35135,     0.35235,     0.35335,     0.35435,     0.35536,     0.35636,     0.35736,     0.35836,     0.35936,\n",
              "           0.36036,     0.36136,     0.36236,     0.36336,     0.36436,     0.36537,     0.36637,     0.36737,     0.36837,     0.36937,     0.37037,     0.37137,     0.37237,     0.37337,     0.37437,     0.37538,     0.37638,     0.37738,     0.37838,     0.37938,     0.38038,     0.38138,     0.38238,     0.38338,\n",
              "           0.38438,     0.38539,     0.38639,     0.38739,     0.38839,     0.38939,     0.39039,     0.39139,     0.39239,     0.39339,     0.39439,      0.3954,      0.3964,      0.3974,      0.3984,      0.3994,      0.4004,      0.4014,      0.4024,      0.4034,      0.4044,     0.40541,     0.40641,     0.40741,\n",
              "           0.40841,     0.40941,     0.41041,     0.41141,     0.41241,     0.41341,     0.41441,     0.41542,     0.41642,     0.41742,     0.41842,     0.41942,     0.42042,     0.42142,     0.42242,     0.42342,     0.42442,     0.42543,     0.42643,     0.42743,     0.42843,     0.42943,     0.43043,     0.43143,\n",
              "           0.43243,     0.43343,     0.43443,     0.43544,     0.43644,     0.43744,     0.43844,     0.43944,     0.44044,     0.44144,     0.44244,     0.44344,     0.44444,     0.44545,     0.44645,     0.44745,     0.44845,     0.44945,     0.45045,     0.45145,     0.45245,     0.45345,     0.45445,     0.45546,\n",
              "           0.45646,     0.45746,     0.45846,     0.45946,     0.46046,     0.46146,     0.46246,     0.46346,     0.46446,     0.46547,     0.46647,     0.46747,     0.46847,     0.46947,     0.47047,     0.47147,     0.47247,     0.47347,     0.47447,     0.47548,     0.47648,     0.47748,     0.47848,     0.47948,\n",
              "           0.48048,     0.48148,     0.48248,     0.48348,     0.48448,     0.48549,     0.48649,     0.48749,     0.48849,     0.48949,     0.49049,     0.49149,     0.49249,     0.49349,     0.49449,      0.4955,      0.4965,      0.4975,      0.4985,      0.4995,      0.5005,      0.5015,      0.5025,      0.5035,\n",
              "            0.5045,     0.50551,     0.50651,     0.50751,     0.50851,     0.50951,     0.51051,     0.51151,     0.51251,     0.51351,     0.51451,     0.51552,     0.51652,     0.51752,     0.51852,     0.51952,     0.52052,     0.52152,     0.52252,     0.52352,     0.52452,     0.52553,     0.52653,     0.52753,\n",
              "           0.52853,     0.52953,     0.53053,     0.53153,     0.53253,     0.53353,     0.53453,     0.53554,     0.53654,     0.53754,     0.53854,     0.53954,     0.54054,     0.54154,     0.54254,     0.54354,     0.54454,     0.54555,     0.54655,     0.54755,     0.54855,     0.54955,     0.55055,     0.55155,\n",
              "           0.55255,     0.55355,     0.55455,     0.55556,     0.55656,     0.55756,     0.55856,     0.55956,     0.56056,     0.56156,     0.56256,     0.56356,     0.56456,     0.56557,     0.56657,     0.56757,     0.56857,     0.56957,     0.57057,     0.57157,     0.57257,     0.57357,     0.57457,     0.57558,\n",
              "           0.57658,     0.57758,     0.57858,     0.57958,     0.58058,     0.58158,     0.58258,     0.58358,     0.58458,     0.58559,     0.58659,     0.58759,     0.58859,     0.58959,     0.59059,     0.59159,     0.59259,     0.59359,     0.59459,      0.5956,      0.5966,      0.5976,      0.5986,      0.5996,\n",
              "            0.6006,      0.6016,      0.6026,      0.6036,      0.6046,     0.60561,     0.60661,     0.60761,     0.60861,     0.60961,     0.61061,     0.61161,     0.61261,     0.61361,     0.61461,     0.61562,     0.61662,     0.61762,     0.61862,     0.61962,     0.62062,     0.62162,     0.62262,     0.62362,\n",
              "           0.62462,     0.62563,     0.62663,     0.62763,     0.62863,     0.62963,     0.63063,     0.63163,     0.63263,     0.63363,     0.63463,     0.63564,     0.63664,     0.63764,     0.63864,     0.63964,     0.64064,     0.64164,     0.64264,     0.64364,     0.64464,     0.64565,     0.64665,     0.64765,\n",
              "           0.64865,     0.64965,     0.65065,     0.65165,     0.65265,     0.65365,     0.65465,     0.65566,     0.65666,     0.65766,     0.65866,     0.65966,     0.66066,     0.66166,     0.66266,     0.66366,     0.66466,     0.66567,     0.66667,     0.66767,     0.66867,     0.66967,     0.67067,     0.67167,\n",
              "           0.67267,     0.67367,     0.67467,     0.67568,     0.67668,     0.67768,     0.67868,     0.67968,     0.68068,     0.68168,     0.68268,     0.68368,     0.68468,     0.68569,     0.68669,     0.68769,     0.68869,     0.68969,     0.69069,     0.69169,     0.69269,     0.69369,     0.69469,      0.6957,\n",
              "            0.6967,      0.6977,      0.6987,      0.6997,      0.7007,      0.7017,      0.7027,      0.7037,      0.7047,     0.70571,     0.70671,     0.70771,     0.70871,     0.70971,     0.71071,     0.71171,     0.71271,     0.71371,     0.71471,     0.71572,     0.71672,     0.71772,     0.71872,     0.71972,\n",
              "           0.72072,     0.72172,     0.72272,     0.72372,     0.72472,     0.72573,     0.72673,     0.72773,     0.72873,     0.72973,     0.73073,     0.73173,     0.73273,     0.73373,     0.73473,     0.73574,     0.73674,     0.73774,     0.73874,     0.73974,     0.74074,     0.74174,     0.74274,     0.74374,\n",
              "           0.74474,     0.74575,     0.74675,     0.74775,     0.74875,     0.74975,     0.75075,     0.75175,     0.75275,     0.75375,     0.75475,     0.75576,     0.75676,     0.75776,     0.75876,     0.75976,     0.76076,     0.76176,     0.76276,     0.76376,     0.76476,     0.76577,     0.76677,     0.76777,\n",
              "           0.76877,     0.76977,     0.77077,     0.77177,     0.77277,     0.77377,     0.77477,     0.77578,     0.77678,     0.77778,     0.77878,     0.77978,     0.78078,     0.78178,     0.78278,     0.78378,     0.78478,     0.78579,     0.78679,     0.78779,     0.78879,     0.78979,     0.79079,     0.79179,\n",
              "           0.79279,     0.79379,     0.79479,      0.7958,      0.7968,      0.7978,      0.7988,      0.7998,      0.8008,      0.8018,      0.8028,      0.8038,      0.8048,     0.80581,     0.80681,     0.80781,     0.80881,     0.80981,     0.81081,     0.81181,     0.81281,     0.81381,     0.81481,     0.81582,\n",
              "           0.81682,     0.81782,     0.81882,     0.81982,     0.82082,     0.82182,     0.82282,     0.82382,     0.82482,     0.82583,     0.82683,     0.82783,     0.82883,     0.82983,     0.83083,     0.83183,     0.83283,     0.83383,     0.83483,     0.83584,     0.83684,     0.83784,     0.83884,     0.83984,\n",
              "           0.84084,     0.84184,     0.84284,     0.84384,     0.84484,     0.84585,     0.84685,     0.84785,     0.84885,     0.84985,     0.85085,     0.85185,     0.85285,     0.85385,     0.85485,     0.85586,     0.85686,     0.85786,     0.85886,     0.85986,     0.86086,     0.86186,     0.86286,     0.86386,\n",
              "           0.86486,     0.86587,     0.86687,     0.86787,     0.86887,     0.86987,     0.87087,     0.87187,     0.87287,     0.87387,     0.87487,     0.87588,     0.87688,     0.87788,     0.87888,     0.87988,     0.88088,     0.88188,     0.88288,     0.88388,     0.88488,     0.88589,     0.88689,     0.88789,\n",
              "           0.88889,     0.88989,     0.89089,     0.89189,     0.89289,     0.89389,     0.89489,      0.8959,      0.8969,      0.8979,      0.8989,      0.8999,      0.9009,      0.9019,      0.9029,      0.9039,      0.9049,     0.90591,     0.90691,     0.90791,     0.90891,     0.90991,     0.91091,     0.91191,\n",
              "           0.91291,     0.91391,     0.91491,     0.91592,     0.91692,     0.91792,     0.91892,     0.91992,     0.92092,     0.92192,     0.92292,     0.92392,     0.92492,     0.92593,     0.92693,     0.92793,     0.92893,     0.92993,     0.93093,     0.93193,     0.93293,     0.93393,     0.93493,     0.93594,\n",
              "           0.93694,     0.93794,     0.93894,     0.93994,     0.94094,     0.94194,     0.94294,     0.94394,     0.94494,     0.94595,     0.94695,     0.94795,     0.94895,     0.94995,     0.95095,     0.95195,     0.95295,     0.95395,     0.95495,     0.95596,     0.95696,     0.95796,     0.95896,     0.95996,\n",
              "           0.96096,     0.96196,     0.96296,     0.96396,     0.96496,     0.96597,     0.96697,     0.96797,     0.96897,     0.96997,     0.97097,     0.97197,     0.97297,     0.97397,     0.97497,     0.97598,     0.97698,     0.97798,     0.97898,     0.97998,     0.98098,     0.98198,     0.98298,     0.98398,\n",
              "           0.98498,     0.98599,     0.98699,     0.98799,     0.98899,     0.98999,     0.99099,     0.99199,     0.99299,     0.99399,     0.99499,       0.996,       0.997,       0.998,       0.999,           1]), array([[    0.13612,     0.13612,     0.16657,     0.18588,     0.20008,      0.2111,     0.22072,     0.22869,     0.23578,     0.24161,     0.24689,     0.25215,     0.25692,     0.26038,     0.26499,     0.26857,     0.27153,     0.27417,     0.27722,     0.28009,     0.28334,       0.286,     0.28857,\n",
              "            0.29134,     0.29362,     0.29576,     0.29783,     0.30014,      0.3021,     0.30383,     0.30551,     0.30703,      0.3085,      0.3113,       0.313,     0.31472,      0.3163,     0.31811,     0.32009,      0.3216,     0.32347,     0.32501,     0.32677,     0.32836,     0.33021,     0.33167,\n",
              "            0.33355,     0.33532,     0.33702,     0.33816,     0.33987,     0.34113,     0.34245,       0.344,     0.34551,     0.34668,     0.34795,      0.3492,     0.35031,      0.3518,     0.35275,     0.35442,     0.35576,     0.35725,     0.35856,     0.35964,     0.36124,     0.36248,     0.36369,\n",
              "            0.36491,     0.36583,     0.36691,     0.36736,     0.36867,     0.36944,     0.37053,     0.37119,     0.37195,     0.37333,     0.37401,     0.37483,     0.37549,     0.37679,     0.37785,     0.37893,     0.38003,     0.38077,     0.38159,      0.3825,     0.38337,     0.38459,     0.38586,\n",
              "            0.38684,     0.38778,     0.38921,     0.39008,     0.39102,     0.39218,     0.39274,     0.39348,     0.39458,     0.39558,     0.39632,     0.39715,     0.39826,     0.39919,     0.40038,     0.40138,       0.402,     0.40261,     0.40356,     0.40427,     0.40502,     0.40546,     0.40655,\n",
              "             0.4072,     0.40813,     0.40935,     0.41033,     0.41107,      0.4118,     0.41266,     0.41384,     0.41523,     0.41571,     0.41668,     0.41759,     0.41839,     0.41893,        0.42,     0.42058,     0.42134,     0.42275,     0.42383,     0.42454,     0.42571,     0.42702,     0.42769,\n",
              "            0.42837,     0.42882,     0.42926,     0.43013,     0.43103,     0.43206,     0.43268,     0.43411,     0.43511,     0.43581,     0.43691,     0.43775,      0.4383,      0.4393,     0.44043,     0.44119,     0.44191,      0.4426,     0.44357,      0.4446,     0.44508,     0.44605,     0.44715,\n",
              "             0.4475,      0.4488,     0.44978,     0.45083,     0.45195,     0.45283,     0.45333,     0.45427,     0.45573,     0.45634,     0.45768,     0.45833,     0.45859,     0.45965,      0.4608,     0.46173,     0.46245,     0.46307,     0.46396,     0.46501,     0.46553,     0.46672,     0.46783,\n",
              "            0.46856,     0.46951,     0.47031,     0.47146,     0.47275,     0.47369,     0.47444,     0.47506,     0.47569,     0.47652,      0.4772,      0.4781,     0.47936,     0.47997,     0.48065,     0.48148,     0.48232,     0.48315,     0.48331,     0.48439,     0.48481,     0.48625,     0.48658,\n",
              "            0.48833,     0.48905,     0.48944,     0.49063,     0.49119,     0.49244,     0.49302,     0.49436,     0.49524,     0.49659,     0.49725,     0.49885,     0.49951,     0.50074,     0.50133,     0.50232,     0.50307,     0.50399,     0.50458,     0.50621,     0.50725,     0.50868,     0.50954,\n",
              "            0.51074,     0.51119,     0.51173,     0.51334,     0.51415,     0.51613,     0.51684,     0.51826,     0.51915,     0.52014,     0.52104,     0.52194,     0.52318,     0.52428,     0.52554,     0.52691,     0.52775,     0.52886,     0.53003,     0.53071,     0.53218,     0.53276,     0.53331,\n",
              "            0.53496,     0.53655,     0.53693,     0.53917,     0.54006,     0.54133,     0.54339,     0.54425,     0.54648,     0.54698,     0.54807,      0.5485,     0.55001,      0.5516,     0.55265,     0.55455,     0.55531,     0.55614,     0.55747,     0.55881,     0.55942,     0.56078,     0.56264,\n",
              "            0.56329,     0.56417,     0.56471,     0.56652,     0.56774,      0.5689,      0.5702,     0.57129,     0.57239,     0.57336,     0.57404,     0.57492,       0.576,     0.57704,     0.57933,     0.58013,     0.58045,     0.58155,      0.5832,      0.5839,     0.58458,     0.58587,     0.58639,\n",
              "            0.58783,     0.58901,      0.5896,     0.59058,       0.593,     0.59413,     0.59541,     0.59674,     0.59804,     0.59917,     0.60008,     0.60116,     0.60228,     0.60359,     0.60431,      0.6053,     0.60631,     0.60681,     0.60737,      0.6087,     0.61023,     0.61083,      0.6117,\n",
              "            0.61238,     0.61374,     0.61543,     0.61623,      0.6175,     0.61865,     0.61911,     0.61982,      0.6205,     0.62134,     0.62222,     0.62326,     0.62377,     0.62468,     0.62599,     0.62797,     0.62894,     0.63002,     0.63131,     0.63218,     0.63251,     0.63576,     0.63623,\n",
              "             0.6375,     0.63847,     0.63896,     0.63934,     0.64002,     0.64146,     0.64248,     0.64358,     0.64478,     0.64603,     0.64714,     0.64764,     0.64847,     0.64935,     0.65032,     0.65285,     0.65424,     0.65559,      0.6564,     0.65757,     0.65887,     0.65974,     0.66108,\n",
              "             0.6613,     0.66195,     0.66456,     0.66493,      0.6662,     0.66703,     0.66825,     0.66922,     0.67005,      0.6722,     0.67238,     0.67343,     0.67551,     0.67642,     0.67689,     0.67759,     0.67883,     0.67943,     0.68102,     0.68174,     0.68262,     0.68374,     0.68501,\n",
              "            0.68549,     0.68725,     0.68791,     0.68817,     0.68838,     0.68913,     0.69036,     0.69115,     0.69308,     0.69393,     0.69513,     0.69662,     0.69731,     0.69794,     0.69798,     0.69881,     0.70037,     0.70121,     0.70169,     0.70253,     0.70304,     0.70346,     0.70393,\n",
              "             0.7043,     0.70529,     0.70668,     0.70782,     0.70837,      0.7091,     0.70924,     0.71044,      0.7113,     0.71307,     0.71409,     0.71491,     0.71538,      0.7162,     0.71738,     0.71837,     0.71912,     0.72067,     0.72169,     0.72272,     0.72349,     0.72496,     0.72555,\n",
              "            0.72632,     0.72672,     0.72762,     0.72904,     0.73014,     0.73164,     0.73282,     0.73336,     0.73433,      0.7354,     0.73573,     0.73635,     0.73692,     0.73831,      0.7394,     0.74037,     0.74146,     0.74322,     0.74381,     0.74432,     0.74457,     0.74574,     0.74613,\n",
              "            0.74719,     0.74851,     0.74956,     0.74985,     0.75086,     0.75166,     0.75422,      0.7552,     0.75608,     0.75683,     0.75698,     0.75774,     0.75836,     0.75994,     0.76078,     0.76199,     0.76246,     0.76264,     0.76444,      0.7653,     0.76694,     0.76724,     0.76754,\n",
              "            0.76833,     0.76866,     0.76903,     0.76967,     0.77084,      0.7708,     0.77162,     0.77286,     0.77426,     0.77513,     0.77488,     0.77516,     0.77531,     0.77617,     0.77681,     0.77772,     0.77826,     0.77935,     0.78002,     0.78108,     0.78228,     0.78237,     0.78392,\n",
              "              0.785,     0.78582,     0.78789,     0.78802,     0.78957,     0.78967,     0.79023,     0.79064,     0.79221,      0.7923,      0.7934,     0.79339,     0.79479,     0.79638,     0.79744,     0.79851,     0.79894,     0.80044,      0.8018,     0.80167,     0.80222,      0.8027,     0.80331,\n",
              "            0.80509,     0.80536,     0.80718,     0.80737,     0.80812,     0.80868,     0.81012,     0.81106,     0.81151,      0.8117,     0.81193,     0.81266,     0.81341,     0.81457,     0.81529,     0.81766,     0.81869,     0.81949,     0.82027,       0.821,     0.82239,     0.82332,       0.824,\n",
              "            0.82436,     0.82481,     0.82622,     0.82697,       0.827,     0.82892,     0.83051,     0.83089,     0.83116,     0.83197,     0.83233,     0.83238,     0.83355,     0.83437,     0.83504,     0.83537,      0.8362,     0.83637,     0.83764,     0.83788,     0.83859,     0.83965,     0.84005,\n",
              "            0.84157,     0.84289,     0.84338,     0.84446,     0.84516,     0.84747,     0.84845,     0.84903,     0.85008,     0.85046,       0.851,     0.85167,     0.85225,     0.85332,     0.85375,     0.85468,     0.85578,     0.85714,     0.85853,     0.85897,     0.85978,     0.86149,     0.86164,\n",
              "            0.86291,     0.86406,     0.86479,     0.86582,     0.86641,     0.86692,     0.86748,     0.86879,     0.87025,     0.87111,     0.87151,     0.87165,     0.87182,     0.87245,     0.87393,       0.874,     0.87377,     0.87458,      0.8751,     0.87598,     0.87621,     0.87636,     0.87841,\n",
              "            0.87834,     0.87899,     0.87915,      0.8792,     0.88062,     0.88097,     0.88223,     0.88348,     0.88382,     0.88407,     0.88411,      0.8844,     0.88494,     0.88559,     0.88669,     0.88728,     0.88789,     0.88793,     0.88935,     0.88995,     0.89155,     0.89184,      0.8921,\n",
              "            0.89261,     0.89236,     0.89284,     0.89333,     0.89399,     0.89487,     0.89618,     0.89617,     0.89615,     0.89638,     0.89722,     0.89816,     0.89795,     0.89844,     0.90009,     0.90154,      0.9023,     0.90266,     0.90407,     0.90387,     0.90482,     0.90474,     0.90502,\n",
              "            0.90559,     0.90631,     0.90727,     0.90724,     0.90739,       0.908,     0.90857,     0.90879,     0.90868,     0.90887,     0.90911,     0.91034,     0.91038,     0.91137,     0.91251,     0.91396,     0.91463,     0.91436,     0.91464,       0.916,     0.91681,     0.91708,     0.91882,\n",
              "            0.91936,     0.91986,     0.92015,     0.92099,     0.92126,     0.92132,     0.92164,      0.9214,     0.92282,       0.923,     0.92395,     0.92503,     0.92518,     0.92492,     0.92507,     0.92602,     0.92631,     0.92635,     0.92688,     0.92718,     0.92799,     0.92866,     0.92972,\n",
              "            0.93046,     0.93112,     0.93221,       0.932,      0.9318,     0.93215,     0.93277,     0.93273,     0.93391,      0.9351,     0.93535,     0.93652,     0.93818,      0.9379,     0.93823,     0.93852,     0.93866,     0.93856,     0.93989,     0.94051,     0.94049,     0.94043,     0.94221,\n",
              "            0.94221,      0.9425,     0.94226,      0.9434,     0.94441,      0.9442,     0.94428,     0.94517,     0.94565,     0.94589,     0.94576,     0.94588,     0.94598,     0.94635,     0.94834,       0.949,     0.94898,     0.94984,     0.95051,     0.95088,     0.95166,     0.95119,     0.95206,\n",
              "            0.95258,       0.954,     0.95604,     0.95681,     0.95678,     0.95751,       0.959,     0.95896,     0.95922,     0.95958,     0.96055,      0.9605,     0.96075,     0.96103,     0.96089,     0.96181,     0.96208,       0.962,     0.96152,     0.96115,      0.9608,     0.96111,     0.96104,\n",
              "            0.96059,     0.96032,     0.96195,     0.96188,     0.96352,     0.96514,     0.96538,     0.96534,     0.96577,     0.96619,     0.96649,     0.96646,      0.9662,     0.96751,       0.968,     0.96771,     0.96769,     0.96733,     0.96782,     0.96987,     0.97118,      0.9726,     0.97256,\n",
              "            0.97229,     0.97207,     0.97209,     0.97302,       0.973,      0.9736,     0.97319,     0.97278,     0.97236,     0.97205,     0.97196,     0.97244,     0.97293,     0.97259,     0.97214,     0.97379,      0.9746,     0.97419,     0.97377,     0.97372,     0.97332,     0.97412,     0.97602,\n",
              "            0.97571,     0.97626,     0.97727,     0.97684,     0.97681,     0.97629,      0.9759,     0.97565,      0.9753,     0.97471,     0.97436,     0.97517,     0.97463,     0.97408,     0.97503,     0.97447,     0.97396,     0.97358,     0.97463,     0.97401,     0.97362,     0.97442,     0.97546,\n",
              "            0.97516,     0.97434,     0.97571,     0.97702,     0.97634,     0.97778,     0.97709,     0.97868,     0.97838,     0.97792,     0.97762,     0.97717,     0.97896,     0.97831,      0.9776,     0.97697,     0.97642,     0.97591,     0.97517,     0.97475,     0.97372,     0.97455,     0.97528,\n",
              "            0.97449,     0.97387,     0.97316,     0.97252,     0.97174,     0.96998,     0.96881,     0.96707,     0.96711,     0.96844,      0.9732,     0.97604,     0.97485,     0.97444,      0.9733,     0.97772,     0.97629,      0.9807,     0.97964,     0.97838,     0.97827,     0.97694,     0.97611,\n",
              "            0.97543,     0.97459,     0.97273,     0.97142,     0.96936,     0.97824,     0.97748,     0.98792,     0.98661,     0.98624,     0.98563,     0.98514,     0.98374,     0.98297,     0.98227,     0.98137,     0.98051,      0.9797,     0.97788,     0.97683,     0.97151,      0.9681,     0.96552,\n",
              "            0.96427,     0.96359,     0.96286,     0.96124,           1,           1,           1,           1,           1,           1,           1,           1,           1,           1,           1,           1,           1,           1,           1,           1,           1,           1,           1,\n",
              "                  1,           1,           1,           1,           1,           1,           1,           1,           1,           1,           1,           1,           1,           1,           1,           1,           1,           1,           1,           1,           1,           1,           1,\n",
              "                  1,           1,           1,           1,           1,           1,           1,           1,           1,           1,           1,           1,           1,           1,           1,           1,           1,           1,           1,           1,           1,           1,           1,\n",
              "                  1,           1,           1,           1,           1,           1,           1,           1,           1,           1,           1]]), 'Confidence', 'Precision'], [array([          0,    0.001001,    0.002002,    0.003003,    0.004004,    0.005005,    0.006006,    0.007007,    0.008008,    0.009009,     0.01001,    0.011011,    0.012012,    0.013013,    0.014014,    0.015015,    0.016016,    0.017017,    0.018018,    0.019019,     0.02002,    0.021021,    0.022022,    0.023023,\n",
              "          0.024024,    0.025025,    0.026026,    0.027027,    0.028028,    0.029029,     0.03003,    0.031031,    0.032032,    0.033033,    0.034034,    0.035035,    0.036036,    0.037037,    0.038038,    0.039039,     0.04004,    0.041041,    0.042042,    0.043043,    0.044044,    0.045045,    0.046046,    0.047047,\n",
              "          0.048048,    0.049049,     0.05005,    0.051051,    0.052052,    0.053053,    0.054054,    0.055055,    0.056056,    0.057057,    0.058058,    0.059059,     0.06006,    0.061061,    0.062062,    0.063063,    0.064064,    0.065065,    0.066066,    0.067067,    0.068068,    0.069069,     0.07007,    0.071071,\n",
              "          0.072072,    0.073073,    0.074074,    0.075075,    0.076076,    0.077077,    0.078078,    0.079079,     0.08008,    0.081081,    0.082082,    0.083083,    0.084084,    0.085085,    0.086086,    0.087087,    0.088088,    0.089089,     0.09009,    0.091091,    0.092092,    0.093093,    0.094094,    0.095095,\n",
              "          0.096096,    0.097097,    0.098098,    0.099099,      0.1001,      0.1011,      0.1021,      0.1031,      0.1041,     0.10511,     0.10611,     0.10711,     0.10811,     0.10911,     0.11011,     0.11111,     0.11211,     0.11311,     0.11411,     0.11512,     0.11612,     0.11712,     0.11812,     0.11912,\n",
              "           0.12012,     0.12112,     0.12212,     0.12312,     0.12412,     0.12513,     0.12613,     0.12713,     0.12813,     0.12913,     0.13013,     0.13113,     0.13213,     0.13313,     0.13413,     0.13514,     0.13614,     0.13714,     0.13814,     0.13914,     0.14014,     0.14114,     0.14214,     0.14314,\n",
              "           0.14414,     0.14515,     0.14615,     0.14715,     0.14815,     0.14915,     0.15015,     0.15115,     0.15215,     0.15315,     0.15415,     0.15516,     0.15616,     0.15716,     0.15816,     0.15916,     0.16016,     0.16116,     0.16216,     0.16316,     0.16416,     0.16517,     0.16617,     0.16717,\n",
              "           0.16817,     0.16917,     0.17017,     0.17117,     0.17217,     0.17317,     0.17417,     0.17518,     0.17618,     0.17718,     0.17818,     0.17918,     0.18018,     0.18118,     0.18218,     0.18318,     0.18418,     0.18519,     0.18619,     0.18719,     0.18819,     0.18919,     0.19019,     0.19119,\n",
              "           0.19219,     0.19319,     0.19419,      0.1952,      0.1962,      0.1972,      0.1982,      0.1992,      0.2002,      0.2012,      0.2022,      0.2032,      0.2042,     0.20521,     0.20621,     0.20721,     0.20821,     0.20921,     0.21021,     0.21121,     0.21221,     0.21321,     0.21421,     0.21522,\n",
              "           0.21622,     0.21722,     0.21822,     0.21922,     0.22022,     0.22122,     0.22222,     0.22322,     0.22422,     0.22523,     0.22623,     0.22723,     0.22823,     0.22923,     0.23023,     0.23123,     0.23223,     0.23323,     0.23423,     0.23524,     0.23624,     0.23724,     0.23824,     0.23924,\n",
              "           0.24024,     0.24124,     0.24224,     0.24324,     0.24424,     0.24525,     0.24625,     0.24725,     0.24825,     0.24925,     0.25025,     0.25125,     0.25225,     0.25325,     0.25425,     0.25526,     0.25626,     0.25726,     0.25826,     0.25926,     0.26026,     0.26126,     0.26226,     0.26326,\n",
              "           0.26426,     0.26527,     0.26627,     0.26727,     0.26827,     0.26927,     0.27027,     0.27127,     0.27227,     0.27327,     0.27427,     0.27528,     0.27628,     0.27728,     0.27828,     0.27928,     0.28028,     0.28128,     0.28228,     0.28328,     0.28428,     0.28529,     0.28629,     0.28729,\n",
              "           0.28829,     0.28929,     0.29029,     0.29129,     0.29229,     0.29329,     0.29429,      0.2953,      0.2963,      0.2973,      0.2983,      0.2993,      0.3003,      0.3013,      0.3023,      0.3033,      0.3043,     0.30531,     0.30631,     0.30731,     0.30831,     0.30931,     0.31031,     0.31131,\n",
              "           0.31231,     0.31331,     0.31431,     0.31532,     0.31632,     0.31732,     0.31832,     0.31932,     0.32032,     0.32132,     0.32232,     0.32332,     0.32432,     0.32533,     0.32633,     0.32733,     0.32833,     0.32933,     0.33033,     0.33133,     0.33233,     0.33333,     0.33433,     0.33534,\n",
              "           0.33634,     0.33734,     0.33834,     0.33934,     0.34034,     0.34134,     0.34234,     0.34334,     0.34434,     0.34535,     0.34635,     0.34735,     0.34835,     0.34935,     0.35035,     0.35135,     0.35235,     0.35335,     0.35435,     0.35536,     0.35636,     0.35736,     0.35836,     0.35936,\n",
              "           0.36036,     0.36136,     0.36236,     0.36336,     0.36436,     0.36537,     0.36637,     0.36737,     0.36837,     0.36937,     0.37037,     0.37137,     0.37237,     0.37337,     0.37437,     0.37538,     0.37638,     0.37738,     0.37838,     0.37938,     0.38038,     0.38138,     0.38238,     0.38338,\n",
              "           0.38438,     0.38539,     0.38639,     0.38739,     0.38839,     0.38939,     0.39039,     0.39139,     0.39239,     0.39339,     0.39439,      0.3954,      0.3964,      0.3974,      0.3984,      0.3994,      0.4004,      0.4014,      0.4024,      0.4034,      0.4044,     0.40541,     0.40641,     0.40741,\n",
              "           0.40841,     0.40941,     0.41041,     0.41141,     0.41241,     0.41341,     0.41441,     0.41542,     0.41642,     0.41742,     0.41842,     0.41942,     0.42042,     0.42142,     0.42242,     0.42342,     0.42442,     0.42543,     0.42643,     0.42743,     0.42843,     0.42943,     0.43043,     0.43143,\n",
              "           0.43243,     0.43343,     0.43443,     0.43544,     0.43644,     0.43744,     0.43844,     0.43944,     0.44044,     0.44144,     0.44244,     0.44344,     0.44444,     0.44545,     0.44645,     0.44745,     0.44845,     0.44945,     0.45045,     0.45145,     0.45245,     0.45345,     0.45445,     0.45546,\n",
              "           0.45646,     0.45746,     0.45846,     0.45946,     0.46046,     0.46146,     0.46246,     0.46346,     0.46446,     0.46547,     0.46647,     0.46747,     0.46847,     0.46947,     0.47047,     0.47147,     0.47247,     0.47347,     0.47447,     0.47548,     0.47648,     0.47748,     0.47848,     0.47948,\n",
              "           0.48048,     0.48148,     0.48248,     0.48348,     0.48448,     0.48549,     0.48649,     0.48749,     0.48849,     0.48949,     0.49049,     0.49149,     0.49249,     0.49349,     0.49449,      0.4955,      0.4965,      0.4975,      0.4985,      0.4995,      0.5005,      0.5015,      0.5025,      0.5035,\n",
              "            0.5045,     0.50551,     0.50651,     0.50751,     0.50851,     0.50951,     0.51051,     0.51151,     0.51251,     0.51351,     0.51451,     0.51552,     0.51652,     0.51752,     0.51852,     0.51952,     0.52052,     0.52152,     0.52252,     0.52352,     0.52452,     0.52553,     0.52653,     0.52753,\n",
              "           0.52853,     0.52953,     0.53053,     0.53153,     0.53253,     0.53353,     0.53453,     0.53554,     0.53654,     0.53754,     0.53854,     0.53954,     0.54054,     0.54154,     0.54254,     0.54354,     0.54454,     0.54555,     0.54655,     0.54755,     0.54855,     0.54955,     0.55055,     0.55155,\n",
              "           0.55255,     0.55355,     0.55455,     0.55556,     0.55656,     0.55756,     0.55856,     0.55956,     0.56056,     0.56156,     0.56256,     0.56356,     0.56456,     0.56557,     0.56657,     0.56757,     0.56857,     0.56957,     0.57057,     0.57157,     0.57257,     0.57357,     0.57457,     0.57558,\n",
              "           0.57658,     0.57758,     0.57858,     0.57958,     0.58058,     0.58158,     0.58258,     0.58358,     0.58458,     0.58559,     0.58659,     0.58759,     0.58859,     0.58959,     0.59059,     0.59159,     0.59259,     0.59359,     0.59459,      0.5956,      0.5966,      0.5976,      0.5986,      0.5996,\n",
              "            0.6006,      0.6016,      0.6026,      0.6036,      0.6046,     0.60561,     0.60661,     0.60761,     0.60861,     0.60961,     0.61061,     0.61161,     0.61261,     0.61361,     0.61461,     0.61562,     0.61662,     0.61762,     0.61862,     0.61962,     0.62062,     0.62162,     0.62262,     0.62362,\n",
              "           0.62462,     0.62563,     0.62663,     0.62763,     0.62863,     0.62963,     0.63063,     0.63163,     0.63263,     0.63363,     0.63463,     0.63564,     0.63664,     0.63764,     0.63864,     0.63964,     0.64064,     0.64164,     0.64264,     0.64364,     0.64464,     0.64565,     0.64665,     0.64765,\n",
              "           0.64865,     0.64965,     0.65065,     0.65165,     0.65265,     0.65365,     0.65465,     0.65566,     0.65666,     0.65766,     0.65866,     0.65966,     0.66066,     0.66166,     0.66266,     0.66366,     0.66466,     0.66567,     0.66667,     0.66767,     0.66867,     0.66967,     0.67067,     0.67167,\n",
              "           0.67267,     0.67367,     0.67467,     0.67568,     0.67668,     0.67768,     0.67868,     0.67968,     0.68068,     0.68168,     0.68268,     0.68368,     0.68468,     0.68569,     0.68669,     0.68769,     0.68869,     0.68969,     0.69069,     0.69169,     0.69269,     0.69369,     0.69469,      0.6957,\n",
              "            0.6967,      0.6977,      0.6987,      0.6997,      0.7007,      0.7017,      0.7027,      0.7037,      0.7047,     0.70571,     0.70671,     0.70771,     0.70871,     0.70971,     0.71071,     0.71171,     0.71271,     0.71371,     0.71471,     0.71572,     0.71672,     0.71772,     0.71872,     0.71972,\n",
              "           0.72072,     0.72172,     0.72272,     0.72372,     0.72472,     0.72573,     0.72673,     0.72773,     0.72873,     0.72973,     0.73073,     0.73173,     0.73273,     0.73373,     0.73473,     0.73574,     0.73674,     0.73774,     0.73874,     0.73974,     0.74074,     0.74174,     0.74274,     0.74374,\n",
              "           0.74474,     0.74575,     0.74675,     0.74775,     0.74875,     0.74975,     0.75075,     0.75175,     0.75275,     0.75375,     0.75475,     0.75576,     0.75676,     0.75776,     0.75876,     0.75976,     0.76076,     0.76176,     0.76276,     0.76376,     0.76476,     0.76577,     0.76677,     0.76777,\n",
              "           0.76877,     0.76977,     0.77077,     0.77177,     0.77277,     0.77377,     0.77477,     0.77578,     0.77678,     0.77778,     0.77878,     0.77978,     0.78078,     0.78178,     0.78278,     0.78378,     0.78478,     0.78579,     0.78679,     0.78779,     0.78879,     0.78979,     0.79079,     0.79179,\n",
              "           0.79279,     0.79379,     0.79479,      0.7958,      0.7968,      0.7978,      0.7988,      0.7998,      0.8008,      0.8018,      0.8028,      0.8038,      0.8048,     0.80581,     0.80681,     0.80781,     0.80881,     0.80981,     0.81081,     0.81181,     0.81281,     0.81381,     0.81481,     0.81582,\n",
              "           0.81682,     0.81782,     0.81882,     0.81982,     0.82082,     0.82182,     0.82282,     0.82382,     0.82482,     0.82583,     0.82683,     0.82783,     0.82883,     0.82983,     0.83083,     0.83183,     0.83283,     0.83383,     0.83483,     0.83584,     0.83684,     0.83784,     0.83884,     0.83984,\n",
              "           0.84084,     0.84184,     0.84284,     0.84384,     0.84484,     0.84585,     0.84685,     0.84785,     0.84885,     0.84985,     0.85085,     0.85185,     0.85285,     0.85385,     0.85485,     0.85586,     0.85686,     0.85786,     0.85886,     0.85986,     0.86086,     0.86186,     0.86286,     0.86386,\n",
              "           0.86486,     0.86587,     0.86687,     0.86787,     0.86887,     0.86987,     0.87087,     0.87187,     0.87287,     0.87387,     0.87487,     0.87588,     0.87688,     0.87788,     0.87888,     0.87988,     0.88088,     0.88188,     0.88288,     0.88388,     0.88488,     0.88589,     0.88689,     0.88789,\n",
              "           0.88889,     0.88989,     0.89089,     0.89189,     0.89289,     0.89389,     0.89489,      0.8959,      0.8969,      0.8979,      0.8989,      0.8999,      0.9009,      0.9019,      0.9029,      0.9039,      0.9049,     0.90591,     0.90691,     0.90791,     0.90891,     0.90991,     0.91091,     0.91191,\n",
              "           0.91291,     0.91391,     0.91491,     0.91592,     0.91692,     0.91792,     0.91892,     0.91992,     0.92092,     0.92192,     0.92292,     0.92392,     0.92492,     0.92593,     0.92693,     0.92793,     0.92893,     0.92993,     0.93093,     0.93193,     0.93293,     0.93393,     0.93493,     0.93594,\n",
              "           0.93694,     0.93794,     0.93894,     0.93994,     0.94094,     0.94194,     0.94294,     0.94394,     0.94494,     0.94595,     0.94695,     0.94795,     0.94895,     0.94995,     0.95095,     0.95195,     0.95295,     0.95395,     0.95495,     0.95596,     0.95696,     0.95796,     0.95896,     0.95996,\n",
              "           0.96096,     0.96196,     0.96296,     0.96396,     0.96496,     0.96597,     0.96697,     0.96797,     0.96897,     0.96997,     0.97097,     0.97197,     0.97297,     0.97397,     0.97497,     0.97598,     0.97698,     0.97798,     0.97898,     0.97998,     0.98098,     0.98198,     0.98298,     0.98398,\n",
              "           0.98498,     0.98599,     0.98699,     0.98799,     0.98899,     0.98999,     0.99099,     0.99199,     0.99299,     0.99399,     0.99499,       0.996,       0.997,       0.998,       0.999,           1]), array([[    0.91092,     0.91092,     0.90983,     0.90875,     0.90739,     0.90712,     0.90684,     0.90657,     0.90603,     0.90576,     0.90549,     0.90467,     0.90467,     0.90413,     0.90386,     0.90359,     0.90331,     0.90304,      0.9025,      0.9025,      0.9025,      0.9025,      0.9025,\n",
              "             0.9025,     0.90196,     0.90168,     0.90114,     0.90087,     0.90087,     0.90087,     0.90087,     0.90005,     0.89897,      0.8987,      0.8987,     0.89788,     0.89761,     0.89734,     0.89707,     0.89652,     0.89598,     0.89544,     0.89544,     0.89544,     0.89544,     0.89544,\n",
              "            0.89517,     0.89517,     0.89517,     0.89489,     0.89462,     0.89462,     0.89462,     0.89462,     0.89462,     0.89462,     0.89462,     0.89435,     0.89435,     0.89435,     0.89435,     0.89408,     0.89408,     0.89408,     0.89408,     0.89408,     0.89381,     0.89381,     0.89381,\n",
              "            0.89381,     0.89381,     0.89354,     0.89326,     0.89326,     0.89326,     0.89299,     0.89272,     0.89245,     0.89245,     0.89245,     0.89218,     0.89191,     0.89163,     0.89109,     0.89109,     0.89082,     0.89055,     0.89055,     0.89055,     0.89055,     0.89055,     0.89055,\n",
              "            0.89028,     0.89001,     0.89001,     0.88946,     0.88946,     0.88946,     0.88946,     0.88892,     0.88865,     0.88838,     0.88838,      0.8881,     0.88783,     0.88756,     0.88756,     0.88756,     0.88756,     0.88729,     0.88702,     0.88675,     0.88675,     0.88647,     0.88647,\n",
              "             0.8862,     0.88566,     0.88566,     0.88566,     0.88539,     0.88539,     0.88512,     0.88512,     0.88485,     0.88485,     0.88485,     0.88457,      0.8843,     0.88403,     0.88403,     0.88403,     0.88322,     0.88267,     0.88267,     0.88267,     0.88267,     0.88267,     0.88267,\n",
              "             0.8824,      0.8824,     0.88213,     0.88213,     0.88186,     0.88186,     0.88159,     0.88131,     0.88131,     0.88131,     0.88104,     0.88104,      0.8805,     0.88023,     0.88023,     0.87996,     0.87996,     0.87941,     0.87941,     0.87941,     0.87941,     0.87914,     0.87914,\n",
              "            0.87887,     0.87887,     0.87887,      0.8786,      0.8786,      0.8786,      0.8786,      0.8786,      0.8786,     0.87806,     0.87778,      0.8767,     0.87623,     0.87615,     0.87561,      0.8748,     0.87456,     0.87398,     0.87344,     0.87317,     0.87317,      0.8729,     0.87235,\n",
              "            0.87235,     0.87235,     0.87235,     0.87235,     0.87235,     0.87208,     0.87154,     0.87131,     0.87045,     0.87045,     0.87045,     0.87045,     0.87018,     0.86991,     0.86964,     0.86936,     0.86909,     0.86854,     0.86809,     0.86773,     0.86773,     0.86746,     0.86719,\n",
              "            0.86665,     0.86638,     0.86622,     0.86583,     0.86556,     0.86529,     0.86529,     0.86529,     0.86529,      0.8642,     0.86366,     0.86312,     0.86312,     0.86312,     0.86285,     0.86285,     0.86257,      0.8623,     0.86203,      0.8617,     0.86149,     0.86067,      0.8604,\n",
              "            0.85932,     0.85877,      0.8585,     0.85823,     0.85769,     0.85687,     0.85687,     0.85578,     0.85578,     0.85524,     0.85497,     0.85497,     0.85495,     0.85443,     0.85443,     0.85388,     0.85361,     0.85334,     0.85171,     0.85144,     0.85117,     0.85117,     0.85069,\n",
              "            0.85008,     0.85008,     0.84931,       0.849,     0.84872,     0.84847,      0.8481,     0.84791,     0.84791,     0.84764,     0.84764,     0.84737,     0.84709,     0.84709,     0.84655,     0.84655,     0.84574,     0.84574,     0.84574,     0.84574,     0.84558,     0.84546,     0.84546,\n",
              "            0.84546,     0.84492,     0.84492,     0.84465,     0.84411,     0.84411,     0.84383,     0.84383,     0.84356,     0.84356,     0.84248,     0.84248,     0.84248,     0.84221,     0.84193,     0.84193,     0.84139,     0.84139,     0.83945,     0.83884,     0.83867,      0.8384,     0.83786,\n",
              "            0.83732,     0.83705,     0.83705,      0.8365,     0.83569,     0.83514,     0.83514,     0.83487,     0.83487,      0.8346,     0.83406,     0.83406,     0.83379,     0.83243,     0.83243,     0.83243,     0.83216,     0.83216,     0.83188,     0.83188,     0.83161,     0.83125,     0.83107,\n",
              "             0.8308,      0.8308,     0.83053,     0.83026,     0.83026,     0.83026,     0.82917,      0.8289,     0.82863,     0.82835,     0.82781,     0.82781,     0.82727,     0.82591,      0.8251,      0.8251,     0.82482,     0.82482,     0.82428,     0.82401,     0.82374,     0.82292,     0.82265,\n",
              "            0.82238,     0.82238,     0.82211,     0.82102,     0.82102,     0.82021,     0.81993,     0.81993,     0.81984,     0.81966,     0.81912,     0.81867,     0.81831,     0.81831,     0.81776,     0.81722,     0.81695,     0.81668,      0.8164,      0.8164,     0.81623,     0.81568,     0.81532,\n",
              "             0.8145,     0.81423,     0.81396,     0.81369,      0.8136,      0.8126,     0.81206,     0.81179,     0.81152,     0.81152,     0.81044,     0.81043,     0.80961,     0.80791,     0.80717,      0.8069,     0.80653,       0.805,     0.80445,     0.80418,     0.80337,     0.80282,     0.80147,\n",
              "            0.80147,     0.80147,     0.80092,     0.80065,     0.80011,     0.79929,     0.79902,     0.79863,     0.79821,     0.79802,     0.79712,     0.79712,     0.79658,     0.79634,     0.79525,     0.79468,     0.79354,     0.79278,     0.79217,     0.79196,     0.79196,     0.79033,     0.78952,\n",
              "            0.78952,     0.78907,      0.7887,     0.78843,     0.78789,     0.78714,     0.78653,     0.78632,     0.78571,      0.7849,     0.78408,     0.78381,     0.78354,     0.78327,       0.783,     0.78212,     0.78137,      0.7811,     0.78083,     0.78055,     0.78001,      0.7796,     0.77902,\n",
              "            0.77865,      0.7771,     0.77648,     0.77621,     0.77539,     0.77539,     0.77485,     0.77462,     0.77404,     0.77376,     0.77351,     0.77296,     0.77295,     0.77159,     0.77132,     0.77132,     0.77105,     0.77105,      0.7704,     0.76931,     0.76794,     0.76752,      0.7667,\n",
              "            0.76616,     0.76589,     0.76574,      0.7648,      0.7648,     0.76399,     0.76372,     0.76244,     0.76189,     0.76181,     0.76073,     0.76046,     0.76046,     0.76018,     0.76018,     0.75994,     0.75937,      0.7583,     0.75801,      0.7572,     0.75611,     0.75557,     0.75502,\n",
              "            0.75391,     0.75339,     0.75312,     0.75312,      0.7528,     0.75149,     0.75061,     0.75014,     0.74959,     0.74896,     0.74787,     0.74688,     0.74596,     0.74552,     0.74486,     0.74404,     0.74307,     0.74199,     0.74199,     0.74129,     0.74009,     0.73911,     0.73737,\n",
              "             0.7371,     0.73637,     0.73574,       0.735,     0.73472,     0.73417,     0.73275,     0.73248,     0.73221,     0.73143,     0.73115,     0.73005,     0.72896,     0.72868,     0.72705,      0.7265,     0.72624,     0.72542,     0.72512,     0.72457,     0.72375,     0.72265,      0.7221,\n",
              "             0.7202,      0.7189,     0.71855,     0.71827,     0.71718,     0.71592,     0.71564,     0.71537,      0.7151,     0.71416,     0.71347,     0.71279,     0.71211,     0.71157,     0.71087,     0.71048,     0.71004,      0.7094,      0.7094,     0.70913,     0.70831,     0.70777,     0.70722,\n",
              "            0.70619,     0.70478,     0.70373,     0.70369,     0.70236,      0.7014,     0.70071,     0.70057,     0.69989,     0.69853,     0.69838,     0.69729,      0.6969,      0.6969,     0.69564,       0.695,       0.695,     0.69446,     0.69392,     0.69343,      0.6931,     0.69283,     0.69178,\n",
              "             0.6912,     0.69068,     0.69039,     0.69011,      0.6893,     0.68658,     0.68575,     0.68495,     0.68441,     0.68332,     0.68305,     0.68197,     0.68197,     0.68142,     0.68014,     0.67925,     0.67849,     0.67816,     0.67739,     0.67657,     0.67463,     0.67398,     0.67316,\n",
              "            0.67273,     0.67151,     0.67137,     0.67123,     0.66932,     0.66877,     0.66849,     0.66784,      0.6673,     0.66594,     0.66458,     0.66398,     0.66315,     0.66268,     0.66214,     0.66123,     0.65987,     0.65905,     0.65838,     0.65807,     0.65752,     0.65644,     0.65535,\n",
              "            0.65481,     0.65481,     0.65397,      0.6523,      0.6511,     0.64992,     0.64965,     0.64864,      0.6472,     0.64666,     0.64644,     0.64557,     0.64476,      0.6433,     0.64313,     0.64259,     0.64099,     0.63906,     0.63743,     0.63688,     0.63633,     0.63362,     0.63281,\n",
              "             0.6321,     0.63046,      0.6291,     0.62846,     0.62819,      0.6265,     0.62595,     0.62353,      0.6234,     0.62257,     0.62117,     0.62034,     0.61898,      0.6176,     0.61543,     0.61421,     0.61325,     0.61202,     0.60916,     0.60755,      0.6067,     0.60615,     0.60556,\n",
              "            0.60437,     0.60165,     0.60056,      0.5977,     0.59606,     0.59424,     0.59378,     0.59265,     0.59183,     0.59046,     0.58827,     0.58733,     0.58487,     0.58365,     0.58338,     0.58256,     0.58197,     0.57995,     0.57913,     0.57849,     0.57713,     0.57605,     0.57483,\n",
              "            0.57285,     0.57116,     0.56958,     0.56672,     0.56563,     0.56355,     0.56222,     0.56031,     0.55854,     0.55839,     0.55432,     0.55295,     0.55075,     0.54873,     0.54655,     0.54396,     0.54287,     0.54183,     0.54054,     0.53945,     0.53802,      0.5374,     0.53666,\n",
              "            0.53476,     0.53236,     0.53031,     0.52856,      0.5269,     0.52608,     0.52377,     0.52146,     0.51793,     0.51653,     0.51478,     0.51287,      0.5111,      0.5086,     0.50742,     0.50489,     0.50292,     0.50203,     0.50114,     0.49804,     0.49786,     0.49732,     0.49596,\n",
              "            0.49147,     0.48971,     0.48752,     0.48439,      0.4799,     0.47798,      0.4761,     0.47474,     0.47254,     0.47005,     0.46886,     0.46518,     0.46132,     0.46116,     0.45865,     0.45486,     0.45468,     0.45084,     0.44731,     0.44731,     0.44382,     0.43926,     0.43686,\n",
              "            0.43645,     0.43372,     0.43114,     0.42719,     0.42689,     0.42229,     0.41926,     0.41888,     0.41521,      0.4127,     0.41004,     0.40941,     0.40554,     0.40187,     0.40041,     0.39669,     0.39278,     0.39193,     0.38678,     0.38295,     0.37942,     0.37587,     0.37519,\n",
              "            0.37068,     0.36812,     0.36387,     0.36321,     0.35868,     0.35342,     0.34833,     0.34798,     0.34477,     0.34145,     0.33687,     0.33654,     0.33386,     0.33164,     0.32867,     0.32556,     0.32537,      0.3217,     0.31857,     0.31476,     0.31121,     0.30848,     0.30809,\n",
              "            0.30492,     0.30243,     0.29902,     0.29382,     0.29364,     0.29046,     0.28591,     0.28147,     0.27711,     0.27394,     0.27301,     0.26835,     0.26359,      0.2602,     0.25584,     0.25204,     0.25011,     0.24602,     0.24194,     0.24155,     0.23784,     0.23511,     0.23216,\n",
              "             0.2291,     0.22339,     0.22182,     0.21766,     0.21732,     0.21247,     0.20892,     0.20674,     0.20374,     0.19891,      0.1961,     0.19202,      0.1878,     0.18372,      0.1803,     0.17621,     0.17267,     0.17017,     0.16694,     0.16285,     0.16039,     0.15522,     0.15113,\n",
              "            0.14929,      0.1444,     0.14185,     0.13858,     0.13449,     0.13149,     0.12741,     0.12468,      0.1229,     0.12031,     0.11866,     0.11622,     0.11374,     0.11023,     0.10666,      0.1037,      0.1012,     0.09901,    0.096009,    0.094366,     0.09055,    0.086909,    0.085729,\n",
              "           0.083006,     0.08099,    0.078783,    0.076889,    0.074703,    0.070207,    0.067485,    0.063798,    0.062738,    0.058339,    0.056763,    0.055325,    0.052642,    0.051767,    0.049505,    0.047666,    0.044739,    0.041392,    0.039206,    0.036874,    0.036688,     0.03452,    0.033291,\n",
              "           0.032348,    0.031248,    0.029062,     0.02769,    0.025775,    0.024424,    0.023575,    0.022204,    0.020018,    0.019461,    0.018632,       0.018,    0.016433,    0.015678,    0.015047,    0.014307,    0.013662,    0.013105,    0.012005,    0.011449,   0.0092624,   0.0082432,   0.0076057,\n",
              "          0.0073298,   0.0071907,   0.0070415,   0.0067365,   0.0062132,   0.0059348,   0.0056094,   0.0050526,   0.0044958,   0.0035991,   0.0034607,   0.0033679,   0.0032751,   0.0030287,   0.0027503,   0.0025533,   0.0022143,   0.0018605,   0.0017677,    0.001675,   0.0013516,   0.0010798,  0.00094058,\n",
              "         0.00080585,  0.00071305,  0.00062026,           0,           0,           0,           0,           0,           0,           0,           0,           0,           0,           0,           0,           0,           0,           0,           0,           0,           0,           0,           0,\n",
              "                  0,           0,           0,           0,           0,           0,           0,           0,           0,           0,           0,           0,           0,           0,           0,           0,           0,           0,           0,           0,           0,           0,           0,\n",
              "                  0,           0,           0,           0,           0,           0,           0,           0,           0,           0,           0]]), 'Confidence', 'Recall']]\n",
              "fitness: 0.5419100280119931\n",
              "keys: ['metrics/precision(B)', 'metrics/recall(B)', 'metrics/mAP50(B)', 'metrics/mAP50-95(B)']\n",
              "maps: array([    0.51273])\n",
              "names: {0: 'duck'}\n",
              "plot: True\n",
              "results_dict: {'metrics/precision(B)': 0.794790523596189, 'metrics/recall(B)': 0.7289617156537309, 'metrics/mAP50(B)': 0.8044903230150058, 'metrics/mAP50-95(B)': 0.5127344396783249, 'fitness': 0.5419100280119931}\n",
              "save_dir: PosixPath('treegen_project/treegen_model_v1.0')\n",
              "speed: {'preprocess': 0.2505088520941333, 'inference': 7.862079923398028, 'loss': 0.0004857500022816881, 'postprocess': 3.0713326463075443}\n",
              "task: 'detect'"
            ]
          },
          "metadata": {},
          "execution_count": 7
        }
      ]
    },
    {
      "cell_type": "code",
      "source": [
        "# Save the trained model\n",
        "model.save('treegenv1.pt')\n",
        "\n",
        "# Load the trained model for inference\n",
        "model = YOLO('treegenv1.pt')\n",
        "\n",
        "# Make predictions on a new image\n",
        "#results = model.predict(source='/content/IMG_0837_MP4-0014_jpg.rf.dd9912e09951e8ff89fd9770b168c806.jpg')\n",
        "\n",
        "# Process and display results\n",
        "#for result in results:\n",
        "#    print(result)"
      ],
      "metadata": {
        "id": "Z73JnvgPNV5X"
      },
      "execution_count": null,
      "outputs": []
    },
    {
      "cell_type": "code",
      "source": [
        "!pip install ultralytics\n",
        "\n",
        "from ultralytics import YOLO\n",
        "import albumentations as A\n",
        "\n",
        "# Load the pre-trained YOLOv11l model (if you're using a custom version, make sure the .pt file exists)\n",
        "model = YOLO(\"YOLO11l.pt\")  # Use YOLOv11l model\n",
        "\n",
        "# Data augmentation using albumentations\n",
        "augmenter = A.Compose([\n",
        "    A.HorizontalFlip(p=0.5),\n",
        "    A.RandomBrightnessContrast(p=0.5),\n",
        "    A.Rotate(limit=15, p=0.5),\n",
        "    A.Blur(blur_limit=3, p=0.5)\n",
        "])\n",
        "\n",
        "# Set training parameters\n",
        "config_path = '/content/drive/My Drive/treegen_od/config.yaml'\n",
        "epochs = 200\n",
        "batch_size = 16  # Adjust batch size if needed\n",
        "learning_rate = 0.0001  # Consider lowering the learning rate\n",
        "\n",
        "# Train the model with additional parameters for logging and augmentations\n",
        "model.train(\n",
        "    data=config_path,  # Path to the dataset YAML configuration\n",
        "    epochs=epochs,\n",
        "    batch=batch_size,\n",
        "    lr0=learning_rate,\n",
        "    lrf=0.1,\n",
        "    patience=30,\n",
        "    save_period=5,\n",
        "    augment=True,\n",
        "    project='treegen_project',\n",
        "    name='treegen_model_v1.0',\n",
        "    optimizer='Adam',\n",
        ")\n"
      ],
      "metadata": {
        "colab": {
          "base_uri": "https://localhost:8080/",
          "height": 390
        },
        "id": "ypESye6oFLlv",
        "outputId": "c1124e0d-c69c-4371-e1f8-9ee839b87a80"
      },
      "execution_count": null,
      "outputs": [
        {
          "output_type": "error",
          "ename": "NotImplementedError",
          "evalue": "A UTF-8 locale is required. Got ANSI_X3.4-1968",
          "traceback": [
            "\u001b[0;31m---------------------------------------------------------------------------\u001b[0m",
            "\u001b[0;31mNotImplementedError\u001b[0m                       Traceback (most recent call last)",
            "\u001b[0;32m<ipython-input-13-2d296002e750>\u001b[0m in \u001b[0;36m<cell line: 1>\u001b[0;34m()\u001b[0m\n\u001b[0;32m----> 1\u001b[0;31m \u001b[0mget_ipython\u001b[0m\u001b[0;34m(\u001b[0m\u001b[0;34m)\u001b[0m\u001b[0;34m.\u001b[0m\u001b[0msystem\u001b[0m\u001b[0;34m(\u001b[0m\u001b[0;34m'pip install ultralytics'\u001b[0m\u001b[0;34m)\u001b[0m\u001b[0;34m\u001b[0m\u001b[0;34m\u001b[0m\u001b[0m\n\u001b[0m\u001b[1;32m      2\u001b[0m \u001b[0;34m\u001b[0m\u001b[0m\n\u001b[1;32m      3\u001b[0m \u001b[0;32mfrom\u001b[0m \u001b[0multralytics\u001b[0m \u001b[0;32mimport\u001b[0m \u001b[0mYOLO\u001b[0m\u001b[0;34m\u001b[0m\u001b[0;34m\u001b[0m\u001b[0m\n\u001b[1;32m      4\u001b[0m \u001b[0;32mimport\u001b[0m \u001b[0malbumentations\u001b[0m \u001b[0;32mas\u001b[0m \u001b[0mA\u001b[0m\u001b[0;34m\u001b[0m\u001b[0;34m\u001b[0m\u001b[0m\n\u001b[1;32m      5\u001b[0m \u001b[0;34m\u001b[0m\u001b[0m\n",
            "\u001b[0;32m/usr/local/lib/python3.10/dist-packages/google/colab/_shell.py\u001b[0m in \u001b[0;36msystem\u001b[0;34m(self, *args, **kwargs)\u001b[0m\n\u001b[1;32m     97\u001b[0m       \u001b[0mkwargs\u001b[0m\u001b[0;34m.\u001b[0m\u001b[0mupdate\u001b[0m\u001b[0;34m(\u001b[0m\u001b[0;34m{\u001b[0m\u001b[0;34m'also_return_output'\u001b[0m\u001b[0;34m:\u001b[0m \u001b[0;32mTrue\u001b[0m\u001b[0;34m}\u001b[0m\u001b[0;34m)\u001b[0m\u001b[0;34m\u001b[0m\u001b[0;34m\u001b[0m\u001b[0m\n\u001b[1;32m     98\u001b[0m \u001b[0;34m\u001b[0m\u001b[0m\n\u001b[0;32m---> 99\u001b[0;31m     \u001b[0moutput\u001b[0m \u001b[0;34m=\u001b[0m \u001b[0m_system_commands\u001b[0m\u001b[0;34m.\u001b[0m\u001b[0m_system_compat\u001b[0m\u001b[0;34m(\u001b[0m\u001b[0mself\u001b[0m\u001b[0;34m,\u001b[0m \u001b[0;34m*\u001b[0m\u001b[0margs\u001b[0m\u001b[0;34m,\u001b[0m \u001b[0;34m**\u001b[0m\u001b[0mkwargs\u001b[0m\u001b[0;34m)\u001b[0m  \u001b[0;31m# pylint:disable=protected-access\u001b[0m\u001b[0;34m\u001b[0m\u001b[0;34m\u001b[0m\u001b[0m\n\u001b[0m\u001b[1;32m    100\u001b[0m \u001b[0;34m\u001b[0m\u001b[0m\n\u001b[1;32m    101\u001b[0m     \u001b[0;32mif\u001b[0m \u001b[0mpip_warn\u001b[0m\u001b[0;34m:\u001b[0m\u001b[0;34m\u001b[0m\u001b[0;34m\u001b[0m\u001b[0m\n",
            "\u001b[0;32m/usr/local/lib/python3.10/dist-packages/google/colab/_system_commands.py\u001b[0m in \u001b[0;36m_system_compat\u001b[0;34m(shell, cmd, also_return_output)\u001b[0m\n\u001b[1;32m    452\u001b[0m   \u001b[0;31m# is expected to call this function, thus adding one level of nesting to the\u001b[0m\u001b[0;34m\u001b[0m\u001b[0;34m\u001b[0m\u001b[0m\n\u001b[1;32m    453\u001b[0m   \u001b[0;31m# stack.\u001b[0m\u001b[0;34m\u001b[0m\u001b[0;34m\u001b[0m\u001b[0m\n\u001b[0;32m--> 454\u001b[0;31m   result = _run_command(\n\u001b[0m\u001b[1;32m    455\u001b[0m       \u001b[0mshell\u001b[0m\u001b[0;34m.\u001b[0m\u001b[0mvar_expand\u001b[0m\u001b[0;34m(\u001b[0m\u001b[0mcmd\u001b[0m\u001b[0;34m,\u001b[0m \u001b[0mdepth\u001b[0m\u001b[0;34m=\u001b[0m\u001b[0;36m2\u001b[0m\u001b[0;34m)\u001b[0m\u001b[0;34m,\u001b[0m \u001b[0mclear_streamed_output\u001b[0m\u001b[0;34m=\u001b[0m\u001b[0;32mFalse\u001b[0m\u001b[0;34m\u001b[0m\u001b[0;34m\u001b[0m\u001b[0m\n\u001b[1;32m    456\u001b[0m   )\n",
            "\u001b[0;32m/usr/local/lib/python3.10/dist-packages/google/colab/_system_commands.py\u001b[0m in \u001b[0;36m_run_command\u001b[0;34m(cmd, clear_streamed_output)\u001b[0m\n\u001b[1;32m    166\u001b[0m     \u001b[0mlocale_encoding\u001b[0m \u001b[0;34m=\u001b[0m \u001b[0mlocale\u001b[0m\u001b[0;34m.\u001b[0m\u001b[0mgetpreferredencoding\u001b[0m\u001b[0;34m(\u001b[0m\u001b[0;34m)\u001b[0m\u001b[0;34m\u001b[0m\u001b[0;34m\u001b[0m\u001b[0m\n\u001b[1;32m    167\u001b[0m     \u001b[0;32mif\u001b[0m \u001b[0mlocale_encoding\u001b[0m \u001b[0;34m!=\u001b[0m \u001b[0m_ENCODING\u001b[0m\u001b[0;34m:\u001b[0m\u001b[0;34m\u001b[0m\u001b[0;34m\u001b[0m\u001b[0m\n\u001b[0;32m--> 168\u001b[0;31m       raise NotImplementedError(\n\u001b[0m\u001b[1;32m    169\u001b[0m           \u001b[0;34m'A UTF-8 locale is required. Got {}'\u001b[0m\u001b[0;34m.\u001b[0m\u001b[0mformat\u001b[0m\u001b[0;34m(\u001b[0m\u001b[0mlocale_encoding\u001b[0m\u001b[0;34m)\u001b[0m\u001b[0;34m\u001b[0m\u001b[0;34m\u001b[0m\u001b[0m\n\u001b[1;32m    170\u001b[0m       )\n",
            "\u001b[0;31mNotImplementedError\u001b[0m: A UTF-8 locale is required. Got ANSI_X3.4-1968"
          ]
        }
      ]
    }
  ]
}